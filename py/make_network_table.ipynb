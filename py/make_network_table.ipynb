{
 "cells": [
  {
   "cell_type": "code",
   "execution_count": 6,
   "metadata": {},
   "outputs": [],
   "source": [
    "import pandas as pd\n",
    "import numpy as np\n",
    "import networkx as nx\n",
    "import matplotlib.pyplot as plt\n",
    "from collections import defaultdict\n",
    "\n",
    "G = nx.read_gexf(\"../graphs/double_hits_filtered_upper75_with_theme.gexf\")\n",
    "G_sub = nx.read_gexf(\"../graphs/double_hits_filtered_upper75_with_theme_nomisc.gexf\")"
   ]
  },
  {
   "cell_type": "code",
   "execution_count": 9,
   "metadata": {},
   "outputs": [],
   "source": [
    "def calculate_centralities(graph):\n",
    "    betweenness = nx.betweenness_centrality(graph)\n",
    "    closeness = nx.closeness_centrality(graph)\n",
    "    degree = nx.degree_centrality(graph)\n",
    "    eigenvector = nx.eigenvector_centrality(graph)\n",
    "    return betweenness, closeness, degree, eigenvector\n",
    "\n",
    "def get_top_nodes(centrality_dict, n=5):\n",
    "    return ', '.join(sorted(centrality_dict, key=centrality_dict.get, reverse=True)[:n])\n",
    "\n",
    "def calculate_network_stats(graph):\n",
    "    num_nodes = graph.number_of_nodes()\n",
    "    num_edges = graph.number_of_edges()\n",
    "    avg_degree = sum(dict(graph.degree()).values()) / num_nodes\n",
    "\n",
    "    # Check if the graph is connected\n",
    "    is_connected = nx.is_connected(graph)\n",
    "\n",
    "    if is_connected:\n",
    "        avg_short_path = nx.average_shortest_path_length(graph)\n",
    "    else:\n",
    "        # Calculate for the largest connected component\n",
    "        largest_cc = max(nx.connected_components(graph), key=len)\n",
    "        largest_cc_graph = graph.subgraph(largest_cc)\n",
    "        avg_short_path = nx.average_shortest_path_length(largest_cc_graph)\n",
    "\n",
    "    return {\n",
    "        '#Nodes': num_nodes,\n",
    "        '#Edges': num_edges,\n",
    "        'Avg Degree': avg_degree,\n",
    "        'Avg Cluster': nx.average_clustering(graph),\n",
    "        'Avg Short Path': avg_short_path,\n",
    "        'Is Connected': 'Yes' if is_connected else 'No'\n",
    "    }"
   ]
  },
  {
   "cell_type": "code",
   "execution_count": null,
   "metadata": {},
   "outputs": [],
   "source": [
    "# Calculate centralities for the whole network\n",
    "betweenness, closeness, degree, eigenvector = calculate_centralities(G)"
   ]
  },
  {
   "cell_type": "code",
   "execution_count": 10,
   "metadata": {},
   "outputs": [],
   "source": [
    "# Calculate network stats\n",
    "network_stats = calculate_network_stats(G)\n",
    "\n",
    "# Get top nodes for the whole network\n",
    "top_nodes = {\n",
    "    'Betweenness': get_top_nodes(betweenness),\n",
    "    'Closeness': get_top_nodes(closeness),\n",
    "    'Degree': get_top_nodes(degree),\n",
    "    'Eigenvector': get_top_nodes(eigenvector)\n",
    "}\n",
    "\n",
    "# Prepare data for the whole network\n",
    "network_data = {\n",
    "    'Network': 'Whole Network',\n",
    "    **network_stats,\n",
    "    '#Community': len(set(nx.get_node_attributes(G, 'community').values())),\n",
    "    **top_nodes\n",
    "}"
   ]
  },
  {
   "cell_type": "code",
   "execution_count": 11,
   "metadata": {},
   "outputs": [],
   "source": [
    "# Calculate stats for each community\n",
    "community_data = defaultdict(list)\n",
    "for node, community in nx.get_node_attributes(G, 'community').items():\n",
    "    community_data[community].append(node)\n",
    "\n",
    "community_rows = []\n",
    "for community, nodes in community_data.items():\n",
    "    subgraph = G.subgraph(nodes)\n",
    "    betweenness, closeness, degree, eigenvector = calculate_centralities(subgraph)\n",
    "    stats = calculate_network_stats(subgraph)\n",
    "    top_nodes = {\n",
    "        'Betweenness': get_top_nodes(betweenness),\n",
    "        'Closeness': get_top_nodes(closeness),\n",
    "        'Degree': get_top_nodes(degree),\n",
    "        'Eigenvector': get_top_nodes(eigenvector)\n",
    "    }\n",
    "    community_rows.append({\n",
    "        'Network': f'Community {community}',\n",
    "        **stats,\n",
    "        '#Community': 1,\n",
    "        **top_nodes\n",
    "    })\n",
    "\n",
    "# Combine whole network and community data\n",
    "all_data = [network_data] + community_rows\n",
    "\n",
    "# Create DataFrame\n",
    "df = pd.DataFrame(all_data)"
   ]
  },
  {
   "cell_type": "code",
   "execution_count": 12,
   "metadata": {},
   "outputs": [],
   "source": [
    "# Reorder columns to match the desired output\n",
    "column_order = ['Network', '#Nodes', '#Edges', 'Avg Degree', 'Avg Cluster', 'Avg Short Path', '#Community',\n",
    "                'Betweenness', 'Closeness', 'Degree', 'Eigenvector']\n",
    "df = df[column_order]\n",
    "\n",
    "# Round numeric columns\n",
    "numeric_columns = ['#Nodes', '#Edges', 'Avg Degree', 'Avg Cluster', 'Avg Short Path', '#Community']\n",
    "df[numeric_columns] = df[numeric_columns].round(2)\n",
    "\n",
    "# Save to CSV\n",
    "df.to_csv('../data/network_centrality_measures.csv', index=False)"
   ]
  },
  {
   "cell_type": "code",
   "execution_count": 13,
   "metadata": {},
   "outputs": [
    {
     "name": "stdout",
     "output_type": "stream",
     "text": [
      "# Network Centrality Measures\n",
      "\n",
      "This table shows centrality measures for the whole network and each community. The top five nodes are presented per centrality measure.\n",
      "\n",
      "| Network                               |   #Nodes |   #Edges |   Avg Degree |   Avg Cluster |   Avg Short Path |   #Community | Betweenness                                                            | Closeness                                                              | Degree                                                                 | Eigenvector                                                             |\n",
      "|:--------------------------------------|---------:|---------:|-------------:|--------------:|-----------------:|-------------:|:-----------------------------------------------------------------------|:-----------------------------------------------------------------------|:-----------------------------------------------------------------------|:------------------------------------------------------------------------|\n",
      "| Whole Network                         |    14569 |   206289 |        28.32 |          0.68 |             2.29 |           19 | addiction, recovery, sober, wedorecover, harmreduction                 | addiction, recovery, sober, wedorecover, sobriety                      | addiction, recovery, sober, wedorecover, sobriety                      | addiction, recovery, sober, wedorecover, sobriety                       |\n",
      "| Community location                    |      635 |        0 |         0.00 |          0.00 |             0.00 |            1 | ecuador, canada🇨🇦, 502, amsterdam, mexico🇲🇽                            | ecuador, canada🇨🇦, 502, amsterdam, mexico🇲🇽                            | ecuador, canada🇨🇦, 502, amsterdam, mexico🇲🇽                            | ecuador, canada🇨🇦, 502, amsterdam, mexico🇲🇽                             |\n",
      "| Community awareness and advocacy      |     1553 |    14706 |        18.94 |          0.94 |             2.09 |            1 | recovery, wedorecover, harmreduction, sobriety, soberlife              | recovery, wedorecover, harmreduction, sobriety, soberlife              | recovery, wedorecover, harmreduction, sobriety, soberlife              | recovery, wedorecover, harmreduction, harmreductionsaveslives, sobriety |\n",
      "| Community misc                        |     5965 |     2538 |         0.85 |          0.04 |             2.92 |            1 | emma, psychedelictok, lsdart, thom, gurner                             | psychedelictok, emma, funny, lsdart, music                             | lsdart, emma, psychedelictok, thom, libertycapss                       | lsdart, psychedelictok, emma, thom, libertycapss                        |\n",
      "| Community Unknown                     |      221 |      104 |         0.94 |          0.02 |             2.09 |            1 | sober, pinger, pingerzzzz, CapCut, D                                   | sober, pinger, pingerzzzz, vent, corinnadoll                           | sober, pinger, FeatureMe, pingerzzzz, FeatureThis                      | sober, pinger, pingerzzzz, vent, corinnadoll                            |\n",
      "| Community occupation                  |      467 |        0 |         0.00 |          0.00 |             0.00 |            1 | sw, medicalstaff, student, clients, ranch                              | sw, medicalstaff, student, clients, ranch                              | sw, medicalstaff, student, clients, ranch                              | sw, medicalstaff, student, clients, ranch                               |\n",
      "| Community health conditions           |      763 |     1580 |         4.14 |          0.57 |             2.17 |            1 | addiction, chronicpain, substanceusedisorder, substanceabuse, overdose | addiction, chronicpain, substanceusedisorder, substanceabuse, overdose | addiction, chronicpain, substanceusedisorder, substanceabuse, overdose | addiction, chronicpain, substanceusedisorder, substanceabuse, overdose  |\n",
      "| Community platform                    |     1052 |      368 |         0.70 |          0.09 |             2.27 |            1 | pingtok, dr00gtiktok, pingertok, foryou, foryoupage                    | pingtok, dr00gtiktok, pingertok, foryou, foryoupage                    | pingtok, dr00gtiktok, pingertok, p1ngt0k, foryou                       | pingtok, pingertok, dr00gtiktok, foryou, foryoupage                     |\n",
      "| Community alcohol                     |      215 |      162 |         1.51 |          0.04 |             2.31 |            1 | drank, bars, thatdrank, mescaline, tequila                             | drank, thatdrank, tequila, alcohol, margarita                          | drank, bars, thatdrank, mescaline, tequila                             | drank, bars, thatdrank, tequila, liquor                                 |\n",
      "| Community humor                       |      321 |      124 |         0.77 |          0.04 |             2.04 |            1 | addictionhumor, dr00g, couplecomedy, zazamemes, skits                  | addictionhumor, dr00g, comedytiktok, memes, meme                       | addictionhumor, dr00g, comedytiktok, memes, meme                       | addictionhumor, dr00g, comedytiktok, memes, meme                        |\n",
      "| Community emotions and feelings       |     1043 |      574 |         1.10 |          0.13 |             2.18 |            1 | pain, high, iforgiveyou, mindset, lovedones                            | pain, high, mindset, lovedones, judgement                              | pain, high, mindset, lovedones, judgement                              | pain, high, mindset, lovedones, judgement                               |\n",
      "| Community consumption method          |      254 |      844 |         6.65 |          0.60 |             2.20 |            1 | ecig, vaping, smoking, cigarette, vaper                                | vaping, ecig, smoking, cigarette, vaper                                | vaping, ecig, smoking, vaper, cigarette                                | vaping, ecig, smoking, vaper, cigarette                                 |\n",
      "| Community identity and community      |      928 |       20 |         0.04 |          0.00 |             1.90 |            1 | biak, marriedlife, ilovepwud, sobermomfam, loveislove                  | biak, petsoftiktok, muslim, bts, familytime                            | biak, petsoftiktok, muslim, bts, familytime                            | biak, petsoftiktok, muslim, bts, familytime                             |\n",
      "| Community other substances            |      304 |      115 |         0.76 |          0.00 |             3.07 |            1 | greens, magicmushroomsadventures, ecigs, coffee, nutricion             | coffee, greens, magicmushroomsadventures, ecigs, mushroom              | greens, magicmushroomsadventures, ecigs, coffee, mushroom              | greens, magicmushroomsadventures, coffee, mushroom, naturesmedicine     |\n",
      "| Community substance effects           |      116 |      155 |         2.67 |          0.29 |             2.07 |            1 | drunk, hangover, hungover, hammered, shitfaced                         | drunk, hammered, hangover, hungover, shitfaced                         | drunk, hammered, hangover, hungover, shitfaced                         | drunk, hammered, hangover, shitfaced, hungover                          |\n",
      "| Community tobacco_nicotine            |      112 |      202 |         3.61 |          0.55 |             2.02 |            1 | vape, nicotine, tobacco, jullo, joyetech                               | vape, nicotine, tobacco, joyetech, mrfog                               | vape, nicotine, tobacco, joyetech, mrfog                               | vape, nicotine, tobacco, joyetech, mrfog                                |\n",
      "| Community commonly-misused substances |      372 |     1040 |         5.59 |          0.43 |             2.54 |            1 | opioids, opiates, fent, methadoneclinic, molly                         | opioids, opiates, fent, molly, percs                                   | opioids, opiates, fent, molly, percs                                   | opioids, opiates, fent, molly, percs                                    |\n",
      "| Community cognitive enhancement       |       76 |      118 |         3.11 |          0.46 |             2.06 |            1 | nootropics, modafinil, smartdrugs, cognitiveenhancers, openyourmind    | nootropics, modafinil, smartdrugs, cognitiveenhancers, productivity    | nootropics, modafinil, smartdrugs, cognitiveenhancers, studydrugs      | nootropics, modafinil, smartdrugs, cognitiveenhancers, productivity     |\n",
      "| Community cannabis                    |      171 |      714 |         8.35 |          0.45 |             2.13 |            1 | hightimes, stoner, 420vibes, stonertokfyp, pot                         | hightimes, stoner, stoned, weed, 420vibes                              | hightimes, stoner, 420vibes, stoned, weed                              | stoned, hightimes, stoner, weed, 420vibes                               |\n",
      "| Community fitnessmotivation           |        1 |        0 |         0.00 |          0.00 |             0.00 |            1 | fitnessmotivation                                                      | fitnessmotivation                                                      | fitnessmotivation                                                      | fitnessmotivation                                                       |\n"
     ]
    }
   ],
   "source": [
    "def df_to_markdown(df):\n",
    "    markdown = df.to_markdown(index=False, floatfmt=\".2f\")\n",
    "    \n",
    "    # Add a title\n",
    "    title = \"# Network Centrality Measures\\n\\n\"\n",
    "    \n",
    "    # Add a description\n",
    "    description = (\"This table shows centrality measures for the whole network and each community. \"\n",
    "                   \"The top five nodes are presented per centrality measure.\\n\\n\")\n",
    "    \n",
    "    return title + description + markdown\n",
    "\n",
    "# Convert to markdown and print\n",
    "markdown_table = df_to_markdown(df)\n",
    "print(markdown_table)\n",
    "\n",
    "# Optionally, save to a file\n",
    "# with open('network_centrality_measures.md', 'w') as f:\n",
    "#     f.write(markdown_table)"
   ]
  }
 ],
 "metadata": {
  "kernelspec": {
   "display_name": "base",
   "language": "python",
   "name": "python3"
  },
  "language_info": {
   "codemirror_mode": {
    "name": "ipython",
    "version": 3
   },
   "file_extension": ".py",
   "mimetype": "text/x-python",
   "name": "python",
   "nbconvert_exporter": "python",
   "pygments_lexer": "ipython3",
   "version": "3.9.13"
  }
 },
 "nbformat": 4,
 "nbformat_minor": 2
}
