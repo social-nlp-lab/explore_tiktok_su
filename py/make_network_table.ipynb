{
 "cells": [
  {
   "cell_type": "code",
   "execution_count": 1,
   "metadata": {},
   "outputs": [],
   "source": [
    "import pandas as pd\n",
    "import numpy as np\n",
    "import networkx as nx\n",
    "import matplotlib.pyplot as plt\n",
    "from collections import defaultdict\n",
    "\n",
    "G = nx.read_gexf(\"../graphs/hashtag_network_k10_withtheme.gexf\")\n",
    "# G_sub = nx.read_gexf(\"../graphs/double_hits_filtered_upper75_with_theme_nomisc.gexf\")"
   ]
  },
  {
   "cell_type": "code",
   "execution_count": 2,
   "metadata": {},
   "outputs": [],
   "source": [
    "def calculate_centralities(graph):\n",
    "    betweenness = nx.betweenness_centrality(graph)\n",
    "    closeness = nx.closeness_centrality(graph)\n",
    "    degree = nx.degree_centrality(graph)\n",
    "    eigenvector = nx.eigenvector_centrality(graph)\n",
    "    return betweenness, closeness, degree, eigenvector\n",
    "\n",
    "def get_top_nodes(centrality_dict, n=5):\n",
    "    return ', '.join(sorted(centrality_dict, key=centrality_dict.get, reverse=True)[:n])\n",
    "\n",
    "def calculate_network_stats(graph):\n",
    "    num_nodes = graph.number_of_nodes()\n",
    "    num_edges = graph.number_of_edges()\n",
    "    avg_degree = sum(dict(graph.degree()).values()) / num_nodes\n",
    "\n",
    "    # Calculate average weighted degree\n",
    "    weighted_degrees = [sum(w['weight'] for u, v, w in graph.edges(node, data=True)) \n",
    "                       for node in graph.nodes()]\n",
    "    avg_weighted_degree = sum(weighted_degrees) / num_nodes\n",
    "\n",
    "\n",
    "    # Check if the graph is connected\n",
    "    is_connected = nx.is_connected(graph)\n",
    "\n",
    "    if is_connected:\n",
    "        avg_short_path = nx.average_shortest_path_length(graph)\n",
    "    else:\n",
    "        # Calculate for the largest connected component\n",
    "        largest_cc = max(nx.connected_components(graph), key=len)\n",
    "        largest_cc_graph = graph.subgraph(largest_cc)\n",
    "        avg_short_path = nx.average_shortest_path_length(largest_cc_graph)\n",
    "\n",
    "    return {\n",
    "        '#Nodes': num_nodes,\n",
    "        '#Edges': num_edges,\n",
    "        'Avg Degree': avg_degree,\n",
    "        'Avg Weighted Degree': avg_weighted_degree,\n",
    "        'Avg Cluster': nx.average_clustering(graph),\n",
    "        'Avg Short Path': avg_short_path,\n",
    "        'Is Connected': 'Yes' if is_connected else 'No'\n",
    "    }"
   ]
  },
  {
   "cell_type": "code",
   "execution_count": 3,
   "metadata": {},
   "outputs": [],
   "source": [
    "# centralities for the whole network\n",
    "betweenness, closeness, degree, eigenvector = calculate_centralities(G)"
   ]
  },
  {
   "cell_type": "code",
   "execution_count": 4,
   "metadata": {},
   "outputs": [],
   "source": [
    "network_stats = calculate_network_stats(G)\n",
    "\n",
    "# Get top nodes for the whole network\n",
    "top_nodes = {\n",
    "    'Betweenness': get_top_nodes(betweenness),\n",
    "    'Closeness': get_top_nodes(closeness),\n",
    "    'Degree': get_top_nodes(degree),\n",
    "    'Eigenvector': get_top_nodes(eigenvector)\n",
    "}\n",
    "\n",
    "# Prepare data for the whole network\n",
    "network_data = {\n",
    "    'Network': 'Whole Network',\n",
    "    **network_stats,\n",
    "    '#Community': len(set(nx.get_node_attributes(G, 'community').values())),\n",
    "    **top_nodes\n",
    "}"
   ]
  },
  {
   "cell_type": "code",
   "execution_count": 9,
   "metadata": {},
   "outputs": [],
   "source": [
    "# Calculate stats for each community\n",
    "community_data = defaultdict(list)\n",
    "for node, community in nx.get_node_attributes(G, 'community').items():\n",
    "    community_data[community].append(node)\n",
    "\n",
    "community_rows = []\n",
    "for community, nodes in community_data.items():\n",
    "    subgraph = G.subgraph(nodes)\n",
    "    betweenness, closeness, degree, eigenvector = calculate_centralities(subgraph)\n",
    "    stats = calculate_network_stats(subgraph)\n",
    "    top_nodes = {\n",
    "        'Betweenness': get_top_nodes(betweenness),\n",
    "        'Closeness': get_top_nodes(closeness),\n",
    "        'Degree': get_top_nodes(degree),\n",
    "        'Eigenvector': get_top_nodes(eigenvector)\n",
    "    }\n",
    "    community_rows.append({\n",
    "        'Network': f'Community {community}',\n",
    "        **stats,\n",
    "        '#Community': 1,\n",
    "        **top_nodes\n",
    "    })\n",
    "\n",
    "# Combine whole network and community data\n",
    "all_data = [network_data] + community_rows\n",
    "df = pd.DataFrame(all_data)"
   ]
  },
  {
   "cell_type": "code",
   "execution_count": 10,
   "metadata": {},
   "outputs": [],
   "source": [
    "column_order = ['Network', '#Nodes', '#Edges', 'Avg Degree','Avg Weighted Degree', 'Avg Cluster', 'Avg Short Path', '#Community',\n",
    "                'Betweenness', 'Closeness', 'Degree', 'Eigenvector']\n",
    "df = df[column_order]\n",
    "\n",
    "# Round numeric columns\n",
    "numeric_columns = ['#Nodes', '#Edges', 'Avg Degree', 'Avg Weighted Degree', 'Avg Cluster', 'Avg Short Path', '#Community']\n",
    "df[numeric_columns] = df[numeric_columns].round(2)\n",
    "\n",
    "# Save to CSV\n",
    "df.to_csv('../data/network_centrality_measures.csv', index=False)"
   ]
  },
  {
   "cell_type": "code",
   "execution_count": 12,
   "metadata": {},
   "outputs": [
    {
     "name": "stdout",
     "output_type": "stream",
     "text": [
      "| Network                               |   #Nodes |   #Edges |   Avg Degree |   Avg Weighted Degree |   Avg Cluster |   Avg Short Path |   #Community | Betweenness                                                                    | Closeness                                                                      | Degree                                                                         | Eigenvector                                                                               |\n",
      "|:--------------------------------------|---------:|---------:|-------------:|----------------------:|--------------:|-----------------:|-------------:|:-------------------------------------------------------------------------------|:-------------------------------------------------------------------------------|:-------------------------------------------------------------------------------|:------------------------------------------------------------------------------------------|\n",
      "| Whole Network                         |     2333 |    46990 |        40.28 |                513.84 |          0.52 |             2.20 |           17 | addiction, recovery, sober, wedorecover, harmreduction                         | addiction, recovery, sober, wedorecover, harmreduction                         | addiction, recovery, sober, wedorecover, harmreduction                         | addiction, recovery, sober, wedorecover, harmreduction                                    |\n",
      "| Community cannabis                    |       51 |      229 |         8.98 |                 39.25 |          0.55 |             2.04 |            1 | maryjane, weed, cannabis, skunk, herb                                          | maryjane, weed, cannabis, herb, grass                                          | maryjane, weed, cannabis, herb, grass                                          | maryjane, cannabis, weed, herb, grass                                                     |\n",
      "| Community commonly_misused_substances |      152 |      553 |         7.28 |                 60.47 |          0.38 |             2.47 |            1 | opioids, opiates, coke, molly, fent                                            | opioids, coke, opiates, molly, uppers                                          | opioids, opiates, coke, molly, fent                                            | opioids, coke, opiates, fent, molly                                                       |\n",
      "| Community misc                        |      565 |     2367 |         8.38 |                139.01 |          0.29 |             2.46 |            1 | cat, fire, rock, g, pink                                                       | cat, fire, g, rock, pink                                                       | cat, fire, g, rock, x                                                          | cat, fire, g, x, rock                                                                     |\n",
      "| Community identity_and_community      |      155 |       97 |         1.25 |                  8.22 |          0.09 |             3.21 |            1 | cleanandsober, na, pwud, 30s, women                                            | pwud, na, cleanandsober, women, lgbt                                           | cleanandsober, pwud, na, 30s, mujeres                                          | cleanandsober, pwud, na, lgbtqia, calisober                                               |\n",
      "| Community health_conditions           |      277 |     1522 |        10.99 |                224.09 |          0.85 |             2.02 |            1 | addiction, recovery, sobriety, pain, chronicpain                               | addiction, recovery, sobriety, pain, chronicpain                               | addiction, recovery, sobriety, pain, chronicpain                               | addiction, recovery, sobriety, pain, detox                                                |\n",
      "| Community emotions_and_feelings       |      172 |      305 |         3.55 |                 20.65 |          0.31 |             2.39 |            1 | peace, onedayatatime, friend, dream, serenity                                  | peace, onedayatatime, dream, serenity, friend                                  | peace, onedayatatime, dream, friend, serenity                                  | peace, onedayatatime, dream, serenity, friend                                             |\n",
      "| Community location                    |      116 |       19 |         0.33 |                  1.26 |          0.00 |             1.80 |            1 | chinatown, paradise, yucatan, arnolds, filmteyvatislands                       | chinatown, paradise, india, china, texas                                       | chinatown, paradise, yucatan, arnolds, india                                   | chinatown, india, china, texas, egypt                                                     |\n",
      "| Community awareness_and_advocacy      |      279 |     2164 |        15.51 |                334.30 |          0.89 |             1.98 |            1 | harmreduction, wedorecover, harmreductionsaveslives, harmreductionworks, sober | harmreduction, harmreductionsaveslives, wedorecover, harmreductionworks, sober | harmreduction, harmreductionsaveslives, wedorecover, harmreductionworks, sober | harmreduction, harmreductionsaveslives, wedorecover, harmreductionworks, narcansaveslives |\n",
      "| Community cognitive_enhancement       |       24 |       38 |         3.17 |                 45.00 |          0.46 |             1.64 |            1 | nootropics, modafinil, smartdrugs, smartpills, focus                           | nootropics, smartdrugs, modafinil, smartpills, focus                           | nootropics, smartdrugs, modafinil, smartpills, focus                           | nootropics, smartdrugs, modafinil, smartpills, focus                                      |\n",
      "| Community humor                       |       56 |       19 |         0.68 |                 28.64 |          0.00 |             1.90 |            1 | addictionhumor, prank, pingtok⚫️👄⚫️, standupcomedy, satire                    | addictionhumor, jokes, comedia, soberhumor, comediahumor                       | addictionhumor, jokes, comedia, soberhumor, comediahumor                       | addictionhumor, jokes, comedia, soberhumor, comediahumor                                  |\n",
      "| Community platform                    |      183 |      146 |         1.60 |                 39.58 |          0.12 |             2.44 |            1 | pingtok, dr00gtiktok, pingertok, chat, fyp                                     | pingtok, dr00gtiktok, pingertok, fyp, fypシ                                    | pingtok, dr00gtiktok, pingertok, chat, stonertokfyp                            | pingtok, dr00gtiktok, pingertok, chat, fyp                                                |\n",
      "| Community other_substances            |       70 |      130 |         3.71 |                 50.11 |          0.27 |             2.69 |            1 | narcan, snow, psychedelictok, naloxone, naltrexone                             | narcan, psychedelictok, snow, 🧊, shroooms                                     | psychedelictok, snow, narcan, mushrooms, naloxone                              | psychedelictok, mushrooms, salvia, mescaline, magicmushroomsadventures                    |\n",
      "| Community alcohol                     |       43 |       92 |         4.28 |                 56.19 |          0.41 |             1.79 |            1 | drunk, tipsy, hammered, shitfaced, bars                                        | drunk, hammered, tipsy, shitfaced, bars                                        | drunk, hammered, tipsy, shitfaced, bars                                        | drunk, hammered, tipsy, bars, shitfaced                                                   |\n",
      "| Community substance_effects           |       41 |       33 |         1.61 |                 23.76 |          0.16 |             2.42 |            1 | high, wasted, energy, blackout, clarity                                        | high, wasted, lit, crash, shadowpeople                                         | high, wasted, blackout, lit, downers                                           | high, wasted, lit, downers, crash                                                         |\n",
      "| Community consumption_method          |       41 |       62 |         3.02 |                 89.80 |          0.30 |             1.86 |            1 | smoke, vape, smoking, vaper, vaping                                            | smoke, vaper, vape, vaping, vaped                                              | smoke, vaper, vape, vaping, vaped                                              | smoke, vaper, vaping, vaped, vape                                                         |\n",
      "| Community occupation                  |       73 |        5 |         0.14 |                  0.93 |          0.00 |             1.50 |            1 | copilots, truckdrivers, actress, nursing, outreachworker                       | copilots, truckdrivers, aviation, construction, creator                        | copilots, truckdrivers, aviation, work, construction                           | copilots, aviation, construction, creator, truckdrivers                                   |\n",
      "| Community tobacco_nicotine            |       31 |      115 |         7.42 |                 68.90 |          0.70 |             1.70 |            1 | ecigs, ecig, cigarette, nicotine, juul                                         | ecigs, cigarette, ecig, nicotine, juul                                         | ecigs, cigarette, ecig, nicotine, juul                                         | cigarette, ecig, ecigs, nicotine, juul                                                    |\n"
     ]
    }
   ],
   "source": [
    "def df_to_markdown(df):\n",
    "    markdown = df.to_markdown(index=False, floatfmt=\".2f\")\n",
    "    \n",
    "    # Add a title\n",
    "    # title = \"# Network Centrality Measures\\n\\n\"\n",
    "    \n",
    "    # # Add a description\n",
    "    # description = (\"This table shows centrality measures for the whole network and each community. \"\n",
    "    #                \"The top five nodes are presented per centrality measure.\\n\\n\")\n",
    "    \n",
    "    # return title + description + markdown\n",
    "    return markdown\n",
    "\n",
    "# Convert to markdown and print\n",
    "markdown_table = df_to_markdown(df)\n",
    "print(markdown_table)"
   ]
  }
 ],
 "metadata": {
  "kernelspec": {
   "display_name": ".venv",
   "language": "python",
   "name": "python3"
  },
  "language_info": {
   "codemirror_mode": {
    "name": "ipython",
    "version": 3
   },
   "file_extension": ".py",
   "mimetype": "text/x-python",
   "name": "python",
   "nbconvert_exporter": "python",
   "pygments_lexer": "ipython3",
   "version": "3.11.6"
  }
 },
 "nbformat": 4,
 "nbformat_minor": 2
}
