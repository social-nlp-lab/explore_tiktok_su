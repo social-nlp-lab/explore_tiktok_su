{
 "cells": [
  {
   "cell_type": "code",
   "execution_count": 1,
   "metadata": {},
   "outputs": [
    {
     "name": "stderr",
     "output_type": "stream",
     "text": [
      "/Users/laylabouzoubaa/opt/anaconda3/lib/python3.9/site-packages/pandas/core/computation/expressions.py:21: UserWarning: Pandas requires version '2.8.4' or newer of 'numexpr' (version '2.8.3' currently installed).\n",
      "  from pandas.core.computation.check import NUMEXPR_INSTALLED\n",
      "/Users/laylabouzoubaa/opt/anaconda3/lib/python3.9/site-packages/pandas/core/arrays/masked.py:60: UserWarning: Pandas requires version '1.3.6' or newer of 'bottleneck' (version '1.3.5' currently installed).\n",
      "  from pandas.core import (\n"
     ]
    }
   ],
   "source": [
    "import pandas as pd\n",
    "import numpy as np\n",
    "import networkx as nx\n",
    "import matplotlib.pyplot as plt\n",
    "from collections import defaultdict\n",
    "\n",
    "G = nx.read_gexf(\"../graphs/double_hits_filtered_upper75_with_theme_no_unknown.gexf\")\n",
    "G_sub = nx.read_gexf(\"../graphs/double_hits_filtered_upper75_with_theme_nomisc.gexf\")"
   ]
  },
  {
   "cell_type": "code",
   "execution_count": 2,
   "metadata": {},
   "outputs": [],
   "source": [
    "def calculate_centralities(graph):\n",
    "    betweenness = nx.betweenness_centrality(graph)\n",
    "    closeness = nx.closeness_centrality(graph)\n",
    "    degree = nx.degree_centrality(graph)\n",
    "    eigenvector = nx.eigenvector_centrality(graph)\n",
    "    return betweenness, closeness, degree, eigenvector\n",
    "\n",
    "def get_top_nodes(centrality_dict, n=5):\n",
    "    return ', '.join(sorted(centrality_dict, key=centrality_dict.get, reverse=True)[:n])\n",
    "\n",
    "def calculate_network_stats(graph):\n",
    "    num_nodes = graph.number_of_nodes()\n",
    "    num_edges = graph.number_of_edges()\n",
    "    avg_degree = sum(dict(graph.degree()).values()) / num_nodes\n",
    "\n",
    "    # Check if the graph is connected\n",
    "    is_connected = nx.is_connected(graph)\n",
    "\n",
    "    if is_connected:\n",
    "        avg_short_path = nx.average_shortest_path_length(graph)\n",
    "    else:\n",
    "        # Calculate for the largest connected component\n",
    "        largest_cc = max(nx.connected_components(graph), key=len)\n",
    "        largest_cc_graph = graph.subgraph(largest_cc)\n",
    "        avg_short_path = nx.average_shortest_path_length(largest_cc_graph)\n",
    "\n",
    "    return {\n",
    "        '#Nodes': num_nodes,\n",
    "        '#Edges': num_edges,\n",
    "        'Avg Degree': avg_degree,\n",
    "        'Avg Cluster': nx.average_clustering(graph),\n",
    "        'Avg Short Path': avg_short_path,\n",
    "        'Is Connected': 'Yes' if is_connected else 'No'\n",
    "    }"
   ]
  },
  {
   "cell_type": "code",
   "execution_count": 3,
   "metadata": {},
   "outputs": [],
   "source": [
    "# centralities for the whole network\n",
    "betweenness, closeness, degree, eigenvector = calculate_centralities(G)"
   ]
  },
  {
   "cell_type": "code",
   "execution_count": 4,
   "metadata": {},
   "outputs": [],
   "source": [
    "network_stats = calculate_network_stats(G)\n",
    "\n",
    "# Get top nodes for the whole network\n",
    "top_nodes = {\n",
    "    'Betweenness': get_top_nodes(betweenness),\n",
    "    'Closeness': get_top_nodes(closeness),\n",
    "    'Degree': get_top_nodes(degree),\n",
    "    'Eigenvector': get_top_nodes(eigenvector)\n",
    "}\n",
    "\n",
    "# Prepare data for the whole network\n",
    "network_data = {\n",
    "    'Network': 'Whole Network',\n",
    "    **network_stats,\n",
    "    '#Community': len(set(nx.get_node_attributes(G, 'community').values())),\n",
    "    **top_nodes\n",
    "}"
   ]
  },
  {
   "cell_type": "code",
   "execution_count": 5,
   "metadata": {},
   "outputs": [],
   "source": [
    "# Calculate stats for each community\n",
    "community_data = defaultdict(list)\n",
    "for node, community in nx.get_node_attributes(G, 'community').items():\n",
    "    community_data[community].append(node)\n",
    "\n",
    "community_rows = []\n",
    "for community, nodes in community_data.items():\n",
    "    subgraph = G.subgraph(nodes)\n",
    "    betweenness, closeness, degree, eigenvector = calculate_centralities(subgraph)\n",
    "    stats = calculate_network_stats(subgraph)\n",
    "    top_nodes = {\n",
    "        'Betweenness': get_top_nodes(betweenness),\n",
    "        'Closeness': get_top_nodes(closeness),\n",
    "        'Degree': get_top_nodes(degree),\n",
    "        'Eigenvector': get_top_nodes(eigenvector)\n",
    "    }\n",
    "    community_rows.append({\n",
    "        'Network': f'Community {community}',\n",
    "        **stats,\n",
    "        '#Community': 1,\n",
    "        **top_nodes\n",
    "    })\n",
    "\n",
    "# Combine whole network and community data\n",
    "all_data = [network_data] + community_rows\n",
    "df = pd.DataFrame(all_data)"
   ]
  },
  {
   "cell_type": "code",
   "execution_count": 6,
   "metadata": {},
   "outputs": [],
   "source": [
    "column_order = ['Network', '#Nodes', '#Edges', 'Avg Degree', 'Avg Cluster', 'Avg Short Path', '#Community',\n",
    "                'Betweenness', 'Closeness', 'Degree', 'Eigenvector']\n",
    "df = df[column_order]\n",
    "\n",
    "# Round numeric columns\n",
    "numeric_columns = ['#Nodes', '#Edges', 'Avg Degree', 'Avg Cluster', 'Avg Short Path', '#Community']\n",
    "df[numeric_columns] = df[numeric_columns].round(2)\n",
    "\n",
    "# Save to CSV\n",
    "df.to_csv('../data/network_centrality_measures.csv', index=False)"
   ]
  },
  {
   "cell_type": "code",
   "execution_count": 7,
   "metadata": {},
   "outputs": [
    {
     "name": "stdout",
     "output_type": "stream",
     "text": [
      "# Network Centrality Measures\n",
      "\n",
      "This table shows centrality measures for the whole network and each community. The top five nodes are presented per centrality measure.\n",
      "\n",
      "| Network                               |   #Nodes |   #Edges |   Avg Degree |   Avg Cluster |   Avg Short Path |   #Community | Betweenness                                                            | Closeness                                                              | Degree                                                                 | Eigenvector                                                            |\n",
      "|:--------------------------------------|---------:|---------:|-------------:|--------------:|-----------------:|-------------:|:-----------------------------------------------------------------------|:-----------------------------------------------------------------------|:-----------------------------------------------------------------------|:-----------------------------------------------------------------------|\n",
      "| Whole Network                         |    14569 |   206289 |        28.32 |          0.68 |             2.29 |           19 | addiction, recovery, sober, wedorecover, harmreduction                 | addiction, recovery, sober, wedorecover, sobriety                      | addiction, recovery, sober, wedorecover, sobriety                      | addiction, recovery, sober, wedorecover, sobriety                      |\n",
      "| Community awareness and advocacy      |     1577 |    15773 |        20.00 |          0.94 |             2.09 |            1 | recovery, wedorecover, harmreduction, sober, harmreductionsaveslives   | recovery, wedorecover, harmreduction, sober, sobriety                  | recovery, wedorecover, harmreduction, sober, sobriety                  | recovery, wedorecover, harmreduction, sober, sobriety                  |\n",
      "| Community platform                    |     1062 |      376 |         0.71 |          0.10 |             2.27 |            1 | pingtok, dr00gtiktok, pingertok, foryoupage, fyp                       | pingtok, dr00gtiktok, pingertok, foryoupage, fyp                       | pingtok, dr00gtiktok, pingertok, p1ngt0k, foryoupage                   | pingtok, pingertok, dr00gtiktok, foryoupage, fyp                       |\n",
      "| Community occupation                  |      469 |        0 |         0.00 |          0.00 |             0.00 |            1 | housemanager, coworkers, veterinarian, podcasters, research            | housemanager, coworkers, veterinarian, podcasters, research            | housemanager, coworkers, veterinarian, podcasters, research            | housemanager, coworkers, veterinarian, podcasters, research            |\n",
      "| Community location                    |      641 |        0 |         0.00 |          0.00 |             0.00 |            1 | buffalo, sanfrancisco, قطر, brasil, floridacheck                       | buffalo, sanfrancisco, قطر, brasil, floridacheck                       | buffalo, sanfrancisco, قطر, brasil, floridacheck                       | buffalo, sanfrancisco, قطر, brasil, floridacheck                       |\n",
      "| Community misc                        |     6022 |     2559 |         0.85 |          0.04 |             2.92 |            1 | emma, psychedelictok, lsdart, thom, gurner                             | psychedelictok, emma, funny, lsdart, music                             | lsdart, emma, psychedelictok, thom, libertycapss                       | lsdart, psychedelictok, emma, thom, libertycapss                       |\n",
      "| Community health conditions           |      778 |     1609 |         4.14 |          0.56 |             2.17 |            1 | addiction, chronicpain, substanceusedisorder, substanceabuse, overdose | addiction, chronicpain, substanceusedisorder, substanceabuse, overdose | addiction, chronicpain, substanceusedisorder, substanceabuse, overdose | addiction, chronicpain, substanceusedisorder, substanceabuse, overdose |\n",
      "| Community emotions and feelings       |     1050 |      580 |         1.10 |          0.13 |             2.18 |            1 | pain, high, honesty, happylife, suffering                              | pain, high, overthinking, beautiful, flyhigh                           | pain, high, overthinking, beautiful, flyhigh                           | pain, high, overthinking, beautiful, flyhigh                           |\n",
      "| Community consumption method          |      255 |      844 |         6.62 |          0.60 |             2.20 |            1 | ecig, vaping, smoking, cigarette, vaper                                | vaping, ecig, smoking, cigarette, vaper                                | vaping, ecig, smoking, vaper, cigarette                                | vaping, ecig, smoking, vaper, cigarette                                |\n",
      "| Community identity and community      |      946 |       20 |         0.04 |          0.00 |             1.90 |            1 | biak, blondeandbrunette, tiktokgirls, gaysoberman, progressives        | biak, petsoftiktok, animalsoftiktok, black, culture                    | biak, petsoftiktok, animalsoftiktok, black, culture                    | biak, petsoftiktok, animalsoftiktok, black, culture                    |\n",
      "| Community substance effects           |      120 |      157 |         2.62 |          0.29 |             2.07 |            1 | drunk, hangover, hungover, hammered, tipsy                             | drunk, hammered, hungover, hangover, shitfaced                         | drunk, hammered, hungover, hangover, shitfaced                         | drunk, hammered, hangover, shitfaced, hungover                         |\n",
      "| Community other substances            |      328 |      116 |         0.71 |          0.00 |             3.07 |            1 | greens, magicmushroomsadventures, ecigs, coffee, nutricion             | coffee, greens, magicmushroomsadventures, ecigs, supplements           | greens, magicmushroomsadventures, ecigs, coffee, supplements           | greens, magicmushroomsadventures, coffee, supplements, plantmedicine   |\n",
      "| Community commonly-misused substances |      394 |     1134 |         5.76 |          0.41 |             2.54 |            1 | opioids, opiates, fent, methadoneclinic, molly                         | opioids, opiates, fent, molly, percs                                   | opioids, opiates, fent, molly, percs                                   | opioids, opiates, fent, molly, percs                                   |\n",
      "| Community alcohol                     |      220 |      167 |         1.52 |          0.04 |             2.32 |            1 | drank, bars, thatdrank, mescaline, tequila                             | drank, tequila, thatdrank, margarita, alcohol                          | drank, bars, thatdrank, mescaline, tequila                             | drank, bars, thatdrank, tequila, bartender                             |\n",
      "| Community humor                       |      322 |      124 |         0.77 |          0.04 |             2.04 |            1 | addictionhumor, dr00g, ironic, alcoholicsbelike, funnysong             | addictionhumor, dr00g, funnyvideos, joke, meme                         | addictionhumor, dr00g, funnyvideos, joke, meme                         | addictionhumor, dr00g, funnyvideos, joke, meme                         |\n",
      "| Community cannabis                    |      177 |      716 |         8.09 |          0.44 |             2.13 |            1 | hightimes, stoner, 420vibes, stonertokfyp, pot                         | hightimes, stoner, stoned, weed, 420vibes                              | hightimes, stoner, stoned, 420vibes, weed                              | stoned, hightimes, stoner, weed, 420vibes                              |\n",
      "| Community tobacco_nicotine            |      112 |      202 |         3.61 |          0.55 |             2.02 |            1 | vape, nicotine, tobacco, vaporesso, calivapers                         | vape, nicotine, tobacco, vaporesso, vapeban                            | vape, nicotine, tobacco, vaporesso, vapeban                            | vape, nicotine, tobacco, vaporesso, vapeban                            |\n",
      "| Community cognitive enhancement       |       78 |      118 |         3.03 |          0.45 |             2.06 |            1 | nootropics, modafinil, smartdrugs, cognitiveenhancers, openyourmind    | nootropics, modafinil, smartdrugs, cognitiveenhancers, brainhealth     | nootropics, modafinil, smartdrugs, cognitiveenhancers, brainhealth     | nootropics, modafinil, smartdrugs, cognitiveenhancers, brainhealth     |\n",
      "| Community Unknown                     |       12 |        0 |         0.00 |          0.00 |             0.00 |            1 | 01, 05, true, 04, august31                                             | 01, 05, true, 04, august31                                             | 01, 05, true, 04, august31                                             | 01, 05, true, 04, august31                                             |\n",
      "| Community fitnessmotivation           |        6 |        0 |         0.00 |          0.00 |             0.00 |            1 | halfmarathon, fitnessmotivation, findyouredge￼, cleaneating, exercise  | halfmarathon, fitnessmotivation, findyouredge￼, cleaneating, exercise  | halfmarathon, fitnessmotivation, findyouredge￼, cleaneating, exercise  | halfmarathon, fitnessmotivation, findyouredge￼, cleaneating, exercise  |\n"
     ]
    }
   ],
   "source": [
    "def df_to_markdown(df):\n",
    "    markdown = df.to_markdown(index=False, floatfmt=\".2f\")\n",
    "    \n",
    "    # Add a title\n",
    "    title = \"# Network Centrality Measures\\n\\n\"\n",
    "    \n",
    "    # Add a description\n",
    "    description = (\"This table shows centrality measures for the whole network and each community. \"\n",
    "                   \"The top five nodes are presented per centrality measure.\\n\\n\")\n",
    "    \n",
    "    return title + description + markdown\n",
    "\n",
    "# Convert to markdown and print\n",
    "markdown_table = df_to_markdown(df)\n",
    "print(markdown_table)"
   ]
  }
 ],
 "metadata": {
  "kernelspec": {
   "display_name": "base",
   "language": "python",
   "name": "python3"
  },
  "language_info": {
   "codemirror_mode": {
    "name": "ipython",
    "version": 3
   },
   "file_extension": ".py",
   "mimetype": "text/x-python",
   "name": "python",
   "nbconvert_exporter": "python",
   "pygments_lexer": "ipython3",
   "version": "3.9.13"
  }
 },
 "nbformat": 4,
 "nbformat_minor": 2
}
