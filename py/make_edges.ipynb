{
 "cells": [
  {
   "cell_type": "code",
   "execution_count": 1,
   "metadata": {},
   "outputs": [],
   "source": [
    "import pandas as pd\n",
    "import numpy as np\n",
    "import pickle\n",
    "import os\n",
    "import json\n",
    "import networkx as nx"
   ]
  },
  {
   "cell_type": "code",
   "execution_count": 2,
   "metadata": {},
   "outputs": [
    {
     "name": "stdout",
     "output_type": "stream",
     "text": [
      "True\n"
     ]
    }
   ],
   "source": [
    "# data_path = './Tiktok Data'\n",
    "data_path = '../../../../Library/CloudStorage/OneDrive-DrexelUniversity/Youth_Substance_Use/Tiktok Data/N-hits frames/'\n",
    "# is directory?\n",
    "print(os.path.isdir(data_path))"
   ]
  },
  {
   "cell_type": "code",
   "execution_count": null,
   "metadata": {},
   "outputs": [],
   "source": [
    "# for file in os.listdir(data_path):\n",
    "#     if file == '.DS_Store':\n",
    "#         continue\n",
    "#     print(os.listdir(os.path.join(data_path, file)))"
   ]
  },
  {
   "cell_type": "code",
   "execution_count": 5,
   "metadata": {},
   "outputs": [
    {
     "ename": "NotADirectoryError",
     "evalue": "[Errno 20] Not a directory: '../../../../Library/CloudStorage/OneDrive-DrexelUniversity/Youth_Substance_Use/Tiktok Data/N-hits frames/combined_4_hits_frame.csv'",
     "output_type": "error",
     "traceback": [
      "\u001b[0;31m---------------------------------------------------------------------------\u001b[0m",
      "\u001b[0;31mNotADirectoryError\u001b[0m                        Traceback (most recent call last)",
      "Input \u001b[0;32mIn [5]\u001b[0m, in \u001b[0;36m<cell line: 3>\u001b[0;34m()\u001b[0m\n\u001b[1;32m      6\u001b[0m b \u001b[38;5;241m=\u001b[39m os\u001b[38;5;241m.\u001b[39mpath\u001b[38;5;241m.\u001b[39mjoin(data_path, a)\n\u001b[1;32m      7\u001b[0m \u001b[38;5;66;03m# print(b)\u001b[39;00m\n\u001b[0;32m----> 8\u001b[0m \u001b[38;5;28;01mfor\u001b[39;00m file \u001b[38;5;129;01min\u001b[39;00m \u001b[43mos\u001b[49m\u001b[38;5;241;43m.\u001b[39;49m\u001b[43mlistdir\u001b[49m\u001b[43m(\u001b[49m\u001b[43mb\u001b[49m\u001b[43m)\u001b[49m:\n\u001b[1;32m      9\u001b[0m     \u001b[38;5;28;01mif\u001b[39;00m file \u001b[38;5;241m==\u001b[39m \u001b[38;5;124m'\u001b[39m\u001b[38;5;124m.DS_Store\u001b[39m\u001b[38;5;124m'\u001b[39m:\n\u001b[1;32m     10\u001b[0m         \u001b[38;5;28;01mcontinue\u001b[39;00m\n",
      "\u001b[0;31mNotADirectoryError\u001b[0m: [Errno 20] Not a directory: '../../../../Library/CloudStorage/OneDrive-DrexelUniversity/Youth_Substance_Use/Tiktok Data/N-hits frames/combined_4_hits_frame.csv'"
     ]
    }
   ],
   "source": [
    "# all_hastags = pd.DataFrame()\n",
    "\n",
    "# for a in os.listdir(data_path):\n",
    "#     if a == '.DS_Store':\n",
    "#         continue\n",
    "#     b = os.path.join(data_path, a)\n",
    "#     # print(b)\n",
    "#     for file in os.listdir(b):\n",
    "#         if file == '.DS_Store':\n",
    "#             continue\n",
    "#         c = os.path.join(b, file)\n",
    "#         # print(c)\n",
    "#         for sub_file in os.listdir(c):\n",
    "#             if sub_file.endswith('cooccurence.csv'):\n",
    "#                 data = pd.read_csv(os.path.join(c, sub_file))\n",
    "#                 # get source hashtag from filname\n",
    "#                 source_hashtag = sub_file.split('_')[0]\n",
    "#                 data['source_hashtag'] = source_hashtag\n",
    "#                 all_hastags = pd.concat([all_hastags, data])\n",
    "#                 break"
   ]
  },
  {
   "cell_type": "code",
   "execution_count": 5,
   "metadata": {},
   "outputs": [
    {
     "data": {
      "text/plain": [
       "word              86318\n",
       "count               316\n",
       "source_hashtag       54\n",
       "dtype: int64"
      ]
     },
     "execution_count": 5,
     "metadata": {},
     "output_type": "execute_result"
    }
   ],
   "source": [
    "# all_hastags.nunique()"
   ]
  },
  {
   "cell_type": "code",
   "execution_count": 6,
   "metadata": {},
   "outputs": [],
   "source": [
    "# export word to csv\n",
    "# all_hastags[\"word\"].to_csv(\"all_hashtags.csv\", index=False)"
   ]
  },
  {
   "cell_type": "code",
   "execution_count": 13,
   "metadata": {},
   "outputs": [],
   "source": [
    "# # export as edgelist for gephi\n",
    "# all_hastags = all_hastags[['source_hashtag', 'word', 'count']]\n",
    "# all_hastags = all_hastags.rename(columns={'source_hashtag': 'Source', 'word': 'Target', 'count': 'Weight'})\n",
    "# all_hastags.to_csv('hashtag_cooccurence_edgelist_20240521.csv', index=False)\n"
   ]
  },
  {
   "cell_type": "code",
   "execution_count": 14,
   "metadata": {},
   "outputs": [],
   "source": [
    "# filter\n",
    "# all_hastags_filtered = all_hastags[all_hastags['Weight'] > 5]"
   ]
  },
  {
   "cell_type": "code",
   "execution_count": 15,
   "metadata": {},
   "outputs": [],
   "source": [
    "# remove self loops\n",
    "# all_hastags_filtered = all_hastags_filtered[all_hastags_filtered['Source'] != all_hastags_filtered['Target']]"
   ]
  },
  {
   "cell_type": "code",
   "execution_count": 16,
   "metadata": {},
   "outputs": [],
   "source": [
    "# all_hastags_filtered.to_csv('hashtag_cooccurence_edgelist_filtered_20240521.csv', index=False)"
   ]
  },
  {
   "cell_type": "markdown",
   "metadata": {},
   "source": [
    "---\n",
    "Looking at the new data from jo 7/2/2024 which is just videos that have at least 2, 3, or 4 source hashtags"
   ]
  },
  {
   "cell_type": "code",
   "execution_count": 3,
   "metadata": {},
   "outputs": [],
   "source": [
    "double_hits = pd.read_csv(data_path + 'combined_double_hits_frame_no_duplicates.csv')"
   ]
  },
  {
   "cell_type": "code",
   "execution_count": 4,
   "metadata": {},
   "outputs": [
    {
     "data": {
      "text/plain": [
       "Index(['uniqueID', 'Video ID', 'Video URL', 'hashtags', 'collectCount',\n",
       "       'commentCount', 'diggCount', 'playCount', 'shareCount', 'file_path',\n",
       "       'matching_hashtags'],\n",
       "      dtype='object')"
      ]
     },
     "execution_count": 4,
     "metadata": {},
     "output_type": "execute_result"
    }
   ],
   "source": [
    "double_hits.columns"
   ]
  },
  {
   "cell_type": "code",
   "execution_count": 9,
   "metadata": {},
   "outputs": [
    {
     "data": {
      "text/plain": [
       "0    ['mentalhealth', '5', 'five', 'coke', '8ball',...\n",
       "1    ['mentalhealth', 'crystal', 'speed', 'crank', ...\n",
       "2    ['mentalhealth', 'coke', 'snow', '8ball', 'spe...\n",
       "3    ['mentalhealth', 'trap', 'traphouse', 'house',...\n",
       "4    ['mentalhealth', 'adhd', 'adhdtiktok', 'coke',...\n",
       "Name: hashtags, dtype: object"
      ]
     },
     "execution_count": 9,
     "metadata": {},
     "output_type": "execute_result"
    }
   ],
   "source": [
    "double_hits.hashtags.head()"
   ]
  },
  {
   "cell_type": "code",
   "execution_count": 10,
   "metadata": {},
   "outputs": [
    {
     "data": {
      "text/plain": [
       "str"
      ]
     },
     "execution_count": 10,
     "metadata": {},
     "output_type": "execute_result"
    }
   ],
   "source": [
    "type(double_hits.matching_hashtags[0])"
   ]
  },
  {
   "cell_type": "code",
   "execution_count": 5,
   "metadata": {},
   "outputs": [],
   "source": [
    "from collections import defaultdict\n",
    "import itertools\n",
    "import ast \n",
    "import json\n",
    "\n",
    "edge_weights = defaultdict(int)\n",
    "\n",
    "for i, row in double_hits.iterrows():\n",
    "    hashtags = ast.literal_eval(row['hashtags'])\n",
    "    matching = ast.literal_eval(row['matching_hashtags'])\n",
    "    # create all possible pairs\n",
    "    for source in matching:\n",
    "        for target in hashtags:\n",
    "            if source != target and target != '':\n",
    "                edge_weights[(source, target)] += 1\n",
    "    # for pair in itertools.combinations(matching, 2):\n",
    "    #     sorted_pair = tuple(sorted(pair))\n",
    "    #     edge_weights[sorted_pair] += 1\n",
    "\n",
    "edges_df = pd.DataFrame(edge_weights.items(), columns=['pair', 'weight'])\n",
    "edges_df[['source', 'target']] = pd.DataFrame(edges_df['pair'].tolist(), index=edges_df.index)\n",
    "edges_df = edges_df.drop(columns=['pair'])"
   ]
  },
  {
   "cell_type": "code",
   "execution_count": 12,
   "metadata": {},
   "outputs": [
    {
     "data": {
      "text/html": [
       "<div>\n",
       "<style scoped>\n",
       "    .dataframe tbody tr th:only-of-type {\n",
       "        vertical-align: middle;\n",
       "    }\n",
       "\n",
       "    .dataframe tbody tr th {\n",
       "        vertical-align: top;\n",
       "    }\n",
       "\n",
       "    .dataframe thead th {\n",
       "        text-align: right;\n",
       "    }\n",
       "</style>\n",
       "<table border=\"1\" class=\"dataframe\">\n",
       "  <thead>\n",
       "    <tr style=\"text-align: right;\">\n",
       "      <th></th>\n",
       "      <th>weight</th>\n",
       "      <th>source</th>\n",
       "      <th>target</th>\n",
       "    </tr>\n",
       "  </thead>\n",
       "  <tbody>\n",
       "    <tr>\n",
       "      <th>0</th>\n",
       "      <td>12</td>\n",
       "      <td>nicotine</td>\n",
       "      <td>mentalhealth</td>\n",
       "    </tr>\n",
       "    <tr>\n",
       "      <th>1</th>\n",
       "      <td>1</td>\n",
       "      <td>nicotine</td>\n",
       "      <td>5</td>\n",
       "    </tr>\n",
       "    <tr>\n",
       "      <th>2</th>\n",
       "      <td>1</td>\n",
       "      <td>nicotine</td>\n",
       "      <td>five</td>\n",
       "    </tr>\n",
       "    <tr>\n",
       "      <th>3</th>\n",
       "      <td>1</td>\n",
       "      <td>nicotine</td>\n",
       "      <td>coke</td>\n",
       "    </tr>\n",
       "    <tr>\n",
       "      <th>4</th>\n",
       "      <td>1</td>\n",
       "      <td>nicotine</td>\n",
       "      <td>8ball</td>\n",
       "    </tr>\n",
       "  </tbody>\n",
       "</table>\n",
       "</div>"
      ],
      "text/plain": [
       "   weight    source        target\n",
       "0      12  nicotine  mentalhealth\n",
       "1       1  nicotine             5\n",
       "2       1  nicotine          five\n",
       "3       1  nicotine          coke\n",
       "4       1  nicotine         8ball"
      ]
     },
     "execution_count": 12,
     "metadata": {},
     "output_type": "execute_result"
    }
   ],
   "source": [
    "edges_df.head()"
   ]
  },
  {
   "cell_type": "code",
   "execution_count": 6,
   "metadata": {},
   "outputs": [
    {
     "name": "stdout",
     "output_type": "stream",
     "text": [
      "number of unique nodes:  152278\n"
     ]
    }
   ],
   "source": [
    "print(\"number of unique nodes: \", len(set(edges_df.source.tolist() + edges_df.target.tolist())))"
   ]
  },
  {
   "cell_type": "code",
   "execution_count": 14,
   "metadata": {},
   "outputs": [],
   "source": [
    "edges_df.to_csv('../data/double_hits_edges_no_dupes.csv', index=False)   "
   ]
  },
  {
   "cell_type": "code",
   "execution_count": 7,
   "metadata": {},
   "outputs": [],
   "source": [
    "# redo with triple hits\n",
    "triple_hits = pd.read_csv(data_path + 'combined_triple_hits_frame_no_duplicates.csv')\n",
    "\n",
    "\n",
    "edge_weights = defaultdict(int)\n",
    "\n",
    "for i, row in triple_hits.iterrows():\n",
    "    hashtags = ast.literal_eval(row['hashtags'])\n",
    "    matching = ast.literal_eval(row['matching_hashtags'])\n",
    "    # create all possible pairs\n",
    "    for source in matching:\n",
    "        for target in hashtags:\n",
    "            if source != target and target != '':\n",
    "                edge_weights[(source, target)] += 1\n",
    "    # for pair in itertools.combinations(matching, 2):\n",
    "    #     sorted_pair = tuple(sorted(pair))\n",
    "    #     edge_weights[sorted_pair] += 1\n",
    "\n",
    "edges_df = pd.DataFrame(edge_weights.items(), columns=['pair', 'weight'])\n",
    "edges_df[['source', 'target']] = pd.DataFrame(edges_df['pair'].tolist(), index=edges_df.index)\n",
    "edges_df = edges_df.drop(columns=['pair'])"
   ]
  },
  {
   "cell_type": "code",
   "execution_count": 16,
   "metadata": {},
   "outputs": [
    {
     "data": {
      "text/html": [
       "<div>\n",
       "<style scoped>\n",
       "    .dataframe tbody tr th:only-of-type {\n",
       "        vertical-align: middle;\n",
       "    }\n",
       "\n",
       "    .dataframe tbody tr th {\n",
       "        vertical-align: top;\n",
       "    }\n",
       "\n",
       "    .dataframe thead th {\n",
       "        text-align: right;\n",
       "    }\n",
       "</style>\n",
       "<table border=\"1\" class=\"dataframe\">\n",
       "  <thead>\n",
       "    <tr style=\"text-align: right;\">\n",
       "      <th></th>\n",
       "      <th>weight</th>\n",
       "      <th>source</th>\n",
       "      <th>target</th>\n",
       "    </tr>\n",
       "  </thead>\n",
       "  <tbody>\n",
       "    <tr>\n",
       "      <th>0</th>\n",
       "      <td>7</td>\n",
       "      <td>nicotine</td>\n",
       "      <td>mentalhealth</td>\n",
       "    </tr>\n",
       "    <tr>\n",
       "      <th>1</th>\n",
       "      <td>1</td>\n",
       "      <td>nicotine</td>\n",
       "      <td>5</td>\n",
       "    </tr>\n",
       "    <tr>\n",
       "      <th>2</th>\n",
       "      <td>1</td>\n",
       "      <td>nicotine</td>\n",
       "      <td>five</td>\n",
       "    </tr>\n",
       "    <tr>\n",
       "      <th>3</th>\n",
       "      <td>1</td>\n",
       "      <td>nicotine</td>\n",
       "      <td>coke</td>\n",
       "    </tr>\n",
       "    <tr>\n",
       "      <th>4</th>\n",
       "      <td>1</td>\n",
       "      <td>nicotine</td>\n",
       "      <td>8ball</td>\n",
       "    </tr>\n",
       "  </tbody>\n",
       "</table>\n",
       "</div>"
      ],
      "text/plain": [
       "   weight    source        target\n",
       "0       7  nicotine  mentalhealth\n",
       "1       1  nicotine             5\n",
       "2       1  nicotine          five\n",
       "3       1  nicotine          coke\n",
       "4       1  nicotine         8ball"
      ]
     },
     "execution_count": 16,
     "metadata": {},
     "output_type": "execute_result"
    }
   ],
   "source": [
    "edges_df.head()"
   ]
  },
  {
   "cell_type": "code",
   "execution_count": 9,
   "metadata": {},
   "outputs": [
    {
     "name": "stdout",
     "output_type": "stream",
     "text": [
      "number of unique nodes:  23012\n"
     ]
    }
   ],
   "source": [
    "print(\"number of unique nodes: \", len(set(edges_df.source.tolist() + edges_df.target.tolist())))"
   ]
  },
  {
   "cell_type": "code",
   "execution_count": 17,
   "metadata": {},
   "outputs": [],
   "source": [
    "edges_df.to_csv('../data/triple_hits_edges_no_dupes.csv', index=False)"
   ]
  },
  {
   "cell_type": "code",
   "execution_count": 10,
   "metadata": {},
   "outputs": [],
   "source": [
    "# redo for quadruple hits\n",
    "quadruple_hits = pd.read_csv(data_path + 'combined_4_hits_frame_no_duplicates.csv')\n"
   ]
  },
  {
   "cell_type": "code",
   "execution_count": 11,
   "metadata": {},
   "outputs": [],
   "source": [
    "edge_weights = defaultdict(int)\n",
    "\n",
    "for i, row in quadruple_hits.iterrows():\n",
    "    hashtags = ast.literal_eval(row['hashtags'])\n",
    "    matching = ast.literal_eval(row['matching_hashtags'])\n",
    "    # create all possible pairs\n",
    "    for source in matching:\n",
    "        for target in hashtags:\n",
    "            if source != target and target != '':\n",
    "                edge_weights[(source, target)] += 1\n",
    "    # for pair in itertools.combinations(matching, 2):\n",
    "    #     sorted_pair = tuple(sorted(pair))\n",
    "    #     edge_weights[sorted_pair] += 1\n",
    "\n",
    "edges_df = pd.DataFrame(edge_weights.items(), columns=['pair', 'weight'])\n",
    "edges_df[['source', 'target']] = pd.DataFrame(edges_df['pair'].tolist(), index=edges_df.index)\n",
    "edges_df = edges_df.drop(columns=['pair'])"
   ]
  },
  {
   "cell_type": "code",
   "execution_count": 20,
   "metadata": {},
   "outputs": [
    {
     "data": {
      "text/html": [
       "<div>\n",
       "<style scoped>\n",
       "    .dataframe tbody tr th:only-of-type {\n",
       "        vertical-align: middle;\n",
       "    }\n",
       "\n",
       "    .dataframe tbody tr th {\n",
       "        vertical-align: top;\n",
       "    }\n",
       "\n",
       "    .dataframe thead th {\n",
       "        text-align: right;\n",
       "    }\n",
       "</style>\n",
       "<table border=\"1\" class=\"dataframe\">\n",
       "  <thead>\n",
       "    <tr style=\"text-align: right;\">\n",
       "      <th></th>\n",
       "      <th>weight</th>\n",
       "      <th>source</th>\n",
       "      <th>target</th>\n",
       "    </tr>\n",
       "  </thead>\n",
       "  <tbody>\n",
       "    <tr>\n",
       "      <th>0</th>\n",
       "      <td>6</td>\n",
       "      <td>nicotine</td>\n",
       "      <td>mentalhealth</td>\n",
       "    </tr>\n",
       "    <tr>\n",
       "      <th>1</th>\n",
       "      <td>1</td>\n",
       "      <td>nicotine</td>\n",
       "      <td>5</td>\n",
       "    </tr>\n",
       "    <tr>\n",
       "      <th>2</th>\n",
       "      <td>1</td>\n",
       "      <td>nicotine</td>\n",
       "      <td>five</td>\n",
       "    </tr>\n",
       "    <tr>\n",
       "      <th>3</th>\n",
       "      <td>1</td>\n",
       "      <td>nicotine</td>\n",
       "      <td>coke</td>\n",
       "    </tr>\n",
       "    <tr>\n",
       "      <th>4</th>\n",
       "      <td>1</td>\n",
       "      <td>nicotine</td>\n",
       "      <td>8ball</td>\n",
       "    </tr>\n",
       "  </tbody>\n",
       "</table>\n",
       "</div>"
      ],
      "text/plain": [
       "   weight    source        target\n",
       "0       6  nicotine  mentalhealth\n",
       "1       1  nicotine             5\n",
       "2       1  nicotine          five\n",
       "3       1  nicotine          coke\n",
       "4       1  nicotine         8ball"
      ]
     },
     "execution_count": 20,
     "metadata": {},
     "output_type": "execute_result"
    }
   ],
   "source": [
    "edges_df.head()"
   ]
  },
  {
   "cell_type": "code",
   "execution_count": 12,
   "metadata": {},
   "outputs": [
    {
     "name": "stdout",
     "output_type": "stream",
     "text": [
      "number of unique nodes:  14154\n"
     ]
    }
   ],
   "source": [
    "print(\"number of unique nodes: \", len(set(edges_df.source.tolist() + edges_df.target.tolist())))"
   ]
  },
  {
   "cell_type": "code",
   "execution_count": 21,
   "metadata": {},
   "outputs": [],
   "source": [
    "edges_df.to_csv('../data/quadruple_hits_edges_no_dupes.csv', index=False)"
   ]
  },
  {
   "cell_type": "code",
   "execution_count": null,
   "metadata": {},
   "outputs": [],
   "source": []
  }
 ],
 "metadata": {
  "kernelspec": {
   "display_name": "base",
   "language": "python",
   "name": "python3"
  },
  "language_info": {
   "codemirror_mode": {
    "name": "ipython",
    "version": 3
   },
   "file_extension": ".py",
   "mimetype": "text/x-python",
   "name": "python",
   "nbconvert_exporter": "python",
   "pygments_lexer": "ipython3",
   "version": "3.9.13"
  }
 },
 "nbformat": 4,
 "nbformat_minor": 2
}
