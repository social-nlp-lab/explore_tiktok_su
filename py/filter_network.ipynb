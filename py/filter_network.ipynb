{
 "cells": [
  {
   "cell_type": "code",
   "execution_count": 1,
   "metadata": {},
   "outputs": [],
   "source": [
    "import pandas as pd\n",
    "import numpy as np\n",
    "import pickle\n",
    "import os\n",
    "import json\n",
    "import networkx as nx\n",
    "from networkx.algorithms.community import greedy_modularity_communities\n",
    "import matplotlib.pyplot as plt"
   ]
  },
  {
   "cell_type": "code",
   "execution_count": 2,
   "metadata": {},
   "outputs": [],
   "source": [
    "# new file from joe on 11/5/24\n",
    "dat = pd.read_csv('../data/grandmas_dead_filtered_cooccurrence.csv')"
   ]
  },
  {
   "cell_type": "code",
   "execution_count": 3,
   "metadata": {},
   "outputs": [],
   "source": [
    "# make graph and do clustering\n",
    "G = nx.Graph()\n",
    "# Add edges with weights\n",
    "for i, row in dat.iterrows():\n",
    "    G.add_edge(row['Source'], row['Target'], weight=row['Cooccurrence_Count'])"
   ]
  },
  {
   "cell_type": "code",
   "execution_count": 4,
   "metadata": {},
   "outputs": [
    {
     "name": "stdout",
     "output_type": "stream",
     "text": [
      "Number of nodes: 99727\n",
      "Number of edges: 471638\n"
     ]
    }
   ],
   "source": [
    "print('Number of nodes:', G.number_of_nodes())\n",
    "print('Number of edges:', G.number_of_edges())"
   ]
  },
  {
   "cell_type": "code",
   "execution_count": 5,
   "metadata": {},
   "outputs": [],
   "source": [
    "# Filter out non-influential nodes\n",
    "# You can adjust the threshold based on your needs\n",
    "degree_centrality = nx.degree_centrality(G)\n",
    "# betweenness_centrality = nx.betweenness_centrality(G, weight='weight')"
   ]
  },
  {
   "cell_type": "code",
   "execution_count": 6,
   "metadata": {},
   "outputs": [
    {
     "data": {
      "image/png": "[encoded data removed]",
      "text/plain": [
       "<Figure size 640x480 with 1 Axes>"
      ]
     },
     "metadata": {},
     "output_type": "display_data"
    },
    {
     "name": "stdout",
     "output_type": "stream",
     "text": [
      "Mean Degree Centrality: 9.4845696495049e-05\n",
      "Median Degree Centrality: 2.005495056454686e-05\n",
      "Standard Deviation of Degree Centrality: 0.0012397096630870786\n",
      "Max Degree Centrality: 0.12025951106030525\n",
      "Min Degree Centrality: 1.002747528227343e-05\n",
      "Inter-quartile range: 2.005495056454686e-05\n",
      "75th percentile: 4.010990112909372e-05\n",
      "25th percentile: 2.005495056454686e-05\n"
     ]
    }
   ],
   "source": [
    "# Analyze the distribution of betweenness centrality\n",
    "centrality_values = list(degree_centrality.values())\n",
    "# box plot\n",
    "plt.boxplot(centrality_values)\n",
    "plt.show()\n",
    "\n",
    "# Calculate descriptive statistics\n",
    "mean_centrality = np.mean(centrality_values)\n",
    "median_centrality = np.median(centrality_values)\n",
    "std_centrality = np.std(centrality_values)\n",
    "\n",
    "print(f'Mean Degree Centrality: {mean_centrality}')\n",
    "print(f'Median Degree Centrality: {median_centrality}')\n",
    "print(f'Standard Deviation of Degree Centrality: {std_centrality}')\n",
    "print(f'Max Degree Centrality: {max(centrality_values)}')\n",
    "print(f'Min Degree Centrality: {min(centrality_values)}')\n",
    "print(f\"Inter-quartile range: {np.percentile(centrality_values, 75) - np.percentile(centrality_values, 25)}\")\n",
    "print(f\"75th percentile: {np.percentile(centrality_values, 75)}\"\n",
    "        f\"\\n25th percentile: {np.percentile(centrality_values, 25)}\")"
   ]
  },
  {
   "cell_type": "markdown",
   "metadata": {},
   "source": [
    "---\n",
    "### Graph filtering\n",
    "\n",
    "1. filter edges by weight\n",
    "2. remove isolated nodes\n",
    "3. apply minimum degree threshold"
   ]
  },
  {
   "cell_type": "code",
   "execution_count": 7,
   "metadata": {},
   "outputs": [
    {
     "name": "stdout",
     "output_type": "stream",
     "text": [
      "Total number of edges: 471638\n",
      "Min weight: 1\n",
      "Max weight: 1930\n",
      "Sample of first 5 weights: [376, 387, 384, 1, 1]\n",
      "\n",
      "Weight distribution:\n",
      "Weight 1: 359494 edges\n",
      "Weight 2: 49888 edges\n",
      "Weight 3: 17963 edges\n",
      "Weight 4: 10442 edges\n",
      "Weight 5: 6317 edges\n",
      "Weight 6: 3810 edges\n",
      "Weight 7: 2944 edges\n",
      "Weight 8: 2295 edges\n",
      "Weight 9: 1568 edges\n",
      "Weight 10: 1476 edges\n"
     ]
    }
   ],
   "source": [
    "# Check edge weights distribution\n",
    "weights = [d['weight'] for (u,v,d) in G.edges(data=True)]\n",
    "print(\"Total number of edges:\", len(weights))\n",
    "print(\"Min weight:\", min(weights))\n",
    "print(\"Max weight:\", max(weights))\n",
    "print(\"Sample of first 5 weights:\", weights[:5])\n",
    "\n",
    "# Get a frequency count of weights\n",
    "from collections import Counter\n",
    "weight_counts = Counter(weights)\n",
    "print(\"\\nWeight distribution:\")\n",
    "for weight, count in sorted(weight_counts.items())[:10]:  # Show first 10 weights\n",
    "    print(f\"Weight {weight}: {count} edges\")"
   ]
  },
  {
   "cell_type": "code",
   "execution_count": 8,
   "metadata": {},
   "outputs": [
    {
     "name": "stdout",
     "output_type": "stream",
     "text": [
      "Found 359494 edges to remove\n"
     ]
    }
   ],
   "source": [
    "# 1. Filter edges by weight\n",
    "min_weight = np.percentile([d['weight'] for (u,v,d) in G.edges(data=True)], 25)  # bottom 25%\n",
    "G_filtered = G.copy()\n",
    "# More explicit filtering approach\n",
    "edges_to_remove = []\n",
    "for u, v, d in G.edges(data=True):\n",
    "    if 'weight' in d:  # Check if weight attribute exists\n",
    "        if d['weight'] <= min_weight:  # or whatever threshold you want\n",
    "            edges_to_remove.append((u,v))\n",
    "    else:\n",
    "        print(f\"Edge {u}-{v} has no weight attribute!\")\n",
    "\n",
    "print(f\"Found {len(edges_to_remove)} edges to remove\")\n",
    "G_filtered.remove_edges_from(edges_to_remove)"
   ]
  },
  {
   "cell_type": "code",
   "execution_count": 9,
   "metadata": {},
   "outputs": [],
   "source": [
    "# Remove any isolated nodes after edge removal\n",
    "isolated_nodes = list(nx.isolates(G_filtered))\n",
    "G_filtered.remove_nodes_from(isolated_nodes)"
   ]
  },
  {
   "cell_type": "code",
   "execution_count": 10,
   "metadata": {},
   "outputs": [
    {
     "name": "stdout",
     "output_type": "stream",
     "text": [
      "\n",
      "Filtered graph:\n",
      "Nodes: 27505\n",
      "Edges: 112144\n",
      "Removed 72222 isolated nodes\n"
     ]
    }
   ],
   "source": [
    "print(\"\\nFiltered graph:\")\n",
    "print(f\"Nodes: {G_filtered.number_of_nodes()}\")\n",
    "print(f\"Edges: {G_filtered.number_of_edges()}\")\n",
    "print(f\"Removed {len(isolated_nodes)} isolated nodes\")\n"
   ]
  },
  {
   "cell_type": "code",
   "execution_count": 11,
   "metadata": {},
   "outputs": [
    {
     "name": "stdout",
     "output_type": "stream",
     "text": [
      "\n",
      "Average degree: 8.15\n",
      "Largest connected component has 27502 nodes\n"
     ]
    }
   ],
   "source": [
    "avg_degree = sum(dict(G_filtered.degree()).values()) / G_filtered.number_of_nodes()\n",
    "print(f\"\\nAverage degree: {avg_degree:.2f}\")\n",
    "\n",
    "# Look at the largest connected component\n",
    "largest_cc = max(nx.connected_components(G_filtered), key=len)\n",
    "print(f\"Largest connected component has {len(largest_cc)} nodes\")"
   ]
  },
  {
   "cell_type": "markdown",
   "metadata": {},
   "source": [
    "---\n",
    "### Level 2 filtering to get CORE nodes\n",
    "\n",
    "3 options: 90th percentile by degree, k-core, and pagerank"
   ]
  },
  {
   "cell_type": "code",
   "execution_count": 17,
   "metadata": {},
   "outputs": [
    {
     "name": "stdout",
     "output_type": "stream",
     "text": [
      "\n",
      "Core graph (top 20% by weighted degree):\n",
      "Nodes: 5595\n",
      "Edges: 61947\n"
     ]
    }
   ],
   "source": [
    "# 1. Using edge weights and degree together\n",
    "# Calculate weighted degree for each node\n",
    "# weighted_degrees = dict()\n",
    "# for node in G_filtered.nodes():\n",
    "#     weighted_degree = sum(d['weight'] for u, v, d in G_filtered.edges(data=True) if u == node or v == node)\n",
    "#     weighted_degrees[node] = weighted_degree\n",
    "\n",
    "# # Get 90th percentile of weighted degrees\n",
    "# threshold = np.percentile(list(weighted_degrees.values()), 80)\n",
    "# core_nodes = [node for node, w_degree in weighted_degrees.items() if w_degree >= threshold]\n",
    "\n",
    "# # Create subgraph of core nodes\n",
    "# G_core = G_filtered.subgraph(core_nodes).copy()\n",
    "\n",
    "# print(\"\\nCore graph (top 20% by weighted degree):\")\n",
    "# print(f\"Nodes: {G_core.number_of_nodes()}\")\n",
    "# print(f\"Edges: {G_core.number_of_edges()}\")"
   ]
  },
  {
   "cell_type": "code",
   "execution_count": 18,
   "metadata": {},
   "outputs": [
    {
     "name": "stdout",
     "output_type": "stream",
     "text": [
      "Core graph analysis (top 20% by weighted degree):\n",
      "Number of connected components: 1\n",
      "Min edge weight: 2\n",
      "Max edge weight: 1930\n",
      "Mean edge weight: 19.18\n",
      "Mean degree: 22.14\n",
      "Median degree: 8.00\n",
      "\n",
      "Top 10 hashtags by PageRank in weighted degree core:\n",
      "addiction: 0.022237\n",
      "recovery: 0.019797\n",
      "harmreduction: 0.016122\n",
      "wedorecover: 0.014342\n",
      "sober: 0.014045\n",
      "sobriety: 0.013415\n",
      "addy: 0.011993\n",
      "high: 0.011803\n",
      "g: 0.010494\n",
      "o: 0.010171\n",
      "\n",
      "Weighted degree specific metrics:\n",
      "Min weighted degree: 6\n",
      "Max weighted degree: 83947\n",
      "Mean weighted degree: 424.66\n"
     ]
    }
   ],
   "source": [
    "# print(\"Core graph analysis (top 20% by weighted degree):\")\n",
    "# # Connectivity\n",
    "# print(f\"Number of connected components: {nx.number_connected_components(G_core)}\")\n",
    "\n",
    "# # Edge weight distribution\n",
    "# weights = [d['weight'] for (u,v,d) in G_core.edges(data=True)]\n",
    "# print(f\"Min edge weight: {min(weights)}\")\n",
    "# print(f\"Max edge weight: {max(weights)}\")\n",
    "# print(f\"Mean edge weight: {np.mean(weights):.2f}\")\n",
    "\n",
    "# # Node degree distribution\n",
    "# degrees = [d for n, d in G_core.degree()]\n",
    "# print(f\"Mean degree: {np.mean(degrees):.2f}\")\n",
    "# print(f\"Median degree: {np.median(degrees):.2f}\")\n",
    "\n",
    "# # Calculate PageRank scores for the weighted degree core graph\n",
    "# pr_core = nx.pagerank(G_core, weight='weight')\n",
    "# top_hashtags = sorted(pr_core.items(), key=lambda x: x[1], reverse=True)[:10]\n",
    "# print(\"\\nTop 10 hashtags by PageRank in weighted degree core:\")\n",
    "# for hashtag, score in top_hashtags:\n",
    "#     print(f\"{hashtag}: {score:.6f}\")\n",
    "\n",
    "# # Additional weighted degree specific metrics\n",
    "# print(f\"\\nWeighted degree specific metrics:\")\n",
    "# # Get weighted degree distribution\n",
    "# weighted_degrees = {node: sum(d['weight'] for u, v, d in G_core.edges(data=True) if u == node or v == node) \n",
    "#                    for node in G_core.nodes()}\n",
    "# print(f\"Min weighted degree: {min(weighted_degrees.values())}\")\n",
    "# print(f\"Max weighted degree: {max(weighted_degrees.values())}\")\n",
    "# print(f\"Mean weighted degree: {np.mean(list(weighted_degrees.values())):.2f}\")"
   ]
  },
  {
   "cell_type": "markdown",
   "metadata": {},
   "source": [
    "#### K-core decomposition"
   ]
  },
  {
   "cell_type": "code",
   "execution_count": 12,
   "metadata": {},
   "outputs": [
    {
     "name": "stdout",
     "output_type": "stream",
     "text": [
      "\n",
      "k-core graph (k=10):\n",
      "Nodes: 2333\n",
      "Edges: 46990\n"
     ]
    }
   ],
   "source": [
    "# 2. Alternative: k-core decomposition\n",
    "# This will find the most densely connected subset of nodes\n",
    "k_core = nx.k_core(G_filtered, k=10)  \n",
    "print(\"\\nk-core graph (k=10):\")\n",
    "print(f\"Nodes: {k_core.number_of_nodes()}\")\n",
    "print(f\"Edges: {k_core.number_of_edges()}\")"
   ]
  },
  {
   "cell_type": "code",
   "execution_count": 13,
   "metadata": {},
   "outputs": [
    {
     "name": "stdout",
     "output_type": "stream",
     "text": [
      "K-core graph analysis (k=10):\n",
      "Number of connected components: 1\n",
      "Min edge weight: 2\n",
      "Max edge weight: 1930\n",
      "Mean edge weight: 12.76\n",
      "Min degree: 10\n",
      "Mean degree: 40.28\n",
      "Median degree: 17.00\n",
      "\n",
      "Top 10 hashtags by PageRank in k-core:\n",
      "addiction: 0.027352\n",
      "recovery: 0.024995\n",
      "harmreduction: 0.023309\n",
      "wedorecover: 0.020104\n",
      "sober: 0.016685\n",
      "sobriety: 0.014635\n",
      "addy: 0.011009\n",
      "soberlife: 0.010592\n",
      "harmreductionworks: 0.009564\n",
      "harmreductionsaveslives: 0.008948\n",
      "\n",
      "K-core specific metrics:\n",
      "Min core number: 10\n",
      "Max core number: 46\n",
      "Mean core number: 20.92\n"
     ]
    }
   ],
   "source": [
    "print(\"K-core graph analysis (k=10):\")\n",
    "# Connectivity\n",
    "print(f\"Number of connected components: {nx.number_connected_components(k_core)}\")\n",
    "\n",
    "# Edge weight distribution\n",
    "weights = [d['weight'] for (u,v,d) in k_core.edges(data=True)]\n",
    "print(f\"Min edge weight: {min(weights)}\")\n",
    "print(f\"Max edge weight: {max(weights)}\")\n",
    "print(f\"Mean edge weight: {np.mean(weights):.2f}\")\n",
    "\n",
    "# Node degree distribution\n",
    "degrees = [d for n, d in k_core.degree()]\n",
    "print(f\"Min degree: {min(degrees)}\")\n",
    "print(f\"Mean degree: {np.mean(degrees):.2f}\")\n",
    "print(f\"Median degree: {np.median(degrees):.2f}\")\n",
    "\n",
    "# Calculate PageRank scores for the k-core graph to identify important nodes\n",
    "pr_kcore = nx.pagerank(k_core, weight='weight')\n",
    "top_hashtags = sorted(pr_kcore.items(), key=lambda x: x[1], reverse=True)[:10]\n",
    "print(\"\\nTop 10 hashtags by PageRank in k-core:\")\n",
    "for hashtag, score in top_hashtags:\n",
    "    print(f\"{hashtag}: {score:.6f}\")\n",
    "\n",
    "# Additional k-core specific metrics\n",
    "print(f\"\\nK-core specific metrics:\")\n",
    "# Core number distribution\n",
    "core_numbers = nx.core_number(k_core)\n",
    "print(f\"Min core number: {min(core_numbers.values())}\")\n",
    "print(f\"Max core number: {max(core_numbers.values())}\")\n",
    "print(f\"Mean core number: {np.mean(list(core_numbers.values())):.2f}\")"
   ]
  },
  {
   "cell_type": "code",
   "execution_count": 15,
   "metadata": {},
   "outputs": [],
   "source": [
    "# export graph:\n",
    "nx.write_gexf(k_core, \"../graphs/hashtag_network_k10_nothemes.gexf\")"
   ]
  },
  {
   "cell_type": "code",
   "execution_count": 14,
   "metadata": {},
   "outputs": [
    {
     "name": "stdout",
     "output_type": "stream",
     "text": [
      "Community 1: ['12step', '12stepprogram', '12steps', '12stepsinrecovery', '3days', '710', '716buffalo', '8ball', 'aa', 'accountability', 'accountabro', 'activeaddiction', 'activeaddictionstories', 'activeaddictionthings', 'activeaddictiontorecovery', 'activeaddictionvssobriety', 'activeuse', 'actuallyautistic', 'acutepain', 'addict', 'addictcomedy', 'addicted', 'addictedseries', 'addictedtotiktok', 'addicthumor', 'addictinrecovery', 'addiction', 'addictionawareness', 'addictioncrew', 'addictionfree', 'addictionhelp', 'addictionhumor', 'addictionisadisease', 'addictionisamentalhealthproblem', 'addictionisnotachoice', 'addictionisntfun', 'addictionisnthowyourstoryhastoend', 'addictionisreal', 'addictionisrealrecoveryisbeautiful', 'addictionisrealthereishope', 'addictionisrealyall', 'addictionjourney', 'addictionmedicine', 'addictionmindset', 'addictionrecovery', 'addictionrecoverycoach', 'addictions', 'addictionskit', 'addictionstories', 'addictionstory', 'addictionsupport', 'addictionsurvivor', 'addictiontiktok', 'addictiontok', 'addictiontreatment', 'addicts', 'addictsarepeopletoo', 'addictshelpingaddicts', 'addictsinrecovery', 'addictsoftiktok', 'addicttok', 'adhd', 'adhdtiktok', 'advice', 'advocacy', 'advocacymatters', 'advocate', 'aeholidaycard', 'afterparty', 'afters', 'alchohol', 'alcohol', 'alcoholabuse', 'alcoholaddiction', 'alcoholfree', 'alcoholfreejourney', 'alcoholfreelife', 'alcoholfreelifestyle', 'alcoholic', 'alcoholicsanonymous', 'alcoholicsaononymous', 'alcoholicsnotanonymous', 'alcoholism', 'alcoholrehab', 'alcoholtreatment', 'alone', 'alttiktok', 'amazonvirtualtryon', 'amped', 'andgo', 'anesthesia', 'anesthesiologist', 'another24', 'answer', 'antidepressants', 'anxiety', 'anxietydisorder', 'anxietyrelief', 'arachnoiditis', 'arthritis', 'atx', 'autism', 'autistic', 'autisticadult', 'awareness', 'awarenessvideo', 'backpain', 'backpainexercises', 'backsurgery', 'bag', 'beers', 'bekind', 'believe', 'benzo', 'benzodiazepinas', 'benzogang', 'benzos', 'benzowithdrawal', 'bible', 'bigpharma', 'binge', 'bipoc', 'bipolar', 'bipolar1', 'bipolar1disorder', 'bipolarawareness', 'bipolardisorder', 'birthday', 'blackownedbusiness', 'blacktar', 'blackwomenowned', 'blessed', 'blowitup', 'booktok', 'bootsontheground', 'boozefree', 'borderline', 'borderlinepersonalitydisorder', 'boston', 'boundaries', 'bowl', 'bowls', 'bpd', 'bpdawareness', 'bpdtiktok', 'bpdtok', 'breakingnews', 'breakthecycle', 'breakthestigma', 'breakup', 'broken', 'bronx', 'brother', 'buffalo', 'bullying', 'bunkpolice', 'buprenophrhine', 'buprenorphinesaveslives', 'business', 'calisober', 'canada', 'cancerpain', 'candycrush10', 'canna', 'cannafam', 'cannafamily🌿', 'carrynaloxone', 'carrynarcan', 'catchchobanioatmilk', 'cbs', 'cdc', 'cdcguidelines', 'chadsabora', 'change', 'chevyevsongcontest', 'childhoodtrauma', 'children', 'christian', 'christianity', 'chronicallyill', 'chronicillness', 'chronicillnessawareness', 'chronicillnesswarrior', 'chronicpain', 'chronicpainawareness', 'chronicpainlife', 'chronicpainwarrior', 'chronsdisease', 'chs', 'church', 'cia', 'cigs', 'clean', 'cleanandserene', 'cleanandsober', 'cleantime', 'cleantok', 'clubbing', 'coke', 'colemaninstitute', 'colemanmethod', 'comedancewithme', 'comediahumor', 'comedian', 'comedу', 'comment', 'community', 'compassion', 'copingmechanism', 'copsoftiktok', 'corinnadoll', 'counseling', 'courage', 'covid', 'cpp', 'cpr', 'cptsd', 'cptsdawareness', 'crack', 'cravings', 'crazystory', 'crime', 'crisis', 'crps', 'crystal', 'crystaltok', 'cvspaperlesschallenge', 'dadsoftiktok', 'daily', 'dancesafe', 'dancewithturbotax', 'dangerous', 'darkhumor', 'darkhumour', 'dayinmylife', 'dayinthelife', 'dayonedetox', 'ddd', 'dea', 'deadpeoplecantrecover', 'death', 'decriminalization', 'decriminalize', 'degenerativediscdisease', 'depresion', 'depressed', 'depressedtiktok', 'depression', 'depressionanxiety', 'depressionawareness', 'depressionhelp', 'depressionisreal', 'detox', 'detoxification', 'detoxing', 'disability', 'disabilitytiktok', 'disabled', 'disabledcommunity', 'disabledtiktok', 'discover', 'disease', 'dnb', 'dobetter', 'doc', 'doctor', 'doctors', 'doctorsoftiktok', 'domesticviolencesurvivor', 'dontdodrugs', 'dontdodrugs❌', 'dontdodrxgs', 'dontpunishpain', 'dopesick', 'dosewithme', 'dothesmartthings', 'dothework', 'downer', 'downers', 'downtowntampa', 'dr00g', 'dr00ghumour', 'dr00gtiktok', 'drinking', 'droog', 'drugabuse', 'drugabuseawareness', 'drugawareness', 'drugcrisis', 'drugdetox', 'drugeducation', 'drugfacts', 'drugfree', 'druginducedhomicide', 'druglaws', 'drugoverdose', 'drugpolicies', 'drugpolicy', 'drugpolicyalliance', 'drugpolicyreform', 'drugrecovery', 'drugrehab', 'drugs', 'drugsafety', 'drugtreatment', 'druguse', 'drugusersarepeopletoo', 'drugusersdeserveempathy', 'drugwar', 'drumandbass', 'drvg', 'drvgaddiction', 'drvgadicction', 'dryjanuary', 'dr✨️gs', 'dumbjokes', 'dvsurvivor', 'earlysobriety', 'easy', 'easywithadobeexpress', 'eatingdisorderrecovery', 'eccies', 'ed', 'edc', 'edmtiktok', 'edrecocery', 'edrecovery', 'education', 'educational', 'educationalcontent', 'educationalpurposes', 'edutok', 'effects', 'ehlersdanlos', 'ehlersdanlossyndrome', 'emergency', 'emotional', 'emotionalsobriety', 'empathy', 'ems', 'enabling', 'endhivstigma', 'endlessjourney', 'endmassincarceration', 'endocarditis', 'endoverdose', 'endprohibition', 'endstigma', 'endthedrugwar', 'endthestigma', 'endthewarondrugs', 'entertainment', 'epidemic', 'er', 'euphoria', 'every11minutes', 'experience', 'faith', 'fake', 'fakesituation', 'fasttwitchcontest', 'fbi', 'fda', 'fearmongering', 'felon', 'fendt', 'fent', 'fentanyawarness', 'fentanylawareness', 'fentanylcrisis', 'fentanyldangersarereal', 'fentanyleducation', 'fentanylfacts', 'fentanylkills', 'fentanyloverdose', 'fentanylpoisioning', 'fentnyltest', 'fenty', 'fentynalawareness', 'festival', 'festivalseason', 'fetty', 'fibromyalgia', 'fight', 'filmteyvatislands', 'firefighter', 'fitcheck', 'fittok', 'five', 'flexeveryangle', 'foryourpages', 'foryouu', 'free', 'freedom', 'freefromaddiction', 'friday', 'friendship', 'fuckdrugs', 'functioningaddict', 'funnyy', 'fupシ', 'fypdongggggggg', 'fypmentalhealth', 'fyprecovery', 'fypsoberlife', 'fypviral', 'fypviralシ', 'fypシ゚', 'gabapentin', 'gains', 'gas', 'gay', 'genshinimpact32', 'genshinimpact33', 'genshinteleport', 'genx', 'genxcrew', 'getcrackin', 'gethelp', 'getsober', 'gettested', 'getthebag', 'gettingclean', 'ghb', 'global', 'glowup', 'godisgood', 'gohelpsomeone', 'goodmorning', 'government', 'grateful', 'gratefuladdictinrecovery', 'gratefuladdictsinrecovery', 'gratitude', 'greenscreenvideo', 'grief', 'griefandloss', 'griefjourney', 'grievingmom', 'growth', 'grwm', 'gurner', 'haddict', 'haddiction', 'halfwayhouselife', 'happygirl', 'harm', 'harmreduction', 'harmreductionbaddietok', 'harmreductiongang', 'harmreductionislove', 'harmreductionist', 'harmreductionmythbuster', 'harmreductionsavealives', 'harmreductionsaveslives', 'harmreductionspecialist', 'harmreductiontiktok', 'harmreductiontips', 'harmreductionworker', 'harmreductionworks', 'harmredux', 'hcv', 'hcvtesting', 'headache', 'headaches', 'heal', 'healing', 'healingjourney', 'healingtiktok', 'healthadepopit', 'healthcare', 'healthcareworker', 'healthylifestyle', 'heartbroken', 'helpful', 'helping', 'helpme', 'helpthisgetonfyp', 'helpthisgoviral', 'helpthisgoviraltiktok', 'her0in', 'herniateddisc', 'heroin', 'higherpower', 'hillsborough', 'hiv', 'hivawareness', 'hivprevention', 'holidays', 'homeless', 'homelessness', 'hope', 'hospital', 'housingfirst', 'howto', 'howtogetclean', 'howtogetsober', 'howtoquitdrinking', 'humanity', 'humanrights', 'icetok', 'idea', 'ideaexchange', 'illicitfentanyl', 'illicitfentanylkills', 'imissyou', 'indigenous', 'indigenoustiktok', 'ineedhelp', 'infectiousdisease', 'inpatient', 'inrecovery', 'inspirational', 'inspire', 'intervention', 'intractablepain', 'inverted', 'invisibleillness', 'iykyk', 'jail', 'jailtok', 'jesussaves', 'joerogan', 'jointpain', 'journey', 'joy', 'junkie', 'junkies', 'justfortoday', 'justice', 'justintrudeau', 'keepgoing', 'kensingtonbeach', 'kentucky', 'ketaminetiktok', 'kindness', 'kneepain', 'knowyourstatus', 'kr8tom', 'lapse', 'laughter', 'law', 'legalize', 'legalizeit', 'lenovojustbeyou', 'lesbian', 'lgbt', 'lgbtq', 'lgbtqia', 'lgbt🌈', 'lies', 'lifehacks', 'lifesaving', 'likeabombshell', 'lilpeep', 'lines', 'linkagetocare', 'liquor', 'lives', 'lohmamaof4', 'loss', 'louisiana', 'loved', 'lovinglife', 'lowbrowcomedy', 'lpn', 'lucy', 'lupus', 'm0lly', 'm0llytikt0k', 'm30', 'makenightsepic', 'makethisblowup', 'makethisgoviral', 'makethisvideogoviral', 'makethisviral', 'makethusgoviral', 'mama', 'manchester', 'mandy', 'marriage', 'mat', 'matawareness', 'matisrecovery', 'matissober', 'matproud', 'matrecovery', 'matrecoveryadvocate', 'matsavedme', 'matsavedmylife', 'matsaves', 'matsaveslives', 'mattok', 'mc', 'md', 'medical', 'medicaldetox', 'medicaltiktok', 'medicatedassistedtreatment', 'medication', 'medicationassistedtreatment', 'medications', 'medicine', 'medicineexplained', 'meditation', 'meds', 'medtok', 'meff', 'meffaddiction', 'mefftok', 'memecut', 'mensmentalhealth', 'mentalhealth', 'mentalhealthadvocate', 'mentalhealthawareness', 'mentalhealthawarness', 'mentalhealthmatters', 'mentalhealthrecovery', 'mentalhealthtok', 'mentalillness', 'mentalillnessinnit', 'mentallyill', 'mentalwellness', 'methadon', 'methadoneawareness', 'methadoneclinic', 'methadoneisrecovery', 'methadonemaintenace', 'methadonemaintenance', 'methadonemile', 'methadonerecovery', 'methadonesavedmylife', 'methadonetaper', 'methamphytamine', 'methtok', 'michigan', 'midnight', 'migraine', 'migrainerelief', 'migraines', 'mindfulness', 'minnesota', 'misinformation', 'misinformationkills', 'missyou', 'mixing', 'molly', 'mollytokk', 'momlife', 'momsinrecovery', 'momsoftiktok', 'momtok', 'monday', 'morning', 'morningroutine', 'motherofanaddict', 'motivationalquotes', 'movewithtommy', 'multiplepathwaysofrecovery', 'multiplesclerosis', 'musicfestival', 'mutualaid', 'myjourney', 'mylife', 'mystory', 'na', 'naloxone', 'naloxonekit', 'naloxonesavedmylife', 'naloxonesaves', 'naloxonesaveslives', 'naloxonetraining', 'naltrexone', 'narcan', 'narcanaccessforall', 'narcanawareness', 'narcansavedmylife', 'narcansaves', 'narcansaveslives', 'narcantraining', 'narcotics', 'narcoticsanonymous', 'narcoticsanonynous', 'nativetiktok', 'neckpain', 'needle', 'needleexchange', 'needles', 'neurodivergent', 'neurofibromatosis', 'neuroscience', 'nevergiveup', 'neverusealone', 'newlife', 'nightlife', 'nod', 'nomoredrugwar', 'nonbinary', 'nonprofit', 'nosebeers', 'nosecandy', 'nosepowder', 'notalone', 'nourisheveryyou', 'nurse', 'nursepractitioner', 'nurses', 'nursesoftiktok', 'nursetok', 'nursing', 'nursingstudent', 'ocd', 'october', 'od', 'odaat', 'odawareness', 'ohio', 'oklahoma', 'onedayatatime', 'onepillcankill', 'ontario', 'onthisday', 'ootd', 'opiate', 'opiateaddictionawareness', 'opiateaddictionrecovey', 'opiateawareness', 'opiatecrisis', 'opiatedetox', 'opiateepidemic', 'opiaterecovery', 'opiates', 'opiatesarethedevil', 'opiateskill', 'opiatesurvivor', 'opiateusedisorder', 'opiatewithdrawal', 'opiod', 'opiodawareness', 'opiodepidemic', 'opiods', 'opioid', 'opioidaddiction', 'opioidaddictionrecovery', 'opioidawareness', 'opioidcrisis', 'opioiddetox', 'opioidendemic', 'opioidepidemic', 'opioidhysteria', 'opioidoverdoseprevention', 'opioidpainmedicine', 'opioidpainmedicinesaveslives', 'opioidrecovery', 'opioids', 'opioidsareneccessary', 'opioidsaresafe', 'opioidusedisorder', 'oregon', 'oscarsathome', 'oud', 'outfit', 'outpatient', 'outreach', 'outreachworker', 'over40', 'overamping', 'overcomingaddiction', 'overdos', 'overdosawarenes', 'overdosawareness', 'overdose', 'overdoseawareness', 'overdoseawarenessday', 'overdoseawarenessmonth', 'overdosecrisis', 'overdosed', 'overdoseprevention', 'overdoseresponse', 'overwatchme', 'pa', 'pain', 'painadvocate', 'paindoctor', 'painful', 'painhub', 'painkiller', 'painkillers', 'painmanagement', 'painpatient', 'painrelief', 'paintiktok', 'paintok', 'pan', 'parents', 'parentsoftiktok', 'partying', 'partytime', 'patientadvocate', 'people', 'peopleoverprofit', 'peoplewhouse', 'peoplewhousedrugs', 'perc30', 'percs', 'pharmacist', 'pharmacology', 'pharmacy', 'philadelphia', 'philly', 'physicianassistant', 'pills', 'ping', 'pinger', 'pingertok', 'pingertok💊', 'pingerzzzz', 'pingin', 'pingtok', 'pingtok⚫️👄⚫️', 'pingtok💊', 'pingtok🤭💊', 'pipe', 'plug', 'plur', 'pnp', 'podcast', 'poem', 'poetry', 'policy', 'policyreform', 'politics', 'positive', 'positivevibes', 'positivity', 'postitaffirmations', 'postoppain', 'postopsurgery', 'prayer', 'prayers', 'pregnancy', 'pregnant', 'prescription', 'prevention', 'pride', 'primedaydreamdeals', 'prison', 'prisontiktok', 'prisontok', 'probablygonnapissyouoff', 'prohibition', 'prohibitionispoison', 'prohibitionkills', 'propaganda', 'proud', 'psa', 'psychology', 'psychosis', 'psychosisawareness', 'ptsd', 'publichealth', 'pwud', 'pwuds', 'queer', 'question', 'quitdrinking', 'quitsmoking', 'raisingawareness', 'rapiddetox', 'rave', 'raver', 'ravers', 'raves', 'ravetok', 'reachout', 'readysetlift', 'reality', 'realliferecovery', 'realtalk', 'realtalkrecovery', 'recover', 'recovered', 'recovering', 'recoveringaddict', 'recoveringaddictsoftiktok', 'recoveringoutloud', 'recoveroutloud', 'recoveroutloudforthosewhosufferinsilence', 'recoveroutloud💜', 'recovery', 'recoveryarmy', 'recoverycheck', 'recoverycoach', 'recoverycomedy', 'recoverycommunity', 'recoveryfam', 'recoveryfamily', 'recoveryhouse', 'recoveryhumor', 'recoveryispossible', 'recoveryisworthit', 'recoveryjournal', 'recoveryjourney', 'recoverylife', 'recoveryqueen', 'recoveryquotes', 'recoveryreform', 'recoverytiktok', 'recoverytok', 'recoverytok💜', 'recoveryunplugged', 'reducingharm', 'registerednurse', 'rehab', 'rehabcenter', 'rehabilitation', 'relapse', 'relapsed', 'relapsehappens', 'relapseprevention', 'relateable', 'relationships', 'relief', 'remember', 'rescuebreathing', 'research', 'retokfornature', 'rip', 'rollbowl', 'rollin', 'rolling', 'romance', 'sa', 'sadstory', 'sadtok', 'safeaccess', 'safeconsumptionsites', 'saferuse', 'safespace', 'safesupply', 'safesupplyorwedie', 'safesupplysaveslives', 'safety', 'safetyfirst', 'safeuse', 'sask', 'satire', 'saturday', 'savage', 'savealife', 'savelives', 'saynotodrugs', 'schizoaffective', 'schizophrenic', 'sciatica', 'seehergreatness', 'selfcare', 'selfimprovement', 'selflove', 'sesh', 'seshlife', 'seshtok', 'sexton', 'sh', 'shadowpeople', 'shoulderpain', 'showofflandofrost', 'shroooms', 'sicklecell', 'sign', 'signs', 'single', 'sisters', 'sniff', 'snowtok', 'sober', 'soberaf', 'soberafvibes', 'soberbaddie', 'sobercoach', 'sobercomedy', 'sobercommunity', 'sobercouple', 'sobercurious', 'soberdogs', 'soberfamily', 'soberflex', 'soberflexfam', 'sobergirl', 'soberhouse', 'soberhumor', 'soberissexy', 'soberity', 'soberjourney', 'soberlife', 'soberlifestyle', 'soberliving', 'soberlution', 'sobermom', 'sobermomsoftiktok', 'sobermovement', 'sobernation', 'sobersquad', 'sobertiktok', 'sobertok', 'sobriety', 'sobrietybirthday', 'sobrietycheck', 'sobrietyisbeautiful', 'sobrietyispossible', 'sobrietyisworthit', 'sobrietyjourney', 'sobrietymemes', 'sobrietyrocks', 'sobrietyrockstars', 'sobrietytiktok', 'sobrietytok', 'socialwork', 'socialworker', 'songforcharlie', 'specialk', 'spinabifida', 'spinalcordinjury', 'spinalcordstimulator', 'spinehealth', 'spinesurgery', 'spirituality', 'spoonie', 'spooniesoftiktok', 'spreadawareness', 'spreadingawareness', 'spun', 'ssp', 'stayalert', 'stayalive', 'staysafe', 'staysavage', 'staysober', 'steps', 'stigma', 'stigmakills', 'stims', 'stimulants', 'stopdrinking', 'stopthestigma', 'straightedge', 'street', 'strength', 'stress', 'strong', 'struggle', 'sublocade', 'sublocadecommunity', 'sublocadeexperience', 'sublocadeinfo', 'sublocadeinjection', 'sublocadejourney', 'sublocadequestions', 'sublocadeshot', 'suboxon', 'suboxonecheck', 'suboxonedetox', 'suboxoneisrecovery', 'suboxonesaveslives', 'substanceabuse', 'substanceabuseawareness', 'substanceabuseproblem', 'substanceabuser', 'substanceabuserecovery', 'substances', 'substanceuse', 'substanceuseawareness', 'substanceusedisorder', 'subxone', 'sucht', 'sud', 'sunday', 'sundayfunday', 'support', 'supportdontpunish', 'supportdontshame', 'supportgroup', 'supportnotstigma', 'surgery', 'survivor', 'syringeaccess', 'syringeexchange', 'syringeservicesprogram', 'takeanairbreak', 'tampa', 'tampabay', 'tampaflorida', 'taylorswift', 'teenager', 'teens', 'teststrips', 'testyoursubstances', 'texas', 'tghcares', 'thankful', 'thankyou', 'theafterparty', 'theafters', 'thebag', 'thecolemaninstitute', 'themoreyouknow', 'thenvsnow', 'theplate', 'theplug', 'therapist', 'therapy', 'therealpussinboots', 'thesesh', 'thesinclairmethod', 'thursday', 'tik', 'tiktokaddict', 'tina', 'tired', 'tok', 'toronto', 'toxic', 'toxicology', 'tranq', 'trans', 'transformation', 'traphouse', 'trauma', 'traumahealing', 'traumatok', 'treatment', 'treatmentcenter', 'trigeminalneuralgia', 'trippin', 'truecrime', 'truestory', 'tuesday', 'tumors', 'tw', 'tweak', 'tweaker', 'unhoused', 'unhousedcommunity', 'uni', 'unleashyourgods', 'uppers', 'vancouver', 'vegan', 'vent', 'ventaccount', 'venting', 'veteran', 'veterans', 'veteransaffairs', 'vivitrol', 'vlog', 'volunteer', 'warondrugs', 'wdr', 'we_do_recover', 'wearetgh', 'wecanrecover', 'wedorecover', 'wedorecoverfam', 'wedorecoverwecanrecover', 'wedorecovery', 'wedorevover', 'wellbeing', 'wellbriety', 'wellness', 'werecover', 'werecoverasone', 'werecovermfr', 'werecoverstronger', 'werecovertogether', 'werecoverwell', 'wife', 'wine', 'wisdom', 'withdrawal', 'withdrawals', 'withdrawalsymptoms', 'withdrawls', 'wlw', 'womenover40', 'womenownedbusiness', 'workthesteps', 'worthsaving', 'woundcare', 'xan', 'xandemic', 'xandemicsurvivor', 'xanny', 'xans', 'xantok', 'xtc', 'xybca', 'xylazine', 'xylazineawareness', 'xylazinekills', 'xylazinetesting', 'yellowstonetv', 'youcandoit', 'yougotthis', 'yxe', 'zannies', '❄️', '❄️tok', '❤️', '🍃', '🍃tiktok', '🍄', '🍻', '🐴', '💉', '💊', '🔌', '🧊']\n",
      "Community 2: ['0', '1', '100k', '18', '2', '2000s', '2021', '2022', '2023', '2024', '3', '30s', '3pcoalition', '40s', '420', '420vibes', '4k', '4u', '4upage', '4you', '4youpage', '5', '70s', '80s', '90s', 'a', 'abby', 'abcxyz', 'acid', 'actor', 'actress', 'ad', 'adam', 'add', 'addy', 'adventure', 'ae', 'aesthetic', 'aesthetics', 'africa', 'ai', 'air', 'alien', 'allah', 'alt', 'alternative', 'amazing', 'amazon', 'america', 'american', 'amor', 'amps', 'and', 'angel', 'angry', 'animal', 'animals', 'animalsoftiktok', 'animation', 'anime', 'apace', 'apache', 'apple', 'arab', 'argentina', 'arizona', 'army', 'arnolds', 'art', 'arte', 'artist', 'artistsoftiktok', 'artwork', 'ashes', 'asmr', 'asmrsounds', 'asmrtiktoks', 'asmrvideo', 'athlete', 'atrain', 'audio', 'auntmary', 'aussie', 'australia', 'autotweet', 'aviation', 'awakening', 'b', 'baby', 'bamf', 'bangi', 'bar', 'barbie', 'barbs', 'bars', 'basketball', 'bass', 'batu', 'bcbud', 'beach', 'beans', 'beat', 'beautiful', 'beauty', 'beer', 'bennies', 'best', 'bestfriends', 'bestie', 'beyourself', 'bhang', 'bhfyp', 'bicycleparts', 'bigh', 'bike', 'bikelife', 'bikerscoffee', 'biscuit', 'black', 'blackbeauties', 'blackedout', 'blacklivesmatter', 'blackmagic', 'blackout', 'blanket', 'bliss', 'blockbusters', 'blow', 'blowthisup', 'blowup', 'blue', 'bluecollar', 'blues', 'bmw', 'bobo', 'bodybuilding', 'bomber', 'boom', 'booze', 'boss', 'boy', 'boyfriend', 'brand', 'brasil', 'breakfast', 'bricks', 'british', 'bro', 'broccoli', 'bts', 'bud', 'build', 'buttons', 'c', 'cactus', 'caffeine', 'cake', 'california', 'camping', 'canadian', 'cancer', 'candy', 'cannabis', 'capcut', 'capcutvelocity', 'car', 'cars', 'carsoftiktok', 'cartoon', 'cat', 'catha', 'catlover', 'cats', 'catsoftiktok', 'cbd', 'ccc', 'celebrity', 'chalk', 'challenge', 'chandu', 'charlidamelio', 'charlie', 'chat', 'cheeba', 'chevy', 'chicago', 'chicken', 'child', 'chile', 'chill', 'china', 'chinagirl', 'chinatown', 'chocolate', 'chocolatechipcookies', 'christiantiktok', 'christmas', 'christmastrees', 'cig', 'cigar', 'cigarette', 'cigarettes', 'cinema', 'circles', 'clarity', 'classic', 'cleaning', 'clips', 'cloudnine', 'clouds', 'club', 'coach', 'coca', 'coffee', 'cold', 'college', 'colombia', 'color', 'comedia', 'comedy', 'comedyvideo', 'concert', 'confidence', 'construction', 'content', 'cooking', 'cool', 'copilots', 'core', 'cotton', 'cough', 'coughsyrup', 'country', 'couple', 'couplegoals', 'cover', 'crank', 'crash', 'crazy', 'crazyclown', 'creator', 'creepy', 'cripple', 'crystals', 'custom', 'cut', 'cute', 'cutecat', 'd', 'dance', 'dancefever', 'dank', 'dankmemes', 'dark', 'dawn', 'day', 'dc', 'dead', 'deep', 'dejardefumar', 'demon', 'desert', 'design', 'detroit', 'dex', 'diesel', 'digitalart', 'disney', 'diy', 'dj', 'dlaciebie', 'dmt', 'dog', 'dogs', 'dogsoftiktok', 'dontletthisflop', 'dope', 'dots', 'draft', 'drake', 'drama', 'drank', 'draw', 'drawing', 'dream', 'dreamer', 'dreamgun', 'drink', 'drinks', 'drone', 'drums', 'drunk', 'drunkaf', 'drunktok', 'drvgzx', 'dubai', 'dubstep', 'duet', 'dust', 'dúo', 'e', 'earth', 'eat', 'ecig', 'ecigarettes', 'ecigs', 'edit', 'editor', 'edits', 'edm', 'effect', 'egypt', 'ejuice', 'elfbar', 'eliquid', 'eminem', 'emma', 'emo', 'energy', 'england', 'english', 'entrepreneur', 'equestrian', 'europe', 'eve', 'exercise', 'explore', 'explorepage', 'f', 'facebook', 'fact', 'facts', 'fail', 'fall', 'family', 'familytime', 'famous', 'fanart', 'fashion', 'fashiontiktok', 'fast', 'featureme', 'fender', 'fentfold', 'fentfriday', 'fifa', 'fighter', 'film', 'fire', 'fit', 'fitness', 'flake', 'florida', 'flower', 'flowers', 'fly', 'fnaf', 'focus', 'follow', 'followforfollowback', 'followme', 'food', 'foodie', 'football', 'footballs', 'footballtiktok', 'for', 'ford', 'fortnite', 'foru', 'forupage', 'foruyou', 'foryou', 'foryoupage', 'foryoupageofficiall', 'foryoupage❤️❤️', 'foryour', 'foryourpage', 'fr', 'france', 'friend', 'friends', 'fry', 'fun', 'funny', 'funnymemes', 'funnymoments', 'funnyvideo', 'funnyvideos', 'fup', 'futbol', 'future', 'fy', 'fyp', 'fypage', 'fypageシ', 'fypdong', 'fypgakni', 'fypp', 'fyppp', 'fyppppppppppppppppppppppp', 'fypsounds', 'fypシ', 'fypシ゚viral', 'fyy', 'fyyyyyyyyyyyyyyyy', 'fürdich', 'g', 'gacha', 'game', 'gamer', 'games', 'gaming', 'gang', 'gangster', 'garden', 'gasper', 'gato', 'gear', 'gee', 'genie', 'genshinimpact', 'gentleman', 'germany', 'getintheway', 'ghost', 'gift', 'girl', 'girls', 'glass', 'glendaleaz', 'go', 'goals', 'goat', 'god', 'godsmedicine', 'gofast', 'gondola', 'good', 'goodfellas', 'goodvibes', 'goofballs', 'goop', 'goviral', 'grass', 'grasstok', 'gravel', 'green', 'greens', 'greenscreen', 'grow', 'growthmindset', 'grunge', 'guardians', 'guitar', 'guma', 'gurning', 'guy', 'gym', 'gymtok', 'h', 'haf', 'haha', 'hair', 'halloween', 'hammered', 'handlebars', 'handmade', 'hangover', 'happiness', 'happy', 'happybirthday', 'hard', 'hash', 'hashtag', 'hazbinhotel', 'health', 'healthy', 'healthyliving', 'heart', 'heaven', 'hell', 'hellokitty', 'help', 'heman', 'herb', 'herbalmedicine', 'herbs', 'hi', 'high', 'highasfuck', 'highlife', 'highschool', 'hightimes', 'hilarious', 'hiphop', 'hippie', 'hippietok', 'history', 'holiday', 'holidayoreoke', 'holistic', 'hollywood', 'home', 'hop', 'hops', 'horror', 'horse', 'hot', 'house', 'hows', 'hulk', 'humor', 'humour', 'hungover', 'hydro', 'i', 'ice', 'icecream', 'illustration', 'iloveyou', 'in', 'india', 'indian', 'indie', 'indo', 'indonesia', 'influencer', 'inspiration', 'insta', 'instadaily', 'instagood', 'instagram', 'interesting', 'interview', 'iphone', 'ireland', 'irish', 'islam', 'islamic', 'italia', 'italy', 'j', 'jackpot', 'japan', 'jesus', 'jesuschrist', 'job', 'joint', 'joke', 'jokes', 'jollygreen', 'joysmoke', 'joystick', 'juice', 'juicewrld', 'jump', 'juul', 'k', 'k2', 'karen', 'kat', 'kawaii', 'keşfet', 'kicker', 'kickers', 'kid', 'kids', 'kif', 'killers', 'kindukulu', 'kinen', 'king', 'kitkat', 'kitten', 'kitty', 'knowledge', 'kpop', 'l', 'la', 'ladders', 'lanadelrey', 'laugh', 'laughing', 'lean', 'leantok', 'learn', 'learning', 'learnontiktok', 'led', 'legal', 'legend', 'letsgo', 'libcaps', 'libertycapss', 'life', 'lifelessons', 'lifestyle', 'light', 'like', 'likeforlikes', 'likes', 'lit', 'live', 'lmao', 'lmfao', 'lol', 'london', 'look', 'losangeles', 'loud', 'love', 'loveislove', 'lovely', 'lovequotes', 'loveyou', 'loveyourself', 'lsdart', 'lungs', 'luxury', 'lyrics', 'm', 'magic', 'magicmushroomsadventures', 'makemefamous', 'makeup', 'man', 'manga', 'manifest', 'manners', 'marlboro', 'marvel', 'maryjane', 'matrix', 'mcyt', 'me', 'mellowyellow', 'meme', 'memepage', 'memes', 'memesdaily', 'memories', 'meow', 'meowmeow', 'mescaline', 'messi', 'metal', 'mexico', 'midnightoil', 'military', 'mindset', 'minecraft', 'mira', 'miraa', 'moda', 'modafinil', 'model', 'mom', 'money', 'monster', 'mood', 'morph', 'mota', 'motivation', 'motivational', 'motorcycle', 'mountains', 'movie', 'movies', 'mrnice', 'mrniceguy', 'ms', 'mtv', 'muchachas', 'mujeres', 'munchies', 'mushroom', 'mushrooms', 'music', 'musica', 'musically', 'musician', 'muslim', 'n', 'naruto', 'natural', 'nature', 'naturesmedicine', 'ndukulu', 'negra', 'neiperte', 'netflix', 'new', 'newmusic', 'news', 'newtrend', 'newyear', 'newyork', 'newyorkcity', 'newzealand', 'nfl', 'nic', 'nice', 'nicotine', 'night', 'nightmare', 'nightout', 'nike', 'ninja', 'no', 'nootropics', 'norway', 'nostalgia', 'noway', 'ny', 'nyc', 'o', 'oat', 'oc', 'ocean', 'oddlysatisfying', 'of', 'oil', 'old', 'oldschool', 'omg', 'on', 'one', 'op', 'ope', 'ouidtiktok', 'outdoors', 'oxy', 'p1ng', 'page', 'paint', 'painting', 'paradise', 'parati', 'paratii', 'party', 'passion', 'peace', 'pellets', 'peoriaaz', 'perc', 'perc10challenge', 'perc30s', 'percoset', 'performance', 'perte', 'pet', 'pets', 'petsoftiktok', 'photo', 'photography', 'photooftheday', 'photoshoot', 'picoftheday', 'pill', 'pink', 'pinks', 'pinky', 'pinterest', 'planks', 'plant', 'plantmedicine', 'plants', 'please', 'poison', 'police', 'pop', 'popular', 'pot', 'pourtoi', 'pov', 'powder', 'power', 'prank', 'pretty', 'producer', 'psy', 'psychedelic', 'psychedelicart', 'psychedelicresearch', 'psychedelictok', 'psytrance', 'puffpuffpass', 'pumpers', 'punk', 'puppy', 'purple', 'purplewave', 'qat', 'qatar', 'queen', 'quitting', 'quitvaping', 'quote', 'quoteoftheday', 'quotes', 'r', 'r2', 'rap', 'rapper', 'real', 'rec', 'recipe', 'red', 'reddevils', 'reddit', 'reddove', 'reds', 'redx', 'reefer', 'reels', 'relatable', 'relationship', 'relax', 'repost', 'rescue', 'respect', 'retro', 'rich', 'riseupaz', 'riseupglendale', 'roach', 'roblox', 'robo', 'rock', 'roids', 'rojo', 'ronaldo', 'roxy', 'run', 'rush', 's', 'sad', 'salud', 'salvia', 'satisfying', 'save', 'saysomethingdosomething', 'scary', 'school', 'schoolbus', 'science', 'scoop', 'scotland', 'selfie', 'sence', 'serenity', 'series', 'shards', 'share', 'shitfaced', 'shopping', 'shorts', 'shots', 'sick', 'sigma', 'silly', 'singer', 'singing', 'sinsemilla', 'skee', 'sketch', 'skippy', 'skit', 'skittles', 'skoobysnax', 'skunk', 'sky', 'sleep', 'sleepy', 'slideshow', 'smack', 'smallbusiness', 'smartdrugs', 'smarties', 'smartpills', 'smile', 'smoke', 'smoker', 'smokers', 'smoking', 'snap', 'snapchat', 'snow', 'snowleopard', 'soccer', 'song', 'soul', 'spain', 'speakers', 'speed', 'spice', 'spike', 'spiritual', 'spiritualawakening', 'spiritualtiktok', 'sport', 'sports', 'spotify', 'stackers', 'standup', 'standupcomedy', 'stardust', 'starwars', 'sticks', 'stitch', 'stoned', 'stoner', 'stonersoftiktok', 'stonertokfyp', 'stonervibes', 'story', 'storytime', 'stovetop', 'stp', 'struggles', 'student', 'study', 'style', 'success', 'summer', 'sunset', 'supplements', 'swag', 'sweden', 'sweet', 'syrup', 'system', 'tabac', 'tangoandcash', 'tarot', 'tattoo', 'tattoos', 'techno', 'test', 'thc', 'the', 'theboys', 'thisisquitting', 'thom', 'throwback', 'thunder', 'tik_tok', 'tiktok', 'tiktoker', 'tiktokers', 'tiktokindia', 'tiktokviral', 'time', 'tips', 'tipsy', 'tobacco', 'today', 'top', 'top5', 'topgunmode', 'toyota', 'toys', 'training', 'trap', 'trash', 'travel', 'tree', 'trend', 'trending', 'trendingvideo', 'trendy', 'trip', 'triplec', 'tripping', 'trippingballs', 'trippy', 'trippyart', 'trippycontent', 'trippyvideos', 'truck', 'truckdrivers', 'trump', 'truth', 'turbo', 'turkey', 'tutorial', 'tv', 'twitch', 'u', 'u4', 'uae', 'uk', 'ukraine', 'underground', 'unitedstates', 'up', 'us', 'usa', 'v', 'vacation', 'vanillasky', 'vape', 'vaped', 'vapedaily', 'vapefam', 'vapejuice', 'vapelife', 'vapeon', 'vapepen', 'vaper', 'vapetricks', 'vaping', 'vapingisbad', 'vapor', 'vaporizer', 'vapoter', 'vela', 'velvet', 'ventana', 'vibe', 'vibes', 'video', 'videoviral', 'vidrio', 'views', 'vintage', 'viral', 'viral_video', 'virall', 'viraltiktok', 'viralvideo', 'viralvideos', 'vitamink', 'vitaminr', 'vodka', 'voiceeffects', 'voorjou', 'vs', 'w', 'wafer', 'wales', 'war', 'wasted', 'watch', 'water', 'wednesday', 'weed', 'weekend', 'weightloss', 'whiskey', 'white', 'whitedove', 'whiteknight', 'whitelightning', 'wildlife', 'windowpane', 'winter', 'witch', 'witchcraft', 'witchtok', 'wolfies', 'woman', 'women', 'wood', 'work', 'workout', 'world', 'wow', 'wtf', 'wwe', 'x', 'xuhuong', 'xyz', 'xyzabc', 'xyzbca', 'xyzcba', 'xzybca', 'y', 'yaba', 'yellow', 'yellows', 'yes', 'you', 'youtube', 'yucatan', 'yum', 'yummy', 'z', 'za', 'zaza', 'ze', 'zero', 'zohai', 'zyxcba', 'рек', 'рекомендации', 'الامارات', 'البحرين', 'السعودية', 'العراق', 'الكويت', 'جده', 'رمضان_كريم', 'عمان']\n",
      "Community 3: ['bestfriend', 'bff', 'brain', 'chronic', 'chronicpainsufferers', 'genshinimpact34', 'information', 'usa_tiktok', 'usatiktok', 'yoga']\n"
     ]
    }
   ],
   "source": [
    "# Perform clustering with Clauset-Newman-Moore algorithm\n",
    "communities = list(greedy_modularity_communities(k_core))\n",
    "\n",
    "# Assign community labels to nodes\n",
    "community_dict = {}\n",
    "for i, community in enumerate(communities):\n",
    "    for node in community:\n",
    "        community_dict[node] = i\n",
    "\n",
    "# Add community information to the nodes in the graph\n",
    "nx.set_node_attributes(k_core, community_dict, 'community')\n",
    "\n",
    "# Print out the communities\n",
    "for i, community in enumerate(communities):\n",
    "    print(f\"Community {i + 1}: {sorted(community)}\")"
   ]
  },
  {
   "cell_type": "markdown",
   "metadata": {},
   "source": [
    "#### K-core 10 vs 5\n",
    "\n",
    "k=5:\n",
    "\n",
    "More nodes/edges (as expected)  \n",
    "Mean degree: 24.35  \n",
    "Core numbers: min=5, max=46, mean=12.52  \n",
    "Starting to see noise in top hashtags ('g', 'o', 'x')  \n",
    "\n",
    "\n",
    "k=10:\n",
    "\n",
    "Fewer nodes/edges  \n",
    "Mean degree: 40.23  \n",
    "Core numbers: min=10, max=46, mean=20.92  \n",
    "Cleaner top hashtags (no single-letter noise)  \n",
    "\n",
    "Positives:\n",
    "\n",
    "Still maintains community structure   \n",
    "Main thematic hashtags still at the top (addiction, recovery, harmreduction)  \n",
    "Mean core number of 12.52 shows many nodes are still well-connected  \n",
    "Single connected component = coherent network  \n",
    "\n",
    "Tradeoffs:\n",
    "\n",
    "More noise in top hashtags  \n",
    "Lower mean degree (24.35 vs 40.23)  \n",
    "Visualization will be more crowded  "
   ]
  },
  {
   "cell_type": "markdown",
   "metadata": {},
   "source": [
    "#### PageRank Importance - will not consider"
   ]
  },
  {
   "cell_type": "code",
   "execution_count": 17,
   "metadata": {},
   "outputs": [
    {
     "name": "stdout",
     "output_type": "stream",
     "text": [
      "\n",
      "PageRank-filtered graph (top 2000 nodes):\n",
      "Nodes: 2000\n",
      "Edges: 36995\n"
     ]
    }
   ],
   "source": [
    "pr = nx.pagerank(G_filtered, weight='weight')\n",
    "# Keep top 2000 nodes (or adjust number as needed)\n",
    "top_nodes = sorted(pr.items(), key=lambda x: x[1], reverse=True)[:2000]\n",
    "G_pagerank = G_filtered.subgraph([node for node, score in top_nodes]).copy()\n",
    "\n",
    "print(\"\\nPageRank-filtered graph (top 2000 nodes):\")\n",
    "print(f\"Nodes: {G_pagerank.number_of_nodes()}\")\n",
    "print(f\"Edges: {G_pagerank.number_of_edges()}\")"
   ]
  },
  {
   "cell_type": "code",
   "execution_count": 18,
   "metadata": {},
   "outputs": [
    {
     "name": "stdout",
     "output_type": "stream",
     "text": [
      "PageRank graph analysis:\n",
      "Number of connected components: 1\n",
      "Min edge weight: 2\n",
      "Max edge weight: 1825\n",
      "Mean edge weight: 26.84\n",
      "Mean degree: 36.99\n",
      "Median degree: 16.00\n",
      "\n",
      "Top 10 hashtags by PageRank:\n",
      "addiction: 0.017710\n",
      "recovery: 0.014172\n",
      "harmreduction: 0.011970\n",
      "wedorecover: 0.010917\n",
      "sober: 0.009830\n",
      "sobriety: 0.008844\n",
      "cat: 0.008692\n",
      "o: 0.008666\n",
      "addy: 0.008647\n",
      "g: 0.008272\n"
     ]
    }
   ],
   "source": [
    "print(\"PageRank graph analysis:\")\n",
    "# Connectivity\n",
    "print(f\"Number of connected components: {nx.number_connected_components(G_pagerank)}\")\n",
    "\n",
    "# Edge weight distribution\n",
    "weights = [d['weight'] for (u,v,d) in G_pagerank.edges(data=True)]\n",
    "print(f\"Min edge weight: {min(weights)}\")\n",
    "print(f\"Max edge weight: {max(weights)}\")\n",
    "print(f\"Mean edge weight: {np.mean(weights):.2f}\")\n",
    "\n",
    "# Node degree distribution\n",
    "degrees = [d for n, d in G_pagerank.degree()]\n",
    "print(f\"Mean degree: {np.mean(degrees):.2f}\")\n",
    "print(f\"Median degree: {np.median(degrees):.2f}\")\n",
    "\n",
    "# Optional: Look at some top hashtags\n",
    "pr_subset = {node: score for node, score in pr.items() if node in G_pagerank.nodes()}\n",
    "top_hashtags = sorted(pr_subset.items(), key=lambda x: x[1], reverse=True)[:10]\n",
    "print(\"\\nTop 10 hashtags by PageRank:\")\n",
    "for hashtag, score in top_hashtags:\n",
    "    print(f\"{hashtag}: {score:.6f}\")"
   ]
  },
  {
   "cell_type": "markdown",
   "metadata": {},
   "source": [
    "#### Decision: K-Core filtering\n",
    "1. Structural advantages:  \n",
    "\n",
    "Highest mean degree (40.23)  \n",
    "Guaranteed minimum connectivity (k=10)  \n",
    "More edges but lower mean weight suggests better coverage of relationships  \n",
    "\n",
    "\n",
    "2. Best thematic coherence:  \n",
    "\n",
    "Top hashtags form the most coherent theme  \n",
    "Less noise in top hashtags compared to other methods  \n",
    "No single-letter or ambiguous hashtags in top 10  \n",
    "\n",
    "\n",
    "3. Size and density balance:  \n",
    "\n",
    "Middle ground in node count (2340)  \n",
    "Highest edge count suggests better preserved relationships  \n",
    "Core number distribution provides natural community structure  \n",
    "\n",
    "\n",
    "4. Quality guarantees:  \n",
    "\n",
    "K-core gives us mathematical guarantees about connectivity  \n",
    "Other methods might include peripheral nodes just because they have a few high-weight edges "
   ]
  },
  {
   "cell_type": "markdown",
   "metadata": {},
   "source": [
    "---\n",
    "# SEE `get_graph.py` for network analysis"
   ]
  },
  {
   "cell_type": "markdown",
   "metadata": {},
   "source": [
    "## Add in themes from `get_themes.py` as community"
   ]
  },
  {
   "cell_type": "code",
   "execution_count": 15,
   "metadata": {},
   "outputs": [],
   "source": [
    "# export k=10 to spreadsheet\n",
    "k_nodes_list = list(k_core.nodes())\n",
    "\n",
    "# Convert to DataFrame\n",
    "k_nodes_df = pd.DataFrame(k_nodes_list, columns=['hashtag'])\n",
    "\n",
    "# Write to CSV\n",
    "k_nodes_df.to_csv('../data/kcore_10_nodes.csv', index=False)"
   ]
  },
  {
   "cell_type": "code",
   "execution_count": 26,
   "metadata": {},
   "outputs": [],
   "source": [
    "# Load communities\n",
    "communities = pd.read_csv(\"../data/hashtags_5core_with_themes.csv\")\n",
    "\n",
    "# For k=5 graph\n",
    "def add_community_info(graph, communities_df):\n",
    "    # Create community dictionary\n",
    "    community_dict = communities_df.set_index('hashtag')['theme'].to_dict()\n",
    "    \n",
    "    # Add community as node attribute\n",
    "    nx.set_node_attributes(graph, community_dict, 'community')\n",
    "    \n",
    "    # Print some statistics about communities in the graph\n",
    "    graph_communities = [community_dict.get(node, 'misc') for node in graph.nodes()]\n",
    "    community_counts = pd.Series(graph_communities).value_counts()\n",
    "    \n",
    "    print(\"Community distribution:\")\n",
    "    for comm, count in community_counts.items():\n",
    "        print(f\"{comm}: {count} nodes\")\n",
    "\n",
    "    # Print nodes with unknown communities\n",
    "    # unknown_nodes = [node for node in graph.nodes() if community_dict.get(node, 'unknown') == 'unknown']\n",
    "    # print(f\"\\nNumber of nodes with unknown community: {len(unknown_nodes)}\")\n",
    "    # if len(unknown_nodes) > 0:\n",
    "    #     print(\"Nodes without community assignment:\")\n",
    "    #     print(unknown_nodes)\n",
    "    return graph"
   ]
  },
  {
   "cell_type": "code",
   "execution_count": 27,
   "metadata": {},
   "outputs": [
    {
     "name": "stdout",
     "output_type": "stream",
     "text": [
      "Community distribution:\n",
      "misc: 2299 nodes\n",
      "awareness and advocacy: 646 nodes\n",
      "platform: 377 nodes\n",
      "emotions and feelings: 336 nodes\n",
      "identity and community: 301 nodes\n",
      "health conditions: 293 nodes\n",
      "location: 278 nodes\n",
      "commonly-misused substances: 211 nodes\n",
      "occupation: 147 nodes\n",
      "other substances: 120 nodes\n",
      "humor: 110 nodes\n",
      "consumption method: 104 nodes\n",
      "substance effects: 70 nodes\n",
      "alcohol: 66 nodes\n",
      "cannabis: 63 nodes\n",
      "tobacco_nicotine: 62 nodes\n",
      "cognitive enhancement: 29 nodes\n",
      "addiction and recovery: 6 nodes\n",
      "publichealth: 1 nodes\n"
     ]
    }
   ],
   "source": [
    "# Add communities to k=5 graph\n",
    "k5_with_communities = add_community_info(k_core, communities)\n",
    "\n",
    "# Export k=5 graph for Gephi\n",
    "nx.write_gexf(k5_with_communities, \"../graphs/hashtag_network_k5.gexf\")"
   ]
  },
  {
   "cell_type": "code",
   "execution_count": 28,
   "metadata": {},
   "outputs": [
    {
     "name": "stdout",
     "output_type": "stream",
     "text": [
      "Community distribution:\n",
      "misc: 853 nodes\n",
      "awareness and advocacy: 319 nodes\n",
      "platform: 180 nodes\n",
      "emotions and feelings: 152 nodes\n",
      "commonly-misused substances: 133 nodes\n",
      "health conditions: 127 nodes\n",
      "identity and community: 116 nodes\n",
      "location: 95 nodes\n",
      "occupation: 58 nodes\n",
      "other substances: 53 nodes\n",
      "consumption method: 50 nodes\n",
      "humor: 46 nodes\n",
      "cannabis: 46 nodes\n",
      "substance effects: 42 nodes\n",
      "alcohol: 27 nodes\n",
      "tobacco_nicotine: 22 nodes\n",
      "cognitive enhancement: 9 nodes\n",
      "addiction and recovery: 4 nodes\n",
      "publichealth: 1 nodes\n"
     ]
    }
   ],
   "source": [
    "# For k=10 graph\n",
    "k10_core = nx.k_core(G_filtered, k=10)\n",
    "k10_with_communities = add_community_info(k10_core, communities)\n",
    "nx.write_gexf(k10_with_communities, \"../graphs/hashtag_network_k10.gexf\")"
   ]
  },
  {
   "cell_type": "code",
   "execution_count": 29,
   "metadata": {},
   "outputs": [
    {
     "name": "stdout",
     "output_type": "stream",
     "text": [
      "\n",
      "K=5 Graph:\n",
      "Nodes: 5519\n",
      "Edges: 67204\n",
      "\n",
      "K=10 Graph:\n",
      "Nodes: 2333\n",
      "Edges: 46990\n"
     ]
    }
   ],
   "source": [
    "# Print comparison of graphs\n",
    "print(\"\\nK=5 Graph:\")\n",
    "print(f\"Nodes: {k5_with_communities.number_of_nodes()}\")\n",
    "print(f\"Edges: {k5_with_communities.number_of_edges()}\")\n",
    "\n",
    "print(\"\\nK=10 Graph:\")\n",
    "print(f\"Nodes: {k10_with_communities.number_of_nodes()}\")\n",
    "print(f\"Edges: {k10_with_communities.number_of_edges()}\")"
   ]
  },
  {
   "cell_type": "code",
   "execution_count": 30,
   "metadata": {},
   "outputs": [
    {
     "name": "stdout",
     "output_type": "stream",
     "text": [
      "Top 10 most influential nodes:\n",
      "               Node                    Community  Weighted_Degree  PageRank\n",
      "1783      addiction            health conditions            44359  0.028044\n",
      "4115       recovery       awareness and advocacy            37958  0.023917\n",
      "838   harmreduction       awareness and advocacy            34289  0.020862\n",
      "296     wedorecover       awareness and advocacy            29762  0.018579\n",
      "4133          sober       awareness and advocacy            24285  0.014719\n",
      "3572       sobriety       awareness and advocacy            22021  0.013280\n",
      "5047           addy        cognitive enhancement            81693  0.011287\n",
      "4416              g  commonly-misused substances            71918  0.010594\n",
      "3815              o                         misc            69927  0.010305\n",
      "2779              x                         misc            70280  0.010164\n"
     ]
    }
   ],
   "source": [
    "# get nodelist with PageRank scores\n",
    "node_data = []\n",
    "# Calculate PageRank\n",
    "pagerank_scores = nx.pagerank(k5_with_communities, weight='weight')\n",
    "\n",
    "for node in k5_with_communities.nodes():\n",
    "    community = k5_with_communities.nodes[node].get('community')\n",
    "    weighted_degree = sum(weight for _, _, weight in k5_with_communities.edges(node, data='weight', default=1))\n",
    "    \n",
    "    node_data.append({\n",
    "        'Node': node,\n",
    "        'Community': community,\n",
    "        'Weighted_Degree': weighted_degree,\n",
    "        'PageRank': pagerank_scores[node]\n",
    "    })\n",
    "\n",
    "# Create a DataFrame\n",
    "node_data_df = pd.DataFrame(node_data)\n",
    "\n",
    "# Sort by PageRank score (most influential to least)\n",
    "node_data_df = node_data_df.sort_values('PageRank', ascending=False)\n",
    "\n",
    "# Write to CSV\n",
    "node_data_df.to_csv('../data/k5_nodes_ranked.csv', index=False, quoting=1)  # quoting=1 ensures all fields are quoted\n",
    "\n",
    "# Print top 10 to verify\n",
    "print(\"Top 10 most influential nodes:\")\n",
    "print(node_data_df.head(10))"
   ]
  },
  {
   "cell_type": "markdown",
   "metadata": {},
   "source": [
    "---\n",
    "### OLD"
   ]
  },
  {
   "cell_type": "code",
   "execution_count": 24,
   "metadata": {},
   "outputs": [],
   "source": [
    "# add themes as nodes\n",
    "communities = pd.read_csv(\"../data/themes_with_missing_long.csv\")"
   ]
  },
  {
   "cell_type": "code",
   "execution_count": 25,
   "metadata": {},
   "outputs": [],
   "source": [
    "# Create a dictionary mapping hashtags to themes\n",
    "community_map = dict(zip(communities['hashtag'], communities['theme']))"
   ]
  },
  {
   "cell_type": "code",
   "execution_count": 26,
   "metadata": {},
   "outputs": [],
   "source": [
    "# Assign communities to nodes\n",
    "for node in H.nodes():\n",
    "    if node in community_map:\n",
    "        H.nodes[node]['community'] = community_map[node]\n",
    "    else:\n",
    "        # Handle nodes that are not in the DataFrame\n",
    "        H.nodes[node]['community'] = \"Unknown\""
   ]
  },
  {
   "cell_type": "code",
   "execution_count": 33,
   "metadata": {},
   "outputs": [],
   "source": [
    "# export for gephi\n",
    "nx.write_gexf(H, '../graphs/double_hits_filtered_upper75_with_theme.gexf')"
   ]
  },
  {
   "cell_type": "code",
   "execution_count": 13,
   "metadata": {},
   "outputs": [],
   "source": [
    "# add themes as nodes\n",
    "# communities = pd.read_csv(\"../data/themes_with_missing_long.csv\")\n",
    "communities = pd.read_csv(\"../data/double_hits_filtered_upper75_with_theme_node_list_manually_classified.csv\")"
   ]
  },
  {
   "cell_type": "code",
   "execution_count": 14,
   "metadata": {},
   "outputs": [],
   "source": [
    "# replace the value of community if the value of Joe's theme is not missing.\n",
    "communities.loc[(communities['Community'] == 'Unknown') & (communities[\"Joe\\'s Community Tag\"].notnull()), 'Community'] = communities[\"Joe\\'s Community Tag\"]"
   ]
  },
  {
   "cell_type": "code",
   "execution_count": 16,
   "metadata": {},
   "outputs": [],
   "source": [
    "# Create a dictionary mapping hashtags to themes\n",
    "community_map = dict(zip(communities['Node'], communities['Community']))"
   ]
  },
  {
   "cell_type": "code",
   "execution_count": 17,
   "metadata": {},
   "outputs": [],
   "source": [
    "# Assign communities to nodes\n",
    "for node in H.nodes():\n",
    "    if node in community_map:\n",
    "        H.nodes[node]['community'] = community_map[node]\n",
    "    else:\n",
    "        # Handle nodes that are not in the DataFrame\n",
    "        H.nodes[node]['community'] = \"Unknown\""
   ]
  },
  {
   "cell_type": "code",
   "execution_count": 18,
   "metadata": {},
   "outputs": [],
   "source": [
    "# export for gephi\n",
    "nx.write_gexf(H, '../graphs/double_hits_filtered_upper75_with_theme_no_unknown.gexf')"
   ]
  },
  {
   "cell_type": "code",
   "execution_count": 19,
   "metadata": {},
   "outputs": [],
   "source": [
    "edge_data = []\n",
    "for source, target, data in H.edges(data=True):\n",
    "    weight = data.get('weight', 1)  # Default to 1 if weight is not specified\n",
    "    source_community = H.nodes[source].get('community', 'Unknown')\n",
    "    target_community = H.nodes[target].get('community', 'Unknown')\n",
    "    edge_data.append({\n",
    "        'Source': source,\n",
    "        'Target': target,\n",
    "        'Weight': weight,\n",
    "        'Source_Community': source_community,\n",
    "        'Target_Community': target_community\n",
    "    })\n",
    "\n",
    "# Create a DataFrame\n",
    "edge_data_df = pd.DataFrame(edge_data)\n",
    "edge_data_df.to_csv('../graphs/double_hits_filtered_upper75_with_theme_edge_list_full.csv', index=False)"
   ]
  },
  {
   "cell_type": "code",
   "execution_count": 20,
   "metadata": {},
   "outputs": [],
   "source": [
    "# get nodelist\n",
    "node_data = []\n",
    "for node in H.nodes():\n",
    "    community = H.nodes[node].get('community', 'Unknown')\n",
    "    weighted_degree = sum(weight for _, _, weight in H.edges(node, data='weight', default=1))\n",
    "    \n",
    "    node_data.append({\n",
    "        'Node': node,\n",
    "        'Community': community,\n",
    "        'Weighted_Degree': weighted_degree\n",
    "    })\n",
    "\n",
    "# Create a DataFrame\n",
    "node_data_df = pd.DataFrame(node_data)\n",
    "\n",
    "# Write to CSV\n",
    "node_data_df.to_csv('../graphs/double_hits_filtered_upper75_with_theme_node_list_full.csv', index=False, quoting=1)  # quoting=1 ensures all fields are quoted\n"
   ]
  },
  {
   "cell_type": "code",
   "execution_count": 21,
   "metadata": {},
   "outputs": [],
   "source": [
    "# experiment with no misc/unknown\n",
    "subgraph = H.subgraph([\n",
    "    node for node in H.nodes() \n",
    "    if H.nodes[node].get('community') not in [\"misc\", \"Unknown\"]\n",
    "]).copy()"
   ]
  },
  {
   "cell_type": "code",
   "execution_count": 22,
   "metadata": {},
   "outputs": [],
   "source": [
    "nx.write_gexf(subgraph, \"../graphs/double_hits_filtered_upper75_with_theme_nomisc.gexf\")"
   ]
  },
  {
   "cell_type": "code",
   "execution_count": 14,
   "metadata": {},
   "outputs": [],
   "source": [
    "# export to csv\n",
    "# nodes\n",
    "# nodes = pd.DataFrame(H.nodes(data=True), columns=['node', 'data'])\n",
    "# nodes['community'] = nodes['data'].apply(lambda x: x['community'])\n",
    "# nodes.drop(columns=['data'], inplace=True)\n",
    "# nodes.to_csv('../data/double_hits_filtered_upper75_nodes.csv', index=False)"
   ]
  },
  {
   "cell_type": "code",
   "execution_count": 19,
   "metadata": {},
   "outputs": [],
   "source": [
    "# read seed hashtags and clusters\n",
    "# seed_hashtags = pd.read_csv(\"community-grouping_20240730(in).csv\")"
   ]
  },
  {
   "cell_type": "code",
   "execution_count": 22,
   "metadata": {},
   "outputs": [],
   "source": [
    "def label_hashtags_by_clusters(G, seed_hashtags):\n",
    "    # Create a dictionary to store the cluster for each hashtag\n",
    "    hashtag_clusters = {}\n",
    "\n",
    "    # Iterate through each theme and its associated hashtags\n",
    "    for theme in seed_hashtags.columns[1:]:\n",
    "        seed_nodes = seed_hashtags['Node'][seed_hashtags[theme] == 'y'].tolist()\n",
    "        for seed in seed_nodes:\n",
    "            # Get the ego network up to 2 hops\n",
    "            ego_network = nx.ego_graph(G, seed, radius=1, undirected=True)\n",
    "            for node in ego_network.nodes:\n",
    "                if node not in hashtag_clusters:\n",
    "                    hashtag_clusters[node] = set()\n",
    "                hashtag_clusters[node].add(theme)\n",
    "    \n",
    "    # Convert the dictionary to a DataFrame\n",
    "    labeled_hashtags = pd.DataFrame(list(hashtag_clusters.items()), columns=['Hashtag', 'Themes'])\n",
    "    labeled_hashtags['Themes'] = labeled_hashtags['Themes'].apply(lambda x: list(x))\n",
    "    \n",
    "    return labeled_hashtags"
   ]
  },
  {
   "cell_type": "code",
   "execution_count": 23,
   "metadata": {},
   "outputs": [],
   "source": [
    "labeled_hashtags = label_hashtags_by_clusters(H, seed_hashtags)"
   ]
  },
  {
   "cell_type": "markdown",
   "metadata": {},
   "source": [
    "# OLD\n",
    "---\n",
    "TRIPLE HITS"
   ]
  },
  {
   "cell_type": "code",
   "execution_count": 18,
   "metadata": {},
   "outputs": [],
   "source": [
    "# redo with triple hits\n",
    "dat = pd.read_csv('triple_hits_edges_no_dupes.csv')"
   ]
  },
  {
   "cell_type": "code",
   "execution_count": 19,
   "metadata": {},
   "outputs": [],
   "source": [
    "G2 = nx.Graph()\n",
    "# Add edges with weights\n",
    "for i, row in dat.iterrows():\n",
    "    G2.add_edge(row['source'], row['target'], weight=row['weight'])\n",
    "\n",
    "degree_centrality2 = nx.degree_centrality(G2)"
   ]
  },
  {
   "cell_type": "code",
   "execution_count": 20,
   "metadata": {},
   "outputs": [
    {
     "data": {
      "image/png": "[encoded data removed]",
      "text/plain": [
       "<Figure size 640x480 with 1 Axes>"
      ]
     },
     "metadata": {},
     "output_type": "display_data"
    }
   ],
   "source": [
    "# plot degree centrality\n",
    "centrality_values2 = list(degree_centrality2.values())\n",
    "plt.hist(centrality_values2, edgecolor='k', alpha=0.7)\n",
    "plt.xlabel('Degree Centrality')\n",
    "plt.ylabel('Frequency')\n",
    "plt.title('Distribution of Degree Centrality')\n",
    "plt.show()\n"
   ]
  },
  {
   "cell_type": "code",
   "execution_count": 21,
   "metadata": {},
   "outputs": [
    {
     "name": "stdout",
     "output_type": "stream",
     "text": [
      "Mean Degree Centrality: 0.0005783704455376405\n",
      "Median Degree Centrality: 0.0001738299074355743\n",
      "Standard Deviation of Degree Centrality: 0.0064888479505552325\n"
     ]
    }
   ],
   "source": [
    "# descriptive statistics\n",
    "mean_centrality2 = np.mean(centrality_values2)\n",
    "median_centrality2 = np.median(centrality_values2)\n",
    "std_centrality2 = np.std(centrality_values2)\n",
    "\n",
    "print(f'Mean Degree Centrality: {mean_centrality2}')\n",
    "print(f'Median Degree Centrality: {median_centrality2}')\n",
    "print(f'Standard Deviation of Degree Centrality: {std_centrality2}')\n",
    "\n",
    "# Set a threshold based on the distribution\n",
    "# For example, use the mean or a multiple of the standard deviation\n",
    "threshold2 = mean_centrality2 + std_centrality2  # Example threshold"
   ]
  },
  {
   "cell_type": "code",
   "execution_count": 22,
   "metadata": {},
   "outputs": [],
   "source": [
    "filtered_nodes_D2 = [node for node, centrality in degree_centrality2.items() if centrality > threshold2]\n",
    "\n",
    "H2 = G2.subgraph(filtered_nodes_D2)\n"
   ]
  },
  {
   "cell_type": "code",
   "execution_count": 23,
   "metadata": {},
   "outputs": [
    {
     "name": "stdout",
     "output_type": "stream",
     "text": [
      "Community 1: ['addictionhumor', 'addictionskit', 'bars', 'blackedout', 'blackout', 'coughsyrup', 'dr00g', 'dr00gtiktok', 'drank', 'drunk', 'drvgaddiction', 'drvgzx', 'hammered', 'hangover', 'harmreduction', 'hungover', 'lean', 'leantok', 'm0lly', 'molly', 'opiates', 'percs', 'pinger', 'pingertok', 'pingerzzzz', 'pingtok', 'recovery', 'relapsehappens', 'shitfaced', 'sober', 'soberlife', 'sobriety', 'syrup', 'tipsy', 'wasted', 'wedorecover', 'xan', 'xans', 'xantok']\n",
      "Community 2: ['chronicpain', 'cleanandsober', 'detox', 'drugpolicy', 'drugrehab', 'endoverdose', 'fent', 'harmreductionsaveslives', 'harmreductiontips', 'harmreductionworks', 'heroin', 'methadoneclinic', 'na', 'naloxone', 'naloxonesaveslives', 'naltrexone', 'narcan', 'narcansaveslives', 'odaat', 'onedayatatime', 'opioidaddiction', 'opioidawareness', 'opioidcrisis', 'opioids', 'overdose', 'overdoseawareness', 'overdosecrisis', 'overdoseresponse', 'pain', 'pwud', 'safesupply', 'saynotodrugs', 'soberhouse', 'soberliving', 'sobrietybirthday', 'substanceabuse', 'substanceusedisorder']\n",
      "Community 3: ['acid', 'addiction', 'cannabis', 'cig', 'cigarette', 'cigarettes', 'cigs', 'ecig', 'ecigs', 'haf', 'high', 'hightimes', 'juul', 'lsdart', 'magicmushroomsadventures', 'mescaline', 'nicotine', 'nootropics', 'pot', 'psychedelictok', 'smartdrugs', 'smoking', 'stoned', 'stoner', 'stonertokfyp', 'tobacco', 'vape', 'vaped', 'vaper', 'vaping', 'weed']\n"
     ]
    }
   ],
   "source": [
    "# Perform clustering with Clauset-Newman-Moore algorithm\n",
    "communities2 = list(greedy_modularity_communities(H2))\n",
    "\n",
    "# Assign community labels to nodes\n",
    "community_dict2 = {}\n",
    "for i, community in enumerate(communities2):\n",
    "    for node in community:\n",
    "        community_dict2[node] = i\n",
    "\n",
    "# Add community information to the nodes in the graph\n",
    "nx.set_node_attributes(H2, community_dict2, 'community')\n",
    "\n",
    "# Print out the communities\n",
    "for i, community in enumerate(communities2):\n",
    "    print(f\"Community {i + 1}: {sorted(community)}\")"
   ]
  },
  {
   "cell_type": "code",
   "execution_count": 24,
   "metadata": {},
   "outputs": [],
   "source": [
    "nx.write_gexf(H2, 'triple_hits_filtered.gexf')"
   ]
  },
  {
   "cell_type": "code",
   "execution_count": 25,
   "metadata": {},
   "outputs": [
    {
     "data": {
      "image/png": "[encoded data removed]",
      "text/plain": [
       "<Figure size 640x480 with 1 Axes>"
      ]
     },
     "metadata": {},
     "output_type": "display_data"
    },
    {
     "name": "stdout",
     "output_type": "stream",
     "text": [
      "Mean Degree Centrality: 0.0011391684336007726\n",
      "Median Degree Centrality: 0.0003532819896841659\n",
      "Standard Deviation of Degree Centrality: 0.010455500072650259\n"
     ]
    }
   ],
   "source": [
    "# repeat for quadruple hits\n",
    "dat = pd.read_csv('quadruple_hits_edges_no_dupes.csv')\n",
    "\n",
    "G3 = nx.Graph()\n",
    "# Add edges with weights\n",
    "for i, row in dat.iterrows():\n",
    "    G3.add_edge(row['source'], row['target'], weight=row['weight'])\n",
    "\n",
    "degree_centrality3 = nx.degree_centrality(G3)\n",
    "\n",
    "# plot degree centrality\n",
    "centrality_values3 = list(degree_centrality3.values())\n",
    "plt.hist(centrality_values3, edgecolor='k', alpha=0.7)\n",
    "plt.xlabel('Degree Centrality')\n",
    "plt.ylabel('Frequency')\n",
    "plt.title('Distribution of Degree Centrality')\n",
    "plt.show()\n",
    "\n",
    "\n",
    "# descriptive statistics\n",
    "mean_centrality3 = np.mean(centrality_values3)\n",
    "median_centrality3 = np.median(centrality_values3)\n",
    "std_centrality3 = np.std(centrality_values3)\n",
    "\n",
    "print(f'Mean Degree Centrality: {mean_centrality3}')\n",
    "print(f'Median Degree Centrality: {median_centrality3}')\n",
    "print(f'Standard Deviation of Degree Centrality: {std_centrality3}')\n",
    "\n",
    "# Set a threshold based on the distribution\n",
    "threshold3 = mean_centrality3 + std_centrality3  \n"
   ]
  },
  {
   "cell_type": "code",
   "execution_count": 26,
   "metadata": {},
   "outputs": [
    {
     "name": "stdout",
     "output_type": "stream",
     "text": [
      "Community 1: ['acid', 'addiction', 'addictionhumor', 'addictionskit', 'bars', 'blackedout', 'blackout', 'cigs', 'coughsyrup', 'dr00g', 'dr00gtiktok', 'drank', 'drunk', 'drvgaddiction', 'hammered', 'harmreductionsaveslives', 'high', 'hungover', 'lean', 'molly', 'na', 'percs', 'pinger', 'pingertok', 'pingerzzzz', 'pingtok', 'psychedelictok', 'recovery', 'shitfaced', 'sober', 'soberlife', 'sobriety', 'sobrietybirthday', 'stonertokfyp', 'tipsy', 'wasted', 'wedorecover', 'xan']\n",
      "Community 2: ['chronicpain', 'cleanandsober', 'drugpolicy', 'drugrehab', 'endoverdose', 'fent', 'harmreductiontips', 'harmreductionworks', 'heroin', 'methadoneclinic', 'naloxone', 'naloxonesaveslives', 'naltrexone', 'narcan', 'narcansaveslives', 'odaat', 'onedayatatime', 'opiates', 'opioidaddiction', 'opioidawareness', 'opioidcrisis', 'opioids', 'overdose', 'overdoseawareness', 'overdosecrisis', 'pwud', 'relapsehappens', 'safesupply', 'soberhouse', 'soberliving', 'substanceabuse', 'substanceusedisorder']\n",
      "Community 3: ['cannabis', 'cigarette', 'cigarettes', 'detox', 'ecig', 'ecigs', 'harmreduction', 'hightimes', 'juul', 'lsdart', 'nicotine', 'pain', 'pot', 'smoking', 'stoned', 'stoner', 'tobacco', 'vape', 'vaper', 'vaping', 'weed']\n"
     ]
    }
   ],
   "source": [
    "# filter\n",
    "filtered_nodes_D3 = [node for node, centrality in degree_centrality3.items() if centrality > threshold3]\n",
    "\n",
    "H3 = G3.subgraph(filtered_nodes_D3)\n",
    "\n",
    "\n",
    "# Perform clustering with Clauset-Newman-Moore algorithm\n",
    "communities3 = list(greedy_modularity_communities(H3))\n",
    "\n",
    "# Assign community labels to nodes\n",
    "community_dict3 = {}\n",
    "for i, community in enumerate(communities3):\n",
    "    for node in community:\n",
    "        community_dict3[node] = i\n",
    "\n",
    "# Add community information to the nodes in the graph\n",
    "nx.set_node_attributes(H3, community_dict3, 'community')\n",
    "\n",
    "# Print out the communities\n",
    "for i, community in enumerate(communities3):\n",
    "    print(f\"Community {i + 1}: {sorted(community)}\")\n",
    "\n",
    "nx.write_gexf(H3, 'quadruple_hits_filtered.gexf')"
   ]
  },
  {
   "cell_type": "code",
   "execution_count": null,
   "metadata": {},
   "outputs": [],
   "source": []
  }
 ],
 "metadata": {
  "kernelspec": {
   "display_name": ".venv",
   "language": "python",
   "name": "python3"
  },
  "language_info": {
   "codemirror_mode": {
    "name": "ipython",
    "version": 3
   },
   "file_extension": ".py",
   "mimetype": "text/x-python",
   "name": "python",
   "nbconvert_exporter": "python",
   "pygments_lexer": "ipython3",
   "version": "3.11.6"
  }
 },
 "nbformat": 4,
 "nbformat_minor": 2
}
