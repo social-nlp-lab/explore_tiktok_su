{
 "cells": [
  {
   "cell_type": "code",
   "execution_count": 1,
   "metadata": {},
   "outputs": [],
   "source": [
    "import pandas as pd\n",
    "import numpy as np\n",
    "import pickle\n",
    "import os\n",
    "import json\n",
    "import networkx as nx\n",
    "from networkx.algorithms.community import greedy_modularity_communities\n",
    "import matplotlib.pyplot as plt\n",
    "\n",
    "k_core = nx.read_gexf(\"../graphs/hashtag_network_k10_nothemes.gexf\")"
   ]
  },
  {
   "cell_type": "code",
   "execution_count": 2,
   "metadata": {},
   "outputs": [],
   "source": [
    "communities = pd.read_csv(\"../data/themes_10core_20241120_evaluated.csv\")\n",
    "\n",
    "# For k=10 graph\n",
    "def add_community_info(graph, communities_df):\n",
    "    # Create community dictionary\n",
    "    community_dict = communities_df.set_index('hashtag')['theme'].to_dict()\n",
    "    \n",
    "    # Add community as node attribute\n",
    "    nx.set_node_attributes(graph, community_dict, 'community')\n",
    "    \n",
    "    # Print some statistics about communities in the graph\n",
    "    graph_communities = [community_dict.get(node, 'misc') for node in graph.nodes()]\n",
    "    community_counts = pd.Series(graph_communities).value_counts()\n",
    "    \n",
    "    print(\"Community distribution:\")\n",
    "    for comm, count in community_counts.items():\n",
    "        print(f\"{comm}: {count} nodes\")\n",
    "\n",
    "    # Print nodes with unknown communities\n",
    "    # unknown_nodes = [node for node in graph.nodes() if community_dict.get(node, 'unknown') == 'unknown']\n",
    "    # print(f\"\\nNumber of nodes with unknown community: {len(unknown_nodes)}\")\n",
    "    # if len(unknown_nodes) > 0:\n",
    "    #     print(\"Nodes without community assignment:\")\n",
    "    #     print(unknown_nodes)\n",
    "    return graph"
   ]
  },
  {
   "cell_type": "code",
   "execution_count": 3,
   "metadata": {},
   "outputs": [
    {
     "name": "stdout",
     "output_type": "stream",
     "text": [
      "Community distribution:\n",
      "misc: 569 nodes\n",
      "awareness_and_advocacy: 279 nodes\n",
      "health_conditions: 277 nodes\n",
      "platform: 183 nodes\n",
      "emotions_and_feelings: 172 nodes\n",
      "identity_and_community: 155 nodes\n",
      "commonly_misused_substances: 152 nodes\n",
      "location: 116 nodes\n",
      "occupation: 73 nodes\n",
      "other_substances: 70 nodes\n",
      "humor: 56 nodes\n",
      "cannabis: 51 nodes\n",
      "alcohol: 43 nodes\n",
      "substance_effects: 41 nodes\n",
      "consumption_method: 41 nodes\n",
      "tobacco_nicotine: 31 nodes\n",
      "cognitive_enhancement: 24 nodes\n"
     ]
    }
   ],
   "source": [
    "k_core_theme = add_community_info(k_core, communities)\n",
    "\n",
    "# Export k=5 graph for Gephi\n",
    "nx.write_gexf(k_core_theme, \"../graphs/hashtag_network_k10_withtheme.gexf\")"
   ]
  },
  {
   "cell_type": "code",
   "execution_count": 5,
   "metadata": {},
   "outputs": [],
   "source": [
    "def create_node_list(graph):\n",
    "    node_data = []\n",
    "    \n",
    "    # For each node in the graph\n",
    "    for node in graph.nodes():\n",
    "        # Get community\n",
    "        community = graph.nodes[node].get('community', 'Unknown')\n",
    "        \n",
    "        # Calculate weighted degree\n",
    "        weighted_degree = sum(w['weight'] for u, v, w in graph.edges(node, data=True))\n",
    "        \n",
    "        # Add to list\n",
    "        node_data.append({\n",
    "            'Node': node,\n",
    "            'Community': community,\n",
    "            'Weighted_Degree': weighted_degree\n",
    "        })\n",
    "    \n",
    "    # Convert to DataFrame and save\n",
    "    df = pd.DataFrame(node_data)\n",
    "    df = df.sort_values('Weighted_Degree', ascending=False)  # Optional: sort by weighted degree\n",
    "    df.to_csv('../data/k10node_list_with_weights.csv', index=False)\n",
    "    \n",
    "    return df"
   ]
  },
  {
   "cell_type": "code",
   "execution_count": 7,
   "metadata": {},
   "outputs": [],
   "source": [
    "node_list_df = create_node_list(k_core)"
   ]
  }
 ],
 "metadata": {
  "kernelspec": {
   "display_name": ".venv",
   "language": "python",
   "name": "python3"
  },
  "language_info": {
   "codemirror_mode": {
    "name": "ipython",
    "version": 3
   },
   "file_extension": ".py",
   "mimetype": "text/x-python",
   "name": "python",
   "nbconvert_exporter": "python",
   "pygments_lexer": "ipython3",
   "version": "3.11.6"
  }
 },
 "nbformat": 4,
 "nbformat_minor": 2
}
