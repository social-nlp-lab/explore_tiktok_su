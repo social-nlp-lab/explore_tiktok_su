{
 "cells": [
  {
   "cell_type": "code",
   "execution_count": 1,
   "metadata": {},
   "outputs": [
    {
     "name": "stderr",
     "output_type": "stream",
     "text": [
      "/Users/laylabouzoubaa/opt/anaconda3/lib/python3.9/site-packages/pandas/core/computation/expressions.py:21: UserWarning: Pandas requires version '2.8.4' or newer of 'numexpr' (version '2.8.3' currently installed).\n",
      "  from pandas.core.computation.check import NUMEXPR_INSTALLED\n",
      "/Users/laylabouzoubaa/opt/anaconda3/lib/python3.9/site-packages/pandas/core/arrays/masked.py:60: UserWarning: Pandas requires version '1.3.6' or newer of 'bottleneck' (version '1.3.5' currently installed).\n",
      "  from pandas.core import (\n"
     ]
    }
   ],
   "source": [
    "import pandas as pd\n",
    "import numpy as np\n",
    "import pickle\n",
    "import os\n",
    "import json\n",
    "import networkx as nx\n",
    "from networkx.algorithms.community import greedy_modularity_communities\n",
    "import matplotlib.pyplot as plt"
   ]
  },
  {
   "cell_type": "code",
   "execution_count": 4,
   "metadata": {},
   "outputs": [],
   "source": [
    "# new file from joe on 11/5/24\n",
    "dat = pd.read_csv('../data/nonfiltered_cooccurrence.csv')"
   ]
  },
  {
   "cell_type": "code",
   "execution_count": 5,
   "metadata": {},
   "outputs": [],
   "source": [
    "# make graph and do clustering\n",
    "G = nx.Graph()\n",
    "# Add edges with weights\n",
    "for i, row in dat.iterrows():\n",
    "    G.add_edge(row['Source'], row['Target'], weight=row['Cooccurrence_Count'])"
   ]
  },
  {
   "cell_type": "code",
   "execution_count": 6,
   "metadata": {},
   "outputs": [
    {
     "name": "stdout",
     "output_type": "stream",
     "text": [
      "Number of nodes: 99751\n",
      "Number of edges: 472081\n"
     ]
    }
   ],
   "source": [
    "print('Number of nodes:', G.number_of_nodes())\n",
    "print('Number of edges:', G.number_of_edges())"
   ]
  },
  {
   "cell_type": "code",
   "execution_count": 7,
   "metadata": {},
   "outputs": [],
   "source": [
    "# Filter out non-influential nodes\n",
    "# You can adjust the threshold based on your needs\n",
    "degree_centrality = nx.degree_centrality(G)\n",
    "# betweenness_centrality = nx.betweenness_centrality(G, weight='weight')"
   ]
  },
  {
   "cell_type": "code",
   "execution_count": 8,
   "metadata": {},
   "outputs": [
    {
     "data": {
      "image/png": "[encoded data removed]",
      "text/plain": [
       "<Figure size 640x480 with 1 Axes>"
      ]
     },
     "metadata": {},
     "output_type": "display_data"
    },
    {
     "name": "stdout",
     "output_type": "stream",
     "text": [
      "Mean Degree Centrality: 9.488910595402604e-05\n",
      "Median Degree Centrality: 2.0050125313283208e-05\n",
      "Standard Deviation of Degree Centrality: 0.0012398693337224685\n",
      "Max Degree Centrality: 0.12025062656641604\n",
      "Min Degree Centrality: 1.0025062656641604e-05\n",
      "Inter-quartile range: 2.0050125313283208e-05\n",
      "75th percentile: 4.0100250626566415e-05\n",
      "25th percentile: 2.0050125313283208e-05\n"
     ]
    }
   ],
   "source": [
    "# Analyze the distribution of betweenness centrality\n",
    "centrality_values = list(degree_centrality.values())\n",
    "# box plot\n",
    "plt.boxplot(centrality_values)\n",
    "plt.show()\n",
    "\n",
    "# Calculate descriptive statistics\n",
    "mean_centrality = np.mean(centrality_values)\n",
    "median_centrality = np.median(centrality_values)\n",
    "std_centrality = np.std(centrality_values)\n",
    "\n",
    "print(f'Mean Degree Centrality: {mean_centrality}')\n",
    "print(f'Median Degree Centrality: {median_centrality}')\n",
    "print(f'Standard Deviation of Degree Centrality: {std_centrality}')\n",
    "print(f'Max Degree Centrality: {max(centrality_values)}')\n",
    "print(f'Min Degree Centrality: {min(centrality_values)}')\n",
    "print(f\"Inter-quartile range: {np.percentile(centrality_values, 75) - np.percentile(centrality_values, 25)}\")\n",
    "print(f\"75th percentile: {np.percentile(centrality_values, 75)}\"\n",
    "        f\"\\n25th percentile: {np.percentile(centrality_values, 25)}\")"
   ]
  },
  {
   "cell_type": "markdown",
   "metadata": {},
   "source": [
    "---\n",
    "### Graph filtering\n",
    "\n",
    "1. filter edges by weight\n",
    "2. remove isolated nodes\n",
    "3. apply minimum degree threshold"
   ]
  },
  {
   "cell_type": "code",
   "execution_count": 10,
   "metadata": {},
   "outputs": [
    {
     "name": "stdout",
     "output_type": "stream",
     "text": [
      "Total number of edges: 472081\n",
      "Min weight: 1\n",
      "Max weight: 1825\n",
      "Sample of first 5 weights: [112, 5, 1320, 1359, 52]\n",
      "\n",
      "Weight distribution:\n",
      "Weight 1: 359881 edges\n",
      "Weight 2: 49953 edges\n",
      "Weight 3: 17982 edges\n",
      "Weight 4: 10464 edges\n",
      "Weight 5: 6323 edges\n",
      "Weight 6: 3799 edges\n",
      "Weight 7: 2952 edges\n",
      "Weight 8: 2305 edges\n",
      "Weight 9: 1584 edges\n",
      "Weight 10: 1482 edges\n"
     ]
    }
   ],
   "source": [
    "# Check edge weights distribution\n",
    "weights = [d['weight'] for (u,v,d) in G.edges(data=True)]\n",
    "print(\"Total number of edges:\", len(weights))\n",
    "print(\"Min weight:\", min(weights))\n",
    "print(\"Max weight:\", max(weights))\n",
    "print(\"Sample of first 5 weights:\", weights[:5])\n",
    "\n",
    "# Get a frequency count of weights\n",
    "from collections import Counter\n",
    "weight_counts = Counter(weights)\n",
    "print(\"\\nWeight distribution:\")\n",
    "for weight, count in sorted(weight_counts.items())[:10]:  # Show first 10 weights\n",
    "    print(f\"Weight {weight}: {count} edges\")"
   ]
  },
  {
   "cell_type": "code",
   "execution_count": 11,
   "metadata": {},
   "outputs": [
    {
     "name": "stdout",
     "output_type": "stream",
     "text": [
      "Found 359881 edges to remove\n"
     ]
    }
   ],
   "source": [
    "# 1. Filter edges by weight\n",
    "min_weight = np.percentile([d['weight'] for (u,v,d) in G.edges(data=True)], 25)  # bottom 25%\n",
    "G_filtered = G.copy()\n",
    "# More explicit filtering approach\n",
    "edges_to_remove = []\n",
    "for u, v, d in G.edges(data=True):\n",
    "    if 'weight' in d:  # Check if weight attribute exists\n",
    "        if d['weight'] <= 1.0:  # or whatever threshold you want\n",
    "            edges_to_remove.append((u,v))\n",
    "    else:\n",
    "        print(f\"Edge {u}-{v} has no weight attribute!\")\n",
    "\n",
    "print(f\"Found {len(edges_to_remove)} edges to remove\")\n",
    "G_filtered.remove_edges_from(edges_to_remove)"
   ]
  },
  {
   "cell_type": "code",
   "execution_count": 12,
   "metadata": {},
   "outputs": [],
   "source": [
    "# Remove any isolated nodes after edge removal\n",
    "isolated_nodes = list(nx.isolates(G_filtered))\n",
    "G_filtered.remove_nodes_from(isolated_nodes)"
   ]
  },
  {
   "cell_type": "code",
   "execution_count": 13,
   "metadata": {},
   "outputs": [
    {
     "name": "stdout",
     "output_type": "stream",
     "text": [
      "\n",
      "Filtered graph:\n",
      "Nodes: 27514\n",
      "Edges: 112200\n",
      "Removed 72237 isolated nodes\n"
     ]
    }
   ],
   "source": [
    "print(\"\\nFiltered graph:\")\n",
    "print(f\"Nodes: {G_filtered.number_of_nodes()}\")\n",
    "print(f\"Edges: {G_filtered.number_of_edges()}\")\n",
    "print(f\"Removed {len(isolated_nodes)} isolated nodes\")\n"
   ]
  },
  {
   "cell_type": "code",
   "execution_count": 14,
   "metadata": {},
   "outputs": [
    {
     "name": "stdout",
     "output_type": "stream",
     "text": [
      "\n",
      "Average degree: 8.16\n",
      "Largest connected component has 27514 nodes\n"
     ]
    }
   ],
   "source": [
    "avg_degree = sum(dict(G_filtered.degree()).values()) / G_filtered.number_of_nodes()\n",
    "print(f\"\\nAverage degree: {avg_degree:.2f}\")\n",
    "\n",
    "# Look at the largest connected component\n",
    "largest_cc = max(nx.connected_components(G_filtered), key=len)\n",
    "print(f\"Largest connected component has {len(largest_cc)} nodes\")"
   ]
  },
  {
   "cell_type": "markdown",
   "metadata": {},
   "source": [
    "---\n",
    "### Level 2 filtering to get CORE nodes\n",
    "\n",
    "3 options: 90th percentile by degree, k-core, and pagerank"
   ]
  },
  {
   "cell_type": "code",
   "execution_count": 15,
   "metadata": {},
   "outputs": [
    {
     "name": "stdout",
     "output_type": "stream",
     "text": [
      "\n",
      "Core graph (top 10% by weighted degree):\n",
      "Nodes: 2781\n",
      "Edges: 43026\n"
     ]
    }
   ],
   "source": [
    "# 1. Using edge weights and degree together\n",
    "# Calculate weighted degree for each node\n",
    "weighted_degrees = dict()\n",
    "for node in G_filtered.nodes():\n",
    "    weighted_degree = sum(d['weight'] for u, v, d in G_filtered.edges(data=True) if u == node or v == node)\n",
    "    weighted_degrees[node] = weighted_degree\n",
    "\n",
    "# Get 90th percentile of weighted degrees\n",
    "threshold = np.percentile(list(weighted_degrees.values()), 90)\n",
    "core_nodes = [node for node, w_degree in weighted_degrees.items() if w_degree >= threshold]\n",
    "\n",
    "# Create subgraph of core nodes\n",
    "G_core = G_filtered.subgraph(core_nodes).copy()\n",
    "\n",
    "print(\"\\nCore graph (top 10% by weighted degree):\")\n",
    "print(f\"Nodes: {G_core.number_of_nodes()}\")\n",
    "print(f\"Edges: {G_core.number_of_edges()}\")"
   ]
  },
  {
   "cell_type": "code",
   "execution_count": 20,
   "metadata": {},
   "outputs": [
    {
     "name": "stdout",
     "output_type": "stream",
     "text": [
      "Core graph analysis (top 10% by weighted degree):\n",
      "Number of connected components: 1\n",
      "Min edge weight: 2\n",
      "Max edge weight: 1825\n",
      "Mean edge weight: 24.45\n",
      "Mean degree: 30.94\n",
      "Median degree: 12.00\n",
      "\n",
      "Top 10 hashtags by PageRank in weighted degree core:\n",
      "addiction: 0.023860\n",
      "high: 0.017275\n",
      "recovery: 0.016667\n",
      "sober: 0.016438\n",
      "sobriety: 0.015468\n",
      "harmreduction: 0.015086\n",
      "addy: 0.013292\n",
      "wedorecover: 0.013260\n",
      "x: 0.011250\n",
      "g: 0.011243\n",
      "\n",
      "Weighted degree specific metrics:\n",
      "Min weighted degree: 12\n",
      "Max weighted degree: 82796\n",
      "Mean weighted degree: 756.47\n"
     ]
    }
   ],
   "source": [
    "print(\"Core graph analysis (top 10% by weighted degree):\")\n",
    "# Connectivity\n",
    "print(f\"Number of connected components: {nx.number_connected_components(G_core)}\")\n",
    "\n",
    "# Edge weight distribution\n",
    "weights = [d['weight'] for (u,v,d) in G_core.edges(data=True)]\n",
    "print(f\"Min edge weight: {min(weights)}\")\n",
    "print(f\"Max edge weight: {max(weights)}\")\n",
    "print(f\"Mean edge weight: {np.mean(weights):.2f}\")\n",
    "\n",
    "# Node degree distribution\n",
    "degrees = [d for n, d in G_core.degree()]\n",
    "print(f\"Mean degree: {np.mean(degrees):.2f}\")\n",
    "print(f\"Median degree: {np.median(degrees):.2f}\")\n",
    "\n",
    "# Calculate PageRank scores for the weighted degree core graph\n",
    "pr_core = nx.pagerank(G_core, weight='weight')\n",
    "top_hashtags = sorted(pr_core.items(), key=lambda x: x[1], reverse=True)[:10]\n",
    "print(\"\\nTop 10 hashtags by PageRank in weighted degree core:\")\n",
    "for hashtag, score in top_hashtags:\n",
    "    print(f\"{hashtag}: {score:.6f}\")\n",
    "\n",
    "# Additional weighted degree specific metrics\n",
    "print(f\"\\nWeighted degree specific metrics:\")\n",
    "# Get weighted degree distribution\n",
    "weighted_degrees = {node: sum(d['weight'] for u, v, d in G_core.edges(data=True) if u == node or v == node) \n",
    "                   for node in G_core.nodes()}\n",
    "print(f\"Min weighted degree: {min(weighted_degrees.values())}\")\n",
    "print(f\"Max weighted degree: {max(weighted_degrees.values())}\")\n",
    "print(f\"Mean weighted degree: {np.mean(list(weighted_degrees.values())):.2f}\")"
   ]
  },
  {
   "cell_type": "markdown",
   "metadata": {},
   "source": [
    "#### K-core decomposition"
   ]
  },
  {
   "cell_type": "code",
   "execution_count": 16,
   "metadata": {},
   "outputs": [
    {
     "name": "stdout",
     "output_type": "stream",
     "text": [
      "\n",
      "k-core graph (k=10):\n",
      "Nodes: 2340\n",
      "Edges: 47071\n"
     ]
    }
   ],
   "source": [
    "# 2. Alternative: k-core decomposition\n",
    "# This will find the most densely connected subset of nodes\n",
    "k_core = nx.k_core(G_filtered, k=10)  # adjust k as needed\n",
    "print(\"\\nk-core graph (k=10):\")\n",
    "print(f\"Nodes: {k_core.number_of_nodes()}\")\n",
    "print(f\"Edges: {k_core.number_of_edges()}\")"
   ]
  },
  {
   "cell_type": "code",
   "execution_count": 19,
   "metadata": {},
   "outputs": [
    {
     "name": "stdout",
     "output_type": "stream",
     "text": [
      "K-core graph analysis:\n",
      "Number of connected components: 1\n",
      "Min edge weight: 2\n",
      "Max edge weight: 1825\n",
      "Mean edge weight: 12.33\n",
      "Mean degree: 40.23\n",
      "Median degree: 17.00\n",
      "\n",
      "Top 10 hashtags by PageRank in k-core:\n",
      "addiction: 0.026389\n",
      "recovery: 0.021507\n",
      "harmreduction: 0.020697\n",
      "wedorecover: 0.017982\n",
      "sober: 0.015859\n",
      "sobriety: 0.013596\n",
      "addy: 0.011419\n",
      "nan: 0.010767\n",
      "soberlife: 0.009576\n",
      "harmreductionworks: 0.008701\n",
      "\n",
      "K-core specific metrics:\n",
      "Min core number: 10\n",
      "Max core number: 46\n",
      "Mean core number: 20.92\n"
     ]
    }
   ],
   "source": [
    "print(\"K-core graph analysis:\")\n",
    "# Connectivity\n",
    "print(f\"Number of connected components: {nx.number_connected_components(k_core)}\")\n",
    "\n",
    "# Edge weight distribution\n",
    "weights = [d['weight'] for (u,v,d) in k_core.edges(data=True)]\n",
    "print(f\"Min edge weight: {min(weights)}\")\n",
    "print(f\"Max edge weight: {max(weights)}\")\n",
    "print(f\"Mean edge weight: {np.mean(weights):.2f}\")\n",
    "\n",
    "# Node degree distribution\n",
    "degrees = [d for n, d in k_core.degree()]\n",
    "print(f\"Mean degree: {np.mean(degrees):.2f}\")\n",
    "print(f\"Median degree: {np.median(degrees):.2f}\")\n",
    "\n",
    "# Calculate PageRank scores for the k-core graph to identify important nodes\n",
    "pr_kcore = nx.pagerank(k_core, weight='weight')\n",
    "top_hashtags = sorted(pr_kcore.items(), key=lambda x: x[1], reverse=True)[:10]\n",
    "print(\"\\nTop 10 hashtags by PageRank in k-core:\")\n",
    "for hashtag, score in top_hashtags:\n",
    "    print(f\"{hashtag}: {score:.6f}\")\n",
    "\n",
    "# Additional k-core specific metrics\n",
    "print(f\"\\nK-core specific metrics:\")\n",
    "# Core number distribution\n",
    "core_numbers = nx.core_number(k_core)\n",
    "print(f\"Min core number: {min(core_numbers.values())}\")\n",
    "print(f\"Max core number: {max(core_numbers.values())}\")\n",
    "print(f\"Mean core number: {np.mean(list(core_numbers.values())):.2f}\")"
   ]
  },
  {
   "cell_type": "markdown",
   "metadata": {},
   "source": [
    "#### PageRank Importance"
   ]
  },
  {
   "cell_type": "code",
   "execution_count": 17,
   "metadata": {},
   "outputs": [
    {
     "name": "stdout",
     "output_type": "stream",
     "text": [
      "\n",
      "PageRank-filtered graph (top 2000 nodes):\n",
      "Nodes: 2000\n",
      "Edges: 36995\n"
     ]
    }
   ],
   "source": [
    "pr = nx.pagerank(G_filtered, weight='weight')\n",
    "# Keep top 2000 nodes (or adjust number as needed)\n",
    "top_nodes = sorted(pr.items(), key=lambda x: x[1], reverse=True)[:2000]\n",
    "G_pagerank = G_filtered.subgraph([node for node, score in top_nodes]).copy()\n",
    "\n",
    "print(\"\\nPageRank-filtered graph (top 2000 nodes):\")\n",
    "print(f\"Nodes: {G_pagerank.number_of_nodes()}\")\n",
    "print(f\"Edges: {G_pagerank.number_of_edges()}\")"
   ]
  },
  {
   "cell_type": "code",
   "execution_count": 18,
   "metadata": {},
   "outputs": [
    {
     "name": "stdout",
     "output_type": "stream",
     "text": [
      "PageRank graph analysis:\n",
      "Number of connected components: 1\n",
      "Min edge weight: 2\n",
      "Max edge weight: 1825\n",
      "Mean edge weight: 26.84\n",
      "Mean degree: 36.99\n",
      "Median degree: 16.00\n",
      "\n",
      "Top 10 hashtags by PageRank:\n",
      "addiction: 0.017710\n",
      "recovery: 0.014172\n",
      "harmreduction: 0.011970\n",
      "wedorecover: 0.010917\n",
      "sober: 0.009830\n",
      "sobriety: 0.008844\n",
      "cat: 0.008692\n",
      "o: 0.008666\n",
      "addy: 0.008647\n",
      "g: 0.008272\n"
     ]
    }
   ],
   "source": [
    "print(\"PageRank graph analysis:\")\n",
    "# Connectivity\n",
    "print(f\"Number of connected components: {nx.number_connected_components(G_pagerank)}\")\n",
    "\n",
    "# Edge weight distribution\n",
    "weights = [d['weight'] for (u,v,d) in G_pagerank.edges(data=True)]\n",
    "print(f\"Min edge weight: {min(weights)}\")\n",
    "print(f\"Max edge weight: {max(weights)}\")\n",
    "print(f\"Mean edge weight: {np.mean(weights):.2f}\")\n",
    "\n",
    "# Node degree distribution\n",
    "degrees = [d for n, d in G_pagerank.degree()]\n",
    "print(f\"Mean degree: {np.mean(degrees):.2f}\")\n",
    "print(f\"Median degree: {np.median(degrees):.2f}\")\n",
    "\n",
    "# Optional: Look at some top hashtags\n",
    "pr_subset = {node: score for node, score in pr.items() if node in G_pagerank.nodes()}\n",
    "top_hashtags = sorted(pr_subset.items(), key=lambda x: x[1], reverse=True)[:10]\n",
    "print(\"\\nTop 10 hashtags by PageRank:\")\n",
    "for hashtag, score in top_hashtags:\n",
    "    print(f\"{hashtag}: {score:.6f}\")"
   ]
  },
  {
   "cell_type": "markdown",
   "metadata": {},
   "source": [
    "#### Decision: K-Core filtering\n",
    "1. Structural advantages:  \n",
    "\n",
    "Highest mean degree (40.23)  \n",
    "Guaranteed minimum connectivity (k=10)  \n",
    "More edges but lower mean weight suggests better coverage of relationships  \n",
    "\n",
    "\n",
    "2. Best thematic coherence:  \n",
    "\n",
    "Top hashtags form the most coherent theme  \n",
    "Less noise in top hashtags compared to other methods  \n",
    "No single-letter or ambiguous hashtags in top 10  \n",
    "\n",
    "\n",
    "3. Size and density balance:  \n",
    "\n",
    "Middle ground in node count (2340)  \n",
    "Highest edge count suggests better preserved relationships  \n",
    "Core number distribution provides natural community structure  \n",
    "\n",
    "\n",
    "4. Quality guarantees:  \n",
    "\n",
    "K-core gives us mathematical guarantees about connectivity  \n",
    "Other methods might include peripheral nodes just because they have a few high-weight edges "
   ]
  },
  {
   "cell_type": "code",
   "execution_count": 8,
   "metadata": {},
   "outputs": [],
   "source": [
    "# remove nodes with only one edge\n",
    "nodes_to_remove = [node for node in G.nodes if G.degree(node) == 1]\n",
    "G.remove_nodes_from(nodes_to_remove)\n",
    "\n",
    "# remove isolates\n",
    "isolates = list(nx.isolates(G))\n",
    "G.remove_nodes_from(isolates)"
   ]
  },
  {
   "cell_type": "code",
   "execution_count": 10,
   "metadata": {},
   "outputs": [],
   "source": [
    "\n",
    "# threshold = mean_centrality - std_centrality\n",
    "# threshold degree centrality above the 25th percentile\n",
    "threshold = np.percentile(centrality_values2, 25)\n",
    "filtered_nodes_D = [node for node, centrality in degree_centrality.items() if centrality > threshold]\n",
    "filtered_nodes_D2 = [node for node in filtered_nodes_D if pd.notnull(node)]\n",
    "# filtered_nodes_B = [node for node, centrality in betweenness_centrality.items() if centrality > threshold]"
   ]
  },
  {
   "cell_type": "code",
   "execution_count": 21,
   "metadata": {},
   "outputs": [],
   "source": [
    "# Create a subgraph with the filtered nodes\n",
    "H = G.subgraph(filtered_nodes_D2)\n",
    "# weight detials\n",
    "# print(H.edges(data=True))"
   ]
  },
  {
   "cell_type": "code",
   "execution_count": 22,
   "metadata": {},
   "outputs": [
    {
     "name": "stdout",
     "output_type": "stream",
     "text": [
      "Graph with 14569 nodes and 206289 edges\n"
     ]
    },
    {
     "name": "stderr",
     "output_type": "stream",
     "text": [
      "/var/folders/jj/bt0ykz9n5_16z2gvbybl0tbc0000gn/T/ipykernel_90851/1694325736.py:2: DeprecationWarning: info is deprecated and will be removed in version 3.0.\n",
      "\n",
      "  print(nx.info(H))\n"
     ]
    }
   ],
   "source": [
    "# print graph details\n",
    "print(nx.info(H))"
   ]
  },
  {
   "cell_type": "code",
   "execution_count": 23,
   "metadata": {},
   "outputs": [],
   "source": [
    "# do another isolate removal\n",
    "isolates2 = list(nx.isolates(H))\n",
    "# H.remove_nodes_from(isolates)\n"
   ]
  },
  {
   "cell_type": "code",
   "execution_count": null,
   "metadata": {},
   "outputs": [],
   "source": [
    "# Perform clustering with Clauset-Newman-Moore algorithm\n",
    "# communities = list(greedy_modularity_communities(H))\n",
    "\n",
    "# # Assign community labels to nodes\n",
    "# community_dict = {}\n",
    "# for i, community in enumerate(communities):\n",
    "#     for node in community:\n",
    "#         community_dict[node] = i\n",
    "\n",
    "# # Add community information to the nodes in the graph\n",
    "# nx.set_node_attributes(H, community_dict, 'community')\n",
    "\n",
    "# # Print out the communities\n",
    "# for i, community in enumerate(communities):\n",
    "#     print(f\"Community {i + 1}: {sorted(community)}\")\n"
   ]
  },
  {
   "cell_type": "markdown",
   "metadata": {},
   "source": [
    "## Add in themes from `get_themes.py` as community"
   ]
  },
  {
   "cell_type": "code",
   "execution_count": 24,
   "metadata": {},
   "outputs": [],
   "source": [
    "# add themes as nodes\n",
    "communities = pd.read_csv(\"../data/themes_with_missing_long.csv\")"
   ]
  },
  {
   "cell_type": "code",
   "execution_count": 25,
   "metadata": {},
   "outputs": [],
   "source": [
    "# Create a dictionary mapping hashtags to themes\n",
    "community_map = dict(zip(communities['hashtag'], communities['theme']))"
   ]
  },
  {
   "cell_type": "code",
   "execution_count": 26,
   "metadata": {},
   "outputs": [],
   "source": [
    "# Assign communities to nodes\n",
    "for node in H.nodes():\n",
    "    if node in community_map:\n",
    "        H.nodes[node]['community'] = community_map[node]\n",
    "    else:\n",
    "        # Handle nodes that are not in the DataFrame\n",
    "        H.nodes[node]['community'] = \"Unknown\""
   ]
  },
  {
   "cell_type": "code",
   "execution_count": 33,
   "metadata": {},
   "outputs": [],
   "source": [
    "# export for gephi\n",
    "nx.write_gexf(H, '../graphs/double_hits_filtered_upper75_with_theme.gexf')"
   ]
  },
  {
   "cell_type": "code",
   "execution_count": 13,
   "metadata": {},
   "outputs": [],
   "source": [
    "# add themes as nodes\n",
    "# communities = pd.read_csv(\"../data/themes_with_missing_long.csv\")\n",
    "communities = pd.read_csv(\"../data/double_hits_filtered_upper75_with_theme_node_list_manually_classified.csv\")"
   ]
  },
  {
   "cell_type": "code",
   "execution_count": 14,
   "metadata": {},
   "outputs": [],
   "source": [
    "# replace the value of community if the value of Joe's theme is not missing.\n",
    "communities.loc[(communities['Community'] == 'Unknown') & (communities[\"Joe\\'s Community Tag\"].notnull()), 'Community'] = communities[\"Joe\\'s Community Tag\"]"
   ]
  },
  {
   "cell_type": "code",
   "execution_count": 16,
   "metadata": {},
   "outputs": [],
   "source": [
    "# Create a dictionary mapping hashtags to themes\n",
    "community_map = dict(zip(communities['Node'], communities['Community']))"
   ]
  },
  {
   "cell_type": "code",
   "execution_count": 17,
   "metadata": {},
   "outputs": [],
   "source": [
    "# Assign communities to nodes\n",
    "for node in H.nodes():\n",
    "    if node in community_map:\n",
    "        H.nodes[node]['community'] = community_map[node]\n",
    "    else:\n",
    "        # Handle nodes that are not in the DataFrame\n",
    "        H.nodes[node]['community'] = \"Unknown\""
   ]
  },
  {
   "cell_type": "code",
   "execution_count": 18,
   "metadata": {},
   "outputs": [],
   "source": [
    "# export for gephi\n",
    "nx.write_gexf(H, '../graphs/double_hits_filtered_upper75_with_theme_no_unknown.gexf')"
   ]
  },
  {
   "cell_type": "code",
   "execution_count": 19,
   "metadata": {},
   "outputs": [],
   "source": [
    "edge_data = []\n",
    "for source, target, data in H.edges(data=True):\n",
    "    weight = data.get('weight', 1)  # Default to 1 if weight is not specified\n",
    "    source_community = H.nodes[source].get('community', 'Unknown')\n",
    "    target_community = H.nodes[target].get('community', 'Unknown')\n",
    "    edge_data.append({\n",
    "        'Source': source,\n",
    "        'Target': target,\n",
    "        'Weight': weight,\n",
    "        'Source_Community': source_community,\n",
    "        'Target_Community': target_community\n",
    "    })\n",
    "\n",
    "# Create a DataFrame\n",
    "edge_data_df = pd.DataFrame(edge_data)\n",
    "edge_data_df.to_csv('../graphs/double_hits_filtered_upper75_with_theme_edge_list_full.csv', index=False)"
   ]
  },
  {
   "cell_type": "code",
   "execution_count": 20,
   "metadata": {},
   "outputs": [],
   "source": [
    "# get nodelist\n",
    "node_data = []\n",
    "for node in H.nodes():\n",
    "    community = H.nodes[node].get('community', 'Unknown')\n",
    "    weighted_degree = sum(weight for _, _, weight in H.edges(node, data='weight', default=1))\n",
    "    \n",
    "    node_data.append({\n",
    "        'Node': node,\n",
    "        'Community': community,\n",
    "        'Weighted_Degree': weighted_degree\n",
    "    })\n",
    "\n",
    "# Create a DataFrame\n",
    "node_data_df = pd.DataFrame(node_data)\n",
    "\n",
    "# Write to CSV\n",
    "node_data_df.to_csv('../graphs/double_hits_filtered_upper75_with_theme_node_list_full.csv', index=False, quoting=1)  # quoting=1 ensures all fields are quoted\n"
   ]
  },
  {
   "cell_type": "code",
   "execution_count": 21,
   "metadata": {},
   "outputs": [],
   "source": [
    "# experiment with no misc/unknown\n",
    "subgraph = H.subgraph([\n",
    "    node for node in H.nodes() \n",
    "    if H.nodes[node].get('community') not in [\"misc\", \"Unknown\"]\n",
    "]).copy()"
   ]
  },
  {
   "cell_type": "code",
   "execution_count": 22,
   "metadata": {},
   "outputs": [],
   "source": [
    "nx.write_gexf(subgraph, \"../graphs/double_hits_filtered_upper75_with_theme_nomisc.gexf\")"
   ]
  },
  {
   "cell_type": "code",
   "execution_count": 14,
   "metadata": {},
   "outputs": [],
   "source": [
    "# export to csv\n",
    "# nodes\n",
    "# nodes = pd.DataFrame(H.nodes(data=True), columns=['node', 'data'])\n",
    "# nodes['community'] = nodes['data'].apply(lambda x: x['community'])\n",
    "# nodes.drop(columns=['data'], inplace=True)\n",
    "# nodes.to_csv('../data/double_hits_filtered_upper75_nodes.csv', index=False)"
   ]
  },
  {
   "cell_type": "code",
   "execution_count": 19,
   "metadata": {},
   "outputs": [],
   "source": [
    "# read seed hashtags and clusters\n",
    "# seed_hashtags = pd.read_csv(\"community-grouping_20240730(in).csv\")"
   ]
  },
  {
   "cell_type": "code",
   "execution_count": 22,
   "metadata": {},
   "outputs": [],
   "source": [
    "def label_hashtags_by_clusters(G, seed_hashtags):\n",
    "    # Create a dictionary to store the cluster for each hashtag\n",
    "    hashtag_clusters = {}\n",
    "\n",
    "    # Iterate through each theme and its associated hashtags\n",
    "    for theme in seed_hashtags.columns[1:]:\n",
    "        seed_nodes = seed_hashtags['Node'][seed_hashtags[theme] == 'y'].tolist()\n",
    "        for seed in seed_nodes:\n",
    "            # Get the ego network up to 2 hops\n",
    "            ego_network = nx.ego_graph(G, seed, radius=1, undirected=True)\n",
    "            for node in ego_network.nodes:\n",
    "                if node not in hashtag_clusters:\n",
    "                    hashtag_clusters[node] = set()\n",
    "                hashtag_clusters[node].add(theme)\n",
    "    \n",
    "    # Convert the dictionary to a DataFrame\n",
    "    labeled_hashtags = pd.DataFrame(list(hashtag_clusters.items()), columns=['Hashtag', 'Themes'])\n",
    "    labeled_hashtags['Themes'] = labeled_hashtags['Themes'].apply(lambda x: list(x))\n",
    "    \n",
    "    return labeled_hashtags"
   ]
  },
  {
   "cell_type": "code",
   "execution_count": 23,
   "metadata": {},
   "outputs": [],
   "source": [
    "labeled_hashtags = label_hashtags_by_clusters(H, seed_hashtags)"
   ]
  },
  {
   "cell_type": "markdown",
   "metadata": {},
   "source": [
    "# OLD\n",
    "---\n",
    "TRIPLE HITS"
   ]
  },
  {
   "cell_type": "code",
   "execution_count": 18,
   "metadata": {},
   "outputs": [],
   "source": [
    "# redo with triple hits\n",
    "dat = pd.read_csv('triple_hits_edges_no_dupes.csv')"
   ]
  },
  {
   "cell_type": "code",
   "execution_count": 19,
   "metadata": {},
   "outputs": [],
   "source": [
    "G2 = nx.Graph()\n",
    "# Add edges with weights\n",
    "for i, row in dat.iterrows():\n",
    "    G2.add_edge(row['source'], row['target'], weight=row['weight'])\n",
    "\n",
    "degree_centrality2 = nx.degree_centrality(G2)"
   ]
  },
  {
   "cell_type": "code",
   "execution_count": 20,
   "metadata": {},
   "outputs": [
    {
     "data": {
      "image/png": "[encoded data removed]",
      "text/plain": [
       "<Figure size 640x480 with 1 Axes>"
      ]
     },
     "metadata": {},
     "output_type": "display_data"
    }
   ],
   "source": [
    "# plot degree centrality\n",
    "centrality_values2 = list(degree_centrality2.values())\n",
    "plt.hist(centrality_values2, edgecolor='k', alpha=0.7)\n",
    "plt.xlabel('Degree Centrality')\n",
    "plt.ylabel('Frequency')\n",
    "plt.title('Distribution of Degree Centrality')\n",
    "plt.show()\n"
   ]
  },
  {
   "cell_type": "code",
   "execution_count": 21,
   "metadata": {},
   "outputs": [
    {
     "name": "stdout",
     "output_type": "stream",
     "text": [
      "Mean Degree Centrality: 0.0005783704455376405\n",
      "Median Degree Centrality: 0.0001738299074355743\n",
      "Standard Deviation of Degree Centrality: 0.0064888479505552325\n"
     ]
    }
   ],
   "source": [
    "# descriptive statistics\n",
    "mean_centrality2 = np.mean(centrality_values2)\n",
    "median_centrality2 = np.median(centrality_values2)\n",
    "std_centrality2 = np.std(centrality_values2)\n",
    "\n",
    "print(f'Mean Degree Centrality: {mean_centrality2}')\n",
    "print(f'Median Degree Centrality: {median_centrality2}')\n",
    "print(f'Standard Deviation of Degree Centrality: {std_centrality2}')\n",
    "\n",
    "# Set a threshold based on the distribution\n",
    "# For example, use the mean or a multiple of the standard deviation\n",
    "threshold2 = mean_centrality2 + std_centrality2  # Example threshold"
   ]
  },
  {
   "cell_type": "code",
   "execution_count": 22,
   "metadata": {},
   "outputs": [],
   "source": [
    "filtered_nodes_D2 = [node for node, centrality in degree_centrality2.items() if centrality > threshold2]\n",
    "\n",
    "H2 = G2.subgraph(filtered_nodes_D2)\n"
   ]
  },
  {
   "cell_type": "code",
   "execution_count": 23,
   "metadata": {},
   "outputs": [
    {
     "name": "stdout",
     "output_type": "stream",
     "text": [
      "Community 1: ['addictionhumor', 'addictionskit', 'bars', 'blackedout', 'blackout', 'coughsyrup', 'dr00g', 'dr00gtiktok', 'drank', 'drunk', 'drvgaddiction', 'drvgzx', 'hammered', 'hangover', 'harmreduction', 'hungover', 'lean', 'leantok', 'm0lly', 'molly', 'opiates', 'percs', 'pinger', 'pingertok', 'pingerzzzz', 'pingtok', 'recovery', 'relapsehappens', 'shitfaced', 'sober', 'soberlife', 'sobriety', 'syrup', 'tipsy', 'wasted', 'wedorecover', 'xan', 'xans', 'xantok']\n",
      "Community 2: ['chronicpain', 'cleanandsober', 'detox', 'drugpolicy', 'drugrehab', 'endoverdose', 'fent', 'harmreductionsaveslives', 'harmreductiontips', 'harmreductionworks', 'heroin', 'methadoneclinic', 'na', 'naloxone', 'naloxonesaveslives', 'naltrexone', 'narcan', 'narcansaveslives', 'odaat', 'onedayatatime', 'opioidaddiction', 'opioidawareness', 'opioidcrisis', 'opioids', 'overdose', 'overdoseawareness', 'overdosecrisis', 'overdoseresponse', 'pain', 'pwud', 'safesupply', 'saynotodrugs', 'soberhouse', 'soberliving', 'sobrietybirthday', 'substanceabuse', 'substanceusedisorder']\n",
      "Community 3: ['acid', 'addiction', 'cannabis', 'cig', 'cigarette', 'cigarettes', 'cigs', 'ecig', 'ecigs', 'haf', 'high', 'hightimes', 'juul', 'lsdart', 'magicmushroomsadventures', 'mescaline', 'nicotine', 'nootropics', 'pot', 'psychedelictok', 'smartdrugs', 'smoking', 'stoned', 'stoner', 'stonertokfyp', 'tobacco', 'vape', 'vaped', 'vaper', 'vaping', 'weed']\n"
     ]
    }
   ],
   "source": [
    "# Perform clustering with Clauset-Newman-Moore algorithm\n",
    "communities2 = list(greedy_modularity_communities(H2))\n",
    "\n",
    "# Assign community labels to nodes\n",
    "community_dict2 = {}\n",
    "for i, community in enumerate(communities2):\n",
    "    for node in community:\n",
    "        community_dict2[node] = i\n",
    "\n",
    "# Add community information to the nodes in the graph\n",
    "nx.set_node_attributes(H2, community_dict2, 'community')\n",
    "\n",
    "# Print out the communities\n",
    "for i, community in enumerate(communities2):\n",
    "    print(f\"Community {i + 1}: {sorted(community)}\")"
   ]
  },
  {
   "cell_type": "code",
   "execution_count": 24,
   "metadata": {},
   "outputs": [],
   "source": [
    "nx.write_gexf(H2, 'triple_hits_filtered.gexf')"
   ]
  },
  {
   "cell_type": "code",
   "execution_count": 25,
   "metadata": {},
   "outputs": [
    {
     "data": {
      "image/png": "[encoded data removed]",
      "text/plain": [
       "<Figure size 640x480 with 1 Axes>"
      ]
     },
     "metadata": {},
     "output_type": "display_data"
    },
    {
     "name": "stdout",
     "output_type": "stream",
     "text": [
      "Mean Degree Centrality: 0.0011391684336007726\n",
      "Median Degree Centrality: 0.0003532819896841659\n",
      "Standard Deviation of Degree Centrality: 0.010455500072650259\n"
     ]
    }
   ],
   "source": [
    "# repeat for quadruple hits\n",
    "dat = pd.read_csv('quadruple_hits_edges_no_dupes.csv')\n",
    "\n",
    "G3 = nx.Graph()\n",
    "# Add edges with weights\n",
    "for i, row in dat.iterrows():\n",
    "    G3.add_edge(row['source'], row['target'], weight=row['weight'])\n",
    "\n",
    "degree_centrality3 = nx.degree_centrality(G3)\n",
    "\n",
    "# plot degree centrality\n",
    "centrality_values3 = list(degree_centrality3.values())\n",
    "plt.hist(centrality_values3, edgecolor='k', alpha=0.7)\n",
    "plt.xlabel('Degree Centrality')\n",
    "plt.ylabel('Frequency')\n",
    "plt.title('Distribution of Degree Centrality')\n",
    "plt.show()\n",
    "\n",
    "\n",
    "# descriptive statistics\n",
    "mean_centrality3 = np.mean(centrality_values3)\n",
    "median_centrality3 = np.median(centrality_values3)\n",
    "std_centrality3 = np.std(centrality_values3)\n",
    "\n",
    "print(f'Mean Degree Centrality: {mean_centrality3}')\n",
    "print(f'Median Degree Centrality: {median_centrality3}')\n",
    "print(f'Standard Deviation of Degree Centrality: {std_centrality3}')\n",
    "\n",
    "# Set a threshold based on the distribution\n",
    "threshold3 = mean_centrality3 + std_centrality3  \n"
   ]
  },
  {
   "cell_type": "code",
   "execution_count": 26,
   "metadata": {},
   "outputs": [
    {
     "name": "stdout",
     "output_type": "stream",
     "text": [
      "Community 1: ['acid', 'addiction', 'addictionhumor', 'addictionskit', 'bars', 'blackedout', 'blackout', 'cigs', 'coughsyrup', 'dr00g', 'dr00gtiktok', 'drank', 'drunk', 'drvgaddiction', 'hammered', 'harmreductionsaveslives', 'high', 'hungover', 'lean', 'molly', 'na', 'percs', 'pinger', 'pingertok', 'pingerzzzz', 'pingtok', 'psychedelictok', 'recovery', 'shitfaced', 'sober', 'soberlife', 'sobriety', 'sobrietybirthday', 'stonertokfyp', 'tipsy', 'wasted', 'wedorecover', 'xan']\n",
      "Community 2: ['chronicpain', 'cleanandsober', 'drugpolicy', 'drugrehab', 'endoverdose', 'fent', 'harmreductiontips', 'harmreductionworks', 'heroin', 'methadoneclinic', 'naloxone', 'naloxonesaveslives', 'naltrexone', 'narcan', 'narcansaveslives', 'odaat', 'onedayatatime', 'opiates', 'opioidaddiction', 'opioidawareness', 'opioidcrisis', 'opioids', 'overdose', 'overdoseawareness', 'overdosecrisis', 'pwud', 'relapsehappens', 'safesupply', 'soberhouse', 'soberliving', 'substanceabuse', 'substanceusedisorder']\n",
      "Community 3: ['cannabis', 'cigarette', 'cigarettes', 'detox', 'ecig', 'ecigs', 'harmreduction', 'hightimes', 'juul', 'lsdart', 'nicotine', 'pain', 'pot', 'smoking', 'stoned', 'stoner', 'tobacco', 'vape', 'vaper', 'vaping', 'weed']\n"
     ]
    }
   ],
   "source": [
    "# filter\n",
    "filtered_nodes_D3 = [node for node, centrality in degree_centrality3.items() if centrality > threshold3]\n",
    "\n",
    "H3 = G3.subgraph(filtered_nodes_D3)\n",
    "\n",
    "\n",
    "# Perform clustering with Clauset-Newman-Moore algorithm\n",
    "communities3 = list(greedy_modularity_communities(H3))\n",
    "\n",
    "# Assign community labels to nodes\n",
    "community_dict3 = {}\n",
    "for i, community in enumerate(communities3):\n",
    "    for node in community:\n",
    "        community_dict3[node] = i\n",
    "\n",
    "# Add community information to the nodes in the graph\n",
    "nx.set_node_attributes(H3, community_dict3, 'community')\n",
    "\n",
    "# Print out the communities\n",
    "for i, community in enumerate(communities3):\n",
    "    print(f\"Community {i + 1}: {sorted(community)}\")\n",
    "\n",
    "nx.write_gexf(H3, 'quadruple_hits_filtered.gexf')"
   ]
  },
  {
   "cell_type": "code",
   "execution_count": null,
   "metadata": {},
   "outputs": [],
   "source": []
  }
 ],
 "metadata": {
  "kernelspec": {
   "display_name": "base",
   "language": "python",
   "name": "python3"
  },
  "language_info": {
   "codemirror_mode": {
    "name": "ipython",
    "version": 3
   },
   "file_extension": ".py",
   "mimetype": "text/x-python",
   "name": "python",
   "nbconvert_exporter": "python",
   "pygments_lexer": "ipython3",
   "version": "3.9.13"
  }
 },
 "nbformat": 4,
 "nbformat_minor": 2
}
