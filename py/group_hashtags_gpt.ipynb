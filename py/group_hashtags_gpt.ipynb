{
 "cells": [
  {
   "cell_type": "code",
   "execution_count": 1,
   "metadata": {},
   "outputs": [],
   "source": [
    "import pandas as pd\n",
    "import numpy as np\n",
    "import openai\n",
    "import json\n",
    "\n",
    "# our groupings\n",
    "seed_hashtags = pd.read_csv(\"community-grouping_20240809.csv\")\n",
    "# all hashtags double hit\n",
    "dat = pd.read_csv('double_hits_edges_no_dupes.csv')\n",
    "\n",
    "# open the secrets file\n",
    "with open('secrets.json') as f:\n",
    "    secrets = json.load(f)\n",
    "\n",
    "api_key = secrets['OPENAI_API_KEY_SR']\n",
    "\n",
    "client = openai.Client(api_key=api_key)"
   ]
  },
  {
   "cell_type": "markdown",
   "metadata": {},
   "source": [
    "---\n",
    "## IRR reliability with human annotation"
   ]
  },
  {
   "cell_type": "code",
   "execution_count": 7,
   "metadata": {},
   "outputs": [
    {
     "name": "stdout",
     "output_type": "stream",
     "text": [
      "Index(['cannabis', 'platform', 'cognitive enhancement', 'tobacco/nicotine',\n",
      "       'drug policy/law', 'Recovery', 'Emotion', 'commonly-misused substances',\n",
      "       'other substances', 'substance effects', 'consumption method',\n",
      "       'alcohol', 'Medical/Health Conditions', 'prevention/harm reduction'],\n",
      "      dtype='object')\n"
     ]
    }
   ],
   "source": [
    "themes = seed_hashtags.columns[1:]\n",
    "print(themes)"
   ]
  },
  {
   "cell_type": "code",
   "execution_count": 8,
   "metadata": {},
   "outputs": [
    {
     "name": "stdout",
     "output_type": "stream",
     "text": [
      "['fyp', 'fypシ', 'fypシ゚viral', 'greenscreen', 'meme', 'tiktok', 'viral', 'trending', 'capcut', 'duet', 'stitch', 'foryou', 'foryoupage', 'foryourpage', 'xyzbca', 'trend', 'love', 'pain', 'addictionhumor', 'funny', 'adtiction', 'addiction', 'stoned', 'high', 'wasted', 'blackedout', 'highasfuck', 'haf', 'shitfaced', 'tipsy', 'drunk', 'hammered', 'blackout', 'substanceabuse', 'substanceusedisorder', 'nootrostatic', 'nootropics', 'smartdrugs', 'smartpills', 'cognitiveenhancers', 'modafinil', 'hightimes', 'opioids', 'opiates', 'heroin', 'fent', 'fentfriday', 'xans', 'xanny', 'xantok', 'xandemic', 'm0lly', 'molly', 'percs', 'percoset', 'perc30s', 'lean', 'leantok', 'acid', 'mescaline', 'pinger', 'pingertok', 'pingtok', 'pingerzzzz', 'emma', 'gurning', 'gurner', 'drank', 'thatdrank', 'bars', '30s', '40s', '512s', 'yellows', 'biak', 'epills', 'psychedelictok', 'lsdart', 'magicmushroomsadventures', 'libcaps', 'libertycapss', 'thom', 'vaping', 'vaper', 'vape', 'ecig', 'ecigs', 'juul', 'cigarettes', 'cigarette', 'cig', 'cigs', 'tobacco', 'nicotine', 'smoking', 'weed', 'pot', 'cannabis', 'greens', 'stonersoftiktok', 'stonervibes', 'stoner', 'laganjaestranja', '420vibes', 'sobriety', 'sober', 'soberliving', 'soberlife', 'cleanandsober', 'recovery', 'onedayatatime', 'odaat', 'na', 'detox', 'sobrietybirthday', 'soberhouse', 'wedorecover', 'relapsehappens', 'mentalhealth', 'chronicpain', 'chronicpainsufferers', 'opioidawareness', 'opioidcrisis', 'overdoseawareness', 'overdosecrisis', 'harmreduction', 'harmreductionworks', 'harmreductiontips', 'harmreductionsaveslives', 'narcan', 'narcansaveslives', 'naloxone', 'naloxonesaveslives', 'safesupply', 'endoverdose', 'overdoseresponse', 'methadoneclinic', 'naltrexone', 'drugrehab', 'opioidaddiction', 'druglaws', 'drugpolicy', 'pwud', 'alcohol', 'alcoholic', 'alcoholism', 'alcoholfreejourney', 'vitamins', 'suplements', 'creatine', 'magnesium', 'magnesiumglycinate', 'vitamink', 'tylenol', 'disprin', 'ayurveda', 'headache', 'migraine', 'tylenoltuesday', 'ibuprofen']\n"
     ]
    }
   ],
   "source": [
    "hashtag_list = seed_hashtags['Node'].tolist()\n",
    "print(hashtag_list)"
   ]
  },
  {
   "cell_type": "code",
   "execution_count": 11,
   "metadata": {},
   "outputs": [
    {
     "name": "stdout",
     "output_type": "stream",
     "text": [
      "Converted tags:\n",
      "['funny', 'love', 'adtiction', 'sobriety', 'alcohol', 'weed', 'cognitiveenhancers', 'opioids', 'smoking', 'druglaws', 'vitamins', 'fyp', 'opioidawareness', 'stoned', 'vaping', 'addictionhumor', 'pain', 'addiction', 'sober', 'alcoholic', 'pot', 'modafinil', 'opiates', 'drinking', 'drugpolicy', 'suplements', 'fyp„Ç∑', 'opioidcrisis', 'high', 'vaper', 'meme', 'hope', 'substanceabuse', 'soberliving', 'alcoholism', 'cannabis', 'nootropics', 'heroin', 'drink', 'pwud', 'creatine', 'fyp„Ç∑„Çöviral', 'overdoseawareness', 'wasted', 'vape', 'struggle', 'substanceusedisorder', 'soberlife', 'alcoholfreejourney', 'greens', 'nootrostatic', 'fent', 'shmokesumthin', 'pwuds', 'magnesium', 'greenscreen', 'overdosecrisis', 'blackedout', 'ecig', 'kindness', 'mentalhealth', 'cleanandsober', 'beers', 'stonersoftiktok', 'smartdrugs', 'fentfriday', 'shmoketok', 'magnesiumglycinate', 'tiktok', 'harmreduction', 'highasfuck', 'ecigs', 'lovemyself', 'chronicpain', 'recovery', 'alchohol', 'stonervibes', 'smartpills', 'xans', 'shmoke', 'vitamink', 'viral', 'harmreductionworks', 'haf', 'juul', 'happytobealive', 'chronicpainsufferers', 'onedayatatime', 'vodka', 'stoner', 'adderral', 'xanny', 'shmoketok', 'tylenol', 'trending', 'harmreductiontips', 'shitfaced', 'cigarettes', 'trauma', 'headache', 'odaat', 'whiskey', 'laganjaestranja', 'addy', 'xantok', 'keepsmokingtheherb', 'disprin', 'capcut', 'harmreductionsaveslives', 'tipsy', 'cigarette', 'loveyall', 'migraine', 'na', 'cocktails', '420vibes', 'cerebrolysin', 'xandemic', 'drinkingtools', 'ayurveda', 'duet', 'narcan', 'drunk', 'cig', 'vibes', 'addicted', 'detox', 'wine', 'dabs', 'm0lly', 'injection', 'tylenoltuesday', 'stitch', 'narcansaveslives', 'hammered', 'cigs', 'happy', 'bpd', 'sobrietybirthday', 'liquor', 'wax', 'molly', 'injectinguser', 'ibuprofen', 'foryou', 'naloxone', 'blackout', 'tobacco', 'gratitude', 'bpdtiktok', 'soberhouse', 'tequila', 'shmeeds', 'percs', 'inhaler', 'coughsyrup', 'foryoupage', 'naloxonesaveslives', 'hightimes', 'nicotine', 'fear', 'addictionisreal', 'wedorecover', 'booze', 'percoset', 'inhaling', 'overthecounter', 'foryourpage', 'safesupply', 'gurning', 'nicotinefein', 'makesomeonesmile', 'ptsd', 'relapsehappens', 'chugbeer', 'perc30s', 'keepsmoking', 'ibuprofeno', 'xyzbca', 'endoverdose', 'gurner', 'nicotinegum', 'depression', 'methadoneclinic', 'beerfunnel', 'lean', 'inhalation', 'collagen', 'trend', 'overdoseresponse', 'drunkaf', 'nicorettepatch', 'anxiety', 'naltrexone', 'drinkinggames', 'leantok', 'opioidaddiction', 'chronicpainwarrior', 'drugrehab', 'wildmandrinking', 'acid', 'stopsmoking', 'allergy', 'dropthosedates', 'mescaline', 'smokingkills', 'infection', 'matsaves', 'pinger', 'quitnicotine', 'allergies', 'stopthestigma', 'pingertok', 'stopvapping', 'seizures', 'pingtok', 'quitvapping', 'epilespy', 'pingerzzzz', 'depressionandanxiety', 'emma', 'insomnia', 'drank', 'fever', 'thatdrank', 'cough', 'bars', 'asthma', '30s', 'sorethroat', '40s', 'flu', '512s', 'fluseason', 'yellows', 'bronchitis', 'biak', 'epills', 'psychedelictok', 'lsdart', 'magicmushroomsadventures', 'libcaps', 'libertycapss', 'thom', 'nosebeers', 'c0deine', 'inhalants', 'inhalantsaddiction', 'whippets', 'whipit', 'balloons']\n",
      "\n",
      "Total number of tags: 251\n"
     ]
    }
   ],
   "source": [
    "def convert_to_tags(input_string):\n",
    "    # Split the input string into lines\n",
    "    lines = input_string.strip().split('\\n')\n",
    "    \n",
    "    # Process each line\n",
    "    tags = []\n",
    "    for line in lines:\n",
    "        # Split each line into words\n",
    "        words = line.split()\n",
    "        # Add each word as a tag\n",
    "        tags.extend(f'{word}' for word in words)\n",
    "    \n",
    "    # # Join the tags with commas\n",
    "    # result = ', '.join(tags)\n",
    "    \n",
    "    # Count the total number of tags\n",
    "    tag_count = len(tags)\n",
    "    \n",
    "    return tags, tag_count\n",
    "\n",
    "# Example input\n",
    "input_string = \"\"\"funny\tlove\tadtiction\tsobriety\talcohol\tweed\tcognitiveenhancers\topioids\tsmoking\tdruglaws\tvitamins\tfyp\topioidawareness\tstoned\tvaping\n",
    "addictionhumor\tpain\taddiction\tsober\talcoholic\tpot\tmodafinil\topiates\tdrinking\tdrugpolicy\tsuplements\tfyp„Ç∑\topioidcrisis\thigh\tvaper\n",
    "meme\thope\tsubstanceabuse\tsoberliving\talcoholism\tcannabis\tnootropics\theroin\tdrink\tpwud\tcreatine\tfyp„Ç∑„Çöviral\toverdoseawareness\twasted\tvape\n",
    "\tstruggle\tsubstanceusedisorder\tsoberlife\talcoholfreejourney\tgreens\tnootrostatic\tfent\tshmokesumthin\tpwuds\tmagnesium\tgreenscreen\toverdosecrisis\tblackedout\tecig\n",
    "\tkindness\tmentalhealth\tcleanandsober\tbeers\tstonersoftiktok\tsmartdrugs\tfentfriday\tshmoketok\t\tmagnesiumglycinate\ttiktok\tharmreduction\thighasfuck\tecigs\n",
    "\tlovemyself\tchronicpain\trecovery\talchohol\tstonervibes\tsmartpills\txans\tshmoke\t\tvitamink\tviral\tharmreductionworks\thaf\tjuul\n",
    "\thappytobealive\tchronicpainsufferers\tonedayatatime\tvodka\tstoner\tadderral\txanny\tshmoketok\t\ttylenol\ttrending\tharmreductiontips\tshitfaced\tcigarettes\n",
    "\ttrauma\theadache\todaat\twhiskey\tlaganjaestranja\taddy\txantok\tkeepsmokingtheherb\t\tdisprin\tcapcut\tharmreductionsaveslives\ttipsy\tcigarette\n",
    "\tloveyall\tmigraine\tna\tcocktails\t420vibes\tcerebrolysin\txandemic\tdrinkingtools\t\tayurveda\tduet\tnarcan\tdrunk\tcig\n",
    "\tvibes\taddicted\tdetox\twine\tdabs\t\tm0lly\tinjection\t\ttylenoltuesday\tstitch\tnarcansaveslives\thammered\tcigs\n",
    "\thappy\tbpd\tsobrietybirthday\tliquor\twax\t\tmolly\tinjectinguser\t\tibuprofen\tforyou\tnaloxone\tblackout\ttobacco\n",
    "\tgratitude\tbpdtiktok\tsoberhouse\ttequila\tshmeeds\t\tpercs\tinhaler\t\tcoughsyrup\tforyoupage\tnaloxonesaveslives\thightimes\tnicotine\n",
    "\tfear\taddictionisreal\twedorecover\tbooze\t\t\tpercoset\tinhaling\t\toverthecounter\tforyourpage\tsafesupply\tgurning\tnicotinefein\n",
    "\tmakesomeonesmile\tptsd\trelapsehappens\tchugbeer\t\t\tperc30s\tkeepsmoking\t\tibuprofeno\txyzbca\tendoverdose\tgurner\tnicotinegum\n",
    "\t\tdepression\tmethadoneclinic\tbeerfunnel\t\t\tlean\tinhalation\t\tcollagen\ttrend\toverdoseresponse\tdrunkaf\tnicorettepatch\n",
    "\t\tanxiety\tnaltrexone\tdrinkinggames\t\t\tleantok\t\t\t\t\topioidaddiction\t\t\n",
    "\t\tchronicpainwarrior\tdrugrehab\twildmandrinking\t\t\tacid\t\t\t\t\tstopsmoking\t\t\n",
    "\t\tallergy\tdropthosedates\t\t\t\tmescaline\t\t\t\t\tsmokingkills\t\t\n",
    "\t\tinfection\tmatsaves\t\t\t\tpinger\t\t\t\t\tquitnicotine\t\t\n",
    "\t\tallergies\tstopthestigma\t\t\t\tpingertok\t\t\t\t\tstopvapping\t\t\n",
    "\t\tseizures\t\t\t\t\tpingtok\t\t\t\t\tquitvapping\t\t\n",
    "\t\tepilespy\t\t\t\t\tpingerzzzz\t\t\t\t\t\t\t\n",
    "\t\tdepressionandanxiety\t\t\t\t\temma\t\t\t\t\t\t\t\n",
    "\t\tinsomnia\t\t\t\t\tdrank\t\t\t\t\t\t\t\n",
    "\t\tfever\t\t\t\t\tthatdrank\t\t\t\t\t\t\t\n",
    "\t\tcough\t\t\t\t\tbars\t\t\t\t\t\t\t\n",
    "\t\tasthma\t\t\t\t\t30s\t\t\t\t\t\t\t\n",
    "\t\tsorethroat\t\t\t\t\t40s\t\t\t\t\t\t\t\n",
    "\t\tflu\t\t\t\t\t512s\t\t\t\t\t\t\t\n",
    "\t\tfluseason\t\t\t\t\tyellows\t\t\t\t\t\t\t\n",
    "\t\tbronchitis\t\t\t\t\tbiak\t\t\t\t\t\t\t\n",
    "\t\t\t\t\t\t\tepills\t\t\t\t\t\t\t\n",
    "\t\t\t\t\t\t\tpsychedelictok\t\t\t\t\t\t\t\n",
    "\t\t\t\t\t\t\tlsdart\t\t\t\t\t\t\t\n",
    "\t\t\t\t\t\t\tmagicmushroomsadventures\t\t\t\t\t\t\t\n",
    "\t\t\t\t\t\t\tlibcaps\t\t\t\t\t\t\t\n",
    "\t\t\t\t\t\t\tlibertycapss\t\t\t\t\t\t\t\n",
    "\t\t\t\t\t\t\tthom\t\t\t\t\t\t\t\n",
    "\t\t\t\t\t\t\tnosebeers\t\t\t\t\t\t\t\n",
    "\t\t\t\t\t\t\tc0deine\t\t\t\t\t\t\t\n",
    "\t\t\t\t\t\t\tinhalants\t\t\t\t\t\t\t\n",
    "\t\t\t\t\t\t\tinhalantsaddiction\t\t\t\t\t\t\t\n",
    "\t\t\t\t\t\t\twhippets\t\t\t\t\t\t\t\n",
    "\t\t\t\t\t\t\twhipit\t\t\t\t\t\t\t\n",
    "\t\t\t\t\t\t\tballoons\t\t\t\t\t\t\t\"\"\"\n",
    "\n",
    "# Convert and print the result\n",
    "result, count = convert_to_tags(input_string)\n",
    "print(\"Converted tags:\")\n",
    "print(result)\n",
    "print(f\"\\nTotal number of tags: {count}\")"
   ]
  },
  {
   "cell_type": "code",
   "execution_count": 2,
   "metadata": {},
   "outputs": [
    {
     "name": "stdout",
     "output_type": "stream",
     "text": [
      "250\n"
     ]
    }
   ],
   "source": [
    "all_human_tags_string = \"\"\"\n",
    "30s\n",
    "40s\n",
    "420vibes\n",
    "512s\n",
    "acid\n",
    "adderral\n",
    "addicted\n",
    "addiction\n",
    "addictionhumor\n",
    "addictionisreal\n",
    "addy\n",
    "adtiction\n",
    "alchohol\n",
    "alcohol\n",
    "alcoholfreejourney\n",
    "alcoholic\n",
    "alcoholism\n",
    "allergies\n",
    "allergy\n",
    "anxiety\n",
    "asthma\n",
    "ayurveda\n",
    "balloons\n",
    "bars\n",
    "beerfunnel\n",
    "beers\n",
    "biak\n",
    "blackedout\n",
    "blackout\n",
    "booze\n",
    "bpd\n",
    "bpdtiktok\n",
    "bronchitis\n",
    "c0deine\n",
    "cannabis\n",
    "capcut\n",
    "cerebrolysin\n",
    "chronicpain\n",
    "chronicpainsufferers\n",
    "chronicpainwarrior\n",
    "chugbeer\n",
    "cig\n",
    "cigarette\n",
    "cigarettes\n",
    "cigs\n",
    "cleanandsober\n",
    "cocktails\n",
    "cognitiveenhancers\n",
    "collagen\n",
    "cough\n",
    "coughsyrup\n",
    "creatine\n",
    "dabs\n",
    "depression\n",
    "depressionandanxiety\n",
    "detox\n",
    "disprin\n",
    "drank\n",
    "drink\n",
    "drinking\n",
    "drinkinggames\n",
    "drinkingtools\n",
    "dropthosedates\n",
    "druglaws\n",
    "drugpolicy\n",
    "drugrehab\n",
    "drunk\n",
    "drunkaf\n",
    "duet\n",
    "ecig\n",
    "ecigs\n",
    "emma\n",
    "endoverdose\n",
    "epilespy\n",
    "epills\n",
    "fear\n",
    "fent\n",
    "fentfriday\n",
    "fever\n",
    "flu\n",
    "fluseason\n",
    "foryou\n",
    "foryoupage\n",
    "foryourpage\n",
    "funny\n",
    "fyp\n",
    "fyp„Ç∑\n",
    "fyp„Ç∑„Çöviral\n",
    "gratitude\n",
    "greens\n",
    "greenscreen\n",
    "gurner\n",
    "gurning\n",
    "haf\n",
    "hammered\n",
    "happy\n",
    "happytobealive\n",
    "harmreduction\n",
    "harmreductionsaveslives\n",
    "harmreductiontips\n",
    "harmreductionworks\n",
    "headache\n",
    "heroin\n",
    "high\n",
    "highasfuck\n",
    "hightimes\n",
    "hope\n",
    "ibuprofen\n",
    "ibuprofeno\n",
    "infection\n",
    "inhalants\n",
    "inhalantsaddiction\n",
    "inhalation\n",
    "inhaler\n",
    "inhaling\n",
    "injectinguser\n",
    "injection\n",
    "insomnia\n",
    "juul\n",
    "keepsmoking\n",
    "keepsmokingtheherb\n",
    "kindness\n",
    "laganjaestranja\n",
    "lean\n",
    "leantok\n",
    "libcaps\n",
    "libertycapss\n",
    "liquor\n",
    "love\n",
    "lovemyself\n",
    "loveyall\n",
    "lsdart\n",
    "m0lly\n",
    "magicmushroomsadventures\n",
    "magnesium\n",
    "magnesiumglycinate\n",
    "makesomeonesmile\n",
    "matsaves\n",
    "meme\n",
    "mentalhealth\n",
    "mescaline\n",
    "methadoneclinic\n",
    "migraine\n",
    "modafinil\n",
    "molly\n",
    "na\n",
    "naloxone\n",
    "naloxonesaveslives\n",
    "naltrexone\n",
    "narcan\n",
    "narcansaveslives\n",
    "nicorettepatch\n",
    "nicotine\n",
    "nicotinefein\n",
    "nicotinegum\n",
    "nootropics\n",
    "nootrostatic\n",
    "nosebeers\n",
    "odaat\n",
    "onedayatatime\n",
    "opiates\n",
    "opioidaddiction\n",
    "opioidawareness\n",
    "opioidcrisis\n",
    "opioids\n",
    "overdoseawareness\n",
    "overdosecrisis\n",
    "overdoseresponse\n",
    "overthecounter\n",
    "pain\n",
    "perc30s\n",
    "percoset\n",
    "percs\n",
    "pinger\n",
    "pingertok\n",
    "pingerzzzz\n",
    "pingtok\n",
    "pot\n",
    "psychedelictok\n",
    "ptsd\n",
    "pwud\n",
    "pwuds\n",
    "quitnicotine\n",
    "quitvapping\n",
    "recovery\n",
    "relapsehappens\n",
    "safesupply\n",
    "seizures\n",
    "shitfaced\n",
    "shmeeds\n",
    "shmoke\n",
    "shmokesumthin\n",
    "shmoketok\n",
    "smartdrugs\n",
    "smartpills\n",
    "smoking\n",
    "smokingkills\n",
    "sober\n",
    "soberhouse\n",
    "soberlife\n",
    "soberliving\n",
    "sobriety\n",
    "sobrietybirthday\n",
    "sorethroat\n",
    "stitch\n",
    "stoned\n",
    "stoner\n",
    "stonersoftiktok\n",
    "stonervibes\n",
    "stopsmoking\n",
    "stopthestigma\n",
    "stopvapping\n",
    "struggle\n",
    "substanceabuse\n",
    "substanceusedisorder\n",
    "suplements\n",
    "tequila\n",
    "thatdrank\n",
    "thom\n",
    "tiktok\n",
    "tipsy\n",
    "tobacco\n",
    "trauma\n",
    "trend\n",
    "trending\n",
    "tylenol\n",
    "tylenoltuesday\n",
    "vape\n",
    "vaper\n",
    "vaping\n",
    "vibes\n",
    "viral\n",
    "vitamink\n",
    "vitamins\n",
    "vodka\n",
    "wasted\n",
    "wax\n",
    "wedorecover\n",
    "weed\n",
    "whipit\n",
    "whippets\n",
    "whiskey\n",
    "wildmandrinking\n",
    "wine\n",
    "xandemic\n",
    "xanny\n",
    "xans\n",
    "xantok\n",
    "xyzbca\n",
    "yellows\"\"\"\n",
    "all_human_tags = [tag.strip() for tag in all_human_tags_string.split('\\n') if tag.strip()]\n",
    "print(len(all_human_tags))"
   ]
  },
  {
   "cell_type": "code",
   "execution_count": 3,
   "metadata": {},
   "outputs": [
    {
     "name": "stdout",
     "output_type": "stream",
     "text": [
      "No duplicate tags found.\n"
     ]
    }
   ],
   "source": [
    "from collections import Counter\n",
    "\n",
    "# Assuming all_human_tags is your list of tags\n",
    "tag_counts = Counter(all_human_tags)\n",
    "\n",
    "# Find duplicates (tags that appear more than once)\n",
    "duplicates = [tag for tag, count in tag_counts.items() if count > 1]\n",
    "\n",
    "if duplicates:\n",
    "    print(\"Duplicate tags found:\")\n",
    "    for tag in duplicates:\n",
    "        print(f\"{tag}: {tag_counts[tag]} occurrences\")\n",
    "else:\n",
    "    print(\"No duplicate tags found.\")"
   ]
  },
  {
   "cell_type": "code",
   "execution_count": 4,
   "metadata": {},
   "outputs": [],
   "source": [
    "prompt_template = \"\"\"\"\n",
    "Instruction: You are an expert linguist, specializing in content related to substances and drug use. Your task is to semantically categorize phrase or hashtag from TikTok that have been associated with drug-related content. Here are the 15 defined categories:\n",
    "\n",
    "Cannabis: Content related to marijuana, including recreational and medicinal use.\n",
    "Platform Engagement: Tags and features specific to social media engagement, visibility, and trending tactics.\n",
    "Cognitive Enhancement: Content about nootropics, smart drugs, and methods to improve cognitive function.\n",
    "Tobacco/Nicotine: Topics related to tobacco products, cigarettes, vaping, and nicotine use.\n",
    "Drug Policy/Law: Discussions about drug laws, policies, and related social issues.\n",
    "Recovery: Content about addiction recovery, sobriety, and support systems.\n",
    "Emotion: Tags related to emotional states.\n",
    "Humor: Tags related to humorous content.\n",
    "commonly-misused substances: Recognize references to frequently abused drugs, including slang terms and euphemisms.\n",
    "Other Substances: Mentions of less common substances, oftentimes legal, over-the-counter medications, herbal remedies, or supplements.\n",
    "Substance Effects: Tags related to physical or mental effects of substance use. This includes both desired effects and side effects.\n",
    "Consumption Method: Specific ways in which substances are ingested, administered, or used.\n",
    "Alcohol: Content related to alcohol consumption and its effects\n",
    "Medical/Health Conditions: Themes about health issues directly related to substance use, addiction-related health problems, or chronic conditions that may lead to substance use. Tags related to health issues stemming from substance use or conditions that might lead to substance use.\n",
    "Prevention/Harm Reduction: Information and strategies to prevent substance abuse or reduce associated harm\n",
    "\n",
    "Task: Categorize the hashtag provided below into exactly one of the 15 categories: Humor, Emotion, Medical/Health Conditions,Recovery,Alcohol, cannabis, cognitive enhancement, commonly-misused substances, consumption method, drug policy/law, other substances, platform, prevention/harm reduction, substance effects, tobacco/nicotine. Do not make new categories and only use the ones provided to you. Do not change any spellings of the hashtag or categories. Do not give me any explanations. Present your results in a clear, organized format, listing the hashtag followed by its assigned category: \"Hashtag: (the predicted hashtag), Category: (the predicted category)\"\n",
    "\n",
    "Hashtag: {hashtag}\n",
    "\"\"\""
   ]
  },
  {
   "cell_type": "code",
   "execution_count": 5,
   "metadata": {},
   "outputs": [
    {
     "name": "stderr",
     "output_type": "stream",
     "text": [
      "Classifying hashtags:   0%|          | 1/250 [00:01<05:12,  1.26s/hashtag]"
     ]
    },
    {
     "name": "stdout",
     "output_type": "stream",
     "text": [
      "Hashtag: 30s, Category: Emotion\n"
     ]
    },
    {
     "name": "stderr",
     "output_type": "stream",
     "text": [
      "Classifying hashtags:   1%|          | 2/250 [00:02<05:32,  1.34s/hashtag]"
     ]
    },
    {
     "name": "stdout",
     "output_type": "stream",
     "text": [
      "Hashtag: 40s, Category: Alcohol\n"
     ]
    },
    {
     "name": "stderr",
     "output_type": "stream",
     "text": [
      "Classifying hashtags:   1%|          | 3/250 [00:03<03:46,  1.09hashtag/s]"
     ]
    },
    {
     "name": "stdout",
     "output_type": "stream",
     "text": [
      "Hashtag: 420vibes, Category: Cannabis\n"
     ]
    },
    {
     "name": "stderr",
     "output_type": "stream",
     "text": [
      "Classifying hashtags:   2%|▏         | 4/250 [00:03<03:04,  1.33hashtag/s]"
     ]
    },
    {
     "name": "stdout",
     "output_type": "stream",
     "text": [
      "Hashtag: 512s, Category: commonly-misused substances\n"
     ]
    },
    {
     "name": "stderr",
     "output_type": "stream",
     "text": [
      "Classifying hashtags:   2%|▏         | 5/250 [00:04<03:36,  1.13hashtag/s]"
     ]
    },
    {
     "name": "stdout",
     "output_type": "stream",
     "text": [
      "Hashtag: acid, Category: commonly-misused substances\n"
     ]
    },
    {
     "name": "stderr",
     "output_type": "stream",
     "text": [
      "Classifying hashtags:   2%|▏         | 6/250 [00:05<03:13,  1.26hashtag/s]"
     ]
    },
    {
     "name": "stdout",
     "output_type": "stream",
     "text": [
      "Hashtag: adderral, Category: commonly-misused substances\n"
     ]
    },
    {
     "name": "stderr",
     "output_type": "stream",
     "text": [
      "Classifying hashtags:   3%|▎         | 7/250 [00:05<02:58,  1.36hashtag/s]"
     ]
    },
    {
     "name": "stdout",
     "output_type": "stream",
     "text": [
      "Hashtag: addicted, Category: Medical/Health Conditions\n"
     ]
    },
    {
     "name": "stderr",
     "output_type": "stream",
     "text": [
      "Classifying hashtags:   3%|▎         | 8/250 [00:06<02:43,  1.48hashtag/s]"
     ]
    },
    {
     "name": "stdout",
     "output_type": "stream",
     "text": [
      "Hashtag: addiction, Category: Medical/Health Conditions\n"
     ]
    },
    {
     "name": "stderr",
     "output_type": "stream",
     "text": [
      "Classifying hashtags:   4%|▎         | 9/250 [00:06<02:27,  1.63hashtag/s]"
     ]
    },
    {
     "name": "stdout",
     "output_type": "stream",
     "text": [
      "Hashtag: addictionhumor, Category: Humor\n"
     ]
    },
    {
     "name": "stderr",
     "output_type": "stream",
     "text": [
      "Classifying hashtags:   4%|▍         | 10/250 [00:07<02:20,  1.71hashtag/s]"
     ]
    },
    {
     "name": "stdout",
     "output_type": "stream",
     "text": [
      "Hashtag: addictionisreal, Category: Medical/Health Conditions\n"
     ]
    },
    {
     "name": "stderr",
     "output_type": "stream",
     "text": [
      "Classifying hashtags:   4%|▍         | 11/250 [00:08<02:21,  1.69hashtag/s]"
     ]
    },
    {
     "name": "stdout",
     "output_type": "stream",
     "text": [
      "Hashtag: addy, Category: commonly-misused substances\n"
     ]
    },
    {
     "name": "stderr",
     "output_type": "stream",
     "text": [
      "Classifying hashtags:   5%|▍         | 12/250 [00:08<02:22,  1.67hashtag/s]"
     ]
    },
    {
     "name": "stdout",
     "output_type": "stream",
     "text": [
      "Hashtag: adtiction, Category: commonly-misused substances\n"
     ]
    },
    {
     "name": "stderr",
     "output_type": "stream",
     "text": [
      "Classifying hashtags:   5%|▌         | 13/250 [00:09<02:22,  1.66hashtag/s]"
     ]
    },
    {
     "name": "stdout",
     "output_type": "stream",
     "text": [
      "Hashtag: alchohol, Category: Alcohol\n"
     ]
    },
    {
     "name": "stderr",
     "output_type": "stream",
     "text": [
      "Classifying hashtags:   6%|▌         | 14/250 [00:09<02:15,  1.74hashtag/s]"
     ]
    },
    {
     "name": "stdout",
     "output_type": "stream",
     "text": [
      "Hashtag: alcohol, Category: Alcohol\n"
     ]
    },
    {
     "name": "stderr",
     "output_type": "stream",
     "text": [
      "Classifying hashtags:   6%|▌         | 15/250 [00:10<02:10,  1.80hashtag/s]"
     ]
    },
    {
     "name": "stdout",
     "output_type": "stream",
     "text": [
      "Hashtag: alcoholfreejourney, Category: Recovery\n"
     ]
    },
    {
     "name": "stderr",
     "output_type": "stream",
     "text": [
      "Classifying hashtags:   6%|▋         | 16/250 [00:10<02:06,  1.84hashtag/s]"
     ]
    },
    {
     "name": "stdout",
     "output_type": "stream",
     "text": [
      "Hashtag: alcoholic, Category: Alcohol\n"
     ]
    },
    {
     "name": "stderr",
     "output_type": "stream",
     "text": [
      "Classifying hashtags:   7%|▋         | 17/250 [00:11<01:57,  1.99hashtag/s]"
     ]
    },
    {
     "name": "stdout",
     "output_type": "stream",
     "text": [
      "Hashtag: alcoholism, Category: Alcohol\n"
     ]
    },
    {
     "name": "stderr",
     "output_type": "stream",
     "text": [
      "Classifying hashtags:   7%|▋         | 18/250 [00:11<01:56,  1.99hashtag/s]"
     ]
    },
    {
     "name": "stdout",
     "output_type": "stream",
     "text": [
      "Hashtag: allergies, Category: Medical/Health Conditions\n"
     ]
    },
    {
     "name": "stderr",
     "output_type": "stream",
     "text": [
      "Classifying hashtags:   8%|▊         | 19/250 [00:12<01:57,  1.97hashtag/s]"
     ]
    },
    {
     "name": "stdout",
     "output_type": "stream",
     "text": [
      "Hashtag: allergy, Category: Medical/Health Conditions\n"
     ]
    },
    {
     "name": "stderr",
     "output_type": "stream",
     "text": [
      "Classifying hashtags:   8%|▊         | 20/250 [00:12<02:04,  1.85hashtag/s]"
     ]
    },
    {
     "name": "stdout",
     "output_type": "stream",
     "text": [
      "Hashtag: anxiety, Category: Medical/Health Conditions\n"
     ]
    },
    {
     "name": "stderr",
     "output_type": "stream",
     "text": [
      "Classifying hashtags:   8%|▊         | 21/250 [00:13<02:01,  1.88hashtag/s]"
     ]
    },
    {
     "name": "stdout",
     "output_type": "stream",
     "text": [
      "Hashtag: asthma, Category: Medical/Health Conditions\n"
     ]
    },
    {
     "name": "stderr",
     "output_type": "stream",
     "text": [
      "Classifying hashtags:   9%|▉         | 22/250 [00:14<02:06,  1.80hashtag/s]"
     ]
    },
    {
     "name": "stdout",
     "output_type": "stream",
     "text": [
      "Hashtag: ayurveda, Category: Other Substances\n"
     ]
    },
    {
     "name": "stderr",
     "output_type": "stream",
     "text": [
      "Classifying hashtags:   9%|▉         | 23/250 [00:14<02:00,  1.89hashtag/s]"
     ]
    },
    {
     "name": "stdout",
     "output_type": "stream",
     "text": [
      "Hashtag: balloons, Category: commonly-misused substances\n"
     ]
    },
    {
     "name": "stderr",
     "output_type": "stream",
     "text": [
      "Classifying hashtags:  10%|▉         | 24/250 [00:15<02:01,  1.86hashtag/s]"
     ]
    },
    {
     "name": "stdout",
     "output_type": "stream",
     "text": [
      "Hashtag: bars, Category: commonly-misused substances\n"
     ]
    },
    {
     "name": "stderr",
     "output_type": "stream",
     "text": [
      "Classifying hashtags:  10%|█         | 25/250 [00:15<01:59,  1.88hashtag/s]"
     ]
    },
    {
     "name": "stdout",
     "output_type": "stream",
     "text": [
      "Hashtag: beerfunnel, Category: Alcohol\n"
     ]
    },
    {
     "name": "stderr",
     "output_type": "stream",
     "text": [
      "Classifying hashtags:  10%|█         | 26/250 [00:16<01:57,  1.91hashtag/s]"
     ]
    },
    {
     "name": "stdout",
     "output_type": "stream",
     "text": [
      "Hashtag: beers, Category: Alcohol\n"
     ]
    },
    {
     "name": "stderr",
     "output_type": "stream",
     "text": [
      "Classifying hashtags:  11%|█         | 27/250 [00:16<02:03,  1.81hashtag/s]"
     ]
    },
    {
     "name": "stdout",
     "output_type": "stream",
     "text": [
      "Hashtag: biak, Category: other substances\n"
     ]
    },
    {
     "name": "stderr",
     "output_type": "stream",
     "text": [
      "Classifying hashtags:  11%|█         | 28/250 [00:17<02:06,  1.75hashtag/s]"
     ]
    },
    {
     "name": "stdout",
     "output_type": "stream",
     "text": [
      "Hashtag: blackedout, Category: Alcohol\n"
     ]
    },
    {
     "name": "stderr",
     "output_type": "stream",
     "text": [
      "Classifying hashtags:  12%|█▏        | 29/250 [00:17<02:02,  1.81hashtag/s]"
     ]
    },
    {
     "name": "stdout",
     "output_type": "stream",
     "text": [
      "Hashtag: blackout, Category: Alcohol\n"
     ]
    },
    {
     "name": "stderr",
     "output_type": "stream",
     "text": [
      "Classifying hashtags:  12%|█▏        | 30/250 [00:18<01:59,  1.85hashtag/s]"
     ]
    },
    {
     "name": "stdout",
     "output_type": "stream",
     "text": [
      "Hashtag: booze, Category: Alcohol\n"
     ]
    },
    {
     "name": "stderr",
     "output_type": "stream",
     "text": [
      "Classifying hashtags:  12%|█▏        | 31/250 [00:18<01:59,  1.84hashtag/s]"
     ]
    },
    {
     "name": "stdout",
     "output_type": "stream",
     "text": [
      "Hashtag: bpd, Category: Medical/Health Conditions\n"
     ]
    },
    {
     "name": "stderr",
     "output_type": "stream",
     "text": [
      "Classifying hashtags:  13%|█▎        | 32/250 [00:19<02:11,  1.66hashtag/s]"
     ]
    },
    {
     "name": "stdout",
     "output_type": "stream",
     "text": [
      "Hashtag: bpdtiktok, Category: Medical/Health Conditions\n"
     ]
    },
    {
     "name": "stderr",
     "output_type": "stream",
     "text": [
      "Classifying hashtags:  13%|█▎        | 33/250 [00:20<02:07,  1.71hashtag/s]"
     ]
    },
    {
     "name": "stdout",
     "output_type": "stream",
     "text": [
      "Hashtag: bronchitis, Category: Medical/Health Conditions\n"
     ]
    },
    {
     "name": "stderr",
     "output_type": "stream",
     "text": [
      "Classifying hashtags:  14%|█▎        | 34/250 [00:20<02:04,  1.73hashtag/s]"
     ]
    },
    {
     "name": "stdout",
     "output_type": "stream",
     "text": [
      "Hashtag: c0deine, Category: commonly-misused substances\n"
     ]
    },
    {
     "name": "stderr",
     "output_type": "stream",
     "text": [
      "Classifying hashtags:  14%|█▍        | 35/250 [00:21<01:57,  1.83hashtag/s]"
     ]
    },
    {
     "name": "stdout",
     "output_type": "stream",
     "text": [
      "Hashtag: cannabis, Category: cannabis\n"
     ]
    },
    {
     "name": "stderr",
     "output_type": "stream",
     "text": [
      "Classifying hashtags:  14%|█▍        | 36/250 [00:21<01:54,  1.87hashtag/s]"
     ]
    },
    {
     "name": "stdout",
     "output_type": "stream",
     "text": [
      "Hashtag: capcut, Category: Platform Engagement\n"
     ]
    },
    {
     "name": "stderr",
     "output_type": "stream",
     "text": [
      "Classifying hashtags:  15%|█▍        | 37/250 [00:22<01:52,  1.89hashtag/s]"
     ]
    },
    {
     "name": "stdout",
     "output_type": "stream",
     "text": [
      "Hashtag: cerebrolysin, Category: cognitive enhancement\n"
     ]
    },
    {
     "name": "stderr",
     "output_type": "stream",
     "text": [
      "Classifying hashtags:  15%|█▌        | 38/250 [00:22<02:04,  1.71hashtag/s]"
     ]
    },
    {
     "name": "stdout",
     "output_type": "stream",
     "text": [
      "Hashtag: chronicpain, Category: Medical/Health Conditions\n"
     ]
    },
    {
     "name": "stderr",
     "output_type": "stream",
     "text": [
      "Classifying hashtags:  16%|█▌        | 39/250 [00:23<01:55,  1.83hashtag/s]"
     ]
    },
    {
     "name": "stdout",
     "output_type": "stream",
     "text": [
      "Hashtag: chronicpainsufferers, Category: Medical/Health Conditions\n"
     ]
    },
    {
     "name": "stderr",
     "output_type": "stream",
     "text": [
      "Classifying hashtags:  16%|█▌        | 40/250 [00:23<01:48,  1.94hashtag/s]"
     ]
    },
    {
     "name": "stdout",
     "output_type": "stream",
     "text": [
      "Hashtag: chronicpainwarrior, Category: Medical/Health Conditions\n"
     ]
    },
    {
     "name": "stderr",
     "output_type": "stream",
     "text": [
      "Classifying hashtags:  16%|█▋        | 41/250 [00:24<01:41,  2.05hashtag/s]"
     ]
    },
    {
     "name": "stdout",
     "output_type": "stream",
     "text": [
      "Hashtag: chugbeer, Category: Alcohol\n"
     ]
    },
    {
     "name": "stderr",
     "output_type": "stream",
     "text": [
      "Classifying hashtags:  17%|█▋        | 42/250 [00:24<01:41,  2.06hashtag/s]"
     ]
    },
    {
     "name": "stdout",
     "output_type": "stream",
     "text": [
      "Hashtag: cig, Category: tobacco/nicotine\n"
     ]
    },
    {
     "name": "stderr",
     "output_type": "stream",
     "text": [
      "Classifying hashtags:  17%|█▋        | 43/250 [00:25<01:52,  1.84hashtag/s]"
     ]
    },
    {
     "name": "stdout",
     "output_type": "stream",
     "text": [
      "Hashtag: cigarette, Category: tobacco/nicotine\n"
     ]
    },
    {
     "name": "stderr",
     "output_type": "stream",
     "text": [
      "Classifying hashtags:  18%|█▊        | 44/250 [00:25<01:48,  1.90hashtag/s]"
     ]
    },
    {
     "name": "stdout",
     "output_type": "stream",
     "text": [
      "Hashtag: cigarettes, Category: tobacco/nicotine\n"
     ]
    },
    {
     "name": "stderr",
     "output_type": "stream",
     "text": [
      "Classifying hashtags:  18%|█▊        | 45/250 [00:29<04:55,  1.44s/hashtag]"
     ]
    },
    {
     "name": "stdout",
     "output_type": "stream",
     "text": [
      "Hashtag: cigs, Category: tobacco/nicotine\n"
     ]
    },
    {
     "name": "stderr",
     "output_type": "stream",
     "text": [
      "Classifying hashtags:  18%|█▊        | 46/250 [00:29<03:57,  1.16s/hashtag]"
     ]
    },
    {
     "name": "stdout",
     "output_type": "stream",
     "text": [
      "Hashtag: cleanandsober, Category: Recovery\n"
     ]
    },
    {
     "name": "stderr",
     "output_type": "stream",
     "text": [
      "Classifying hashtags:  19%|█▉        | 47/250 [00:30<03:15,  1.04hashtag/s]"
     ]
    },
    {
     "name": "stdout",
     "output_type": "stream",
     "text": [
      "Hashtag: cocktails, Category: Alcohol\n"
     ]
    },
    {
     "name": "stderr",
     "output_type": "stream",
     "text": [
      "Classifying hashtags:  19%|█▉        | 48/250 [00:31<02:51,  1.18hashtag/s]"
     ]
    },
    {
     "name": "stdout",
     "output_type": "stream",
     "text": [
      "Hashtag: cognitiveenhancers, Category: cognitive enhancement\n"
     ]
    },
    {
     "name": "stderr",
     "output_type": "stream",
     "text": [
      "Classifying hashtags:  20%|█▉        | 49/250 [00:31<02:28,  1.36hashtag/s]"
     ]
    },
    {
     "name": "stdout",
     "output_type": "stream",
     "text": [
      "Hashtag: collagen, Category: Other Substances\n"
     ]
    },
    {
     "name": "stderr",
     "output_type": "stream",
     "text": [
      "Classifying hashtags:  20%|██        | 50/250 [00:31<02:05,  1.59hashtag/s]"
     ]
    },
    {
     "name": "stdout",
     "output_type": "stream",
     "text": [
      "Hashtag: cough, Category: Medical/Health Conditions\n"
     ]
    },
    {
     "name": "stderr",
     "output_type": "stream",
     "text": [
      "Classifying hashtags:  20%|██        | 51/250 [00:32<02:00,  1.65hashtag/s]"
     ]
    },
    {
     "name": "stdout",
     "output_type": "stream",
     "text": [
      "Hashtag: coughsyrup, Category: commonly-misused substances\n"
     ]
    },
    {
     "name": "stderr",
     "output_type": "stream",
     "text": [
      "Classifying hashtags:  21%|██        | 52/250 [00:32<01:53,  1.75hashtag/s]"
     ]
    },
    {
     "name": "stdout",
     "output_type": "stream",
     "text": [
      "Hashtag: creatine, Category: other substances\n"
     ]
    },
    {
     "name": "stderr",
     "output_type": "stream",
     "text": [
      "Classifying hashtags:  21%|██        | 53/250 [00:33<01:46,  1.84hashtag/s]"
     ]
    },
    {
     "name": "stdout",
     "output_type": "stream",
     "text": [
      "Hashtag: dabs, Category: Consumption Method\n"
     ]
    },
    {
     "name": "stderr",
     "output_type": "stream",
     "text": [
      "Classifying hashtags:  22%|██▏       | 54/250 [00:33<01:41,  1.93hashtag/s]"
     ]
    },
    {
     "name": "stdout",
     "output_type": "stream",
     "text": [
      "Hashtag: depression, Category: Medical/Health Conditions\n"
     ]
    },
    {
     "name": "stderr",
     "output_type": "stream",
     "text": [
      "Classifying hashtags:  22%|██▏       | 55/250 [00:34<01:43,  1.89hashtag/s]"
     ]
    },
    {
     "name": "stdout",
     "output_type": "stream",
     "text": [
      "Hashtag: depressionandanxiety, Category: Medical/Health Conditions\n"
     ]
    },
    {
     "name": "stderr",
     "output_type": "stream",
     "text": [
      "Classifying hashtags:  22%|██▏       | 56/250 [00:34<01:39,  1.94hashtag/s]"
     ]
    },
    {
     "name": "stdout",
     "output_type": "stream",
     "text": [
      "Hashtag: detox, Category: prevention/harm reduction\n"
     ]
    },
    {
     "name": "stderr",
     "output_type": "stream",
     "text": [
      "Classifying hashtags:  23%|██▎       | 57/250 [00:35<01:42,  1.89hashtag/s]"
     ]
    },
    {
     "name": "stdout",
     "output_type": "stream",
     "text": [
      "Hashtag: disprin, Category: other substances\n"
     ]
    },
    {
     "name": "stderr",
     "output_type": "stream",
     "text": [
      "Classifying hashtags:  23%|██▎       | 58/250 [00:36<01:42,  1.88hashtag/s]"
     ]
    },
    {
     "name": "stdout",
     "output_type": "stream",
     "text": [
      "Hashtag: drank, Category: Alcohol\n"
     ]
    },
    {
     "name": "stderr",
     "output_type": "stream",
     "text": [
      "Classifying hashtags:  24%|██▎       | 59/250 [00:36<01:36,  1.98hashtag/s]"
     ]
    },
    {
     "name": "stdout",
     "output_type": "stream",
     "text": [
      "Hashtag: drink, Category: Alcohol\n"
     ]
    },
    {
     "name": "stderr",
     "output_type": "stream",
     "text": [
      "Classifying hashtags:  24%|██▍       | 60/250 [00:36<01:31,  2.07hashtag/s]"
     ]
    },
    {
     "name": "stdout",
     "output_type": "stream",
     "text": [
      "Hashtag: drinking, Category: Alcohol\n"
     ]
    },
    {
     "name": "stderr",
     "output_type": "stream",
     "text": [
      "Classifying hashtags:  24%|██▍       | 61/250 [00:37<01:32,  2.04hashtag/s]"
     ]
    },
    {
     "name": "stdout",
     "output_type": "stream",
     "text": [
      "Hashtag: drinkinggames, Category: Alcohol\n"
     ]
    },
    {
     "name": "stderr",
     "output_type": "stream",
     "text": [
      "Classifying hashtags:  25%|██▍       | 62/250 [00:37<01:30,  2.08hashtag/s]"
     ]
    },
    {
     "name": "stdout",
     "output_type": "stream",
     "text": [
      "Hashtag: drinkingtools, Category: Alcohol\n"
     ]
    },
    {
     "name": "stderr",
     "output_type": "stream",
     "text": [
      "Classifying hashtags:  25%|██▌       | 63/250 [00:38<01:29,  2.09hashtag/s]"
     ]
    },
    {
     "name": "stdout",
     "output_type": "stream",
     "text": [
      "Hashtag: dropthosedates, Category: platform\n"
     ]
    },
    {
     "name": "stderr",
     "output_type": "stream",
     "text": [
      "Classifying hashtags:  26%|██▌       | 64/250 [00:38<01:33,  2.00hashtag/s]"
     ]
    },
    {
     "name": "stdout",
     "output_type": "stream",
     "text": [
      "Hashtag: druglaws, Category: drug policy/law\n"
     ]
    },
    {
     "name": "stderr",
     "output_type": "stream",
     "text": [
      "Classifying hashtags:  26%|██▌       | 65/250 [00:39<01:26,  2.15hashtag/s]"
     ]
    },
    {
     "name": "stdout",
     "output_type": "stream",
     "text": [
      "Hashtag: drugpolicy, Category: Drug Policy/Law\n"
     ]
    },
    {
     "name": "stderr",
     "output_type": "stream",
     "text": [
      "Classifying hashtags:  26%|██▋       | 66/250 [00:39<01:26,  2.13hashtag/s]"
     ]
    },
    {
     "name": "stdout",
     "output_type": "stream",
     "text": [
      "Hashtag: drugrehab, Category: Recovery\n"
     ]
    },
    {
     "name": "stderr",
     "output_type": "stream",
     "text": [
      "Classifying hashtags:  27%|██▋       | 67/250 [00:40<01:20,  2.27hashtag/s]"
     ]
    },
    {
     "name": "stdout",
     "output_type": "stream",
     "text": [
      "Hashtag: drunk, Category: Alcohol\n"
     ]
    },
    {
     "name": "stderr",
     "output_type": "stream",
     "text": [
      "Classifying hashtags:  27%|██▋       | 68/250 [00:40<01:21,  2.24hashtag/s]"
     ]
    },
    {
     "name": "stdout",
     "output_type": "stream",
     "text": [
      "Hashtag: drunkaf, Category: Alcohol\n"
     ]
    },
    {
     "name": "stderr",
     "output_type": "stream",
     "text": [
      "Classifying hashtags:  28%|██▊       | 69/250 [00:41<01:19,  2.27hashtag/s]"
     ]
    },
    {
     "name": "stdout",
     "output_type": "stream",
     "text": [
      "Hashtag: duet, Category: Platform Engagement\n"
     ]
    },
    {
     "name": "stderr",
     "output_type": "stream",
     "text": [
      "Classifying hashtags:  28%|██▊       | 70/250 [00:41<01:24,  2.12hashtag/s]"
     ]
    },
    {
     "name": "stdout",
     "output_type": "stream",
     "text": [
      "Hashtag: ecig, Category: tobacco/nicotine\n"
     ]
    },
    {
     "name": "stderr",
     "output_type": "stream",
     "text": [
      "Classifying hashtags:  28%|██▊       | 71/250 [00:42<01:23,  2.15hashtag/s]"
     ]
    },
    {
     "name": "stdout",
     "output_type": "stream",
     "text": [
      "Hashtag: ecigs, Category: Tobacco/Nicotine\n"
     ]
    },
    {
     "name": "stderr",
     "output_type": "stream",
     "text": [
      "Classifying hashtags:  29%|██▉       | 72/250 [00:42<01:26,  2.06hashtag/s]"
     ]
    },
    {
     "name": "stdout",
     "output_type": "stream",
     "text": [
      "Hashtag: emma, Category: commonly-misused substances\n"
     ]
    },
    {
     "name": "stderr",
     "output_type": "stream",
     "text": [
      "Classifying hashtags:  29%|██▉       | 73/250 [00:42<01:23,  2.12hashtag/s]"
     ]
    },
    {
     "name": "stdout",
     "output_type": "stream",
     "text": [
      "Hashtag: endoverdose, Category: Prevention/Harm Reduction\n"
     ]
    },
    {
     "name": "stderr",
     "output_type": "stream",
     "text": [
      "Classifying hashtags:  30%|██▉       | 74/250 [00:43<01:30,  1.96hashtag/s]"
     ]
    },
    {
     "name": "stdout",
     "output_type": "stream",
     "text": [
      "Hashtag: epilespy, Category: Medical/Health Conditions\n"
     ]
    },
    {
     "name": "stderr",
     "output_type": "stream",
     "text": [
      "Classifying hashtags:  30%|███       | 75/250 [00:44<01:30,  1.94hashtag/s]"
     ]
    },
    {
     "name": "stdout",
     "output_type": "stream",
     "text": [
      "Hashtag: epills, Category: commonly-misused substances\n"
     ]
    },
    {
     "name": "stderr",
     "output_type": "stream",
     "text": [
      "Classifying hashtags:  30%|███       | 76/250 [00:44<01:27,  1.99hashtag/s]"
     ]
    },
    {
     "name": "stdout",
     "output_type": "stream",
     "text": [
      "Hashtag: fear, Category: Emotion\n"
     ]
    },
    {
     "name": "stderr",
     "output_type": "stream",
     "text": [
      "Classifying hashtags:  31%|███       | 77/250 [00:45<01:24,  2.04hashtag/s]"
     ]
    },
    {
     "name": "stdout",
     "output_type": "stream",
     "text": [
      "Hashtag: fent, Category: commonly-misused substances\n"
     ]
    },
    {
     "name": "stderr",
     "output_type": "stream",
     "text": [
      "Classifying hashtags:  31%|███       | 78/250 [00:45<01:26,  2.00hashtag/s]"
     ]
    },
    {
     "name": "stdout",
     "output_type": "stream",
     "text": [
      "Hashtag: fentfriday, Category: commonly-misused substances\n"
     ]
    },
    {
     "name": "stderr",
     "output_type": "stream",
     "text": [
      "Classifying hashtags:  32%|███▏      | 79/250 [00:46<01:35,  1.79hashtag/s]"
     ]
    },
    {
     "name": "stdout",
     "output_type": "stream",
     "text": [
      "Hashtag: fever, Category: Medical/Health Conditions\n"
     ]
    },
    {
     "name": "stderr",
     "output_type": "stream",
     "text": [
      "Classifying hashtags:  32%|███▏      | 80/250 [00:46<01:27,  1.95hashtag/s]"
     ]
    },
    {
     "name": "stdout",
     "output_type": "stream",
     "text": [
      "Hashtag: flu, Category: Medical/Health Conditions\n"
     ]
    },
    {
     "name": "stderr",
     "output_type": "stream",
     "text": [
      "Classifying hashtags:  32%|███▏      | 81/250 [00:47<01:31,  1.84hashtag/s]"
     ]
    },
    {
     "name": "stdout",
     "output_type": "stream",
     "text": [
      "Hashtag: fluseason, Category: Medical/Health Conditions\n"
     ]
    },
    {
     "name": "stderr",
     "output_type": "stream",
     "text": [
      "Classifying hashtags:  33%|███▎      | 82/250 [00:47<01:25,  1.96hashtag/s]"
     ]
    },
    {
     "name": "stdout",
     "output_type": "stream",
     "text": [
      "Hashtag: foryou, Category: Platform Engagement\n"
     ]
    },
    {
     "name": "stderr",
     "output_type": "stream",
     "text": [
      "Classifying hashtags:  33%|███▎      | 83/250 [00:48<01:24,  1.98hashtag/s]"
     ]
    },
    {
     "name": "stdout",
     "output_type": "stream",
     "text": [
      "Hashtag: foryoupage, Category: Platform Engagement\n"
     ]
    },
    {
     "name": "stderr",
     "output_type": "stream",
     "text": [
      "Classifying hashtags:  34%|███▎      | 84/250 [00:48<01:29,  1.86hashtag/s]"
     ]
    },
    {
     "name": "stdout",
     "output_type": "stream",
     "text": [
      "Hashtag: foryourpage, Category: Platform Engagement\n"
     ]
    },
    {
     "name": "stderr",
     "output_type": "stream",
     "text": [
      "Classifying hashtags:  34%|███▍      | 85/250 [00:49<01:27,  1.89hashtag/s]"
     ]
    },
    {
     "name": "stdout",
     "output_type": "stream",
     "text": [
      "Hashtag: funny, Category: Humor\n"
     ]
    },
    {
     "name": "stderr",
     "output_type": "stream",
     "text": [
      "Classifying hashtags:  34%|███▍      | 86/250 [00:49<01:24,  1.94hashtag/s]"
     ]
    },
    {
     "name": "stdout",
     "output_type": "stream",
     "text": [
      "Hashtag: fyp, Category: Platform Engagement\n"
     ]
    },
    {
     "name": "stderr",
     "output_type": "stream",
     "text": [
      "Classifying hashtags:  35%|███▍      | 87/250 [00:50<01:25,  1.91hashtag/s]"
     ]
    },
    {
     "name": "stdout",
     "output_type": "stream",
     "text": [
      "Hashtag: fyp, Category: Platform Engagement\n"
     ]
    },
    {
     "name": "stderr",
     "output_type": "stream",
     "text": [
      "Classifying hashtags:  35%|███▌      | 88/250 [00:51<01:34,  1.72hashtag/s]"
     ]
    },
    {
     "name": "stdout",
     "output_type": "stream",
     "text": [
      "Hashtag: fyp„Ç∑„Çöviral, Category: Platform Engagement\n"
     ]
    },
    {
     "name": "stderr",
     "output_type": "stream",
     "text": [
      "Classifying hashtags:  36%|███▌      | 89/250 [00:51<01:30,  1.79hashtag/s]"
     ]
    },
    {
     "name": "stdout",
     "output_type": "stream",
     "text": [
      "Hashtag: gratitude, Category: Emotion\n"
     ]
    },
    {
     "name": "stderr",
     "output_type": "stream",
     "text": [
      "Classifying hashtags:  36%|███▌      | 90/250 [00:52<01:27,  1.83hashtag/s]"
     ]
    },
    {
     "name": "stdout",
     "output_type": "stream",
     "text": [
      "Hashtag: greens, Category: cannabis\n"
     ]
    },
    {
     "name": "stderr",
     "output_type": "stream",
     "text": [
      "Classifying hashtags:  36%|███▋      | 91/250 [00:52<01:33,  1.71hashtag/s]"
     ]
    },
    {
     "name": "stdout",
     "output_type": "stream",
     "text": [
      "Hashtag: greenscreen, Category: Platform Engagement\n"
     ]
    },
    {
     "name": "stderr",
     "output_type": "stream",
     "text": [
      "Classifying hashtags:  37%|███▋      | 92/250 [00:53<01:30,  1.74hashtag/s]"
     ]
    },
    {
     "name": "stdout",
     "output_type": "stream",
     "text": [
      "Hashtag: gurner, Category: commonly-misused substances\n"
     ]
    },
    {
     "name": "stderr",
     "output_type": "stream",
     "text": [
      "Classifying hashtags:  37%|███▋      | 93/250 [00:53<01:27,  1.80hashtag/s]"
     ]
    },
    {
     "name": "stdout",
     "output_type": "stream",
     "text": [
      "Hashtag: gurning, Category: substance effects\n"
     ]
    },
    {
     "name": "stderr",
     "output_type": "stream",
     "text": [
      "Classifying hashtags:  38%|███▊      | 94/250 [00:54<01:29,  1.74hashtag/s]"
     ]
    },
    {
     "name": "stdout",
     "output_type": "stream",
     "text": [
      "Hashtag: haf, Category: Humor\n"
     ]
    },
    {
     "name": "stderr",
     "output_type": "stream",
     "text": [
      "Classifying hashtags:  38%|███▊      | 95/250 [00:59<05:04,  1.97s/hashtag]"
     ]
    },
    {
     "name": "stdout",
     "output_type": "stream",
     "text": [
      "Hashtag: hammered, Category: Alcohol\n"
     ]
    },
    {
     "name": "stderr",
     "output_type": "stream",
     "text": [
      "Classifying hashtags:  38%|███▊      | 96/250 [01:00<04:17,  1.67s/hashtag]"
     ]
    },
    {
     "name": "stdout",
     "output_type": "stream",
     "text": [
      "Hashtag: happy, Category: Emotion\n"
     ]
    },
    {
     "name": "stderr",
     "output_type": "stream",
     "text": [
      "Classifying hashtags:  39%|███▉      | 97/250 [01:01<03:24,  1.34s/hashtag]"
     ]
    },
    {
     "name": "stdout",
     "output_type": "stream",
     "text": [
      "Hashtag: happytobealive, Category: Emotion\n"
     ]
    },
    {
     "name": "stderr",
     "output_type": "stream",
     "text": [
      "Classifying hashtags:  39%|███▉      | 98/250 [01:01<02:45,  1.09s/hashtag]"
     ]
    },
    {
     "name": "stdout",
     "output_type": "stream",
     "text": [
      "Hashtag: harmreduction, Category: Prevention/Harm Reduction\n"
     ]
    },
    {
     "name": "stderr",
     "output_type": "stream",
     "text": [
      "Classifying hashtags:  40%|███▉      | 99/250 [01:02<02:22,  1.06hashtag/s]"
     ]
    },
    {
     "name": "stdout",
     "output_type": "stream",
     "text": [
      "Hashtag: harmreductionsaveslives, Category: Prevention/Harm Reduction\n"
     ]
    },
    {
     "name": "stderr",
     "output_type": "stream",
     "text": [
      "Classifying hashtags:  40%|████      | 100/250 [01:02<02:04,  1.20hashtag/s]"
     ]
    },
    {
     "name": "stdout",
     "output_type": "stream",
     "text": [
      "Hashtag: harmreductiontips, Category: Prevention/Harm Reduction\n"
     ]
    },
    {
     "name": "stderr",
     "output_type": "stream",
     "text": [
      "Classifying hashtags:  40%|████      | 101/250 [01:03<01:51,  1.33hashtag/s]"
     ]
    },
    {
     "name": "stdout",
     "output_type": "stream",
     "text": [
      "Hashtag: harmreductionworks, Category: Prevention/Harm Reduction\n"
     ]
    },
    {
     "name": "stderr",
     "output_type": "stream",
     "text": [
      "Classifying hashtags:  41%|████      | 102/250 [01:04<01:43,  1.43hashtag/s]"
     ]
    },
    {
     "name": "stdout",
     "output_type": "stream",
     "text": [
      "Hashtag: headache, Category: Medical/Health Conditions\n"
     ]
    },
    {
     "name": "stderr",
     "output_type": "stream",
     "text": [
      "Classifying hashtags:  41%|████      | 103/250 [01:04<01:34,  1.56hashtag/s]"
     ]
    },
    {
     "name": "stdout",
     "output_type": "stream",
     "text": [
      "Hashtag: heroin, Category: commonly-misused substances\n"
     ]
    },
    {
     "name": "stderr",
     "output_type": "stream",
     "text": [
      "Classifying hashtags:  42%|████▏     | 104/250 [01:05<01:29,  1.62hashtag/s]"
     ]
    },
    {
     "name": "stdout",
     "output_type": "stream",
     "text": [
      "Hashtag: high, Category: Substance Effects\n"
     ]
    },
    {
     "name": "stderr",
     "output_type": "stream",
     "text": [
      "Classifying hashtags:  42%|████▏     | 105/250 [01:05<01:23,  1.74hashtag/s]"
     ]
    },
    {
     "name": "stdout",
     "output_type": "stream",
     "text": [
      "Hashtag: highasfuck, Category: Substance Effects\n"
     ]
    },
    {
     "name": "stderr",
     "output_type": "stream",
     "text": [
      "Classifying hashtags:  42%|████▏     | 106/250 [01:06<01:25,  1.68hashtag/s]"
     ]
    },
    {
     "name": "stdout",
     "output_type": "stream",
     "text": [
      "Hashtag: hightimes, Category: cannabis\n"
     ]
    },
    {
     "name": "stderr",
     "output_type": "stream",
     "text": [
      "Classifying hashtags:  43%|████▎     | 107/250 [01:06<01:17,  1.85hashtag/s]"
     ]
    },
    {
     "name": "stdout",
     "output_type": "stream",
     "text": [
      "Hashtag: hope, Category: Emotion\n"
     ]
    },
    {
     "name": "stderr",
     "output_type": "stream",
     "text": [
      "Classifying hashtags:  43%|████▎     | 108/250 [01:07<01:38,  1.45hashtag/s]"
     ]
    },
    {
     "name": "stdout",
     "output_type": "stream",
     "text": [
      "Hashtag: ibuprofen, Category: Other Substances\n"
     ]
    },
    {
     "name": "stderr",
     "output_type": "stream",
     "text": [
      "Classifying hashtags:  44%|████▎     | 109/250 [01:08<01:29,  1.58hashtag/s]"
     ]
    },
    {
     "name": "stdout",
     "output_type": "stream",
     "text": [
      "Hashtag: ibuprofeno, Category: other substances\n"
     ]
    },
    {
     "name": "stderr",
     "output_type": "stream",
     "text": [
      "Classifying hashtags:  44%|████▍     | 110/250 [01:08<01:18,  1.78hashtag/s]"
     ]
    },
    {
     "name": "stdout",
     "output_type": "stream",
     "text": [
      "Hashtag: infection, Category: Medical/Health Conditions\n"
     ]
    },
    {
     "name": "stderr",
     "output_type": "stream",
     "text": [
      "Classifying hashtags:  44%|████▍     | 111/250 [01:09<01:14,  1.86hashtag/s]"
     ]
    },
    {
     "name": "stdout",
     "output_type": "stream",
     "text": [
      "Hashtag: inhalants, Category: commonly-misused substances\n"
     ]
    },
    {
     "name": "stderr",
     "output_type": "stream",
     "text": [
      "Classifying hashtags:  45%|████▍     | 112/250 [01:09<01:13,  1.88hashtag/s]"
     ]
    },
    {
     "name": "stdout",
     "output_type": "stream",
     "text": [
      "Hashtag: inhalantsaddiction, Category: commonly-misused substances\n"
     ]
    },
    {
     "name": "stderr",
     "output_type": "stream",
     "text": [
      "Classifying hashtags:  45%|████▌     | 113/250 [01:10<01:09,  1.97hashtag/s]"
     ]
    },
    {
     "name": "stdout",
     "output_type": "stream",
     "text": [
      "Hashtag: inhalation, Category: consumption method\n"
     ]
    },
    {
     "name": "stderr",
     "output_type": "stream",
     "text": [
      "Classifying hashtags:  46%|████▌     | 114/250 [01:10<01:06,  2.03hashtag/s]"
     ]
    },
    {
     "name": "stdout",
     "output_type": "stream",
     "text": [
      "Hashtag: inhaler, Category: other substances\n"
     ]
    },
    {
     "name": "stderr",
     "output_type": "stream",
     "text": [
      "Classifying hashtags:  46%|████▌     | 115/250 [01:11<01:09,  1.95hashtag/s]"
     ]
    },
    {
     "name": "stdout",
     "output_type": "stream",
     "text": [
      "Hashtag: inhaling, Category: consumption method\n"
     ]
    },
    {
     "name": "stderr",
     "output_type": "stream",
     "text": [
      "Classifying hashtags:  46%|████▋     | 116/250 [01:11<01:12,  1.84hashtag/s]"
     ]
    },
    {
     "name": "stdout",
     "output_type": "stream",
     "text": [
      "Hashtag: injectinguser, Category: consumption method\n"
     ]
    },
    {
     "name": "stderr",
     "output_type": "stream",
     "text": [
      "Classifying hashtags:  47%|████▋     | 117/250 [01:12<01:15,  1.77hashtag/s]"
     ]
    },
    {
     "name": "stdout",
     "output_type": "stream",
     "text": [
      "Hashtag: injection, Category: consumption method\n"
     ]
    },
    {
     "name": "stderr",
     "output_type": "stream",
     "text": [
      "Classifying hashtags:  47%|████▋     | 118/250 [01:12<01:08,  1.92hashtag/s]"
     ]
    },
    {
     "name": "stdout",
     "output_type": "stream",
     "text": [
      "Hashtag: insomnia, Category: Medical/Health Conditions\n"
     ]
    },
    {
     "name": "stderr",
     "output_type": "stream",
     "text": [
      "Classifying hashtags:  48%|████▊     | 119/250 [01:13<01:15,  1.73hashtag/s]"
     ]
    },
    {
     "name": "stdout",
     "output_type": "stream",
     "text": [
      "Hashtag: juul, Category: tobacco/nicotine\n"
     ]
    },
    {
     "name": "stderr",
     "output_type": "stream",
     "text": [
      "Classifying hashtags:  48%|████▊     | 120/250 [01:14<01:16,  1.70hashtag/s]"
     ]
    },
    {
     "name": "stdout",
     "output_type": "stream",
     "text": [
      "Hashtag: keepsmoking, Category: Tobacco/Nicotine\n"
     ]
    },
    {
     "name": "stderr",
     "output_type": "stream",
     "text": [
      "Classifying hashtags:  48%|████▊     | 121/250 [01:14<01:20,  1.60hashtag/s]"
     ]
    },
    {
     "name": "stdout",
     "output_type": "stream",
     "text": [
      "Hashtag: keepsmokingtheherb, Category: cannabis\n"
     ]
    },
    {
     "name": "stderr",
     "output_type": "stream",
     "text": [
      "Classifying hashtags:  49%|████▉     | 122/250 [01:15<01:15,  1.69hashtag/s]"
     ]
    },
    {
     "name": "stdout",
     "output_type": "stream",
     "text": [
      "Hashtag: kindness, Category: Emotion\n"
     ]
    },
    {
     "name": "stderr",
     "output_type": "stream",
     "text": [
      "Classifying hashtags:  49%|████▉     | 123/250 [01:16<01:23,  1.51hashtag/s]"
     ]
    },
    {
     "name": "stdout",
     "output_type": "stream",
     "text": [
      "Hashtag: laganjaestranja, Category: Cannabis\n"
     ]
    },
    {
     "name": "stderr",
     "output_type": "stream",
     "text": [
      "Classifying hashtags:  50%|████▉     | 124/250 [01:19<03:13,  1.53s/hashtag]"
     ]
    },
    {
     "name": "stdout",
     "output_type": "stream",
     "text": [
      "Hashtag: lean, Category: commonly-misused substances\n"
     ]
    },
    {
     "name": "stderr",
     "output_type": "stream",
     "text": [
      "Classifying hashtags:  50%|█████     | 125/250 [01:20<02:33,  1.23s/hashtag]"
     ]
    },
    {
     "name": "stdout",
     "output_type": "stream",
     "text": [
      "Hashtag: leantok, Category: commonly-misused substances\n"
     ]
    },
    {
     "name": "stderr",
     "output_type": "stream",
     "text": [
      "Classifying hashtags:  50%|█████     | 126/250 [01:20<02:05,  1.01s/hashtag]"
     ]
    },
    {
     "name": "stdout",
     "output_type": "stream",
     "text": [
      "Hashtag: libcaps, Category: other substances\n"
     ]
    },
    {
     "name": "stderr",
     "output_type": "stream",
     "text": [
      "Classifying hashtags:  51%|█████     | 127/250 [01:21<01:50,  1.12hashtag/s]"
     ]
    },
    {
     "name": "stdout",
     "output_type": "stream",
     "text": [
      "Hashtag: libertycapss, Category: commonly-misused substances\n"
     ]
    },
    {
     "name": "stderr",
     "output_type": "stream",
     "text": [
      "Classifying hashtags:  51%|█████     | 128/250 [01:22<01:57,  1.04hashtag/s]"
     ]
    },
    {
     "name": "stdout",
     "output_type": "stream",
     "text": [
      "Hashtag: liquor, Category: Alcohol\n"
     ]
    },
    {
     "name": "stderr",
     "output_type": "stream",
     "text": [
      "Classifying hashtags:  52%|█████▏    | 129/250 [01:22<01:40,  1.21hashtag/s]"
     ]
    },
    {
     "name": "stdout",
     "output_type": "stream",
     "text": [
      "Hashtag: love, Category: Emotion\n"
     ]
    },
    {
     "name": "stderr",
     "output_type": "stream",
     "text": [
      "Classifying hashtags:  52%|█████▏    | 130/250 [01:23<01:28,  1.36hashtag/s]"
     ]
    },
    {
     "name": "stdout",
     "output_type": "stream",
     "text": [
      "Hashtag: lovemyself, Category: Emotion\n"
     ]
    },
    {
     "name": "stderr",
     "output_type": "stream",
     "text": [
      "Classifying hashtags:  52%|█████▏    | 131/250 [01:24<01:23,  1.43hashtag/s]"
     ]
    },
    {
     "name": "stdout",
     "output_type": "stream",
     "text": [
      "Hashtag: loveyall, Category: Emotion\n"
     ]
    },
    {
     "name": "stderr",
     "output_type": "stream",
     "text": [
      "Classifying hashtags:  53%|█████▎    | 132/250 [01:24<01:19,  1.49hashtag/s]"
     ]
    },
    {
     "name": "stdout",
     "output_type": "stream",
     "text": [
      "Hashtag: lsdart, Category: commonly-misused substances\n"
     ]
    },
    {
     "name": "stderr",
     "output_type": "stream",
     "text": [
      "Classifying hashtags:  53%|█████▎    | 133/250 [01:25<01:13,  1.60hashtag/s]"
     ]
    },
    {
     "name": "stdout",
     "output_type": "stream",
     "text": [
      "Hashtag: m0lly, Category: commonly-misused substances\n"
     ]
    },
    {
     "name": "stderr",
     "output_type": "stream",
     "text": [
      "Classifying hashtags:  54%|█████▎    | 134/250 [01:25<01:09,  1.66hashtag/s]"
     ]
    },
    {
     "name": "stdout",
     "output_type": "stream",
     "text": [
      "Hashtag: magicmushroomsadventures, Category: commonly-misused substances\n"
     ]
    },
    {
     "name": "stderr",
     "output_type": "stream",
     "text": [
      "Classifying hashtags:  54%|█████▍    | 135/250 [01:28<02:12,  1.15s/hashtag]"
     ]
    },
    {
     "name": "stdout",
     "output_type": "stream",
     "text": [
      "Hashtag: magnesium, Category: other substances\n"
     ]
    },
    {
     "name": "stderr",
     "output_type": "stream",
     "text": [
      "Classifying hashtags:  54%|█████▍    | 136/250 [01:28<01:48,  1.05hashtag/s]"
     ]
    },
    {
     "name": "stdout",
     "output_type": "stream",
     "text": [
      "Hashtag: magnesiumglycinate, Category: Other Substances\n"
     ]
    },
    {
     "name": "stderr",
     "output_type": "stream",
     "text": [
      "Classifying hashtags:  55%|█████▍    | 137/250 [01:29<01:29,  1.26hashtag/s]"
     ]
    },
    {
     "name": "stdout",
     "output_type": "stream",
     "text": [
      "Hashtag: makesomeonesmile, Category: Emotion\n"
     ]
    },
    {
     "name": "stderr",
     "output_type": "stream",
     "text": [
      "Classifying hashtags:  55%|█████▌    | 138/250 [01:29<01:19,  1.41hashtag/s]"
     ]
    },
    {
     "name": "stdout",
     "output_type": "stream",
     "text": [
      "Hashtag: matsaves, Category: Recovery\n"
     ]
    },
    {
     "name": "stderr",
     "output_type": "stream",
     "text": [
      "Classifying hashtags:  56%|█████▌    | 139/250 [01:30<01:12,  1.54hashtag/s]"
     ]
    },
    {
     "name": "stdout",
     "output_type": "stream",
     "text": [
      "Hashtag: meme, Category: Humor\n"
     ]
    },
    {
     "name": "stderr",
     "output_type": "stream",
     "text": [
      "Classifying hashtags:  56%|█████▌    | 140/250 [01:30<01:03,  1.73hashtag/s]"
     ]
    },
    {
     "name": "stdout",
     "output_type": "stream",
     "text": [
      "Hashtag: mentalhealth, Category: Medical/Health Conditions\n"
     ]
    },
    {
     "name": "stderr",
     "output_type": "stream",
     "text": [
      "Classifying hashtags:  56%|█████▋    | 141/250 [01:31<01:04,  1.70hashtag/s]"
     ]
    },
    {
     "name": "stdout",
     "output_type": "stream",
     "text": [
      "Hashtag: mescaline, Category: other substances\n"
     ]
    },
    {
     "name": "stderr",
     "output_type": "stream",
     "text": [
      "Classifying hashtags:  57%|█████▋    | 142/250 [01:31<01:01,  1.76hashtag/s]"
     ]
    },
    {
     "name": "stdout",
     "output_type": "stream",
     "text": [
      "Hashtag: methadoneclinic, Category: Recovery\n"
     ]
    },
    {
     "name": "stderr",
     "output_type": "stream",
     "text": [
      "Classifying hashtags:  57%|█████▋    | 143/250 [01:32<01:02,  1.72hashtag/s]"
     ]
    },
    {
     "name": "stdout",
     "output_type": "stream",
     "text": [
      "Hashtag: migraine, Category: Medical/Health Conditions\n"
     ]
    },
    {
     "name": "stderr",
     "output_type": "stream",
     "text": [
      "Classifying hashtags:  58%|█████▊    | 144/250 [01:32<00:59,  1.79hashtag/s]"
     ]
    },
    {
     "name": "stdout",
     "output_type": "stream",
     "text": [
      "Hashtag: modafinil, Category: cognitive enhancement\n"
     ]
    },
    {
     "name": "stderr",
     "output_type": "stream",
     "text": [
      "Classifying hashtags:  58%|█████▊    | 145/250 [01:33<00:57,  1.83hashtag/s]"
     ]
    },
    {
     "name": "stdout",
     "output_type": "stream",
     "text": [
      "Hashtag: molly, Category: commonly-misused substances\n"
     ]
    },
    {
     "name": "stderr",
     "output_type": "stream",
     "text": [
      "Classifying hashtags:  58%|█████▊    | 146/250 [01:33<00:56,  1.85hashtag/s]"
     ]
    },
    {
     "name": "stdout",
     "output_type": "stream",
     "text": [
      "Hashtag: na, Category: other substances\n"
     ]
    },
    {
     "name": "stderr",
     "output_type": "stream",
     "text": [
      "Classifying hashtags:  59%|█████▉    | 147/250 [01:34<00:54,  1.90hashtag/s]"
     ]
    },
    {
     "name": "stdout",
     "output_type": "stream",
     "text": [
      "Hashtag: naloxone, Category: prevention/harm reduction\n"
     ]
    },
    {
     "name": "stderr",
     "output_type": "stream",
     "text": [
      "Classifying hashtags:  59%|█████▉    | 148/250 [01:34<00:53,  1.91hashtag/s]"
     ]
    },
    {
     "name": "stdout",
     "output_type": "stream",
     "text": [
      "Hashtag: naloxonesaveslives, Category: prevention/harm reduction\n"
     ]
    },
    {
     "name": "stderr",
     "output_type": "stream",
     "text": [
      "Classifying hashtags:  60%|█████▉    | 149/250 [01:35<00:52,  1.93hashtag/s]"
     ]
    },
    {
     "name": "stdout",
     "output_type": "stream",
     "text": [
      "Hashtag: naltrexone, Category: Medical/Health Conditions\n"
     ]
    },
    {
     "name": "stderr",
     "output_type": "stream",
     "text": [
      "Classifying hashtags:  60%|██████    | 150/250 [01:35<00:51,  1.96hashtag/s]"
     ]
    },
    {
     "name": "stdout",
     "output_type": "stream",
     "text": [
      "Hashtag: narcan, Category: prevention/harm reduction\n"
     ]
    },
    {
     "name": "stderr",
     "output_type": "stream",
     "text": [
      "Classifying hashtags:  60%|██████    | 151/250 [01:36<00:57,  1.73hashtag/s]"
     ]
    },
    {
     "name": "stdout",
     "output_type": "stream",
     "text": [
      "Hashtag: narcansaveslives, Category: Prevention/Harm Reduction\n"
     ]
    },
    {
     "name": "stderr",
     "output_type": "stream",
     "text": [
      "Classifying hashtags:  61%|██████    | 152/250 [01:37<00:55,  1.77hashtag/s]"
     ]
    },
    {
     "name": "stdout",
     "output_type": "stream",
     "text": [
      "Hashtag: nicorettepatch, Category: Tobacco/Nicotine\n"
     ]
    },
    {
     "name": "stderr",
     "output_type": "stream",
     "text": [
      "Classifying hashtags:  61%|██████    | 153/250 [01:37<00:52,  1.85hashtag/s]"
     ]
    },
    {
     "name": "stdout",
     "output_type": "stream",
     "text": [
      "Hashtag: nicotine, Category: tobacco/nicotine\n"
     ]
    },
    {
     "name": "stderr",
     "output_type": "stream",
     "text": [
      "Classifying hashtags:  62%|██████▏   | 154/250 [01:38<00:50,  1.90hashtag/s]"
     ]
    },
    {
     "name": "stdout",
     "output_type": "stream",
     "text": [
      "Hashtag: nicotinefein, Category: Tobacco/Nicotine\n"
     ]
    },
    {
     "name": "stderr",
     "output_type": "stream",
     "text": [
      "Classifying hashtags:  62%|██████▏   | 155/250 [01:38<00:50,  1.89hashtag/s]"
     ]
    },
    {
     "name": "stdout",
     "output_type": "stream",
     "text": [
      "Hashtag: nicotinegum, Category: Tobacco/Nicotine\n"
     ]
    },
    {
     "name": "stderr",
     "output_type": "stream",
     "text": [
      "Classifying hashtags:  62%|██████▏   | 156/250 [01:39<00:52,  1.80hashtag/s]"
     ]
    },
    {
     "name": "stdout",
     "output_type": "stream",
     "text": [
      "Hashtag: nootropics, Category: cognitive enhancement\n"
     ]
    },
    {
     "name": "stderr",
     "output_type": "stream",
     "text": [
      "Classifying hashtags:  63%|██████▎   | 157/250 [01:39<00:50,  1.84hashtag/s]"
     ]
    },
    {
     "name": "stdout",
     "output_type": "stream",
     "text": [
      "Hashtag: nootrostatic, Category: cognitive enhancement\n"
     ]
    },
    {
     "name": "stderr",
     "output_type": "stream",
     "text": [
      "Classifying hashtags:  63%|██████▎   | 158/250 [01:40<00:49,  1.85hashtag/s]"
     ]
    },
    {
     "name": "stdout",
     "output_type": "stream",
     "text": [
      "Hashtag: nosebeers, Category: commonly-misused substances\n"
     ]
    },
    {
     "name": "stderr",
     "output_type": "stream",
     "text": [
      "Classifying hashtags:  64%|██████▎   | 159/250 [01:42<01:24,  1.08hashtag/s]"
     ]
    },
    {
     "name": "stdout",
     "output_type": "stream",
     "text": [
      "Hashtag: odaat, Category: Recovery\n"
     ]
    },
    {
     "name": "stderr",
     "output_type": "stream",
     "text": [
      "Classifying hashtags:  64%|██████▍   | 160/250 [01:42<01:11,  1.26hashtag/s]"
     ]
    },
    {
     "name": "stdout",
     "output_type": "stream",
     "text": [
      "Hashtag: onedayatatime, Category: Recovery\n"
     ]
    },
    {
     "name": "stderr",
     "output_type": "stream",
     "text": [
      "Classifying hashtags:  64%|██████▍   | 161/250 [01:43<01:02,  1.42hashtag/s]"
     ]
    },
    {
     "name": "stdout",
     "output_type": "stream",
     "text": [
      "Hashtag: opiates, Category: commonly-misused substances\n"
     ]
    },
    {
     "name": "stderr",
     "output_type": "stream",
     "text": [
      "Classifying hashtags:  65%|██████▍   | 162/250 [01:43<00:57,  1.52hashtag/s]"
     ]
    },
    {
     "name": "stdout",
     "output_type": "stream",
     "text": [
      "Hashtag: opioidaddiction, Category: Medical/Health Conditions\n"
     ]
    },
    {
     "name": "stderr",
     "output_type": "stream",
     "text": [
      "Classifying hashtags:  65%|██████▌   | 163/250 [01:44<00:56,  1.55hashtag/s]"
     ]
    },
    {
     "name": "stdout",
     "output_type": "stream",
     "text": [
      "Hashtag: opioidawareness, Category: Prevention/Harm Reduction\n"
     ]
    },
    {
     "name": "stderr",
     "output_type": "stream",
     "text": [
      "Classifying hashtags:  66%|██████▌   | 164/250 [01:44<00:53,  1.61hashtag/s]"
     ]
    },
    {
     "name": "stdout",
     "output_type": "stream",
     "text": [
      "Hashtag: opioidcrisis, Category: Drug Policy/Law\n"
     ]
    },
    {
     "name": "stderr",
     "output_type": "stream",
     "text": [
      "Classifying hashtags:  66%|██████▌   | 165/250 [01:45<00:50,  1.70hashtag/s]"
     ]
    },
    {
     "name": "stdout",
     "output_type": "stream",
     "text": [
      "Hashtag: opioids, Category: commonly-misused substances\n"
     ]
    },
    {
     "name": "stderr",
     "output_type": "stream",
     "text": [
      "Classifying hashtags:  66%|██████▋   | 166/250 [01:45<00:45,  1.83hashtag/s]"
     ]
    },
    {
     "name": "stdout",
     "output_type": "stream",
     "text": [
      "Hashtag: overdoseawareness, Category: prevention/harm reduction\n"
     ]
    },
    {
     "name": "stderr",
     "output_type": "stream",
     "text": [
      "Classifying hashtags:  67%|██████▋   | 167/250 [01:46<00:45,  1.82hashtag/s]"
     ]
    },
    {
     "name": "stdout",
     "output_type": "stream",
     "text": [
      "Hashtag: overdosecrisis, Category: Medical/Health Conditions\n"
     ]
    },
    {
     "name": "stderr",
     "output_type": "stream",
     "text": [
      "Classifying hashtags:  67%|██████▋   | 168/250 [01:46<00:44,  1.83hashtag/s]"
     ]
    },
    {
     "name": "stdout",
     "output_type": "stream",
     "text": [
      "Hashtag: overdoseresponse, Category: Prevention/Harm Reduction\n"
     ]
    },
    {
     "name": "stderr",
     "output_type": "stream",
     "text": [
      "Classifying hashtags:  68%|██████▊   | 169/250 [01:47<00:42,  1.89hashtag/s]"
     ]
    },
    {
     "name": "stdout",
     "output_type": "stream",
     "text": [
      "Hashtag: overthecounter, Category: other substances\n"
     ]
    },
    {
     "name": "stderr",
     "output_type": "stream",
     "text": [
      "Classifying hashtags:  68%|██████▊   | 170/250 [01:47<00:42,  1.88hashtag/s]"
     ]
    },
    {
     "name": "stdout",
     "output_type": "stream",
     "text": [
      "Hashtag: pain, Category: Medical/Health Conditions\n"
     ]
    },
    {
     "name": "stderr",
     "output_type": "stream",
     "text": [
      "Classifying hashtags:  68%|██████▊   | 171/250 [01:48<00:47,  1.67hashtag/s]"
     ]
    },
    {
     "name": "stdout",
     "output_type": "stream",
     "text": [
      "Hashtag: perc30s, Category: commonly-misused substances\n"
     ]
    },
    {
     "name": "stderr",
     "output_type": "stream",
     "text": [
      "Classifying hashtags:  69%|██████▉   | 172/250 [01:49<00:48,  1.62hashtag/s]"
     ]
    },
    {
     "name": "stdout",
     "output_type": "stream",
     "text": [
      "Hashtag: percoset, Category: commonly-misused substances\n"
     ]
    },
    {
     "name": "stderr",
     "output_type": "stream",
     "text": [
      "Classifying hashtags:  69%|██████▉   | 173/250 [01:49<00:46,  1.66hashtag/s]"
     ]
    },
    {
     "name": "stdout",
     "output_type": "stream",
     "text": [
      "Hashtag: percs, Category: commonly-misused substances\n"
     ]
    },
    {
     "name": "stderr",
     "output_type": "stream",
     "text": [
      "Classifying hashtags:  70%|██████▉   | 174/250 [01:50<00:46,  1.62hashtag/s]"
     ]
    },
    {
     "name": "stdout",
     "output_type": "stream",
     "text": [
      "Hashtag: pinger, Category: commonly-misused substances\n"
     ]
    },
    {
     "name": "stderr",
     "output_type": "stream",
     "text": [
      "Classifying hashtags:  70%|███████   | 175/250 [01:51<00:46,  1.62hashtag/s]"
     ]
    },
    {
     "name": "stdout",
     "output_type": "stream",
     "text": [
      "Hashtag: pingertok, Category: commonly-misused substances\n"
     ]
    },
    {
     "name": "stderr",
     "output_type": "stream",
     "text": [
      "Classifying hashtags:  70%|███████   | 176/250 [01:51<00:43,  1.69hashtag/s]"
     ]
    },
    {
     "name": "stdout",
     "output_type": "stream",
     "text": [
      "Hashtag: pingerzzzz, Category: commonly-misused substances\n"
     ]
    },
    {
     "name": "stderr",
     "output_type": "stream",
     "text": [
      "Classifying hashtags:  71%|███████   | 177/250 [01:52<00:42,  1.73hashtag/s]"
     ]
    },
    {
     "name": "stdout",
     "output_type": "stream",
     "text": [
      "Hashtag: pingtok, Category: commonly-misused substances\n"
     ]
    },
    {
     "name": "stderr",
     "output_type": "stream",
     "text": [
      "Classifying hashtags:  71%|███████   | 178/250 [01:52<00:42,  1.69hashtag/s]"
     ]
    },
    {
     "name": "stdout",
     "output_type": "stream",
     "text": [
      "Hashtag: pot, Category: cannabis\n"
     ]
    },
    {
     "name": "stderr",
     "output_type": "stream",
     "text": [
      "Classifying hashtags:  72%|███████▏  | 179/250 [01:53<00:40,  1.76hashtag/s]"
     ]
    },
    {
     "name": "stdout",
     "output_type": "stream",
     "text": [
      "Hashtag: psychedelictok, Category: commonly-misused substances\n"
     ]
    },
    {
     "name": "stderr",
     "output_type": "stream",
     "text": [
      "Classifying hashtags:  72%|███████▏  | 180/250 [01:53<00:36,  1.90hashtag/s]"
     ]
    },
    {
     "name": "stdout",
     "output_type": "stream",
     "text": [
      "Hashtag: ptsd, Category: Medical/Health Conditions\n"
     ]
    },
    {
     "name": "stderr",
     "output_type": "stream",
     "text": [
      "Classifying hashtags:  72%|███████▏  | 181/250 [01:54<00:36,  1.88hashtag/s]"
     ]
    },
    {
     "name": "stdout",
     "output_type": "stream",
     "text": [
      "Hashtag: pwud, Category: Drug Policy/Law\n"
     ]
    },
    {
     "name": "stderr",
     "output_type": "stream",
     "text": [
      "Classifying hashtags:  73%|███████▎  | 182/250 [01:54<00:35,  1.93hashtag/s]"
     ]
    },
    {
     "name": "stdout",
     "output_type": "stream",
     "text": [
      "Hashtag: pwuds, Category: drug policy/law\n"
     ]
    },
    {
     "name": "stderr",
     "output_type": "stream",
     "text": [
      "Classifying hashtags:  73%|███████▎  | 183/250 [01:55<00:31,  2.14hashtag/s]"
     ]
    },
    {
     "name": "stdout",
     "output_type": "stream",
     "text": [
      "Hashtag: quitnicotine, Category: Recovery\n"
     ]
    },
    {
     "name": "stderr",
     "output_type": "stream",
     "text": [
      "Classifying hashtags:  74%|███████▎  | 184/250 [01:55<00:33,  2.00hashtag/s]"
     ]
    },
    {
     "name": "stdout",
     "output_type": "stream",
     "text": [
      "Hashtag: quitvapping, Category: Recovery\n"
     ]
    },
    {
     "name": "stderr",
     "output_type": "stream",
     "text": [
      "Classifying hashtags:  74%|███████▍  | 185/250 [01:56<00:34,  1.91hashtag/s]"
     ]
    },
    {
     "name": "stdout",
     "output_type": "stream",
     "text": [
      "Hashtag: recovery, Category: Recovery\n"
     ]
    },
    {
     "name": "stderr",
     "output_type": "stream",
     "text": [
      "Classifying hashtags:  74%|███████▍  | 186/250 [01:56<00:35,  1.81hashtag/s]"
     ]
    },
    {
     "name": "stdout",
     "output_type": "stream",
     "text": [
      "Hashtag: relapsehappens, Category: Recovery\n"
     ]
    },
    {
     "name": "stderr",
     "output_type": "stream",
     "text": [
      "Classifying hashtags:  75%|███████▍  | 187/250 [01:57<00:35,  1.75hashtag/s]"
     ]
    },
    {
     "name": "stdout",
     "output_type": "stream",
     "text": [
      "Hashtag: safesupply, Category: Prevention/Harm Reduction\n"
     ]
    },
    {
     "name": "stderr",
     "output_type": "stream",
     "text": [
      "Classifying hashtags:  75%|███████▌  | 188/250 [01:58<00:34,  1.81hashtag/s]"
     ]
    },
    {
     "name": "stdout",
     "output_type": "stream",
     "text": [
      "Hashtag: seizures, Category: Medical/Health Conditions\n"
     ]
    },
    {
     "name": "stderr",
     "output_type": "stream",
     "text": [
      "Classifying hashtags:  76%|███████▌  | 189/250 [01:58<00:32,  1.85hashtag/s]"
     ]
    },
    {
     "name": "stdout",
     "output_type": "stream",
     "text": [
      "Hashtag: shitfaced, Category: Alcohol\n"
     ]
    },
    {
     "name": "stderr",
     "output_type": "stream",
     "text": [
      "Classifying hashtags:  76%|███████▌  | 190/250 [01:59<00:33,  1.78hashtag/s]"
     ]
    },
    {
     "name": "stdout",
     "output_type": "stream",
     "text": [
      "Hashtag: shmeeds, Category: commonly-misused substances\n"
     ]
    },
    {
     "name": "stderr",
     "output_type": "stream",
     "text": [
      "Classifying hashtags:  76%|███████▋  | 191/250 [01:59<00:31,  1.90hashtag/s]"
     ]
    },
    {
     "name": "stdout",
     "output_type": "stream",
     "text": [
      "Hashtag: shmoke, Category: cannabis\n"
     ]
    },
    {
     "name": "stderr",
     "output_type": "stream",
     "text": [
      "Classifying hashtags:  77%|███████▋  | 192/250 [02:00<00:29,  1.95hashtag/s]"
     ]
    },
    {
     "name": "stdout",
     "output_type": "stream",
     "text": [
      "Hashtag: shmokesumthin, Category: cannabis\n"
     ]
    },
    {
     "name": "stderr",
     "output_type": "stream",
     "text": [
      "Classifying hashtags:  77%|███████▋  | 193/250 [02:00<00:29,  1.95hashtag/s]"
     ]
    },
    {
     "name": "stdout",
     "output_type": "stream",
     "text": [
      "Hashtag: shmoketok, Category: cannabis\n"
     ]
    },
    {
     "name": "stderr",
     "output_type": "stream",
     "text": [
      "Classifying hashtags:  78%|███████▊  | 194/250 [02:01<00:30,  1.84hashtag/s]"
     ]
    },
    {
     "name": "stdout",
     "output_type": "stream",
     "text": [
      "Hashtag: smartdrugs, Category: cognitive enhancement\n"
     ]
    },
    {
     "name": "stderr",
     "output_type": "stream",
     "text": [
      "Classifying hashtags:  78%|███████▊  | 195/250 [02:01<00:29,  1.87hashtag/s]"
     ]
    },
    {
     "name": "stdout",
     "output_type": "stream",
     "text": [
      "Hashtag: smartpills, Category: cognitive enhancement\n"
     ]
    },
    {
     "name": "stderr",
     "output_type": "stream",
     "text": [
      "Classifying hashtags:  78%|███████▊  | 196/250 [02:04<01:07,  1.26s/hashtag]"
     ]
    },
    {
     "name": "stdout",
     "output_type": "stream",
     "text": [
      "Hashtag: smoking, Category: tobacco/nicotine\n"
     ]
    },
    {
     "name": "stderr",
     "output_type": "stream",
     "text": [
      "Classifying hashtags:  79%|███████▉  | 197/250 [02:05<00:55,  1.04s/hashtag]"
     ]
    },
    {
     "name": "stdout",
     "output_type": "stream",
     "text": [
      "Hashtag: smokingkills, Category: prevention/harm reduction\n"
     ]
    },
    {
     "name": "stderr",
     "output_type": "stream",
     "text": [
      "Classifying hashtags:  79%|███████▉  | 198/250 [02:05<00:45,  1.15hashtag/s]"
     ]
    },
    {
     "name": "stdout",
     "output_type": "stream",
     "text": [
      "Hashtag: sober, Category: Recovery\n"
     ]
    },
    {
     "name": "stderr",
     "output_type": "stream",
     "text": [
      "Classifying hashtags:  80%|███████▉  | 199/250 [02:06<00:39,  1.29hashtag/s]"
     ]
    },
    {
     "name": "stdout",
     "output_type": "stream",
     "text": [
      "Hashtag: soberhouse, Category: Recovery\n"
     ]
    },
    {
     "name": "stderr",
     "output_type": "stream",
     "text": [
      "Classifying hashtags:  80%|████████  | 200/250 [02:06<00:33,  1.49hashtag/s]"
     ]
    },
    {
     "name": "stdout",
     "output_type": "stream",
     "text": [
      "Hashtag: soberlife, Category: Recovery\n"
     ]
    },
    {
     "name": "stderr",
     "output_type": "stream",
     "text": [
      "Classifying hashtags:  80%|████████  | 201/250 [02:07<00:30,  1.63hashtag/s]"
     ]
    },
    {
     "name": "stdout",
     "output_type": "stream",
     "text": [
      "Hashtag: soberliving, Category: Recovery\n"
     ]
    },
    {
     "name": "stderr",
     "output_type": "stream",
     "text": [
      "Classifying hashtags:  81%|████████  | 202/250 [02:07<00:26,  1.80hashtag/s]"
     ]
    },
    {
     "name": "stdout",
     "output_type": "stream",
     "text": [
      "Hashtag: sobriety, Category: Recovery\n"
     ]
    },
    {
     "name": "stderr",
     "output_type": "stream",
     "text": [
      "Classifying hashtags:  81%|████████  | 203/250 [02:09<00:48,  1.03s/hashtag]"
     ]
    },
    {
     "name": "stdout",
     "output_type": "stream",
     "text": [
      "Hashtag: sobrietybirthday, Category: Recovery\n"
     ]
    },
    {
     "name": "stderr",
     "output_type": "stream",
     "text": [
      "Classifying hashtags:  82%|████████▏ | 204/250 [02:10<00:40,  1.14hashtag/s]"
     ]
    },
    {
     "name": "stdout",
     "output_type": "stream",
     "text": [
      "Hashtag: sorethroat, Category: Medical/Health Conditions\n"
     ]
    },
    {
     "name": "stderr",
     "output_type": "stream",
     "text": [
      "Classifying hashtags:  82%|████████▏ | 205/250 [02:10<00:33,  1.35hashtag/s]"
     ]
    },
    {
     "name": "stdout",
     "output_type": "stream",
     "text": [
      "Hashtag: stitch, Category: Platform Engagement\n"
     ]
    },
    {
     "name": "stderr",
     "output_type": "stream",
     "text": [
      "Classifying hashtags:  82%|████████▏ | 206/250 [02:11<00:29,  1.49hashtag/s]"
     ]
    },
    {
     "name": "stdout",
     "output_type": "stream",
     "text": [
      "Hashtag: stoned, Category: Substance Effects\n"
     ]
    },
    {
     "name": "stderr",
     "output_type": "stream",
     "text": [
      "Classifying hashtags:  83%|████████▎ | 207/250 [02:11<00:26,  1.60hashtag/s]"
     ]
    },
    {
     "name": "stdout",
     "output_type": "stream",
     "text": [
      "Hashtag: stoner, Category: cannabis\n"
     ]
    },
    {
     "name": "stderr",
     "output_type": "stream",
     "text": [
      "Classifying hashtags:  83%|████████▎ | 208/250 [02:12<00:24,  1.69hashtag/s]"
     ]
    },
    {
     "name": "stdout",
     "output_type": "stream",
     "text": [
      "Hashtag: stonersoftiktok, Category: cannabis\n"
     ]
    },
    {
     "name": "stderr",
     "output_type": "stream",
     "text": [
      "Classifying hashtags:  84%|████████▎ | 209/250 [02:12<00:24,  1.67hashtag/s]"
     ]
    },
    {
     "name": "stdout",
     "output_type": "stream",
     "text": [
      "Hashtag: stonervibes, Category: cannabis\n"
     ]
    },
    {
     "name": "stderr",
     "output_type": "stream",
     "text": [
      "Classifying hashtags:  84%|████████▍ | 210/250 [02:13<00:22,  1.75hashtag/s]"
     ]
    },
    {
     "name": "stdout",
     "output_type": "stream",
     "text": [
      "Hashtag: stopsmoking, Category: prevention/harm reduction\n"
     ]
    },
    {
     "name": "stderr",
     "output_type": "stream",
     "text": [
      "Classifying hashtags:  84%|████████▍ | 211/250 [02:14<00:25,  1.55hashtag/s]"
     ]
    },
    {
     "name": "stdout",
     "output_type": "stream",
     "text": [
      "Hashtag: stopthestigma, Category: Prevention/Harm Reduction\n"
     ]
    },
    {
     "name": "stderr",
     "output_type": "stream",
     "text": [
      "Classifying hashtags:  85%|████████▍ | 212/250 [02:14<00:22,  1.66hashtag/s]"
     ]
    },
    {
     "name": "stdout",
     "output_type": "stream",
     "text": [
      "Hashtag: stopvapping, Category: prevention/harm reduction\n"
     ]
    },
    {
     "name": "stderr",
     "output_type": "stream",
     "text": [
      "Classifying hashtags:  85%|████████▌ | 213/250 [02:15<00:20,  1.83hashtag/s]"
     ]
    },
    {
     "name": "stdout",
     "output_type": "stream",
     "text": [
      "Hashtag: struggle, Category: Emotion\n"
     ]
    },
    {
     "name": "stderr",
     "output_type": "stream",
     "text": [
      "Classifying hashtags:  86%|████████▌ | 214/250 [02:15<00:21,  1.67hashtag/s]"
     ]
    },
    {
     "name": "stdout",
     "output_type": "stream",
     "text": [
      "Hashtag: substanceabuse, Category: commonly-misused substances\n"
     ]
    },
    {
     "name": "stderr",
     "output_type": "stream",
     "text": [
      "Classifying hashtags:  86%|████████▌ | 215/250 [02:16<00:22,  1.58hashtag/s]"
     ]
    },
    {
     "name": "stdout",
     "output_type": "stream",
     "text": [
      "Hashtag: substanceusedisorder, Category: Medical/Health Conditions\n"
     ]
    },
    {
     "name": "stderr",
     "output_type": "stream",
     "text": [
      "Classifying hashtags:  86%|████████▋ | 216/250 [02:16<00:20,  1.67hashtag/s]"
     ]
    },
    {
     "name": "stdout",
     "output_type": "stream",
     "text": [
      "Hashtag: suplements, Category: Other Substances\n"
     ]
    },
    {
     "name": "stderr",
     "output_type": "stream",
     "text": [
      "Classifying hashtags:  87%|████████▋ | 217/250 [02:17<00:18,  1.75hashtag/s]"
     ]
    },
    {
     "name": "stdout",
     "output_type": "stream",
     "text": [
      "Hashtag: tequila, Category: Alcohol\n"
     ]
    },
    {
     "name": "stderr",
     "output_type": "stream",
     "text": [
      "Classifying hashtags:  87%|████████▋ | 218/250 [02:18<00:18,  1.71hashtag/s]"
     ]
    },
    {
     "name": "stdout",
     "output_type": "stream",
     "text": [
      "Hashtag: thatdrank, Category: Alcohol\n"
     ]
    },
    {
     "name": "stderr",
     "output_type": "stream",
     "text": [
      "Classifying hashtags:  88%|████████▊ | 219/250 [02:18<00:18,  1.68hashtag/s]"
     ]
    },
    {
     "name": "stdout",
     "output_type": "stream",
     "text": [
      "Hashtag: thom, Category: commonly-misused substances\n"
     ]
    },
    {
     "name": "stderr",
     "output_type": "stream",
     "text": [
      "Classifying hashtags:  88%|████████▊ | 220/250 [02:19<00:17,  1.76hashtag/s]"
     ]
    },
    {
     "name": "stdout",
     "output_type": "stream",
     "text": [
      "Hashtag: tiktok, Category: Platform Engagement\n"
     ]
    },
    {
     "name": "stderr",
     "output_type": "stream",
     "text": [
      "Classifying hashtags:  88%|████████▊ | 221/250 [02:19<00:16,  1.81hashtag/s]"
     ]
    },
    {
     "name": "stdout",
     "output_type": "stream",
     "text": [
      "Hashtag: tipsy, Category: Alcohol\n"
     ]
    },
    {
     "name": "stderr",
     "output_type": "stream",
     "text": [
      "Classifying hashtags:  89%|████████▉ | 222/250 [02:20<00:15,  1.85hashtag/s]"
     ]
    },
    {
     "name": "stdout",
     "output_type": "stream",
     "text": [
      "Hashtag: tobacco, Category: tobacco/nicotine\n"
     ]
    },
    {
     "name": "stderr",
     "output_type": "stream",
     "text": [
      "Classifying hashtags:  89%|████████▉ | 223/250 [02:20<00:14,  1.88hashtag/s]"
     ]
    },
    {
     "name": "stdout",
     "output_type": "stream",
     "text": [
      "Hashtag: trauma, Category: Medical/Health Conditions\n"
     ]
    },
    {
     "name": "stderr",
     "output_type": "stream",
     "text": [
      "Classifying hashtags:  90%|████████▉ | 224/250 [02:21<00:13,  1.93hashtag/s]"
     ]
    },
    {
     "name": "stdout",
     "output_type": "stream",
     "text": [
      "Hashtag: trend, Category: Platform Engagement\n"
     ]
    },
    {
     "name": "stderr",
     "output_type": "stream",
     "text": [
      "Classifying hashtags:  90%|█████████ | 225/250 [02:21<00:13,  1.91hashtag/s]"
     ]
    },
    {
     "name": "stdout",
     "output_type": "stream",
     "text": [
      "Hashtag: trending, Category: Platform Engagement\n"
     ]
    },
    {
     "name": "stderr",
     "output_type": "stream",
     "text": [
      "Classifying hashtags:  90%|█████████ | 226/250 [02:22<00:13,  1.84hashtag/s]"
     ]
    },
    {
     "name": "stdout",
     "output_type": "stream",
     "text": [
      "Hashtag: tylenol, Category: other substances\n"
     ]
    },
    {
     "name": "stderr",
     "output_type": "stream",
     "text": [
      "Classifying hashtags:  91%|█████████ | 227/250 [02:23<00:13,  1.75hashtag/s]"
     ]
    },
    {
     "name": "stdout",
     "output_type": "stream",
     "text": [
      "Hashtag: tylenoltuesday, Category: other substances\n"
     ]
    },
    {
     "name": "stderr",
     "output_type": "stream",
     "text": [
      "Classifying hashtags:  91%|█████████ | 228/250 [02:23<00:12,  1.81hashtag/s]"
     ]
    },
    {
     "name": "stdout",
     "output_type": "stream",
     "text": [
      "Hashtag: vape, Category: tobacco/nicotine\n"
     ]
    },
    {
     "name": "stderr",
     "output_type": "stream",
     "text": [
      "Classifying hashtags:  92%|█████████▏| 229/250 [02:24<00:11,  1.85hashtag/s]"
     ]
    },
    {
     "name": "stdout",
     "output_type": "stream",
     "text": [
      "Hashtag: vaper, Category: Tobacco/Nicotine\n"
     ]
    },
    {
     "name": "stderr",
     "output_type": "stream",
     "text": [
      "Classifying hashtags:  92%|█████████▏| 230/250 [02:24<00:12,  1.60hashtag/s]"
     ]
    },
    {
     "name": "stdout",
     "output_type": "stream",
     "text": [
      "Hashtag: vaping, Category: tobacco/nicotine\n"
     ]
    },
    {
     "name": "stderr",
     "output_type": "stream",
     "text": [
      "Classifying hashtags:  92%|█████████▏| 231/250 [02:25<00:11,  1.72hashtag/s]"
     ]
    },
    {
     "name": "stdout",
     "output_type": "stream",
     "text": [
      "Hashtag: vibes, Category: Emotion\n"
     ]
    },
    {
     "name": "stderr",
     "output_type": "stream",
     "text": [
      "Classifying hashtags:  93%|█████████▎| 232/250 [02:25<00:10,  1.75hashtag/s]"
     ]
    },
    {
     "name": "stdout",
     "output_type": "stream",
     "text": [
      "Hashtag: viral, Category: Platform Engagement\n"
     ]
    },
    {
     "name": "stderr",
     "output_type": "stream",
     "text": [
      "Classifying hashtags:  93%|█████████▎| 233/250 [02:26<00:10,  1.63hashtag/s]"
     ]
    },
    {
     "name": "stdout",
     "output_type": "stream",
     "text": [
      "Hashtag: vitamink, Category: commonly-misused substances\n"
     ]
    },
    {
     "name": "stderr",
     "output_type": "stream",
     "text": [
      "Classifying hashtags:  94%|█████████▎| 234/250 [02:27<00:08,  1.81hashtag/s]"
     ]
    },
    {
     "name": "stdout",
     "output_type": "stream",
     "text": [
      "Hashtag: vitamins, Category: other substances\n"
     ]
    },
    {
     "name": "stderr",
     "output_type": "stream",
     "text": [
      "Classifying hashtags:  94%|█████████▍| 235/250 [02:27<00:07,  1.93hashtag/s]"
     ]
    },
    {
     "name": "stdout",
     "output_type": "stream",
     "text": [
      "Hashtag: vodka, Category: Alcohol\n"
     ]
    },
    {
     "name": "stderr",
     "output_type": "stream",
     "text": [
      "Classifying hashtags:  94%|█████████▍| 236/250 [02:27<00:06,  2.17hashtag/s]"
     ]
    },
    {
     "name": "stdout",
     "output_type": "stream",
     "text": [
      "Hashtag: wasted, Category: Alcohol\n"
     ]
    },
    {
     "name": "stderr",
     "output_type": "stream",
     "text": [
      "Classifying hashtags:  95%|█████████▍| 237/250 [02:28<00:05,  2.33hashtag/s]"
     ]
    },
    {
     "name": "stdout",
     "output_type": "stream",
     "text": [
      "Hashtag: wax, Category: cannabis\n"
     ]
    },
    {
     "name": "stderr",
     "output_type": "stream",
     "text": [
      "Classifying hashtags:  95%|█████████▌| 238/250 [02:28<00:05,  2.30hashtag/s]"
     ]
    },
    {
     "name": "stdout",
     "output_type": "stream",
     "text": [
      "Hashtag: wedorecover, Category: Recovery\n"
     ]
    },
    {
     "name": "stderr",
     "output_type": "stream",
     "text": [
      "Classifying hashtags:  96%|█████████▌| 239/250 [02:28<00:04,  2.35hashtag/s]"
     ]
    },
    {
     "name": "stdout",
     "output_type": "stream",
     "text": [
      "Hashtag: weed, Category: cannabis\n"
     ]
    },
    {
     "name": "stderr",
     "output_type": "stream",
     "text": [
      "Classifying hashtags:  96%|█████████▌| 240/250 [02:29<00:04,  2.32hashtag/s]"
     ]
    },
    {
     "name": "stdout",
     "output_type": "stream",
     "text": [
      "Hashtag: whipit, Category: commonly-misused substances\n"
     ]
    },
    {
     "name": "stderr",
     "output_type": "stream",
     "text": [
      "Classifying hashtags:  96%|█████████▋| 241/250 [02:29<00:04,  2.19hashtag/s]"
     ]
    },
    {
     "name": "stdout",
     "output_type": "stream",
     "text": [
      "Hashtag: whippets, Category: commonly-misused substances\n"
     ]
    },
    {
     "name": "stderr",
     "output_type": "stream",
     "text": [
      "Classifying hashtags:  97%|█████████▋| 242/250 [02:30<00:03,  2.23hashtag/s]"
     ]
    },
    {
     "name": "stdout",
     "output_type": "stream",
     "text": [
      "Hashtag: whiskey, Category: Alcohol\n"
     ]
    },
    {
     "name": "stderr",
     "output_type": "stream",
     "text": [
      "Classifying hashtags:  97%|█████████▋| 243/250 [02:30<00:03,  2.21hashtag/s]"
     ]
    },
    {
     "name": "stdout",
     "output_type": "stream",
     "text": [
      "Hashtag: wildmandrinking, Category: Alcohol\n"
     ]
    },
    {
     "name": "stderr",
     "output_type": "stream",
     "text": [
      "Classifying hashtags:  98%|█████████▊| 244/250 [02:31<00:02,  2.21hashtag/s]"
     ]
    },
    {
     "name": "stdout",
     "output_type": "stream",
     "text": [
      "Hashtag: wine, Category: Alcohol\n"
     ]
    },
    {
     "name": "stderr",
     "output_type": "stream",
     "text": [
      "Classifying hashtags:  98%|█████████▊| 245/250 [02:31<00:02,  2.09hashtag/s]"
     ]
    },
    {
     "name": "stdout",
     "output_type": "stream",
     "text": [
      "Hashtag: xandemic, Category: commonly-misused substances\n"
     ]
    },
    {
     "name": "stderr",
     "output_type": "stream",
     "text": [
      "Classifying hashtags:  98%|█████████▊| 246/250 [02:32<00:01,  2.11hashtag/s]"
     ]
    },
    {
     "name": "stdout",
     "output_type": "stream",
     "text": [
      "Hashtag: xanny, Category: commonly-misused substances\n"
     ]
    },
    {
     "name": "stderr",
     "output_type": "stream",
     "text": [
      "Classifying hashtags:  99%|█████████▉| 247/250 [02:32<00:01,  2.00hashtag/s]"
     ]
    },
    {
     "name": "stdout",
     "output_type": "stream",
     "text": [
      "Hashtag: xans, Category: commonly-misused substances\n"
     ]
    },
    {
     "name": "stderr",
     "output_type": "stream",
     "text": [
      "Classifying hashtags:  99%|█████████▉| 248/250 [02:33<00:01,  1.99hashtag/s]"
     ]
    },
    {
     "name": "stdout",
     "output_type": "stream",
     "text": [
      "Hashtag: xantok, Category: commonly-misused substances\n"
     ]
    },
    {
     "name": "stderr",
     "output_type": "stream",
     "text": [
      "Classifying hashtags: 100%|█████████▉| 249/250 [02:33<00:00,  1.87hashtag/s]"
     ]
    },
    {
     "name": "stdout",
     "output_type": "stream",
     "text": [
      "Hashtag: xyzbca, Category: Platform Engagement\n"
     ]
    },
    {
     "name": "stderr",
     "output_type": "stream",
     "text": [
      "Classifying hashtags: 100%|██████████| 250/250 [02:34<00:00,  1.62hashtag/s]"
     ]
    },
    {
     "name": "stdout",
     "output_type": "stream",
     "text": [
      "Hashtag: yellows, Category: commonly-misused substances\n",
      "Classifications saved to gpt_hashtag_classifications.csv\n",
      "    Hashtag                                           Category\n",
      "0       30s                    Hashtag: 30s, Category: Emotion\n",
      "1       40s                    Hashtag: 40s, Category: Alcohol\n",
      "2  420vibes              Hashtag: 420vibes, Category: Cannabis\n",
      "3      512s  Hashtag: 512s, Category: commonly-misused subs...\n",
      "4      acid  Hashtag: acid, Category: commonly-misused subs...\n"
     ]
    },
    {
     "name": "stderr",
     "output_type": "stream",
     "text": [
      "\n"
     ]
    }
   ],
   "source": [
    "from tqdm import tqdm\n",
    "\n",
    "def classify_hashtag(hashtag, client, model):\n",
    "    prompt = prompt_template.format(hashtag=hashtag)\n",
    "    response = client.chat.completions.create(\n",
    "        messages=[\n",
    "            {\n",
    "                \"role\": \"system\",\n",
    "                \"content\": prompt\n",
    "            }\n",
    "        ],\n",
    "        model=model,\n",
    "        temperature=0\n",
    "    )\n",
    "    return response.choices[0].message.content.strip()\n",
    "\n",
    "# Get the list of hashtags\n",
    "hashtags = all_human_tags\n",
    "\n",
    "# Initialize a dictionary to store results\n",
    "results = {}\n",
    "\n",
    "# Classify each hashtag\n",
    "for hashtag in tqdm(hashtags, desc=\"Classifying hashtags\", unit=\"hashtag\"):\n",
    "    classification = classify_hashtag(hashtag, client, \"gpt-4o\")\n",
    "    results[hashtag] = classification\n",
    "    print(classification)\n",
    "\n",
    "\n",
    "# Convert results to a DataFrame\n",
    "df_results = pd.DataFrame.from_dict(results, orient='index', columns=['Category'])\n",
    "df_results.index.name = 'Hashtag'\n",
    "df_results.reset_index(inplace=True)\n",
    "\n",
    "# Save results to CSV\n",
    "df_results.to_csv('gpt_hashtag_classifications_4o.csv', index=False)\n",
    "print(\"Classifications saved to gpt_hashtag_classifications.csv\")\n",
    "\n",
    "# Display the first few results\n",
    "print(df_results.head())"
   ]
  },
  {
   "cell_type": "code",
   "execution_count": 6,
   "metadata": {},
   "outputs": [
    {
     "name": "stdout",
     "output_type": "stream",
     "text": [
      "    hashtag                     category\n",
      "0       30s                      Emotion\n",
      "1       40s                      Alcohol\n",
      "2  420vibes                     Cannabis\n",
      "3      512s  commonly-misused substances\n",
      "4      acid  commonly-misused substances\n",
      "Classifications saved to gpt_hashtag_classifications.csv\n"
     ]
    }
   ],
   "source": [
    "import pandas as pd\n",
    "import re\n",
    "\n",
    "# Create a new DataFrame from the results dictionary\n",
    "df_results = pd.DataFrame.from_dict(results, orient='index', columns=['full_text'])\n",
    "df_results.index.name = 'hashtag'\n",
    "df_results.reset_index(inplace=True)\n",
    "\n",
    "# Extract the category from the full text\n",
    "df_results['category'] = df_results['full_text'].str.extract(r'Category:\\s*(.*)')\n",
    "\n",
    "# Drop the full_text column as it's no longer needed\n",
    "df_results.drop('full_text', axis=1, inplace=True)\n",
    "\n",
    "# Display the first few rows of the new DataFrame\n",
    "print(df_results.head())\n",
    "\n",
    "# Save results to CSV if needed\n",
    "df_results.to_csv('gpt_hashtag_classifications_4o.csv', index=False)\n",
    "print(\"Classifications saved to gpt_hashtag_classifications.csv\")"
   ]
  },
  {
   "cell_type": "code",
   "execution_count": 8,
   "metadata": {},
   "outputs": [
    {
     "name": "stdout",
     "output_type": "stream",
     "text": [
      "Conversion complete. New file saved as 'human_hashtag_classifications.csv'\n"
     ]
    }
   ],
   "source": [
    "import pandas as pd\n",
    "\n",
    "# Read the original CSV file\n",
    "df = pd.read_csv(\"Theme_and_Hashtag_Data_human.csv\")\n",
    "\n",
    "# Create a new list to store the converted data\n",
    "new_data = []\n",
    "\n",
    "# Iterate through each column (theme) in the DataFrame\n",
    "for category in df.columns:\n",
    "    # Get all non-null hashtags for this theme\n",
    "    hashtags = df[category].dropna()\n",
    "    \n",
    "    # Add each hashtag and its theme to the new data list\n",
    "    for hashtag in hashtags:\n",
    "        new_data.append({\"hashtag\": hashtag, \"category\": category})\n",
    "\n",
    "# Create a new DataFrame from the converted data\n",
    "new_df = pd.DataFrame(new_data)\n",
    "\n",
    "# Save the new DataFrame to a CSV file\n",
    "new_df.to_csv(\"human_hashtag_classifications.csv\", index=False)\n",
    "\n",
    "print(\"Conversion complete. New file saved as 'human_hashtag_classifications.csv'\")"
   ]
  },
  {
   "cell_type": "code",
   "execution_count": 17,
   "metadata": {},
   "outputs": [
    {
     "data": {
      "image/png": "[encoded data removed]",
      "text/plain": [
       "<Figure size 1500x1200 with 2 Axes>"
      ]
     },
     "metadata": {},
     "output_type": "display_data"
    },
    {
     "name": "stdout",
     "output_type": "stream",
     "text": [
      "Confusion Matrix:\n",
      "                             alcohol  cannabis  cognitive enhancement  \\\n",
      "alcohol                           16         0                      0   \n",
      "cannabis                           0        10                      0   \n",
      "cognitive enhancement              0         0                      7   \n",
      "commonly-misused substances        3         0                      0   \n",
      "consumption method                 3         4                      0   \n",
      "drug policy/law                    0         0                      0   \n",
      "emotion                            0         0                      0   \n",
      "humor                              0         0                      0   \n",
      "medical/health conditions          0         0                      0   \n",
      "other substances                   0         0                      0   \n",
      "platform                           0         0                      0   \n",
      "prevention/harm reduction          0         0                      0   \n",
      "recovery                           0         0                      0   \n",
      "substance effects                  8         1                      0   \n",
      "tobacco/nicotine                   0         0                      0   \n",
      "\n",
      "                             commonly-misused substances  consumption method  \\\n",
      "alcohol                                                0                   0   \n",
      "cannabis                                               1                   1   \n",
      "cognitive enhancement                                  2                   0   \n",
      "commonly-misused substances                           38                   0   \n",
      "consumption method                                     0                   4   \n",
      "drug policy/law                                        0                   0   \n",
      "emotion                                                0                   0   \n",
      "humor                                                  0                   0   \n",
      "medical/health conditions                              2                   0   \n",
      "other substances                                       2                   0   \n",
      "platform                                               0                   0   \n",
      "prevention/harm reduction                              0                   0   \n",
      "recovery                                               0                   0   \n",
      "substance effects                                      1                   0   \n",
      "tobacco/nicotine                                       0                   0   \n",
      "\n",
      "                             drug policy/law  emotion  humor  \\\n",
      "alcohol                                    0        0      0   \n",
      "cannabis                                   0        0      0   \n",
      "cognitive enhancement                      0        0      0   \n",
      "commonly-misused substances                0        1      0   \n",
      "consumption method                         0        0      0   \n",
      "drug policy/law                            4        0      0   \n",
      "emotion                                    0       12      0   \n",
      "humor                                      0        0      3   \n",
      "medical/health conditions                  0        0      0   \n",
      "other substances                           0        0      0   \n",
      "platform                                   0        0      0   \n",
      "prevention/harm reduction                  1        0      0   \n",
      "recovery                                   0        0      0   \n",
      "substance effects                          0        0      1   \n",
      "tobacco/nicotine                           0        0      0   \n",
      "\n",
      "                             medical/health conditions  other substances  \\\n",
      "alcohol                                              0                 0   \n",
      "cannabis                                             0                 0   \n",
      "cognitive enhancement                                0                 0   \n",
      "commonly-misused substances                          0                 3   \n",
      "consumption method                                   0                 1   \n",
      "drug policy/law                                      0                 0   \n",
      "emotion                                              2                 0   \n",
      "humor                                                0                 0   \n",
      "medical/health conditions                           29                 0   \n",
      "other substances                                     0                13   \n",
      "platform                                             0                 0   \n",
      "prevention/harm reduction                            2                 0   \n",
      "recovery                                             1                 1   \n",
      "substance effects                                    0                 0   \n",
      "tobacco/nicotine                                     0                 0   \n",
      "\n",
      "                             platform  prevention/harm reduction  recovery  \\\n",
      "alcohol                             0                          0         1   \n",
      "cannabis                            0                          0         0   \n",
      "cognitive enhancement               0                          0         0   \n",
      "commonly-misused substances         0                          0         0   \n",
      "consumption method                  0                          0         0   \n",
      "drug policy/law                     0                          0         0   \n",
      "emotion                             0                          0         0   \n",
      "humor                               0                          0         0   \n",
      "medical/health conditions           0                          0         0   \n",
      "other substances                    0                          0         0   \n",
      "platform                           15                          0         0   \n",
      "prevention/harm reduction           0                         16         2   \n",
      "recovery                            1                          2        15   \n",
      "substance effects                   0                          0         0   \n",
      "tobacco/nicotine                    0                          0         0   \n",
      "\n",
      "                             substance effects  tobacco/nicotine  \n",
      "alcohol                                      0                 0  \n",
      "cannabis                                     0                 0  \n",
      "cognitive enhancement                        0                 0  \n",
      "commonly-misused substances                  0                 0  \n",
      "consumption method                           0                 2  \n",
      "drug policy/law                              0                 0  \n",
      "emotion                                      0                 0  \n",
      "humor                                        0                 0  \n",
      "medical/health conditions                    0                 0  \n",
      "other substances                             0                 0  \n",
      "platform                                     0                 0  \n",
      "prevention/harm reduction                    0                 0  \n",
      "recovery                                     0                 0  \n",
      "substance effects                            4                 0  \n",
      "tobacco/nicotine                             0                15  \n",
      "\n",
      "Overall Accuracy: 0.8040\n",
      "\n",
      "Accuracy by Category:\n",
      "drug policy/law: 1.0000\n",
      "humor: 1.0000\n",
      "platform: 1.0000\n",
      "tobacco/nicotine: 1.0000\n",
      "alcohol: 0.9412\n",
      "medical/health conditions: 0.9355\n",
      "other substances: 0.8667\n",
      "emotion: 0.8571\n",
      "commonly-misused substances: 0.8444\n",
      "cannabis: 0.8333\n",
      "cognitive enhancement: 0.7778\n",
      "prevention/harm reduction: 0.7619\n",
      "recovery: 0.7500\n",
      "consumption method: 0.2857\n",
      "substance effects: 0.2667\n"
     ]
    }
   ],
   "source": [
    "import pandas as pd\n",
    "import numpy as np\n",
    "import seaborn as sns\n",
    "import matplotlib.pyplot as plt\n",
    "from sklearn.metrics import confusion_matrix, accuracy_score\n",
    "\n",
    "# Load the datasets\n",
    "human_df = pd.read_csv(\"human_hashtag_classifications.csv\")\n",
    "gpt_df = pd.read_csv(\"gpt_hashtag_classifications_4o.csv\")\n",
    "\n",
    "# Convert categories to lowercase for both DataFrames and replace NaN with a placeholder\n",
    "human_df['category'] = human_df['category'].fillna('unknown').str.lower()\n",
    "gpt_df['category'] = gpt_df['category'].fillna('unknown').str.lower()\n",
    "\n",
    "# Apply the category mapping to the GPT DataFrame\n",
    "category_mapping = {\n",
    "    'platform engagement': 'platform',\n",
    "    'commonly misused substances': 'commonly-misused substances'\n",
    "}\n",
    "gpt_df['category'] = gpt_df['category'].replace(category_mapping)\n",
    "\n",
    "# Merge the datasets\n",
    "merged_df = pd.merge(human_df, gpt_df, on='hashtag', how='left', suffixes=('_human', '_gpt'))\n",
    "\n",
    "# Replace any remaining NaN values with 'unknown'\n",
    "merged_df['category_human'] = merged_df['category_human'].fillna('unknown')\n",
    "merged_df['category_gpt'] = merged_df['category_gpt'].fillna('unknown')\n",
    "\n",
    "# Get all unique categories\n",
    "all_categories = sorted(set(merged_df['category_human'].unique()) | set(merged_df['category_gpt'].unique()))\n",
    "\n",
    "# Create the confusion matrix\n",
    "cm = confusion_matrix(\n",
    "    merged_df['category_human'],\n",
    "    merged_df['category_gpt'],\n",
    "    labels=all_categories\n",
    ")\n",
    "\n",
    "# Calculate overall accuracy\n",
    "overall_accuracy = accuracy_score(merged_df['category_human'], merged_df['category_gpt'])\n",
    "\n",
    "# Calculate accuracy for each category\n",
    "category_accuracies = {}\n",
    "for category in all_categories:\n",
    "    category_mask = merged_df['category_human'] == category\n",
    "    category_accuracy = accuracy_score(\n",
    "        merged_df.loc[category_mask, 'category_human'],\n",
    "        merged_df.loc[category_mask, 'category_gpt']\n",
    "    )\n",
    "    category_accuracies[category] = category_accuracy\n",
    "\n",
    "# Create a heatmap of the confusion matrix\n",
    "plt.figure(figsize=(15, 12))\n",
    "sns.heatmap(cm, annot=True, fmt='d', cmap='Blues', xticklabels=all_categories, yticklabels=all_categories)\n",
    "plt.title('Confusion Matrix of Human vs GPT Category Classifications')\n",
    "plt.xlabel('GPT Categories')\n",
    "plt.ylabel('Human Categories')\n",
    "plt.xticks(rotation=45, ha='right')\n",
    "plt.yticks(rotation=0)\n",
    "plt.tight_layout()\n",
    "plt.show()\n",
    "\n",
    "# Print the confusion matrix\n",
    "print(\"Confusion Matrix:\")\n",
    "print(pd.DataFrame(cm, index=all_categories, columns=all_categories))\n",
    "\n",
    "# Print overall accuracy\n",
    "print(f\"\\nOverall Accuracy: {overall_accuracy:.4f}\")\n",
    "\n",
    "# Print accuracy for each category\n",
    "print(\"\\nAccuracy by Category:\")\n",
    "for category, accuracy in sorted(category_accuracies.items(), key=lambda x: x[1], reverse=True):\n",
    "    print(f\"{category}: {accuracy:.4f}\")"
   ]
  },
  {
   "cell_type": "code",
   "execution_count": 18,
   "metadata": {},
   "outputs": [
    {
     "name": "stdout",
     "output_type": "stream",
     "text": [
      "\n",
      "Merged dataset saved to merged_hashtag_classifications_4o.csv\n"
     ]
    }
   ],
   "source": [
    "# Save the merged DataFrame to a CSV file\n",
    "output_file = 'merged_hashtag_classifications_4o.csv'\n",
    "merged_df.to_csv(output_file, index=False)\n",
    "print(f\"\\nMerged dataset saved to {output_file}\")"
   ]
  },
  {
   "cell_type": "code",
   "execution_count": 11,
   "metadata": {},
   "outputs": [
    {
     "name": "stdout",
     "output_type": "stream",
     "text": [
      "Human categories: ['alcohol', 'cannabis', 'cognitive enhancement', 'commonly-misused substances', 'consumption method', 'drug policy/law', 'emotion', 'humor', 'medical/health conditions', 'other substances', 'platform', 'prevention/harm reduction', 'recovery', 'substance effects', 'tobacco/nicotine']\n",
      "GPT categories: ['alcohol', 'cannabis', 'cognitive enhancement', 'commonly-misused substances', 'consumption method', 'drug policy/law', 'emotion', 'humor', 'medical/health conditions', 'other substances', 'platform', 'prevention/harm reduction', 'recovery', 'substance effects', 'tobacco/nicotine']\n"
     ]
    }
   ],
   "source": [
    "print(\"Human categories:\", sorted(human_df['category'].unique()))\n",
    "print(\"GPT categories:\", sorted(gpt_df['category'].unique()))"
   ]
  },
  {
   "cell_type": "code",
   "execution_count": 13,
   "metadata": {},
   "outputs": [
    {
     "name": "stdout",
     "output_type": "stream",
     "text": [
      "Categories in human but not in GPT: set()\n",
      "Categories in GPT but not in human: set()\n",
      "Common categories: {'substance effects', 'tobacco/nicotine', 'alcohol', 'emotion', 'cognitive enhancement', 'drug policy/law', 'cannabis', 'other substances', 'recovery', 'consumption method', 'commonly-misused substances', 'humor', 'prevention/harm reduction', 'platform', 'medical/health conditions'}\n"
     ]
    }
   ],
   "source": [
    "human_categories = set(human_df['category'].str.lower())\n",
    "gpt_categories = set(gpt_df['category'].str.lower())\n",
    "\n",
    "print(\"Categories in human but not in GPT:\", human_categories - gpt_categories)\n",
    "print(\"Categories in GPT but not in human:\", gpt_categories - human_categories)\n",
    "print(\"Common categories:\", human_categories.intersection(gpt_categories))"
   ]
  },
  {
   "cell_type": "code",
   "execution_count": 14,
   "metadata": {},
   "outputs": [
    {
     "name": "stdout",
     "output_type": "stream",
     "text": [
      "Extra tag in human dataset: {'na', 'naloxone', 'fypシ゚viral', 'fypシ'}\n",
      "\n",
      "Total tags: 250\n",
      "Matching tags: 0\n",
      "Accuracy: 0.00%\n",
      "\n",
      "Merged dataset saved as 'merged_hashtag_categories.csv'\n",
      "\n",
      "Tags with mismatched categories:\n",
      "            Hashtag             Theme  Category\n",
      "0             funny             Humor       NaN\n",
      "1    addictionhumor             Humor       NaN\n",
      "2              meme             Humor       NaN\n",
      "3              love           Emotion       NaN\n",
      "4              pain           Emotion       NaN\n",
      "..              ...               ...       ...\n",
      "245         tobacco  tobacco/nicotine       NaN\n",
      "246        nicotine  tobacco/nicotine       NaN\n",
      "247    nicotinefein  tobacco/nicotine       NaN\n",
      "248     nicotinegum  tobacco/nicotine       NaN\n",
      "249  nicorettepatch  tobacco/nicotine       NaN\n",
      "\n",
      "[250 rows x 3 columns]\n"
     ]
    }
   ],
   "source": [
    "import pandas as pd\n",
    "\n",
    "# Load the datasets\n",
    "human_df = pd.read_csv(\"converted_Theme_and_Hashtag_Data_human.csv\")\n",
    "gpt_df = pd.read_csv(\"cleaned_categories.csv\")\n",
    "\n",
    "# Find the extra tag\n",
    "extra_tag = set(human_df['Hashtag']) - set(gpt_df['Tag'])\n",
    "\n",
    "if extra_tag:\n",
    "    print(f\"Extra tag in human dataset: {extra_tag}\")\n",
    "else:\n",
    "    print(\"No extra tags found in the human dataset.\")\n",
    "\n",
    "# Merge the datasets\n",
    "merged_df = pd.merge(human_df, gpt_df, left_on='Hashtag', right_on='Tag', how='left')\n",
    "\n",
    "# Calculate accuracy\n",
    "total_tags = len(merged_df)\n",
    "matching_tags = (merged_df['Theme'] == merged_df['Category']).sum()\n",
    "accuracy = matching_tags / total_tags\n",
    "\n",
    "print(f\"\\nTotal tags: {total_tags}\")\n",
    "print(f\"Matching tags: {matching_tags}\")\n",
    "print(f\"Accuracy: {accuracy:.2%}\")\n",
    "\n",
    "# Save the merged dataset\n",
    "merged_df.to_csv(\"merged_hashtag_categories.csv\", index=False)\n",
    "print(\"\\nMerged dataset saved as 'merged_hashtag_categories.csv'\")\n",
    "\n",
    "# Display tags with mismatched categories\n",
    "mismatched_tags = merged_df[merged_df['Theme'] != merged_df['Category']]\n",
    "print(\"\\nTags with mismatched categories:\")\n",
    "print(mismatched_tags[['Hashtag', 'Theme', 'Category']])"
   ]
  },
  {
   "cell_type": "code",
   "execution_count": 65,
   "metadata": {},
   "outputs": [
    {
     "name": "stdout",
     "output_type": "stream",
     "text": [
      "Converted CSV saved to categorized_hashtags_0815.csv\n",
      "Number of rows in output file: 250\n",
      "Number of columns in output file: 15\n",
      "       Node  cannabis  platform engagement  cognitive enhancement  \\\n",
      "0       30s         0                    0                      0   \n",
      "1       40s         0                    0                      0   \n",
      "2  420vibes         1                    0                      0   \n",
      "3      512s         0                    0                      0   \n",
      "4      acid         0                    0                      0   \n",
      "\n",
      "   tobacco/nicotine  drug policy/law  recovery  emotion/humor  \\\n",
      "0                 0                0         0              0   \n",
      "1                 0                0         0              0   \n",
      "2                 0                0         0              0   \n",
      "3                 0                0         0              0   \n",
      "4                 0                0         0              0   \n",
      "\n",
      "   commonly misused substances  other substances  substance effects  \\\n",
      "0                            0                 0                  0   \n",
      "1                            0                 0                  0   \n",
      "2                            0                 0                  0   \n",
      "3                            0                 0                  0   \n",
      "4                            0                 0                  0   \n",
      "\n",
      "   consumption method  alcohol  medical/health conditions  \\\n",
      "0                   0        0                          0   \n",
      "1                   0        0                          0   \n",
      "2                   0        0                          0   \n",
      "3                   0        0                          0   \n",
      "4                   0        0                          0   \n",
      "\n",
      "   prevention/harm reduction  \n",
      "0                          0  \n",
      "1                          0  \n",
      "2                          0  \n",
      "3                          0  \n",
      "4                          0  \n"
     ]
    }
   ],
   "source": [
    "import pandas as pd\n",
    "import re\n",
    "\n",
    "def parse_categorized_data(data):\n",
    "    categories = {}\n",
    "    current_category = None\n",
    "    for line in data.split('\\n'):\n",
    "        line = line.strip()\n",
    "        if re.match(r'\\d+\\.\\s+\\*\\*.*\\*\\*:', line):\n",
    "            current_category = re.search(r'\\*\\*(.*?)\\*\\*', line).group(1).strip()\n",
    "            categories[current_category] = []\n",
    "        elif line.startswith('- '):\n",
    "            hashtag = line.strip('- ').strip()\n",
    "            if current_category:\n",
    "                categories[current_category].append(hashtag)\n",
    "    return categories\n",
    "\n",
    "def convert_to_csv_format(categorized_data, all_tags_string):\n",
    "    categories = parse_categorized_data(categorized_data)\n",
    "    \n",
    "    # Get all tags from the original list\n",
    "    all_tags = [tag.strip() for tag in all_tags_string.split('\\n') if tag.strip()]\n",
    "    \n",
    "    df = pd.DataFrame(0, index=all_tags, columns=list(categories.keys()))\n",
    "    \n",
    "    for category, hashtags in categories.items():\n",
    "        df.loc[df.index.isin(hashtags), category] = 1\n",
    "    \n",
    "    df.reset_index(inplace=True)\n",
    "    df.rename(columns={'index': 'Node'}, inplace=True)\n",
    "    \n",
    "    return df\n",
    "\n",
    "# Assuming the categorized data is stored in the 'label' variable\n",
    "# and all_tags is the string containing all tags\n",
    "\n",
    "# Convert the categorized data to CSV format\n",
    "result_df = convert_to_csv_format(label, all_tags)\n",
    "\n",
    "# Save the result to a CSV file\n",
    "output_file = 'categorized_hashtags_0815.csv'\n",
    "result_df.to_csv(output_file, index=False)\n",
    "\n",
    "print(f\"Converted CSV saved to {output_file}\")\n",
    "print(f\"Number of rows in output file: {len(result_df)}\")\n",
    "print(f\"Number of columns in output file: {len(result_df.columns)}\")\n",
    "\n",
    "# Display the first few rows of the resulting DataFrame\n",
    "print(result_df.head())"
   ]
  },
  {
   "cell_type": "code",
   "execution_count": 4,
   "metadata": {},
   "outputs": [
    {
     "name": "stdout",
     "output_type": "stream",
     "text": [
      "Number of unique hashtags: 209\n",
      "Converted CSV saved to gpt_grouping.csv\n",
      "Number of rows in output file: 209\n",
      "Number of columns in output file: 15\n"
     ]
    }
   ],
   "source": [
    "def convert_csv_format(input_file, output_file):\n",
    "    # Read the input CSV file\n",
    "    df = pd.read_csv(input_file)\n",
    "\n",
    "    # Get categories (all column names)\n",
    "    categories = df.columns.tolist()\n",
    "\n",
    "    # Get all unique hashtags from all columns\n",
    "    all_hashtags = set()\n",
    "    for category in categories:\n",
    "        all_hashtags.update(df[category].dropna())\n",
    "    all_hashtags = sorted(list(all_hashtags))\n",
    "\n",
    "    print(f\"Number of unique hashtags: {len(all_hashtags)}\")\n",
    "\n",
    "    # Create a new DataFrame with hashtags as index and categories as columns\n",
    "    new_df = pd.DataFrame(index=all_hashtags, columns=categories)\n",
    "\n",
    "    # Fill the new DataFrame with 1s and 0s\n",
    "    for category in categories:\n",
    "        category_hashtags = set(df[category].dropna())\n",
    "        new_df[category] = new_df.index.isin(category_hashtags).astype(int)\n",
    "\n",
    "    # Reset index to make hashtags a column\n",
    "    new_df.reset_index(inplace=True)\n",
    "    new_df.rename(columns={'index': 'Node'}, inplace=True)\n",
    "\n",
    "    # Save the new DataFrame to a CSV file\n",
    "    new_df.to_csv(output_file, index=False)\n",
    "\n",
    "    print(f\"Converted CSV saved to {output_file}\")\n",
    "    print(f\"Number of rows in output file: {len(new_df)}\")\n",
    "    print(f\"Number of columns in output file: {len(new_df.columns)}\")\n",
    "\n",
    "# Example usage\n",
    "input_file = 'community_grouping_gpt.csv'\n",
    "output_file = 'gpt_grouping.csv'\n",
    "convert_csv_format(input_file, output_file)"
   ]
  },
  {
   "cell_type": "code",
   "execution_count": 45,
   "metadata": {},
   "outputs": [],
   "source": [
    "# used chatgpt to convert the string output above to community_grouping_gpt.csv and reformat the original seed hashtag csv\n",
    "human = pd.read_csv(\"converted_grouping_format.csv\")\n",
    "gpt = pd.read_csv(\"categorized_hashtags_0815.csv\")"
   ]
  },
  {
   "cell_type": "code",
   "execution_count": 51,
   "metadata": {},
   "outputs": [
    {
     "name": "stdout",
     "output_type": "stream",
     "text": [
      "Metrics by Category:\n",
      "                       Category  Cohen_Kappa  Accuracy\n",
      "12            substance effects     0.924357     0.992\n",
      "13             tobacco/nicotine     0.890190     0.988\n",
      "2         cognitive enhancement     0.870934     0.992\n",
      "7     medical/health conditions     0.799197     0.960\n",
      "8              other substances     0.759285     0.972\n",
      "0                       alcohol     0.716634     0.968\n",
      "1                      cannabis     0.688020     0.976\n",
      "5               drug policy/law     0.663073     0.992\n",
      "10    prevention/harm reduction     0.663073     0.956\n",
      "9                      platform     0.651811     0.968\n",
      "11                     recovery     0.647887     0.960\n",
      "4            consumption method     0.594419     0.960\n",
      "3   commonly-misused substances     0.542993     0.892\n",
      "6                       emotion     0.371016     0.940\n",
      "\n",
      "Overall Cohen's Kappa: 0.6961979913916786\n",
      "Overall Accuracy: 0.9654285714285714\n"
     ]
    }
   ],
   "source": [
    "import pandas as pd\n",
    "import numpy as np\n",
    "from sklearn.metrics import cohen_kappa_score\n",
    "\n",
    "# Load the datasets\n",
    "human = pd.read_csv(\"converted_grouping_format.csv\")\n",
    "gpt = pd.read_csv(\"categorized_hashtags_0815.csv\")\n",
    "\n",
    "# Ensure column names are lowercase and sorted\n",
    "human.columns = human.columns.str.lower()\n",
    "gpt.columns = gpt.columns.str.lower()\n",
    "human = human.reindex(sorted(human.columns), axis=1)\n",
    "gpt = gpt.reindex(sorted(gpt.columns), axis=1)\n",
    "\n",
    "# Function to calculate Cohen's Kappa and IRR for each category\n",
    "def calculate_metrics(human_df, gpt_df):\n",
    "    results = []\n",
    "    for col in human_df.columns:\n",
    "        if col in gpt_df.columns and col != 'node':\n",
    "            human_values = human_df[col].values\n",
    "            gpt_values = gpt_df[col].values\n",
    "            \n",
    "            # Calculate Cohen's Kappa\n",
    "            kappa = cohen_kappa_score(human_values, gpt_values)\n",
    "            \n",
    "            # Calculate IRR (simple agreement)\n",
    "            accuracy = np.mean(human_values == gpt_values)\n",
    "            \n",
    "            results.append({\n",
    "                \"Category\": col,\n",
    "                \"Cohen_Kappa\": kappa,\n",
    "                \"Accuracy\": accuracy\n",
    "            })\n",
    "    \n",
    "    return pd.DataFrame(results)\n",
    "\n",
    "# Calculate metrics\n",
    "metrics = calculate_metrics(human, gpt)\n",
    "\n",
    "# Sort results by Cohen's Kappa\n",
    "metrics_sorted = metrics.sort_values(\"Cohen_Kappa\", ascending=False)\n",
    "\n",
    "# Display results\n",
    "print(\"Metrics by Category:\")\n",
    "print(metrics_sorted)\n",
    "\n",
    "# Calculate overall metrics\n",
    "all_human_values = human.drop(columns=['node']).values.flatten()\n",
    "all_gpt_values = gpt.drop(columns=['node']).values.flatten()\n",
    "\n",
    "overall_kappa = cohen_kappa_score(all_human_values, all_gpt_values)\n",
    "overall_irr = np.mean(all_human_values == all_gpt_values)\n",
    "\n",
    "print(f\"\\nOverall Cohen's Kappa: {overall_kappa}\")\n",
    "print(f\"Overall Accuracy: {overall_irr}\")"
   ]
  },
  {
   "cell_type": "code",
   "execution_count": 50,
   "metadata": {},
   "outputs": [
    {
     "name": "stdout",
     "output_type": "stream",
     "text": [
      "\n",
      "Category: alcohol\n",
      "Accuracy: 0.9680\n",
      "Confusion Matrix:\n",
      "    GPT\n",
      "      0     1\n",
      "H 0 [ 231    2]\n",
      "U 1 [   6   11]\n",
      "\n",
      "Category: cannabis\n",
      "Accuracy: 0.9760\n",
      "Confusion Matrix:\n",
      "    GPT\n",
      "      0     1\n",
      "H 0 [ 237    1]\n",
      "U 1 [   5    7]\n",
      "\n",
      "Category: cognitive enhancement\n",
      "Accuracy: 0.9920\n",
      "Confusion Matrix:\n",
      "    GPT\n",
      "      0     1\n",
      "H 0 [ 241    0]\n",
      "U 1 [   2    7]\n",
      "\n",
      "Category: commonly-misused substances\n",
      "Accuracy: 0.8920\n",
      "Confusion Matrix:\n",
      "    GPT\n",
      "      0     1\n",
      "H 0 [ 203    2]\n",
      "U 1 [  25   20]\n",
      "\n",
      "Category: consumption method\n",
      "Accuracy: 0.9600\n",
      "Confusion Matrix:\n",
      "    GPT\n",
      "      0     1\n",
      "H 0 [ 232    4]\n",
      "U 1 [   6    8]\n",
      "\n",
      "Category: drug policy/law\n",
      "Accuracy: 0.9920\n",
      "Confusion Matrix:\n",
      "    GPT\n",
      "      0     1\n",
      "H 0 [ 246    0]\n",
      "U 1 [   2    2]\n",
      "\n",
      "Category: emotion\n",
      "Accuracy: 0.9400\n",
      "Confusion Matrix:\n",
      "    GPT\n",
      "      0     1\n",
      "H 0 [ 230    4]\n",
      "U 1 [  11    5]\n",
      "\n",
      "Category: medical/health conditions\n",
      "Accuracy: 0.9600\n",
      "Confusion Matrix:\n",
      "    GPT\n",
      "      0     1\n",
      "H 0 [ 217    2]\n",
      "U 1 [   8   23]\n",
      "\n",
      "Category: other substances\n",
      "Accuracy: 0.9720\n",
      "Confusion Matrix:\n",
      "    GPT\n",
      "      0     1\n",
      "H 0 [ 231    4]\n",
      "U 1 [   3   12]\n",
      "\n",
      "Category: platform\n",
      "Accuracy: 0.9680\n",
      "Confusion Matrix:\n",
      "    GPT\n",
      "      0     1\n",
      "H 0 [ 234    0]\n",
      "U 1 [   8    8]\n",
      "\n",
      "Category: prevention/harm reduction\n",
      "Accuracy: 0.9560\n",
      "Confusion Matrix:\n",
      "    GPT\n",
      "      0     1\n",
      "H 0 [ 227    2]\n",
      "U 1 [   9   12]\n",
      "\n",
      "Category: recovery\n",
      "Accuracy: 0.9600\n",
      "Confusion Matrix:\n",
      "    GPT\n",
      "      0     1\n",
      "H 0 [ 230    0]\n",
      "U 1 [  10   10]\n",
      "\n",
      "Category: substance effects\n",
      "Accuracy: 0.9920\n",
      "Confusion Matrix:\n",
      "    GPT\n",
      "      0     1\n",
      "H 0 [ 235    0]\n",
      "U 1 [   2   13]\n",
      "\n",
      "Category: tobacco/nicotine\n",
      "Accuracy: 0.9880\n",
      "Confusion Matrix:\n",
      "    GPT\n",
      "      0     1\n",
      "H 0 [ 234    1]\n",
      "U 1 [   2   13]\n",
      "\n",
      "Overall Accuracy: 0.9654\n",
      "\n",
      "Overall Confusion Matrix:\n",
      "    GPT\n",
      "      0     1\n",
      "H 0 [3228   22]\n",
      "U 1 [  99  151]\n"
     ]
    }
   ],
   "source": [
    "import pandas as pd\n",
    "import numpy as np\n",
    "from sklearn.metrics import confusion_matrix, accuracy_score\n",
    "\n",
    "# Load the datasets\n",
    "human = pd.read_csv(\"converted_grouping_format.csv\")\n",
    "gpt = pd.read_csv(\"categorized_hashtags_0815.csv\")\n",
    "\n",
    "# Ensure column names are lowercase and sorted\n",
    "human.columns = human.columns.str.lower()\n",
    "gpt.columns = gpt.columns.str.lower()\n",
    "human = human.reindex(sorted(human.columns), axis=1)\n",
    "gpt = gpt.reindex(sorted(gpt.columns), axis=1)\n",
    "\n",
    "# Function to calculate confusion matrix and accuracy for each category\n",
    "def calculate_metrics(human_df, gpt_df):\n",
    "    results = []\n",
    "    for col in human_df.columns:\n",
    "        if col in gpt_df.columns and col != 'node':\n",
    "            human_values = human_df[col].values\n",
    "            gpt_values = gpt_df[col].values\n",
    "            \n",
    "            # Calculate confusion matrix\n",
    "            cm = confusion_matrix(human_values, gpt_values)\n",
    "            \n",
    "            # Calculate accuracy\n",
    "            acc = accuracy_score(human_values, gpt_values)\n",
    "            \n",
    "            results.append({\n",
    "                \"Category\": col,\n",
    "                \"Confusion_Matrix\": cm,\n",
    "                \"Accuracy\": acc\n",
    "            })\n",
    "    \n",
    "    return results\n",
    "\n",
    "# Calculate metrics\n",
    "metrics = calculate_metrics(human, gpt)\n",
    "\n",
    "# Display results\n",
    "for result in metrics:\n",
    "    print(f\"\\nCategory: {result['Category']}\")\n",
    "    print(f\"Accuracy: {result['Accuracy']:.4f}\")\n",
    "    print(\"Confusion Matrix:\")\n",
    "    cm = result['Confusion_Matrix']\n",
    "    print(f\"    GPT\")\n",
    "    print(f\"      0     1\")\n",
    "    print(f\"H 0 [{cm[0][0]:4d} {cm[0][1]:4d}]\")\n",
    "    print(f\"U 1 [{cm[1][0]:4d} {cm[1][1]:4d}]\")\n",
    "\n",
    "# Calculate overall accuracy\n",
    "all_human_values = human.drop(columns=['node']).values.flatten()\n",
    "all_gpt_values = gpt.drop(columns=['node']).values.flatten()\n",
    "overall_accuracy = accuracy_score(all_human_values, all_gpt_values)\n",
    "\n",
    "print(f\"\\nOverall Accuracy: {overall_accuracy:.4f}\")\n",
    "\n",
    "# Calculate overall confusion matrix\n",
    "overall_cm = confusion_matrix(all_human_values, all_gpt_values)\n",
    "print(\"\\nOverall Confusion Matrix:\")\n",
    "print(f\"    GPT\")\n",
    "print(f\"      0     1\")\n",
    "print(f\"H 0 [{overall_cm[0][0]:4d} {overall_cm[0][1]:4d}]\")\n",
    "print(f\"U 1 [{overall_cm[1][0]:4d} {overall_cm[1][1]:4d}]\")"
   ]
  },
  {
   "cell_type": "code",
   "execution_count": 53,
   "metadata": {},
   "outputs": [
    {
     "name": "stdout",
     "output_type": "stream",
     "text": [
      "\n",
      "cannabis:\n",
      "   420vibes\n",
      "   cannabis\n",
      "   keepsmokingtheherb\n",
      "   pot\n",
      "   shmeeds\n",
      "   stonersoftiktok\n",
      "   stonervibes\n",
      "   weed\n",
      "\n",
      "platform engagement:\n",
      "   foryou\n",
      "   foryoupage\n",
      "   foryourpage\n",
      "   fyp\n",
      "   fyp„ç∑\n",
      "   fyp„ç∑„çöviral\n",
      "   tiktok\n",
      "   trending\n",
      "   viral\n",
      "   xyzbca\n",
      "\n",
      "cognitive enhancement:\n",
      "   adderral\n",
      "   cognitiveenhancers\n",
      "   modafinil\n",
      "   nootropics\n",
      "   nootrostatic\n",
      "   smartdrugs\n",
      "   smartpills\n",
      "\n",
      "tobacco/nicotine:\n",
      "   cig\n",
      "   cigarette\n",
      "   cigarettes\n",
      "   ecig\n",
      "   ecigs\n",
      "   juul\n",
      "   nicorettepatch\n",
      "   nicotine\n",
      "   nicotinefein\n",
      "   nicotinegum\n",
      "   smoking\n",
      "   vape\n",
      "   vaper\n",
      "   vaping\n",
      "\n",
      "drug policy/law:\n",
      "   druglaws\n",
      "   drugpolicy\n",
      "\n",
      "recovery:\n",
      "   cleanandsober\n",
      "   drugrehab\n",
      "   recovery\n",
      "   sober\n",
      "   soberhouse\n",
      "   soberlife\n",
      "   soberliving\n",
      "   sobriety\n",
      "   sobrietybirthday\n",
      "   wedorecover\n",
      "\n",
      "emotion/humor:\n",
      "   addictionhumor\n",
      "   funny\n",
      "   happy\n",
      "   happytobealive\n",
      "   makesomeonesmile\n",
      "   meme\n",
      "   shmoke\n",
      "   shmokesumthin\n",
      "   shmoketok\n",
      "\n",
      "commonly misused substances:\n",
      "   balloons\n",
      "   c0deine\n",
      "   fent\n",
      "   fentfriday\n",
      "   heroin\n",
      "   inhalants\n",
      "   inhalantsaddiction\n",
      "   lean\n",
      "   m0lly\n",
      "   molly\n",
      "   opiates\n",
      "   opioidawareness\n",
      "   opioidcrisis\n",
      "   opioids\n",
      "   perc30s\n",
      "   percoset\n",
      "   percs\n",
      "   whipit\n",
      "   whippets\n",
      "   xanny\n",
      "   xans\n",
      "   xantok\n",
      "\n",
      "other substances:\n",
      "   collagen\n",
      "   creatine\n",
      "   disprin\n",
      "   ibuprofen\n",
      "   ibuprofeno\n",
      "   magnesium\n",
      "   magnesiumglycinate\n",
      "   naloxone\n",
      "   naloxonesaveslives\n",
      "   naltrexone\n",
      "   narcan\n",
      "   suplements\n",
      "   tylenol\n",
      "   tylenoltuesday\n",
      "   vitamink\n",
      "   vitamins\n",
      "\n",
      "substance effects:\n",
      "   blackedout\n",
      "   blackout\n",
      "   drunk\n",
      "   drunkaf\n",
      "   gurner\n",
      "   gurning\n",
      "   haf\n",
      "   high\n",
      "   highasfuck\n",
      "   shitfaced\n",
      "   stoned\n",
      "   tipsy\n",
      "   wasted\n",
      "\n",
      "consumption method:\n",
      "   beerfunnel\n",
      "   chugbeer\n",
      "   drink\n",
      "   drinking\n",
      "   drinkinggames\n",
      "   drinkingtools\n",
      "   inhalation\n",
      "   inhaler\n",
      "   injectinguser\n",
      "   injection\n",
      "   smoking\n",
      "   vaping\n",
      "\n",
      "alcohol:\n",
      "   alcohol\n",
      "   alcoholfreejourney\n",
      "   alcoholic\n",
      "   alcoholism\n",
      "   beers\n",
      "   booze\n",
      "   cocktails\n",
      "   drunk\n",
      "   hammered\n",
      "   liquor\n",
      "   vodka\n",
      "   whiskey\n",
      "   wine\n",
      "\n",
      "medical/health conditions:\n",
      "   allergies\n",
      "   allergy\n",
      "   anxiety\n",
      "   asthma\n",
      "   bpd\n",
      "   bpdtiktok\n",
      "   bronchitis\n",
      "   chronicpain\n",
      "   chronicpainsufferers\n",
      "   chronicpainwarrior\n",
      "   cough\n",
      "   depression\n",
      "   depressionandanxiety\n",
      "   epilepsy\n",
      "   fever\n",
      "   flu\n",
      "   fluseason\n",
      "   headache\n",
      "   infection\n",
      "   mentalhealth\n",
      "   migraine\n",
      "   pain\n",
      "   ptsd\n",
      "   seizures\n",
      "   sorethroat\n",
      "   trauma\n",
      "\n",
      "prevention/harm reduction:\n",
      "   endoverdose\n",
      "   harmreduction\n",
      "   harmreductionsaveslives\n",
      "   harmreductiontips\n",
      "   harmreductionworks\n",
      "   matsaves\n",
      "   narcan\n",
      "   narcan\n",
      "   overdoseresponse\n",
      "   overdoseresponse\n",
      "   quitnicotine\n",
      "   quitvapping\n",
      "   safesupply\n",
      "   stopsmoking\n",
      "   stopthestigma\n",
      "   stopvapping\n"
     ]
    }
   ],
   "source": [
    "import re\n",
    "\n",
    "def parse_and_print_categories(data):\n",
    "    categories = {}\n",
    "    current_category = None\n",
    "    \n",
    "    for line in data.split('\\n'):\n",
    "        line = line.strip()\n",
    "        if re.match(r'\\d+\\.\\s+\\*\\*.*\\*\\*:', line):\n",
    "            current_category = re.search(r'\\*\\*(.*?)\\*\\*', line).group(1).strip()\n",
    "            categories[current_category] = []\n",
    "        elif line.startswith('- '):\n",
    "            hashtag = line.strip('- ').strip()\n",
    "            if current_category:\n",
    "                categories[current_category].append(hashtag)\n",
    "    \n",
    "    # Print the parsed data\n",
    "    for category, hashtags in categories.items():\n",
    "        print(f\"\\n{category}:\")\n",
    "        for hashtag in sorted(hashtags):\n",
    "            print(f\"   {hashtag}\")\n",
    "\n",
    "# Assuming the categorized data is stored in the 'label' variable\n",
    "parse_and_print_categories(label)"
   ]
  },
  {
   "cell_type": "code",
   "execution_count": 57,
   "metadata": {},
   "outputs": [
    {
     "name": "stdout",
     "output_type": "stream",
     "text": [
      "\n",
      "================================================================================\n",
      "Category: alcohol\n",
      "--------------------------------------------------------------------------------\n",
      "Human Tags:                 GPT Tags:\n",
      "--------------------------------------------------------------------------------\n",
      "- alchohol                     - alcohol\n",
      "- alcohol                      - alcoholfreejourney\n",
      "- alcoholfreejourney           - alcoholic\n",
      "- alcoholic                    - alcoholism\n",
      "- alcoholism                   - beers\n",
      "- beerfunnel                   - booze\n",
      "- beers                        - cocktails\n",
      "- booze                        - drunk\n",
      "- chugbeer                     - hammered\n",
      "- cocktails                    - liquor\n",
      "\n",
      "================================================================================\n",
      "Category: cannabis\n",
      "--------------------------------------------------------------------------------\n",
      "Human Tags:                 GPT Tags:\n",
      "--------------------------------------------------------------------------------\n",
      "- 420vibes                     - 420vibes\n",
      "- cannabis                     - cannabis\n",
      "- dabs                         - keepsmokingtheherb\n",
      "- greens                       - pot\n",
      "- laganjaestranja              - shmeeds\n",
      "- pot                          - stonersoftiktok\n",
      "- shmeeds                      - stonervibes\n",
      "- stoner                       - weed\n",
      "- stonersoftiktok              \n",
      "- stonervibes                  \n",
      "\n",
      "================================================================================\n",
      "Category: cognitive enhancement\n",
      "--------------------------------------------------------------------------------\n",
      "Human Tags:                 GPT Tags:\n",
      "--------------------------------------------------------------------------------\n",
      "- adderral                     - adderral\n",
      "- addy                         - cognitiveenhancers\n",
      "- cerebrolysin                 - modafinil\n",
      "- cognitiveenhancers           - nootropics\n",
      "- modafinil                    - nootrostatic\n",
      "- nootropics                   - smartdrugs\n",
      "- nootrostatic                 - smartpills\n",
      "- smartdrugs                   \n",
      "- smartpills                   \n",
      "\n",
      "================================================================================\n",
      "Category: commonly-misused substances\n",
      "--------------------------------------------------------------------------------\n",
      "Human Tags:                 GPT Tags:\n",
      "--------------------------------------------------------------------------------\n",
      "- 30s                          - balloons\n",
      "- 40s                          - c0deine\n",
      "- 512s                         - fent\n",
      "- acid                         - fentfriday\n",
      "- balloons                     - heroin\n",
      "- bars                         - inhalants\n",
      "- biak                         - inhalantsaddiction\n",
      "- c0deine                      - lean\n",
      "- drank                        - m0lly\n",
      "- emma                         - molly\n",
      "\n",
      "================================================================================\n",
      "Category: consumption method\n",
      "--------------------------------------------------------------------------------\n",
      "Human Tags:                 GPT Tags:\n",
      "--------------------------------------------------------------------------------\n",
      "- drink                        - beerfunnel\n",
      "- drinking                     - chugbeer\n",
      "- drinkingtools                - drink\n",
      "- inhalation                   - drinking\n",
      "- inhaler                      - drinkinggames\n",
      "- inhaling                     - drinkingtools\n",
      "- injectinguser                - inhalation\n",
      "- injection                    - inhaler\n",
      "- keepsmoking                  - injectinguser\n",
      "- keepsmokingtheherb           - injection\n",
      "\n",
      "================================================================================\n",
      "Category: drug policy/law\n",
      "--------------------------------------------------------------------------------\n",
      "Human Tags:                 GPT Tags:\n",
      "--------------------------------------------------------------------------------\n",
      "- druglaws                     - druglaws\n",
      "- drugpolicy                   - drugpolicy\n",
      "- pwud                         \n",
      "- pwuds                        \n",
      "\n",
      "================================================================================\n",
      "Category: emotion\n",
      "--------------------------------------------------------------------------------\n",
      "Human Tags:                 GPT Tags:\n",
      "--------------------------------------------------------------------------------\n",
      "- addictionhumor               - addictionhumor\n",
      "- fear                         - funny\n",
      "- funny                        - happy\n",
      "- gratitude                    - happytobealive\n",
      "- happy                        - makesomeonesmile\n",
      "- happytobealive               - meme\n",
      "- hope                         - shmoke\n",
      "- kindness                     - shmokesumthin\n",
      "- love                         - shmoketok\n",
      "- lovemyself                   \n",
      "\n",
      "================================================================================\n",
      "Category: medical/health conditions\n",
      "--------------------------------------------------------------------------------\n",
      "Human Tags:                 GPT Tags:\n",
      "--------------------------------------------------------------------------------\n",
      "- addicted                     - allergies\n",
      "- addiction                    - allergy\n",
      "- addictionisreal              - anxiety\n",
      "- adtiction                    - asthma\n",
      "- allergies                    - bpd\n",
      "- allergy                      - bpdtiktok\n",
      "- anxiety                      - bronchitis\n",
      "- asthma                       - chronicpain\n",
      "- bpd                          - chronicpainsufferers\n",
      "- bpdtiktok                    - chronicpainwarrior\n",
      "\n",
      "================================================================================\n",
      "Category: other substances\n",
      "--------------------------------------------------------------------------------\n",
      "Human Tags:                 GPT Tags:\n",
      "--------------------------------------------------------------------------------\n",
      "- ayurveda                     - collagen\n",
      "- collagen                     - creatine\n",
      "- coughsyrup                   - disprin\n",
      "- creatine                     - ibuprofen\n",
      "- disprin                      - ibuprofeno\n",
      "- ibuprofen                    - magnesium\n",
      "- ibuprofeno                   - magnesiumglycinate\n",
      "- magnesium                    - naloxone\n",
      "- magnesiumglycinate           - naloxonesaveslives\n",
      "- overthecounter               - naltrexone\n",
      "\n",
      "================================================================================\n",
      "Category: platform\n",
      "--------------------------------------------------------------------------------\n",
      "Human Tags:                 GPT Tags:\n",
      "--------------------------------------------------------------------------------\n",
      "- capcut                       - foryou\n",
      "- duet                         - foryoupage\n",
      "- foryou                       - foryourpage\n",
      "- foryoupage                   - fyp\n",
      "- foryourpage                  - tiktok\n",
      "- fyp                          - trending\n",
      "- fypシ                         - viral\n",
      "- fypシ゚viral                   - xyzbca\n",
      "- greenscreen                  \n",
      "- meme                         \n",
      "\n",
      "================================================================================\n",
      "Category: prevention/harm reduction\n",
      "--------------------------------------------------------------------------------\n",
      "Human Tags:                 GPT Tags:\n",
      "--------------------------------------------------------------------------------\n",
      "- endoverdose                  - endoverdose\n",
      "- harmreduction                - harmreduction\n",
      "- harmreductionsaveslives      - harmreductionsaveslives\n",
      "- harmreductiontips            - harmreductiontips\n",
      "- harmreductionworks           - harmreductionworks\n",
      "- naloxone                     - matsaves\n",
      "- naloxonesaveslives           - narcan\n",
      "- narcan                       - overdoseresponse\n",
      "- narcansaveslives             - quitnicotine\n",
      "- opioidaddiction              - quitvapping\n",
      "\n",
      "================================================================================\n",
      "Category: recovery\n",
      "--------------------------------------------------------------------------------\n",
      "Human Tags:                 GPT Tags:\n",
      "--------------------------------------------------------------------------------\n",
      "- cleanandsober                - cleanandsober\n",
      "- detox                        - drugrehab\n",
      "- dropthosedates               - recovery\n",
      "- drugrehab                    - sober\n",
      "- matsaves                     - soberhouse\n",
      "- methadoneclinic              - soberlife\n",
      "- na                           - soberliving\n",
      "- naltrexone                   - sobriety\n",
      "- odaat                        - sobrietybirthday\n",
      "- onedayatatime                - wedorecover\n",
      "\n",
      "================================================================================\n",
      "Category: substance effects\n",
      "--------------------------------------------------------------------------------\n",
      "Human Tags:                 GPT Tags:\n",
      "--------------------------------------------------------------------------------\n",
      "- blackedout                   - blackedout\n",
      "- blackout                     - blackout\n",
      "- drunk                        - drunk\n",
      "- drunkaf                      - drunkaf\n",
      "- gurner                       - gurner\n",
      "- gurning                      - gurning\n",
      "- haf                          - haf\n",
      "- hammered                     - high\n",
      "- high                         - highasfuck\n",
      "- highasfuck                   - shitfaced\n",
      "\n",
      "================================================================================\n",
      "Category: tobacco/nicotine\n",
      "--------------------------------------------------------------------------------\n",
      "Human Tags:                 GPT Tags:\n",
      "--------------------------------------------------------------------------------\n",
      "- cig                          - cig\n",
      "- cigarette                    - cigarette\n",
      "- cigarettes                   - cigarettes\n",
      "- cigs                         - ecig\n",
      "- ecig                         - ecigs\n",
      "- ecigs                        - juul\n",
      "- juul                         - nicorettepatch\n",
      "- nicorettepatch               - nicotine\n",
      "- nicotine                     - nicotinefein\n",
      "- nicotinefein                 - nicotinegum\n"
     ]
    }
   ],
   "source": [
    "import pandas as pd\n",
    "\n",
    "# Load the datasets\n",
    "human = pd.read_csv(\"converted_grouping_format.csv\")\n",
    "gpt = pd.read_csv(\"categorized_hashtags_0815.csv\")\n",
    "\n",
    "# Ensure column names are lowercase and sorted\n",
    "human.columns = human.columns.str.lower()\n",
    "gpt.columns = gpt.columns.str.lower()\n",
    "human = human.reindex(sorted(human.columns), axis=1)\n",
    "gpt = gpt.reindex(sorted(gpt.columns), axis=1)\n",
    "\n",
    "# Function to get hashtags for a category\n",
    "def get_hashtags(df, category, limit=10):\n",
    "    tags = sorted(df[df[category] == 1]['node'])\n",
    "    return tags[:limit]\n",
    "\n",
    "# Function to format tags\n",
    "def format_tags(tags):\n",
    "    return '\\n'.join(f\"- {tag}\" for tag in tags)\n",
    "\n",
    "# Compare hashtags for each category\n",
    "comparison = []\n",
    "for category in human.columns:\n",
    "    if category != 'node':\n",
    "        human_tags = get_hashtags(human, category)\n",
    "        gpt_tags = get_hashtags(gpt, category)\n",
    "        \n",
    "        comparison.append({\n",
    "            'Category': category,\n",
    "            'Human Tags': format_tags(human_tags),\n",
    "            'GPT Tags': format_tags(gpt_tags)\n",
    "        })\n",
    "\n",
    "# Print the comparison\n",
    "for item in comparison:\n",
    "    print(f\"\\n{'=' * 80}\")\n",
    "    print(f\"Category: {item['Category']}\")\n",
    "    print(f\"{'-' * 80}\")\n",
    "    print(\"Human Tags:                 GPT Tags:\")\n",
    "    print(f\"{'-' * 80}\")\n",
    "    human_lines = item['Human Tags'].split('\\n')\n",
    "    gpt_lines = item['GPT Tags'].split('\\n')\n",
    "    max_lines = max(len(human_lines), len(gpt_lines))\n",
    "    for i in range(max_lines):\n",
    "        human_tag = human_lines[i] if i < len(human_lines) else ''\n",
    "        gpt_tag = gpt_lines[i] if i < len(gpt_lines) else ''\n",
    "        print(f\"{human_tag:<30} {gpt_tag}\")"
   ]
  },
  {
   "cell_type": "code",
   "execution_count": 48,
   "metadata": {},
   "outputs": [
    {
     "name": "stdout",
     "output_type": "stream",
     "text": [
      "                          Theme  Cohen_Kappa  Sample_Size\n",
      "8                          node     0.991968          250\n",
      "13            substance effects     0.924357          250\n",
      "14             tobacco/nicotine     0.890190          250\n",
      "2         cognitive enhancement     0.870934          250\n",
      "7     medical/health conditions     0.799197          250\n",
      "9              other substances     0.759285          250\n",
      "0                       alcohol     0.716634          250\n",
      "1                      cannabis     0.688020          250\n",
      "5               drug policy/law     0.663073          250\n",
      "11    prevention/harm reduction     0.663073          250\n",
      "10                     platform     0.651811          250\n",
      "12                     recovery     0.647887          250\n",
      "4            consumption method     0.594419          250\n",
      "3   commonly-misused substances     0.542993          250\n",
      "6                       emotion     0.371016          250\n"
     ]
    }
   ],
   "source": [
    "from sklearn.metrics import cohen_kappa_score\n",
    "import pandas as pd\n",
    "\n",
    "# Lowercase columns\n",
    "human.columns = human.columns.str.lower()\n",
    "gpt.columns = gpt.columns.str.lower()\n",
    "\n",
    "# Sort columns alphabetically\n",
    "human = human.reindex(sorted(human.columns), axis=1)\n",
    "gpt = gpt.reindex(sorted(gpt.columns), axis=1)\n",
    "\n",
    "# Initialize a list to store the results\n",
    "kappa_results = []\n",
    "\n",
    "# Calculate Cohen's Kappa for each pair of columns\n",
    "for col in human.columns:\n",
    "    if col in gpt.columns:\n",
    "        # Extract the entire columns\n",
    "        human_labels = human[col].dropna()\n",
    "        gpt_labels = gpt[col].dropna()\n",
    "        \n",
    "        # Find the common indices\n",
    "        common_indices = human_labels.index.intersection(gpt_labels.index)\n",
    "        \n",
    "        # Align the labels using common indices\n",
    "        human_aligned = human_labels.loc[common_indices]\n",
    "        gpt_aligned = gpt_labels.loc[common_indices]\n",
    "        \n",
    "        # Calculate Cohen's Kappa\n",
    "        kappa_score = cohen_kappa_score(human_aligned, gpt_aligned)\n",
    "        \n",
    "        # Append the results to the list\n",
    "        kappa_results.append({\n",
    "            \"Theme\": col,\n",
    "            \"Cohen_Kappa\": kappa_score,\n",
    "            \"Sample_Size\": len(common_indices)\n",
    "        })\n",
    "    else:\n",
    "        print(f\"Skipping column: {col} as it's not present in both datasets.\")\n",
    "\n",
    "# Convert the results to a DataFrame for better readability\n",
    "df_kappa = pd.DataFrame(kappa_results)\n",
    "\n",
    "# Sort the results by Cohen's Kappa score in descending order\n",
    "df_kappa = df_kappa.sort_values(\"Cohen_Kappa\", ascending=False)\n",
    "\n",
    "# Display the results\n",
    "print(df_kappa)"
   ]
  },
  {
   "cell_type": "code",
   "execution_count": 49,
   "metadata": {},
   "outputs": [
    {
     "name": "stdout",
     "output_type": "stream",
     "text": [
      "                          Theme  Cohen_Kappa\n",
      "0                       alcohol     0.716634\n",
      "1                      cannabis     0.688020\n",
      "2         cognitive enhancement     0.870934\n",
      "3   commonly-misused substances     0.542993\n",
      "4            consumption method     0.594419\n",
      "5               drug policy/law     0.663073\n",
      "6                       emotion     0.371016\n",
      "7     medical/health conditions     0.799197\n",
      "8                          node     0.991968\n",
      "9              other substances     0.759285\n",
      "10                     platform     0.651811\n",
      "11    prevention/harm reduction     0.663073\n",
      "12                     recovery     0.647887\n",
      "13            substance effects     0.924357\n",
      "14             tobacco/nicotine     0.890190\n"
     ]
    }
   ],
   "source": [
    "from sklearn.metrics import cohen_kappa_score\n",
    "\n",
    "# lowercase cols\n",
    "human.columns = human.columns.str.lower()\n",
    "gpt.columns = gpt.columns.str.lower()\n",
    "# print(human.columns)\n",
    "# print(gpt.columns)\n",
    "\n",
    "# Sort columns alphabetically\n",
    "human = human.reindex(sorted(human.columns), axis=1)\n",
    "gpt = gpt.reindex(sorted(gpt.columns), axis=1)\n",
    "# Calculate Cohen's Kappa for each pair of columns\n",
    "kappa_results = []\n",
    "\n",
    "\n",
    "# Calculate Cohen's Kappa for each pair of columns\n",
    "for human_col, gpt_col in zip(human.columns, gpt.columns):\n",
    "    # print(human_col, gpt_col)\n",
    "    # Check if the columns are the same\n",
    "    if human_col == gpt_col:\n",
    "        \n",
    "        # Ensure the two columns are compared row by row as individual labels\n",
    "        human_labels = human[human_col].dropna()\n",
    "        gpt_labels = gpt[gpt_col].dropna()\n",
    "        # Find the indices where both human and GPT have labels\n",
    "        common_indices = human_labels.index.intersection(gpt_labels.index)\n",
    "        # Calculate Cohen's Kappa\n",
    "        kappa_score = cohen_kappa_score(human_labels.loc[common_indices], gpt_labels.loc[common_indices])\n",
    "        \n",
    "        # Append the results to the list\n",
    "        kappa_results.append({\n",
    "            \"Theme\": human_col,\n",
    "            \"Cohen_Kappa\": kappa_score\n",
    "        })\n",
    "    else:\n",
    "        print(f\"Skipping columns: {human_col} and {gpt_col} as they do not match.\")\n",
    "\n",
    "# Convert the results to a DataFrame for better readability\n",
    "df_kappa = pd.DataFrame(kappa_results)\n",
    "\n",
    "# Display the results\n",
    "print(df_kappa)\n"
   ]
  },
  {
   "cell_type": "code",
   "execution_count": null,
   "metadata": {},
   "outputs": [],
   "source": []
  }
 ],
 "metadata": {
  "kernelspec": {
   "display_name": "base",
   "language": "python",
   "name": "python3"
  },
  "language_info": {
   "codemirror_mode": {
    "name": "ipython",
    "version": 3
   },
   "file_extension": ".py",
   "mimetype": "text/x-python",
   "name": "python",
   "nbconvert_exporter": "python",
   "pygments_lexer": "ipython3",
   "version": "3.12.2"
  }
 },
 "nbformat": 4,
 "nbformat_minor": 2
}
