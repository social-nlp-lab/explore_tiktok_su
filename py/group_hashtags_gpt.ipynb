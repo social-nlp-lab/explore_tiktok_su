{
 "cells": [
  {
   "cell_type": "code",
   "execution_count": 1,
   "metadata": {},
   "outputs": [
    {
     "name": "stderr",
     "output_type": "stream",
     "text": [
      "/Users/laylabouzoubaa/opt/anaconda3/lib/python3.9/site-packages/pandas/core/computation/expressions.py:21: UserWarning: Pandas requires version '2.8.4' or newer of 'numexpr' (version '2.8.3' currently installed).\n",
      "  from pandas.core.computation.check import NUMEXPR_INSTALLED\n",
      "/Users/laylabouzoubaa/opt/anaconda3/lib/python3.9/site-packages/pandas/core/arrays/masked.py:60: UserWarning: Pandas requires version '1.3.6' or newer of 'bottleneck' (version '1.3.5' currently installed).\n",
      "  from pandas.core import (\n"
     ]
    }
   ],
   "source": [
    "import pandas as pd\n",
    "import numpy as np\n",
    "import openai\n",
    "import json\n",
    "\n",
    "# # our groupings\n",
    "# seed_hashtags = pd.read_csv(\"community-grouping_20240809.csv\")\n",
    "# # all hashtags double hit\n",
    "# dat = pd.read_csv('double_hits_edges_no_dupes.csv')\n",
    "\n",
    "# open the secrets file\n",
    "with open('../data/secrets.json') as f:\n",
    "    secrets = json.load(f)\n",
    "\n",
    "api_key = secrets['OPENAI_API_KEY_SR2']\n",
    "\n",
    "client = openai.Client(api_key=api_key)"
   ]
  },
  {
   "cell_type": "code",
   "execution_count": 57,
   "metadata": {},
   "outputs": [],
   "source": [
    "# check rate limits\n",
    "def check_rate_limits(api_key):\n",
    "    openai.api_key = api_key\n",
    "\n",
    "    try:\n",
    "        # Make a chat completion API call with raw response\n",
    "        api_response = client.chat.completions.with_raw_response.create(\n",
    "            model=\"gpt-4o\",  \n",
    "            messages=[\n",
    "                {\n",
    "                    \"role\": \"user\",\n",
    "                    \"content\": \"Hello, this is a test message to check rate limits.\",\n",
    "                }\n",
    "            ],\n",
    "        )\n",
    "\n",
    "        # Access the headers\n",
    "        headers = api_response.headers\n",
    "\n",
    "        # Print rate limit information\n",
    "        print(\"Rate Limit Information:\")\n",
    "        print(f\"Remaining Requests: {headers.get('x-ratelimit-remaining-requests')}\")\n",
    "        print(f\"Remaining Tokens: {headers.get('x-ratelimit-remaining-tokens')}\")\n",
    "        print(f\"Reset Tokens: {headers.get('x-ratelimit-reset-tokens')}\")\n",
    "        print(f\"Reset Requests: {headers.get('x-ratelimit-reset-requests')}\")\n",
    "\n",
    "        # Print the response content\n",
    "        response = api_response.parse()\n",
    "        print(f\"\\nResponse content: {response.choices[0].message.content}\")\n",
    "\n",
    "    except Exception as e:\n",
    "        print(f\"An error occurred: {str(e)}\")"
   ]
  },
  {
   "cell_type": "code",
   "execution_count": 58,
   "metadata": {},
   "outputs": [
    {
     "name": "stdout",
     "output_type": "stream",
     "text": [
      "Rate Limit Information:\n",
      "Remaining Requests: 9999\n",
      "Remaining Tokens: 1999970\n",
      "Reset Tokens: 0s\n",
      "Reset Requests: 6ms\n",
      "\n",
      "Response content: Hello! Feel free to continue messaging if you have any questions or need information. I'm here to help.\n"
     ]
    }
   ],
   "source": [
    "check_rate_limits(api_key)"
   ]
  },
  {
   "cell_type": "markdown",
   "metadata": {},
   "source": [
    "---\n",
    "## IRR reliability with human annotation"
   ]
  },
  {
   "cell_type": "code",
   "execution_count": 4,
   "metadata": {},
   "outputs": [
    {
     "name": "stdout",
     "output_type": "stream",
     "text": [
      "Converted tags:\n",
      "['funny', 'love', 'depressionandanxiety', 'alcohol', 'weed', 'cognitiveenhancers', 'opioids', 'smoking', 'harmreductionsaveslives', 'vitamins', 'fyp', 'stoned', 'vaping', 'kensingtonphilly', 'medstudent', 'lgbtqia', 'addictionhumor', 'hope', 'addiction', 'beers', 'pot', 'modafinil', 'opiates', 'drinking', 'soberlife', 'creatine', 'greenscreen', 'high', 'nicotine', 'vancouverbc', 'nurselife', 'transgender', 'meme', 'struggle', 'opioidaddiction', 'alchohol', 'cannabis', 'nootropics', 'heroin', 'drink', 'druglaws', 'magnesium', 'tiktok', 'wasted', 'ecig', 'bayarea', 'exprostitute', 'lgbtqtiktok', 'kindness', 'substanceabuse', 'vodka', 'greens', 'nootrostatic', 'fent', 'shmokesumthin', 'drugpolicy', 'magnesiumglycinate', 'viral', 'blackedout', 'ecigs', 'toronto', 'medicalstudent', 'queergirl', 'lovemyself', 'substanceusedisorder', 'whiskey', 'stonersoftiktok', 'smartdrugs', 'fentfriday', 'shmoke', 'pwud', 'vitamink', 'trending', 'highasfuck', 'juul', 'philly', 'healthcareworkers', 'queertiktok', 'happytobealive', 'mentalhealth', 'cocktails', 'stonervibes', 'smartpills', 'xans', 'shmoketok', 'pwuds', 'tylenol', 'capcut', 'haf', 'cigarettes', 'midwest', 'socialworkersoftiktok', 'feralqueer', 'trauma', 'chronicpain', 'wine', 'stoner', 'cerebrolysin', 'xanny', 'keepsmokingtheherb', 'opioidawareness', 'disprin', 'duet', 'shitfaced', 'vaper', 'boston', 'socialworker', 'whitegirl', 'loveyall', 'chronicpainsufferers', 'liquor', 'laganjaestranja', 'xantok', 'drinkingtools', 'opioidcrisis', 'ayurveda', 'stitch', 'tipsy', 'cigarette', 'sanfrancisco', 'frontlineworkers', 'transtok', 'vibes', 'headache', 'tequila', '420vibes', 'xandemic', 'injection', 'overdoseawareness', 'tylenoltuesday', 'fyp„Ç∑„Çöviral', 'drunk', 'vape', 'usa', 'matnurse', 'indian', 'happy', 'migraine', 'booze', 'dabs', 'm0lly', 'injectinguser', 'overdosecrisis', 'ibuprofen', 'fyp„Ç∑', 'hammered', 'cig', 'uk', 'streetnurse', 'gaygirl', 'gratitude', 'addicted', 'chugbeer', 'wax', 'molly', 'inhaler', 'harmreduction', 'suplements', 'foryou', 'blackout', 'cigs', 'canada', 'nursetiktok', 'fear', 'bpd', 'beerfunnel', 'shmeeds', 'percs', 'inhaling', 'harmreductionworks', 'coughsyrup', 'foryoupage', 'hightimes', 'tobacco', 'therapist', 'makesomeonesmile', 'bpdtiktok', 'drinkinggames', 'percoset', 'keepsmoking', 'harmreductiontips', 'overthecounter', 'foryourpage', 'gurning', 'nicotinefein', 'addictionisreal', 'wildmandrinking', 'perc30s', 'inhalation', 'narcan', 'ibuprofeno', 'xyzbca', 'gurner', 'nicotinegum', 'ptsd', 'lean', 'narcansaveslives', 'collagen', 'trend', 'drunkaf', 'nicorettepatch', 'depression', 'leantok', 'naloxone', 'anxiety', 'acid', 'naloxonesaveslives', 'chronicpainwarrior', 'mescaline', 'safesupply', 'allergy', 'pinger', 'endoverdose', 'infection', 'pingertok', 'overdoseresponse', 'allergies', 'pingtok', 'stopsmoking', 'seizures', 'pingerzzzz', 'smokingkills', 'addictionhumor', 'drughumor', 'recoveryhumor', 'epilespy', 'emma', 'quitnicotine', 'insomnia', 'drank', 'stopvapping', 'fever', 'thatdrank', 'quitvapping', 'cough', 'bars', 'sobriety', 'adtiction', '30s', 'sober', 'asthma', '40s', 'soberliving', 'sorethroat', '512s', 'cleanandsober', 'flu', 'yellows', 'recovery', 'fluseason', 'biak', 'onedayatatime', 'bronchitis', 'epills', 'odaat', 'pain', 'psychedelictok', 'na', 'inhalantsaddiction', 'lsdart', 'detox', 'magicmushroomsadventures', 'sobrietybirthday', 'libcaps', 'soberhouse', 'libertycapss', 'wedorecover', 'thom', 'relapsehappens', 'nosebeers', 'methadoneclinic', 'c0deine', 'naltrexone', 'inhalants', 'drugrehab', 'whippets', 'dropthosedates', 'whipit', 'matsaves', 'balloons', 'stopthestigma', 'adderral', 'alcoholfreejourney', 'addy', 'alcoholic', 'alcoholism']\n",
      "\n",
      "Total number of tags: 286\n"
     ]
    }
   ],
   "source": [
    "def convert_to_tags(input_string):\n",
    "    # Split the input string into lines\n",
    "    lines = input_string.strip().split('\\n')\n",
    "    \n",
    "    # Process each line\n",
    "    tags = []\n",
    "    for line in lines:\n",
    "        # Split each line into words\n",
    "        words = line.split()\n",
    "        # Add each word as a tag\n",
    "        tags.extend(f'{word}' for word in words)\n",
    "    \n",
    "    # # Join the tags with commas\n",
    "    # result = ', '.join(tags)\n",
    "    \n",
    "    # Count the total number of tags\n",
    "    tag_count = len(tags)\n",
    "    \n",
    "    return tags, tag_count\n",
    "\n",
    "# Example input\n",
    "input_string = \"\"\"funny\tlove\tdepressionandanxiety\talcohol\tweed\tcognitiveenhancers\topioids\tsmoking\tharmreductionsaveslives\tvitamins\tfyp\tstoned\tvaping\tkensingtonphilly\tmedstudent\tlgbtqia\n",
    "addictionhumor\thope\taddiction\tbeers\tpot\tmodafinil\topiates\tdrinking\tsoberlife\tcreatine\tgreenscreen\thigh\tnicotine\tvancouverbc\tnurselife\ttransgender\n",
    "meme\tstruggle\topioidaddiction\talchohol\tcannabis\tnootropics\theroin\tdrink\tdruglaws\tmagnesium\ttiktok\twasted\tecig\tbayarea\texprostitute\tlgbtqtiktok\n",
    "\tkindness\tsubstanceabuse\tvodka\tgreens\tnootrostatic\tfent\tshmokesumthin\tdrugpolicy\tmagnesiumglycinate\tviral\tblackedout\tecigs\ttoronto\tmedicalstudent\tqueergirl\n",
    "\tlovemyself\tsubstanceusedisorder\twhiskey\tstonersoftiktok\tsmartdrugs\tfentfriday\tshmoke\tpwud\tvitamink\ttrending\thighasfuck\tjuul\tphilly\thealthcareworkers\tqueertiktok\n",
    "\thappytobealive\tmentalhealth\tcocktails\tstonervibes\tsmartpills\txans\tshmoketok\tpwuds\ttylenol\tcapcut\thaf\tcigarettes\tmidwest\tsocialworkersoftiktok\tferalqueer\n",
    "\ttrauma\tchronicpain\twine\tstoner\tcerebrolysin\txanny\tkeepsmokingtheherb\topioidawareness\tdisprin\tduet\tshitfaced\tvaper\tboston\tsocialworker\twhitegirl\n",
    "\tloveyall\tchronicpainsufferers\tliquor\tlaganjaestranja\t\txantok\tdrinkingtools\topioidcrisis\tayurveda\tstitch\ttipsy\tcigarette\tsanfrancisco\tfrontlineworkers\ttranstok\n",
    "\tvibes\theadache\ttequila\t420vibes\t\txandemic\tinjection\toverdoseawareness\ttylenoltuesday\tfyp„Ç∑„Çöviral\tdrunk\tvape\tusa\tmatnurse\tindian\n",
    "\thappy\tmigraine\tbooze\tdabs\t\tm0lly\tinjectinguser\toverdosecrisis\tibuprofen\tfyp„Ç∑\thammered\tcig\tuk\tstreetnurse\tgaygirl\n",
    "\tgratitude\taddicted\tchugbeer\twax\t\tmolly\tinhaler\tharmreduction\tsuplements\tforyou\tblackout\tcigs\tcanada\tnursetiktok\t\n",
    "\tfear\tbpd\tbeerfunnel\tshmeeds\t\tpercs\tinhaling\tharmreductionworks\tcoughsyrup\tforyoupage\thightimes\ttobacco\t\ttherapist\t\n",
    "\tmakesomeonesmile\tbpdtiktok\tdrinkinggames\t\t\tpercoset\tkeepsmoking\tharmreductiontips\toverthecounter\tforyourpage\tgurning\tnicotinefein\t\t\t\n",
    "\t\taddictionisreal\twildmandrinking\t\t\tperc30s\tinhalation\tnarcan\tibuprofeno\txyzbca\tgurner\tnicotinegum\t\t\t\n",
    "\t\tptsd\t\t\t\tlean\t\tnarcansaveslives\tcollagen\ttrend\tdrunkaf\tnicorettepatch\t\t\t\n",
    "\t\tdepression\t\t\t\tleantok\t\tnaloxone\t\t\t\t\t\t\t\n",
    "\t\tanxiety\t\t\t\tacid\t\tnaloxonesaveslives\t\t\t\t\t\t\t\n",
    "\t\tchronicpainwarrior\t\t\t\tmescaline\t\tsafesupply\t\t\t\t\t\t\t\n",
    "\t\tallergy\t\t\t\tpinger\t\tendoverdose\t\t\t\t\t\t\t\n",
    "\t\tinfection\t\t\t\tpingertok\t\toverdoseresponse\t\t\t\t\t\t\t\n",
    "\t\tallergies\t\t\t\tpingtok\t\tstopsmoking\t\t\t\t\t\t\t\n",
    "\t\tseizures\t\t\t\tpingerzzzz\t\tsmokingkills\taddictionhumor\n",
    "drughumor\n",
    "recoveryhumor\t\t\t\t\t\t\n",
    "\t\tepilespy\t\t\t\temma\t\tquitnicotine\t\t\t\t\t\t\t\n",
    "\t\tinsomnia\t\t\t\tdrank\t\tstopvapping\t\t\t\t\t\t\t\n",
    "\t\tfever\t\t\t\tthatdrank\t\tquitvapping\t\t\t\t\t\t\t\n",
    "\t\tcough\t\t\t\tbars\t\tsobriety\t\t\t\t\t\t\t\n",
    "\t\tadtiction\t\t\t\t30s\t\tsober\t\t\t\t\t\t\t\n",
    "\t\tasthma\t\t\t\t40s\t\tsoberliving\t\t\t\t\t\t\t\n",
    "\t\tsorethroat\t\t\t\t512s\t\tcleanandsober\t\t\t\t\t\t\t\n",
    "\t\tflu\t\t\t\tyellows\t\trecovery\t\t\t\t\t\t\t\n",
    "\t\tfluseason\t\t\t\tbiak\t\tonedayatatime\t\t\t\t\t\t\t\n",
    "\t\tbronchitis\t\t\t\tepills\t\todaat\t\t\t\t\t\t\t\n",
    "\t\tpain\t\t\t\tpsychedelictok\t\tna\t\t\t\t\t\t\t\n",
    "\t\tinhalantsaddiction\t\t\t\tlsdart\t\tdetox\t\t\t\t\t\t\t\n",
    "\t\t\t\t\t\tmagicmushroomsadventures\t\tsobrietybirthday\t\t\t\t\t\t\t\n",
    "\t\t\t\t\t\tlibcaps\t\tsoberhouse\t\t\t\t\t\t\t\n",
    "\t\t\t\t\t\tlibertycapss\t\twedorecover\t\t\t\t\t\t\t\n",
    "\t\t\t\t\t\tthom\t\trelapsehappens\t\t\t\t\t\t\t\n",
    "\t\t\t\t\t\tnosebeers\t\tmethadoneclinic\t\t\t\t\t\t\t\n",
    "\t\t\t\t\t\tc0deine\t\tnaltrexone\t\t\t\t\t\t\t\n",
    "\t\t\t\t\t\tinhalants\t\tdrugrehab\t\t\t\t\t\t\t\n",
    "\t\t\t\t\t\twhippets\t\tdropthosedates\t\t\t\t\t\t\t\n",
    "\t\t\t\t\t\twhipit\t\tmatsaves\t\t\t\t\t\t\t\n",
    "\t\t\t\t\t\tballoons\t\tstopthestigma\t\t\t\t\t\t\t\n",
    "\t\t\t\t\t\tadderral\t\talcoholfreejourney\t\t\t\t\t\t\t\n",
    "\t\t\t\t\t\taddy\t\talcoholic\t\t\t\t\t\t\t\n",
    "\t\t\t\t\t\t\t\talcoholism\t\t\t\t\t\t\t\t\t\t\t\t\t\t\t\t\t\t\t\t\t\t\t\t\"\"\"\n",
    "\n",
    "# Convert and print the result\n",
    "all_human_tags, count = convert_to_tags(input_string)\n",
    "print(\"Converted tags:\")\n",
    "print(all_human_tags)\n",
    "print(f\"\\nTotal number of tags: {count}\")"
   ]
  },
  {
   "cell_type": "code",
   "execution_count": 5,
   "metadata": {},
   "outputs": [
    {
     "name": "stdout",
     "output_type": "stream",
     "text": [
      "Total count of nodes: 5519\n",
      "Total count of nodes after removal: 5310\n",
      "Remaining nodes: ['selflovejourney', 'jump', 'berlin', 'drugrecovery', 'misterio', 'wearehuman', 'alcoholfreelifestyle', 'jack', 'morningroutine', 'rememberwhen', 'opiateskill', 'rball', 'holidayoreoke', 'palliativecare', 'sephoraconcealers', 'usatiktok', '🧿', 'relapsed', 'safelifefromdrugs', 'learn', 'auto', 'quotestoliveby', 'business', 'jesuschrist', 'tiktokpartner', 'traphouse', 'disabilityawareness', 'appalachia', 'comedyvideo', 'dancer', 'sobergirlsoftiktok', 'hack', 'leftok', 'tiktokpromote', 'dogs', 'shame', 'xuhuongtiktok', 'الامارات_دبي', 'xd', 'wild', 'luxury', 'allah', 'cannarecovery', 'racing', 'vapelife', 'makethisblowup', 'اعرفكم_بنفسي', 'chronicillnesswarrior', 'realestateinvesting', 'lion', 'familysupport', 'catholic', 'chronic', 'familydisease', 'vapecommunity', 'eyes', 'shiva', 'ouch', 'boss', 'أزياء_رمضانية', 'autisticadult', 'explor', 'searchforwondermom', 'activeaddiction', 'retokfornature', 'album', 'rx100', 'arabic', 'pa', 'substances', 'gang', '🍃tiktok', 'outdoorboys', 'footballtiktok', 'رمضان_كريم', 'opioidaddict', 'sativa', 'askabhinav', 'xan', 'newarknj', 'psychedelicscience', 'spongebobedits', 'downers', '12step', 'hello', 'speakup', 'drugpoetry', 'chrons', 'insane', 'robertwblove', 'leftist', 'chocolatechipcookies', 'fitnessaddict', 'helpme', 'trust', 'cold', 'instadaily', 'garden', 'mentalhealthcalifornia', 'saudi', 'fypシ゚viral🖤tiktok', 'chocolate', 'mrnice', 'عرفنا_بنفسك', 'dolls', 'child', 'much', 'post', 'clarity', 'babe', 'fakesituation', 'neurodivergent', 'crps', 'jft', 'سعوديه', 'breakthestigma', 'chiarimalformation', 'anyways', 'debate', 'donthaveadrinkwithme', 'crash', 'doll', 'ه', 'save', 'eminem', 'torture', 'auntbleu', 'witchy', 'bikelife', 'wedoandcanrecover', 'futbol', 'xanaxx', 'supply', 'gonetoosoon', 'pregnantinprison', 'citizensoldier', 'trippy', 'pool', 'shaman', 'savelife', 'rescuecat', 'billieeilish', 'learnedontiktok', 'flower', 'darkhumor', 'addictionisamentalhealthproblem', 'dose', 'opiodepidemic', 'anthropology', 'ireland', 'ventaccount', 'subutexrecovery', 'air', 'horses', 'antidepressants', 'selfmedication', 'eupd', 'womenempowerment', 'loved', 'i', 'videostar', 'speed', 'talkingtree', 'يوم_الجمعه', 'friendsofbillw', 'toys', 'worldnews', 'kid', 'pilltok', 'viralvideo', 'mindfulness', 'jollygreen', 'terencemckenna', 'methadonesaveslives', 'cloud', 'lifeafteraddiction', 'salud', 'cool', 'procreate', 'mentalhealthflorida', 'recovered', 'spinaltumor', 'mentalhealthidaho', 'intractablepain', 'decolonize', 'narcissist', 'dc', 'earlyrecovery', 'yourloved', 'disabledtiktok', 'العراق', 'goretex', 'yungblud', 'nomoreoverdoses', 'endthestigmaonmat', 'withdrawalsymptoms', 'sask', 'nj', 'narcanaccessforall', 'never', 'methfree', 'yerawizad', 'fentanylpoisioning', 'cancer', 'sonic', 'perks', 'countrymusic', 'organic', 'عمان', 'walmart', 'sobrietycoach', 'werecoveroutloud', '⚫️👄⚫', 'mentalhealthkorea', 'everybodylovesfootball', 'lo', 'takuache', 'pharmacytechnician', 'future', 'problematichiphop', 'stance', 'apple', 'endthestigma', 'xmas', 'christiansoftiktok', 'educateyourself', 'denial', 'color', 'and', 'ua', 'thereishope', 'bud', 'southern', 'withdrawls', 'soberity', 'stolas', 'childdeath', 'staysavage', 'sandiego', 'raversoftiktok', 'bro', 'naruto', 'freedrugtesting', 'bestvideo', 'electric', 'kitty', 'outdoors', 'sikworld', 'doritosdaretobeburned', 'ضحك', 'k18hairflip', 'chronicpainsurvivor', 'weeb', 'theafters', 'memory', 'recoverymom', 'memesdaily', 'liban', 'newleafrehab', '20yrssober', 'lifesaver', 'pewdiepie', 'moderatedrinking', 'smallbusiness', 'keepcomingback', 'stomachpain', 'montana', 'rocknroll', 'animalsoftiktok', 'addictedtorecovery', 'brazil', 'oakley', 'struggles', 'matproud', 'oxfordhouse', 'line', 'benzo', 'addictionisadisease', 'training', 'newzealand', 'recoveryisntlinear', 'race', 'thestatisticsspeakforthemselves', 'classic', 'opiatecrisis', 'photomix', 'ddd', 'vegan', 'testyoursupply', 'architecture', 'getwavywithme', 'hardwork', 'riseupglendale', 'preregpharmacist', 'sobertribe', 'burn', 'ترند_تيك_توك', 'topgunmode', 'vapedaily', 'anxietytips', 'forupage', 'fittok', 'howdrugswork', 'sexuality', 'newyorkcity', 'inpatient', 'safari', 'meffaddiction', 'powder', 'kalenjingirl', 'tweak', 'reallife', 'methadonecliniclife', 'sun', 'subutexsavedme', 'surreal', 'm30', 'noway', 'ravetiktok', 'nursing', 'custom', 'strategy', 'testyourpoison', 'following', 'mentalhealthindonesia', 'ritalin', 'sobermovement', 'psytrance', 'girlfriend', 'drugoverdose', 'illicitfentanyl', 'domesticviolencesurvivor', 'ruebennett', 'qatar', 'nonbinary', 'sigma', 'studywithme', 'hiv', 'mentalhealthrecovery', 'southkorea', 'alttiktok', 'healing', 'serbia', 'surgery', 'cartok', 'fyyp', 'hot', 'sound', 'sahm', 'page', 'consciousness', 'opioidendemic', 'grandparentsraisinggrandchildren', 'العين', 'felontok', 'syringeslingers', 'healthandwellness', 'sobrietylife', 'addictionisrealrecoveryisbeautiful', 'sobrlife', '🧊🧊', 'model', 'gettingclean', 'cts', 'endmassincarceration', 'pingtokk', 'leedsuni', 'undergroundmusic', 'islandgirl', 'skills', 'hair', 'stoptabac', 'smartrecovery', 'hollywood', 'berserk', 'humanrights', 'sick', 'rehabilitationcenter', 'ableism', 'weightgain', 'ramanspectroscopy', 'myfavperson', 'leopard', 'copingskills', 'sobertiktok', 'gucci', 'quarantine', 'trendtok', 'tinatok', 'tensionheadache', 'skunk', 'cleaning', 'do', 'stillirize', 'stayinformed', 'icp', 'longliveyou', 'mentalhealthsrilanka', 'photoshoot', 'taylor', 'mentalhealthcleveland', 'pinterest', 'addict', 'misinformation', 'kratomawareness', 'longtermsobriety', 'spinehealth', 'skating', 'addictionmedicine', 'aud', '4upageシ', 'amsterdam', 'fullsend', 'matissober', 'dubai', 'fry', 'drugeducation', 'guitarplayer', 'faith', 'mixed', 'tiktokdoc', 'elfbar', 'seroquel', '1312', 'السعودية', 'gatheringofthejuggalos', 'grateful', 'sobrietyjewelry', 'matrecoveryadvocate', 'cop', 'activeuse', 'svapodipolmone', 'vacation', 'rehabgirl', 'simulation', 'novia', 'skycomesfalling', 'disability', 'overdossewareness', 'blessedlife', 'inked', 'linkagetocare', 'exercise', 'mollyt0k', 'gospel', 'sketch', 'harmreductionheroes', 'mylittlepony', 'growth', 'no', 'recoveryawareness', 'judgementfreezone', 'drugs', 'mycology', 'homelesslivesmatter', 'standupcomedy', 'lmao', 'methadonehelp', 'quitdrinking', 'copingmechanism', 'klonopin', 'harry', 'durban', 'loveyourself', 'migrainerelief', 'notthatmuch', 'paratiiiiiiiiiiiiiiiiiiiiiiiiiiiiiii', 'genxtiktokers', 'ae', 'overdos', 'hp', 'spiritualgangster', 'psylife', 'drinkingculture', 'hulk', 'makeup', 'airforce', 'hangover', 'job', 'pandemic', 'college', 'babybrother', 'drugfacts', 'entertainment', 'pingus', 'fentanylcrisis', 'ink', 'roach', 'babygirl', 'demonslayer', 'tiktokmemes', 'paint', 'banana', 'catsoftiktok', 'drogopedia', 'sciatica', '💊', 'mevsme', 'woman', 'legalizeit', 'relatablequotes', 'russellbrand', 'ehlersdanlos', 'jimin', 'message', 'online', 'policyreform', '💜', 'dontletthisflop', 'tghcares', 'dogsoftiktok', 'partysafer', 'everest', 'adhesivearachnoiditis', 'anypositivechange', 'lashes', 'sobernotboring', 'unlimitedhpink', 'learnaboutmusic', 'healthedivide', 'hell', 'متابعه', 'jesus', 'southpark', 'substanceuse', 'volunteer', 'dukedennis', 'painmanagement', 'breakup', 'ophelia', 'womenownedbusiness', 'drvg', 'hawaiiborn', 'strongertogether', 'raredisease', 'addicttok', 'addictionisnthowyourstoryhastoend', 'momsoftiktok', 'oscarsathome', 'oldschool', 'longliveangel', 'hiphopsobriety', 'comical', 'تبوك', 'classicrock', 'fypviral', 'soberinspiration', 'psych', 'screamitout', 'modelo', 'tranks', 'edificio', 'dlaciebie', 'slay', 'recoverycommunity', 'scars', 'shamekills', 'painpatients', 'alien', 'accountabro', 'joerogan', 'psychwardstories', 'tripping', 'anxietysquad', 'energy', 'beach', 'wellnesscenter', 'cs2', 'recoverywithoutgod', 'addictionsupport', 'ink_fam', 'teeth', 'arnolds', 'tiktoknews', 'staystrong', 'sleep', 'pinkhair', 'vapefamous', 'sweetmoments', 'dog', 'cleanandsoberispossible', 'moodoff', 'realliferecovery', 'واو', 'omg', 'rip', 'newsreport', 'action', 'rehablife', 'whiteknight', 'dunk', 'rehabilitation', 'fighter', 'mrniceguy', 'redx', 'transition', 'recoveryjourney', 'abuse', 'medicatedassistedtreatment', 'dreamer', 'قطر', 'gatsroparesis', 'pills', 'robo', 'advicetok', 'asia', 'partysober', 'freeman', 'griefjournal', 'epidemic', 'nice', 'part', 'trucksoftiktok', 'нетор4', 'psychedelictherapy', 'vapoter', 'makethisgoviral', 'facebook', 'holidays', 'thesimpsons', 'mcdonalds', 'operatorsmanual', 'svapoitalia', 'kawaii', 'كيوت', 'publicpolicy', '2024', 'ohiotok', 'steps', 'five', 'friday', 'طبق_الاصل', 'raver', 'soberoctober', 'sendhelp', 'dancesafe', 'dopamine', 'insta', 'military', 'liar', 'nosebeer', 'soul', 'theboys', 'bullying', 'confidence', 'fresh', 'tattooed', 'kittens', 'uksummer', 'bike', 'staylifted', 'paws', 'tunisia', 'reducingharm', 'addictionisrealthereishope', 'southie', 'alcoholaddiction', 'katespadenycabana', 'activeaddictiontorecovery', 'rescuebreathing', 'bestie', 'paintok', 'degenerativediscdisease', 'savealife', 'deadaddictsdontrecover', 'xuhuong', 'global', 'truckdriver', 'gold', 'spinalstenosis', 'truecrimetiktok', 'charliehazbinhotel', 'drvgaddiction', 'livedexperience', 'actress', 'marble', 'fml', 'karen', 'florida', 'bootsontheground', 'suboxonetaper', 'imonicarly', 'day1', 'vapejuice', 'alttok', 'sports', 'addictionstory', 'postopsurgery', 'mentalhealthtoronto', 'ventana', 'cdnpoli', 'geekbar', 'rx', 'tabac', 'ping🎀', 'mominrecovery', 'animated', 'roxy', 'opioidssavelives', 'cats', 'codysodprevention', 'cptsdawareness', 'songforcharlie', 'british', 'bikerscoffee', 'addictionjokes', 'drugcrisis', 'lucy', 'metallica', 'methkillss', 'hotel', 'unkie', 'cpr', 'partying', 'soberfam', 'relax', 'pourtoi', 'addictionisntfun', 'alvarez', 'blitzo', 'dead', 'festival', 'mixologist', 'snap', 'conspiracy', 'disney', 'note', 'normalizerecovery', 'painpatient', 'cops', 'black', 'مكة', '❤️', 'pray', 'bling', 'of', 'matsavedmylife', 'roofies', 'anesthesia', 'fibromyaglia', 'cognitivedissonance', 'food', 'w', 'askforhelp', 'sotrue', 'addictedtotiktok', '8', 'epic', 'dr00gzz', 'selflove', 'indie', 'questionsigetasked', 'peyote', 'cigars', 'workootd', 'bigbang', 'syringeexchange', 'generator', 'torontocounseling', 'depressionhelp', 'painhubpremium', 'chinese', 'prescriptionmeds', 'helpthisgoviral', 'dz', 'hospice', 'safetyfirst', 'sport', 'changetheoutcome', 'youwantme', 'buckeyeaz', 'walkbyfaith', 'dessert', 'alco', 'ethics', 'sobrietymovement', 'memelord', 'ally', 'earlysobriety', 'grandma', 'sv', 'مصر', 'fitnessimagination', 'vitaminr', '3pcoalition', 'opioidpainmedicine', 'itrieditiprimedit', 'biden', 'detroit', 'syringeservicesprogram', 'vsp', 'dothework', 'ac1dtrip', 'tik', 'flavors', 'brother', 'unleashyourgods', 'medico', 'medicated', 'faithful', 'hazbinhoteledit', 'فيب', 'disabilitypride', 'venmospringbreak', 'fentanylpoisoningawareness', 'sadtiktok', 'abolition', 'camel', 'can', 'drugfree', 'silverado', 'hydrate', 'cpp', 'hiphopmusic', 'jimmymcgilllive', 'blacktar', 'mentalhealthtulsa', 'amazing', 'makemefamous', 'سنابي', 'sobersisters', 'concert', 'ciaag', 'lake', 'multiplesclerosis', 'fight', 'nonicotine', 'guitarsolo', 'healingtrauma', 'sickecell', 'skoobysnax', '4u', '80s', 'addictionmindset', 'morning', 'tre', 'ماهو_عادي', 'jewelry', 'keşfet', 'nameeting', 'makeuptutorial', 'sobersquad', 'tiktokvideos', 'minnesotawinter', 'myjourney', 'nervepain', '999', 'soccer', 'ibogaine', 'counselor', 'dare', 'kratomforpain', 'actor', 'benzoaddiction', 'chrome', 'opioidsarenecessary', 'churchofvaping', 'halfwayhouseproblems', 'catlover', 'skit', '3days', 'soda', 'bipolar1', 'reddove', 'chevy', 'jointpain', 'smokerscough', 'stuff', 'likes', 'camhs', 'puff', 'munchies', 'crystals', 'yay', 'recoverytok💜', 'helpful', 'backwoods', 'recoveryisntcookiecutter', 'denturegang', 'mefftok', 'smoke', 'widowsoftiktok', 'borderline', 'native', 'fun', 'ocean', 'bigh', 'glider', 'personfirstlanguage', 'quit', 'reality', 'quetiapine', 'piano', '9yearssober', 'energized', 'reagenttests', 'wholesome', 'فلسطين', 'england', 'highlight', 'claytonjennings', 'sadtok', 'girlsnight', '🧊🧊🖤', 'arab', 'focus', 'doctor', 'kitkat', 'colors', 'is', 'alc', 'feminismo', 'northcarolina', 'gymaddict', 'kittycat', '💀', 'kittensoftiktok', 'quitting', 'halfwayhouselife', 'drugrehabilitation', 'filmteyvatislands', 'question', 'manga', 'هذه_عائلتي', 'mystery', 'boostofhope', 'cookingathometiktoktv', 'addictdiaries', 'firstnationshealth', 'g59', 'warrior', 'memphis', 'romance', 'fypmentalhealth', 'overdosed', 'afterparty', 'amen', 'asian', 'westicktogether', 'harmreductiontiktok', 'mutualaidtiktok', 'earth', 'construction', 'breakingbad', 'top10', 'widow', 'recoverycontent', 'crazyclown', 'nightmare', 'iamanaddict', 'opiatewithdrawal', 'guthealth', 'soberjunkie', 'droog', 'vibe', 'sweden', 'drugchecking', 'cleantok', 'bcbud', 'auntmary', 'dxb', 'witchcraft', 'copy', 'abstinence', 'blowitup', 'fenty', 'painmeds', 'traveltiktok', 'wow', 'spike', 'austria', 'siblingloss', 'christiantiktok', 'sanriocore', 'funytime', 'bethereasonvisa', 'stigma', 'muchachas', 'idea', 'africa', 'showofflandofrost', 'yoga', 'hippie', 'مش_فاهمك', '💌', 'fyppppppppppppppppppppppp', 'junkies', 'quotesoftheday', 'godsplan', 'lasertechnology', 'unity', 'physicaltherapy', 'foryouu', 'supplements', 'limbicsystem', 'p1ng', 'foodie', 'ravetok', 'guardians', 'grace', 'traumatok', 'dmt', 'vap', 'couple', 'relapsedjunkie', 'uklife', 'trendingreels', 'devil', 'eldenring', 'bpdawareness', 'gamers', 'recoverystories', 'addictionawareness', 'ndukulu', 'opioidrecovery', 'hcvtesting', 'mellowyellow', 'wisdom', 'mydubai', 'vapelove', 'inspiration', 'dublin', 'insaneclownposse', 't', 'queen', 'recoveryqueen', 'ilovemytiktokfamily', 'theplug', 'celebratesobriety', 'smarties', 'herbal', 'foryoupag', 'mentalhealthneworleans', 'educationalpurposesonly', 'picture', 'aftereffects', 'colorful', 'prisontok', 'kensingtonbeach', 'mentalhealthpune', 'wearetgh', 'santa', 'desert', 'sex', 'fentynalawareness', 'lizzosbiggrrrls', 'plantsnotpills', 'candle', 'chemistry', 'dank', 'iljohnny', 'gondola', 'trippingballs', 'rasta', 'نضحك', 'bicycleparts', '90s', 'warondrusgs', 'recoveryunplugged', 'coca', 'shesmineforever❤🌏💍', 'mini', 'momonamission', 'basshead', 'soberpowered', 'addictionhelp', 'juice', 'kicker', 'fanart', 'podcasts', 'sublocadeexperience', 'serenity', 'holdmymilk', 'rapiddetox', 'fitness', 'sigarettaelettronica', 'frogs', 'autism', 'cheese', 'creativity', 'myart', 'abstinanceonly', 'dr', 'endometriosis', 'trippyedits', 'cancerfighter', 'homedecor', 'dancemusic', 'captain', 'student', 'يا_أنا_يا_مفيش', 'firefighter', 'typ', 'narcotics', 'euro', 'lifetips', 'sobrietyjourney', 'lost', 'fails', 'withdrawal', 'lionsmane', 'makethusgoviral', 'algeria', 'restaurant', 'momsover30', '1980s', 'heat', 'tiktoker', 'halloween', 'illness', 'recoveroutloud', 'mylove', 'kr8tom', 'fritolayrickroll', 'onepillcankill', 'pridemonth', 'ford', 'vapetiktok', 'fetanylawareness', 'giveaway', '18', 'cash', 'gohelpsomeone', 'spice', 'mamasharkfam', 'single', 'minnesota', 'counselingtiktok', 'vapesoul', 'disabilitytiktok', 'newaccount', 'justintrudeau', 'ontharadio', 'dancewithturbotax', 'smart', 'spoonie', 'show', 'inspire', 'mentalhealthontario', 'soulmate', 'change', 'ps5', 'socialism', 'cat', 'catchchobanioatmilk', 'stemdrop001', 'drugawareness', 'flying', 'mlb', 'zippo', 'gear', 'how', 'cannafamily🌿', 'vapetok', 'craft', 'vapefam', 'functionaladdict', 'fucksobriety', 'getsober', 'kickons', 'vidrio', 'perc30', 'wisconsin', 'chadsabora', 'shards', 'gravel', 'icedrug', 'animeedit', 'mentalhealthlasvegas', 'moon', 'foeyoupage', 'adhdmedication', 'style', 'countryside', 'recoverychallenge', 'unhousedcommunity', 'smok', 'the', 'fortheboys', 'depressionanxiety', 'highsociety', 'tumblrphoto', 'pepsiapplepiechallenge', 'zohai', 'autumn', 'relief', 'positivity', 'backpainexercises', 'cry', 'writing', 'candycrush10', 'fordforthebuilders', 'traumatized', 'guy', 'cute', 'blowup?', 'addictionedit', 'hivprevention', 'recoveryking', 'actuallyautistic', 'gummybaemarcy', 'natural', 'cadbury', 'booktok', 'easyaccess', 'welding', 'coldturkey', 'safeuse', 'anxietydisorder', 'fall', 'harmreductionworker', 'addictionrecoverycoach', 'amazonsavingspree', 'educationalassistant', 'italy', 'sign', 'turnuprecovery', 'redhotchilipeppers', 'inlove', 'over40', 'nationalfentanylawarenessday', 'shabu', 'beer', 'sugar', 'foryoupage❤️❤️', 'justsayknow', 'arsenal', 'bekind', 'alcoholdetox', 'alive', 'customerservice', 'drugabuse', 'bethechange', 'enlightenment', 'rich', 'viralvideos', 'on', 'nc', 'quotestagram', 'advice', 'michigan', 'dust', 'muscle', 'vapepen', 'historyof', 'legalize', 'outreachworker', 'monster', 'thenvsnow', 'challenge', 'tag', '80smusic', 'empoweringpeople', 'haul', 'instagram', 'gun', 'para', 'foryourpagetiktok', 'nf', 'womeninsobriety', 'tok', 'blacktiktok', 'glendaleaz', 'character', 'harmredux', 'manners', 'sexy', 'newjersey', 'japan', 'homelesspeople', 'haddict', 'saysomethingdosomething', 'mentalhealthmatters', 'tiktokdance', 'mentalhealthportland', 'vicecity', 'zyxcba', 'beyourself', 'snowleopard', 'king', 'tweakertok', 'musicfestival', 'secretaccount', 'recoverysayings', 'cashapp13plus', 'discobiscuit', 'desserts', 'fitcheck', 'annapurna', 'gymnastics', 'daddy', 'yeet', 'hotmess', 'neckpain', 'nostalgia', 'relatablecontent', 'inspireeachother', 'edmtiktok', 'kitten', 'rats', 'lies', 'singing', 'recoverynonprofit', 'vancouver', 'nurse', 'overdoseawarenessday', 'recoveryreform', 'seroqueltok', 'vapeo', 'harrypotteredit', 'injury', 'subsanceabuse', 'islamic', 'decriminalize', 'dontdodrugs❌', '14x8000', 'mensmentalhealthmonth2023', 'fentanylkillspeoplewelove', 'stack', 'howtogetsober', 'stayingcleanandsober', 'sasurvivor', 'man', 'goviral', 'weather', 'неторчи', 'dj', 'أبي_العزيز', 'opiatedetox', 'satisfyingvideo', 'mahaloekalaniakea', 'spongebob', 'melbourne', 'opioidpainmedicinesaveslives', 'medicine', 'pyro', 'fentanylprevention', 'addictionskit', 'gay', 'fentanyleducation', 'public', 'pinktiktok', 'doctorpatientforum', 'ههههههه', 'nature', 'nativetiktok', 'edm', 'toyota', 'scared', 'xyzcba', 'comeongetinthere', 'whites', 'methadonesavedmylife', 'raccoon', 'moodedits', 'add', 'foco', 'tw', 'thunderdome', 'narcantutorial', 'foryour', 'messi', 'eyesonbrickcity', 'recoveringalcoholic', 'music', 'drugepidemic', 'juggalos', 'kak', 'purplewave', 'funnyvideos', 'stigmafree', 'suboxonesaveslives', 'zyzz', 'drpeppertuitioncontest', 'muslim', 'moda', 'wedorecovery', 'forever', '1960s', 'management', 'myths', 'quitvaping', 'naloxonesaves', 'recoverytok', 'triplec', 'prayerqueen', 'students', 'psytrancefamily', 'awarenessmatters', 'mentalhealthitaly', 'staysober', 'methadonemaintenance', 'promo', 'trackmark', 'alcoholicproblems', 'nourisheveryyou', 'balkan', 'christianity', 'expert', 'hepcawareness', 'secondchance', 'ابوظبي', 'louisiana', 'washingtondc', 'safe', 'sadstory', 'original', '3mmc', 'soberdad', 'drugpoisoningawareness', 'depressedtiktok', 'fake', 'drgs', 'sobrietyispossible', 'vaped', 'crime', 'poisoning', 'sanrio', 'bff', 'recongizerecovery', 'tweaker', 'drinkingstory', 'editor', 'sweet', 'alone', 'paratii', 'stick', 'v', 'peak', '😭', 'greifjourney', 'digitalart', 'peerworker', 'pinginfyp', 'indigenous', 'valorant', 'blockbusters', 'hivawareness', 'مراكش', 'mine', 'trucking', 'hereiam', 'oklahoma', 'smooth', 'clouds', 'alcoholicsaononymous', 'lawsuit', 'success', 'truckdrivers', 'empowerment', 'meds', 'fried', 'q', 'gatostiktok', 'stopthewarondrugs', 'joy', 'usatoday', 'substanceabuseprevention', 'bluecollar', 'sanguenhealthcentre', 'festivalseason', 'mentalhealthmilwaukee', 'smack', 'getcrackin', 'r6', 'tobaccofree', 'healthcareforall', 'pharmacistsoftiktok', 'empathymatters', 'syrup', 'irish', 'overdoseawarenessdayaugust31', 'freefromaddiction', 'ehlerdanlos', 'virale', 'isurvived', 'snapchat', 'originalcharacter', 'bipolardisorder', 'bamf', 'endprohibition', 'momsonmat', 'overdoseawarenessmonth', 'nursetok', 'midnightoil', 'accesstomedicine', 'dosewithme', 'hehe', 'reagenttest', 'veteransaffairs', 'ze', 'aviation', 'kenya', 'aa', 'fussball', 'itspossible', 'valentinesday', 'mdr', '🍁', 'positive', 'socialjustice', 'anxietymanagement', 'equestrian', 'noddingoff', 'herbalife', 'riseupaz', 'k', 'tiktoktrending', 'fypsounds', 'trippyart', 'family', 'strangerthings', 'celebrity', 'yesyou', 'filter', 'recover', 'functioningaddict', 'oneday', 'nic', 'fender', 'nursehumor', 'nf2', 'sobertok', 'relapse', 'narcantraining', 'beforeandafter', 'ceo', 'hillsborough', 'druginducedhomicide', 'humanity', 'dayinmylife', 'crystalmeff', 'spooky', 'druguse', 'pls', 'mentalillness', 'edmontonalberta', 'sunday', 'acrylic', 'heavymetals', 'canvas', 'ptsdsurvivor', 'harrystyles', 'kdrama', 'minecraftyoutuber', 'brainpower', 'thisis4u', 'soberatx', 'saturday', 'sobrietyisbeautiful', 'youarenotalone', 'meowmeow', 'rollin', 'ch', 'factsaboutfentanyl', 'fruit', 'arrested', 'innerchild', 'propeller', 'police', 'every11minutes', 'copsoftiktok', 'sorelatable', 'no_way', 'stigmafighter', 'suboxoneisrecovery', 'paindoctor', 'wnymobileoverdosepreventionservices', 'alcoholics', 'mentalhealthwisconsin', 'thedoctorpatientforum', 'bear', 'badtrip', 'quotesindonesia', 'altgirl', 'good', 'abstract', 'africangirl', 'justice', 'musicvideo', 'cigar', 'mentalhealthnorway', 'look', 'ciaagstrong', 'farm', 'manifest', 'mindset', 'alanon', 'bts', 'present', 'timfletcher', 'addictioncomedy', 'stop', 'matrix', 'naturephotography', 'الرياض', 'sobermomsoftiktok', 'detoxification', 'specialk', 'flowers', 'recoverycenter', 'amazonvirtualtryon', 'realtalkrecovery', 'buttons', 'atheists', 'stopvaping', 'emptyspace', 'greenscreensticker', 'haters', 'limbicbrain', 'pov', 'unfrezzmyaccount', 'blowthisup', 'trip', 'scottish', 'dancefever', 'mentalhealthsanantonio', 'photo', 'tokyo', 'ashes', 'gayandsober', 'mentalhealthwashington', 'casino', 'ily', 'pakistan', 'childrenshospital', 'getintheway', 'chevyevsongcontest', 'nhs', 'midnight', 'mujeres', 'fentanylrisk', 'matforme', 'fypツ', 'pillpopper', 'dizzy', 'laced', 'gamer', 'letsdothis', 'jesuslovesyou', 'pharmacy', 'rolling', 'wedorecoveraddiction', 'shisha', 'minecraftmemes', 'adidas', 'sobrietycheck', 'sister', 'narcansaves', 'overdosawareness', 'vaggie', 'jesusfreak', 'medtok', 'chewthevibes', 'boozefree', 'test', 'help', 'lonely', 'tumors', 'selenagomez', 'sing_oldies', 'pride', 'big', 'ginnyweasley', 'constipation', 'fentynalcrisis', 'peaceful', 'yellowstonetv', 'alberta', 'lgbtq🏳️\\u200d🌈', 'mentalhealthghana', 'sobrietymatters', 'trippyvibes', 'newyear', 'steam', 'cidtok', 'catvalium', 'blacklivesmatter', 'discord', 'peace', 'savelives', 'anniversary', 'mindfuldrinking', 'rehabtech', 'substanceabuserecovery', 'memesfordays', 'movies', 'dangersofmesa', 'cigarrette', 'moribuntarou', 'الشارقة', 'p1ngtok💊', 'nycfitcheck', 'ss', 'ههه', 'oregano', 'healthtips', 'edrecocery', 'recovering', 'singer', 'infectiousdisease', 'fypシ゚', 'enablersoftiktok', 'follwme', 'blanket', 'medicaltiktok', 'favoriteparent', 'momsstoptheharm', 'harmreductionguide', 'livelife', 'samhsa', 'swimming', 'skate', 'кот', 'educationalpurposes', 'gunners', 'wedorecoverwecanrecover', 'warriors', 'dubstep', 'anthonyhopkins', 'fortnite', 'giveback', 'disabled', 'kitchen', 'editing', 'moodygrams', 'intuittouchdowndance', 'soberlution', 'oud', 'jellyroll', 'eating', 'worthsaving', 'fyyyyyyyyyyyyyyyy', 'speakers', 'nyc', 'raptor', 'eat', 'addictionmentality', 'coke', 'blessed', 'registerednurse', 'hi', 'rehabtok', 'visionaryart', 'talk', 'signs', 'hockey', 'ac1d', 'voopoo', 'prohibitionkills', 'welbutrin', 'goodtimes', 'repost', 'xylazinekills', 'partytips', 'ca', 'universalhealthcare', 'cover', 'dancehall', 'healthiswealth', 'pan', 'mydolcemoment', 'cobain', 'addictedseries', 'turkey', 'reocvery', 'жижа', 'standup', 'rain', 'positivevibes', 'presents', 'visual', 'movewithtommy', 'سناب', 'فوازير_رياضية', 'friends', 'joystick', 'killers', 'holiday', 'hippietok', 'safetytips', 'blackballoonday2023', 'exboyfriend', 'za', 'bojackhorseman', 'sobergirl', 'addictionsrecovery', 'pubgmobile', 'edc', 'relapseprevention', 'darkhumour', 'for', 'tiktokindonesia', 'doxxing', 'هههههه', 'supportdontpunish', 'mtv', 'h', 'diesel', 'endocharditis', 'sobertwenties', 'thebag', 'methpsychosis', 'iv', 'velvet', 'sadedits', 'nonprofitlife', 'blackmagic', 'enlightenedsolutionsnj', 'emotionalsobriety', 'history', 'superk', 'dark', 'تعلم', 'recoveryhousemanager', 'pill', 'twitter', 'quitsmoking', 'illegal', 'courage', 'ididit', 'goth', 'fendt', 'healthcareaccess', 'halosilverteam', 'daughter', 'snacks', 'reefer', 'tiktokfamous', 'apace', 'overamping', 'neverusealone', 'opioidwithdrawal', 'bend', 'fakesituation⚠️', 'sublocade', 'paincommunity', 'sticks', 'safespace', 'pharmacytechnichian', 'latina', '🙏', 'bag', 'recoverytoc', 'blackmen', 'harmreductionbaddie', 'stopoverdose', 'duo', 'addictsinrecovery', 'cookies', 'domesticabuseawareness', 'livingmybestlife', 'highlife', 'peopleoverpolitics', 'cupcut', 'metoo', 'تركيا', 'haveagoodday', 'drugaddiction', 'kratomsupport', 'overdoseepidemic', 'bulk', 'alcoholfree', 'queer', 'lttleolder', 'gethisonthefyp', 'painkiller', 'drvgzx', 'recoveringoutloud', 'besties', 'lyme', 'cambodia', 'daily', 'chicago', 'humour', 'fypgakni', 'attempt', 'n', 'apache', 'publife', 'finalmoments', 'international', 'balkantiktok', 'genshinimpact32', 'مطر', 'methodoneisrecovery', 'exbf', 'austin', 'rollbowl', 'lifequotes', 'recommendations', 'soberliferocks', 'rav', 'lifeisgood', 'snäpchat', 'opioidepidemic', 'moneycorrupts', 'forest', 'psychedelicart', 'hauslabsfoundation', 'islam', 'diva', 'transformation', 'mentalhealthvancouver', 'greatbear', 'all', 'opiatesarethedevil', 'pharmacology', 'cattok', 'hazbinhotel', 'comeback', 'tiktokcomedy', 'adhdinwomen', 'cianducrot', 'bpdthings', 'gonnablamesofiathefirstformytrauma', 'gato', 'collegelife', 'games', 'ad', 'edsheeran', 'information', 'legend', 'crystalcastles', 'angel', 'instasvapo', 'recoverycheck', 'miraa', 'aeholidaycard', 'tampaflorida', 'stepandflex', 'nursingstudent', 'costco', 'gym', 'methadoneadvocate', '💉', 'physician', 'adderall', 'classism', 'fypdongggggggg', 'familytime', 'werecovermfr', 'methadonesupport', 'foryouuuu', 'spiritualtiktok', 'leaf', 'sobersideoftiktok', 'genx', 'recoveryquotes', 'care', 'kalenjin', 'opiate', 'painfulexperience', 'fuckfentanyldealers', 'scenic', 'spain', 'ankylosingspondylitis', 'drummer', 'schoolbus', 'hims', 'grenfellministries', 'wecanrecover', 'court', 'chinagirl', 'stopfentanyl', 'bestlife', 'butter', 'travisscott', 'rs', 'free', 'lupus', 'uktiktoker', 'musicfestival2023', 'cleanandclear', 'teenagers', 'animal', 'collaboration', 'thailand', 'darkness', 'endhivstigma', 'respect', 'me', 'u', 'aussie', 'elonmusk', 'cloudchaser', 'dex', 'sobrietyforwomen', 'relationshipgoals', 'morph', 'medicationsafety', 'grwm', 'harmreductiontok', 'hazbinhoteloc', 'truck', 'quotesdaily', 'saynotodrugs', 'addictionisafamilydisease', 'addictionfree', 'crown', 'recoverylifeapparel', 'soberwomen', 'pt', 'fypシ', 'healthcareworker', 'marriage', 'clubbing', 'narcoticsanonymous', 'singledadover40', 'ukonly', 'milestone', 'funnyvideo', 'shopping', 'fuckdrugs', 'gains', '2021', 'karinanisan', 'hivtesting', 'dankmemesdaily', 'scariest', 'supportnotstigma', 'm5', 'ａｅｓｔｈｅｔｉｃ', 'random', 'visuals', 'laugh', 'healingquotes', 'war', 'childdeathawareness', 'ivsurvivor', 'stimtok', 'f', 'firstaid', 'maroc', 'gabapentin', 'podcastclips', 'drinkingproblem', 'win', 'healthissues', 'mentallyill', 'thanksgiving', 'pwsud', 'potssyndrome', 'atheist', 'kodakblack', 'verslaafd', 'grunge', 'soberhousechronichles', 'fyppp', 'shit', 'soberistheway', 'cleandates', 'dinosaur', 'recoveryiscool', 'womenover40', 'legpain', 'chronicpainawareness', 'healingera', 'creator', 'islamic_video', '🍃tok', 'medicationtiktok', 'migrainetiktok', 'spine', 'grandmasoftiktok', 'dúo', 'youtube', 'caffeine', 'doctorsoftiktok', 'jailtok', 'dirty', 'peterbilt', 'nosecandy', 'videos', 'tiktok_india', 'adicciones', 'memepage', 'sobertips', 'wearfigs', 'barcelona', 'foryoupageofficiall', 'partylife', 'drugwithdrwal', 'dumb', 'chiva', 'bible', 'mylife', 'dnb', 'data', 'elderly', 'matawareness', 'xyzabc', 'guitartok', 'yallternative', 'livesober', 'acab', 'dothefootwork', 'damn', 'trans', 'mental', 'pharmacytiktok', 'argentina', 'stims', 'drag', 'blondambition', 'horsesoftiktok', 'ravers', 'funnytiktok', 'mentalhealthcalgary', 'elbruso', 'stem', 'nosepowder', 'edutok', 'rupaulsdragrace', 'survivor', 'mineforever', 'retweet', 'go', 'writtenword', 'mentalhealthmexico', 'pet', 'anesthesiologist', 'wind', 'cactus', 'kit', 'claudiamerandi', 'artistsoftiktok', 'dtes', 'trigeminalneuralgia', 'mind', 'arttherapy', 'dawn', 'her0in', 'saferuse', 'gangster', 'fy', 'shadowpeople', 'psychiatrist', 'carsoftiktok', 'nostalgic', 'nycshelter', 'discover', 'svapolife', 'hazbin', 'counselingtoronto', 'painfulemotionalprocess', 'frontrowrecovery', 'corruption', 'dxbxd', 'mentalhealthsyria', 'sama28', 'mentallyilltiktok', 'blues', 'recoveryrocks', 'support', 'fypageシ', 'hindu', 'chronsdisease', 'neymar', 'murder', 'operationopiate', 'sisters', 'wellnessandsexuality', 'metal', 'technology', 'cryo', 'allformsofrecoveryarevalid', 'emoji', 'alcoholtreatment', 'city', 'afters', 'dryjanuary2024', 'boat', 'drugwar', 'lesbian', 'northbaringo', 'nike', 'witch', 'tipsandtricks', 'neiperte', 'rescue', 'depresion', 'insulin', 'kucing', 'reform', 'yes', 'realrap', 'احلا_رفقة', 'invisibleillness', 'bathroom', 'methadon3', 'sofibreakupchallenge', 'opiodcrises', 'subwaysurfers', 'shorts', 'vaporart', 'rescuebreaths', 'clout', 'yxeliving', 'recoverylspossible', 'mh', 'suffering', 'educationalcontent', 'perk', 'mentalhealthfirstnations', 'relateable', 'schizophrenia', 'ride', 'soberqueen', 'zannies', 'لايك', 'life', 'rm', 'yamaha', 'm', 'socal', 'lifesavingtips', 'cigarrettes', 'sobermom', 'arquitectura', 'hero', 'realtalk', 'makeuproutine', 'thankyouuniverse', 'hiking', 'cdcguidelines', 'dubaimall', 'pass', 'australia', 'sesh', '6', 'creepy', 'ftm', 'mix', 'comfort', 'painrelief', 'traumainformed', 'workout', 'suboxonehell', 'fishing', 'charlidamelio', 'bronx', 'hippy', 'anticapitalism', 'sobermotivation', 'cdmx', 'onelessoverdose', 'tiktokindia', 'healthadepopit', 'my', 'smile', 'thc', 'spoonies', 'sobercurious', 'youcandoit', 'purpose', 'tampa', 'justsayno', 'funnymoments', 'targetaudience', 'chronicillness', 'psychiatry', 'camping', 'hospitaltiktoks', 'methadonelife', 'soberjunkies', 'mentalhealthdallas', 'sale', 'shadowbanned', 'river', 'ejuice', 'sobrietyrockstars', 'alcoholismlifestyle', 'religion', 'unitedstates', 'thenorthface', 'nba', 'bottle', 'patientadvocate', 'beer30', 'sobernation', 'trancemusic', 'bullshit', 'foru', 'water', 'oil', 'realnyc', 'coaching', 'mentalhealthstlouis', 'kpopfyp', 'movement', 'nicotinecheck', 'fentanypoisoning', 'summeressentials', 'rec', 'energize', 'الجزائر', 'youngerme', 'misinformationkills', 'taper', 'billw', 'overdosawarenes', 'وظائف_العائلة', 'ibs', 'working', 'research', 'recoverproudly', 'lifehacks', 'heart', 'we_do_recover', 'addicthumor', 'content', 'encouragement', 'grievingmommasoftiktok', 'goodthing', 'night', 'tiktokmademebuyit', 'triggers', 'fire', 'awarenessvideo', 'terrence', 'video', 'рек', 'calisober', 'rcr', 'sobertiktokfam', 'cna', 'rockbottom', 'worklife', 'educate', 'womenshealth', 'over30', 'gasper', 'edit', 'crazy', 'backpacking', 'trippyvisuals', 'nurses', 'outpatient', 'centralnervoussystem', 'hombres', 'opioidsareneccessary', 'husk', 'yayo', 'dinner', 'bnha', 'foodporn', 'audhd', 'bipolardisorderawareness', 'kenyangirl', 'spiritualitytiktok', 'toughlove', 'mamateaz', 'nfl', 'best', 'meeting', 'schizoaffectivebipolar', 'painadvocate', 'blm', 'unsealthemeal', 'yerawizard', 'addictive', 'imissyou', 'اضحك', 'helpthisgoviraltiktok', 'handlebars', 'onepillkills', 'paper', 'northernireland', 'plantmedicine', 'cancelthenoise', 'loveyouguys', 'pregnant', 'tntsports', 'goofballs', 'sobrietypodcast', 'divorce', 'medicationassistance', 'rave', 'mentalhealthsanfrancisco', 'hogwarts', 'worldmentalhealthday', 'alain', 'summer', 'sunset', 'white', 'heman', 'bartender', 'everythangsauce', 'dios', 'living', 'chronicpainpatient', 'kaykisscountdown', 'enabling', 'matprogram', 'fypdong', 'limbic', 'nod', 'addictsoftiktok', 'toxicology101', 'portrait', 'prescription', 'addictionsucks', 'tattoos', 'lesbiansoftiktok', 'snus', 'worldwide', 'aliens', 'workfitcheck', 'abpoli', 'cannatok', 'cranstoun', 'llj', 'sea', 'oregon', 'familyguy', 'heaven', 'system', 'oxygen', 'nyclife', 'yerba', 'journey', 'matlivesmatter', 'onlinebullying', 'sobertiktoks', 'please', 'syringe', 'opiobsessed', 'newmusic', 'headacherelief', 'english', 'zero', 'altitude', 'tomorrowland', 'cleanandserene', 'batman', 'boundaries', 'happiness', 'lohmamaof4', 'gatos', 'specialneeds', 'المغرب', 'addictionhumour', 'wired', '🛸', 'dreamgun', '2cb', 'catsofinstagram', 'sobergirlswalk', 'sobrietytiktok', 'rehabhumor', 'mexico', 'wallpaper', 'recoveroutloud💜', 'paris', 'carpediem', 'andgo', 'howtogetclean', 'tv', 'davegrohl', 'friendship', 'rehab', 'housingfirst', 'hows', 'throwback', 'kickers', 'falseguilt', 'methtok', 'complextrauma', 'blackbeauties', 'yaba', 'facts', 'supportdontshame', 'cart', 'occosplay', 'funnyquotes', 'paramedic', 'seattle', 'witchesoftiktok', 'mentalhealthjamaica', 'tumortok', 'zbars', 'islamabadrehabcenter', 'asmrsounds', 'جميل', 'mushroom', 'friendshipgoals', 'childhoodtrauma', 'christian', 'rolex', 'education', 'chronsandcolitis', 'childofaddicts', 'addictionsokc', 'equitynotequality', 'primarksummerup', 'makethisvideogoviral', 'partytime', 'greenscreenvideo', 'spreadawareness', 'kaiser', 'boyfriend', 'changeispossible', 'recoveredaddict', 'spinepain', 'deutsch', 'fypppp', 'government', 'drugaddictiontreatment', 'newyears', 'dispensing', 'storytime', 'recoverycouple', 'xandemicsurvivor', 'sleepy', 'subscribe', 'onthisday', 'harm', 'lettinggo', 'pop', 'musica', 'tapering', 'hellyeah', 'oat', 'drone', 'memer', 'dangerous', 'comment', 'real', 'spirituality', 'car', 'er', 'vent', 'communitycrisis', 'cvspaperlesschallenge', 'husband', 'bigbook', 'withdrawl', 'hype', 'fakepills', 'benzodiazepinas', 'design', 'suboxoneclinic', 'newyearseve', 'bendy', 'destigmatize', 'beautiful', 'likeabombshell', 'noroots', 'musician', '10k', 'straightedge', 'taylorswift', 'shaddiction', 'yxelocal', 'guilt', 'cptsd', 'disco', 'gbc🖤🐣', 'bbq', 'flop', 'vapor', 'chronicallyill', 'funyvideo', 'acceptance', 'سناب_شات', 'kellyclarkson', 'fan', 'sence', 'lawofattraction', 'pingtok💊🤭', 'passedout', 'doc', 'rcb', 'formykids', 'dvsurvivor', 'ohno', 'minecraftmeme', 'glacier', 'magic', 'kids', 'addictioncounselor', 'weekend', 'mood', 'toughlovekills', 'struggling', 'poem', 'streamer', 'emphasyma', 'yxe', 'da', 'ضحكك', 'carsofinstagram', 'addictions', 'spinalfusion', 'chandu', 'ghb', 'queens', 'troll', 'visualart', 'herniateddisc', 'god', '@brandi mac', 'alkohol', 'ccc', 'viralditiktok', 'junkystories', 'harmreductionsavealives', 'resin', 'addictiontreatment', 'lasvegas', 'growthmindset', 'day', 'peeptok', 'thankful', 'easywithadobeexpress', 'cud', 'cigaretteelectronique', 'discrimination', 'october', 'pioneer', 'bliss', 'hs', 'spiritualjourney', 'animallover', 'counseling', 'connection', 'goodvibes', 'peep', 'darkfantasy', 'jordan', 'singlemomlife', 'biginkenergy', 'you', 'fye', 'opiatefree', 'grasstok', 'minecraft', 'bigo', 'firstnationhealthauthority', 'changeyourlife', 'vivitrolshot', 'حياتك_في_رمصان', 'hazbinhotelvaggie', 'teststrips', 'activeaddictionvssobriety', 'benzogang', 'edclasvegas', 'srilankantransman', 'couples', 'substanceabusesurvivor', 'meetpeoplewheretheyare', 'shoulderpain', 'addictionisnotachoice', 'fyprecovery', 'shot', 'paradise', 'surrender', 'goat', 'ronaldo', 'recoverycomedy', 'skydxddy', 'bigcomfy', 'covid', 'disposable', 'samsung', 'onvacation', 'abby', 'soberbaddie', 'drinktok', 'healthcare', 'lenovojustbeyou￼', 'supplement', 'petsoftiktok', 'twaddiction', 'suicideprevention', 'brainhealth', 'trendingaudio', 'satisfying', 'cr7', 'outreach', 'x', 'trance', 'wnymobileops', 'felon', 'monkey', 'bluechew', 'psyart', 'drugprevention', 'betterlife', 'vapestagrm', 'happygirl', 'freestyle', 'rehabcenters', 'building', 'safeinjection', 'sk', 'scenery', 'alcoholabuse', 'wellness', 'correctusedoesntequalabuse', 'balance', 'motivation', 'dailymemes', 'shr00omere', 'gymtok', 'people', 'smoked', 'suicide', 'wakeup', 'nodrugs', 'lovequotes', 'wellbriety', 'drill', 'special', 'vapingislife', 'bridge', 'electricguitar', 'hashtag', 'fett', 'summit', 'قهوة', 'soberqueens', 'ren', 'back', 'mafia', 'blonde', 'mindsetmatters', 'vs', 'powerlifting', 'experience', 'maga', 'soundcloud', 'star', 'prohibitionispoison', 'thisisquitting', 'dreamteam', 'mx', 'reddevils', 'painting', 'yourself', 'itworksifyouworkit', 'spoonielife', 'warondrugsfailed', 'loveyoutiktok', 'ohio', 'codependency', 'fibro', 'bipolarawareness', 'methadoneawareness', 'narcex', 'married', 'communityoutreach', 'roblox', 'godisgood', 'gas', 'matsaveslives❤️', 'one', 'rehabtiktok', 'bass', 'drff', 'africanjunky', 'hopsin', 'singapore', 'prayer', 'community', 'p1ngers', 'review', 'studydrugs', 'meditation', 'addictiontok', 'doctorsinrecovery', 'american', 'gettested', 'tiktokchallenge', 'build', 'plur', 'bipolar1disorder', 'raves', 'buprenorphinesaveslives', 'fentkills', 'momsinrecovery', 'amped', 'worldcup', 'blackwomenowned', 'whitedove', 'indigenoustiktok', 'matsaveslifes💓', 'solar', 'genie', 'getthisviral', 'heartbroken', 'fürdichpage', 'dontdodrugs', 'ezigarette', 'healingtiktok', 'tiktokaddict', 'fearandanxiety', 'hazbinhotelhusk', 'edmtok', 'wockyslushhhh', 'iran', 'fetynalawareness', 'sobrietysociety', 'victoria', 'pumpers', 'answer', 'medication', 'precipitatedwithdrawal', 'trusttheprocess', 'legal', 'prank', 'stp', 'motherofanaddict', 'jp', 'followourjournery', 'splashsummervibe', 'mentalhealthadvocate', 'safeinjectionsites', 'painter', 'ecigarette', 'shinedown', 'cleanse', 'ansiedad', 'anxietyawareness', 'smartzombie', 'followme', 'sprite', 'game', 'wafer', 'uktiktok🇬🇧uk', 'wife', 'csgo', 'what', 'rapper', 'medicationinformation', 'misteaz', 'legacypainpatient', 'dojacat', 'narcsurvivor', '4upage', 'noalcohol', 'adam', 'herbs', 'deadpeopledontrecover', 'mentalheath', 'meow', 'inverted', 'codependancy', 'freehealthcare', 'addictiontruths', 'xtc', 'vapeinitaly', 'sharingmystory', 'miller', 'her', 'xylazineawareness', '2023', 'gastroparesis', 'fyi', 'z', 'heal', 'sobercheck', 'saskatoon', 'simpsons', 'grow', 'lamborghini', 'ski', 'potterhead', 'witchtok', 'shitposting', 'periods', 'painkillers', 'trippin', 'spinalcordinjury', 'البر', '❄️tok', 'scoop', 'rural', 'gossipgirlhere', 'climbing', 'icetok', 'sublocadejourney', 'emt', 'negra', 'recoveryisworthit', 'reefermadness', 'fentanyloverdose', 'recoveringaddicts', 'bhang', 'fr', 'kettok', 'brand', 'keepgoing', 'realdeal', 'needleaddict', 'electronics', '911', 'xy', 'stones', 'underground', 'lifecoach', 'marlboro', 'stimulants', 'coffee', 'kurtcobain', 'suboxoneissober', 'sicklecell', 'tumorscan', 'painhub', 'home', 'hazbinhotellucifer', 'exjunkie', 'gp', 'quartz', 'testing', 'helpthisgetonfyp', 'dontpunishpain', 'gaming', 'recycle', 'basictext', 'oneyear', 'drxg', 'fürdich', 'addicttiktok', 'explorer', 'catslovers', 'tips', 'ninja', 'contentcreator', 'psychedelicresearch', 'opioidusedisorder', 'photooftheday', 'loud', 'new', 'bar', 'mentalhealthseattle', 'run', 'trap', 'smoker', 'theafterparty', 'personalitycheck', 'jail', 'canadiancheck', 'sexualitywellness', 'monday', 'kneepain', 'mentalhealthboston', 'substanceuseawareness', 'bricks', 'ههههه', 'dumbjokes', 'parenting', 'kratomenthusiast', 'bows', 'housing', 'dr00gtiktok', 'd', 'lanadelrey', 'capitalism', 'sobreity', 'adorable', 'psychwards', 'minerals', 'testyourdrugs', 'bigpharma', 'planks', 'certifiedtrainer', 'trackmarkscars', 'autistic', 'recoveryarmy', 'junkie', 'birthday', 'mytruth', 'recoverywarrior', 'sobrietyrockstars🤘🖤', 'comedia', 'spinesurgery', 'fail', 'psychedelicrock', 'مشاهير', 'redbull', 'bipoc', 'sti', 'taperjourney', 'orange', 'today', 'viral_video', 'eye', 'seshlife', 'shoes', 'soberfamily', '5', 'sweets', 'dracomalfoy', 'parati', 'laut', '12stepprogram', 'راس_الخيمة', 'recoverytodaymagazine', '💎', 'cheeba', 'arte', 'train', 'postop', 'newtrend', 'blackballoonday', 'recoveryingaddict', 'xycba', 'watch', 'austintx', 'spun', 'belleza', 'alcoholicnot', 'mountaindew', 'hustle', 'opiodawareness', 'zybca', 'schizoaffectivedisorder', 'methadoneissober', 'allmyfriendsaredead', 'homelessnessawareness', 'culturalcompetency', 'ha', 'wedorevover', 'remember', 'ideaexchange', 'fitnesssponsorship', '💊💊💊', 'advocate', 'ds18', 'salvia', 'draw', 'soberhousemom', 'testkit', 'core', 'wedorecover🔥🤟💯', 'soberstories', 'happybirthday', 'tea', 'portlandaddiction', 'soberquotes', 'lungs', 'evil', 'catoftiktok', 'r', 'angelssobershack', 'floridaaddiction', 'teetotaler', 'homeless', '1yearsober', 'propaganda', 'live', 'ladyboss', 'lfl', 'fpy', 'overdose', 'vapetricks', 'health', 'sublocadeshot', 'hellokitty', 'teens', 'kawasaki', 'foryourpages', 'fypsoberlife', 'parents', 'ravegirl', 'abc', 'badass', 'follw', 'qat', 'edge', 'amg', 'opiatesurvivor', 'hate', 'essentialoils', 'addictsarepeopletoo', 'livemusic', 'fentanylhasaffectedmylife', 'recipe', 'motel', 'scotland', 'joint', 'girls', 'inflammation', 'raisingawareness', 'comedу', 'ship', 'physicianassistant', 'myangel', 'tinasrecoverytok', 'gatitos', 'clay', 'helping', 'favoritepicture', 'donoharm', 'humbled', 'merica', 'اكسبلور', 'neveralone', 'bomber', 'brokenheart', '🧩', 'facesofvancouver', 'physique', 'macmiller', 'blackownedbusiness', 'vr', 'fentanylfacts', 'ترند', 'whitelightning', 'recoveryhome', 'crying', 'aesthetic', 'voiceeffects', 'scary', 'girl', 'snowtok', 'sobrietyisawesome', 'tools', 'fentanyldangersarereal', 'thang', 'bad', 'fentapill', 'artist', 'tiktoklive', 'raving', 'autotweet', 'danger', '5monthssober', 'anime', 'hard', 'sobrietyforlife', 'addictionsurvivor', 'funmom', 'cptsdsurvivor', 'skee', 'wellnessselfcare', 'didyouknow', 'trippyartwork', 'ashtray', 'moodoff😔', 'fungi', 'sobrietyrules', 'euphoria', 'حلا', 'glasses', 'dillies', 'spongebobmemes', 'y2k', 'xylazine', 'ksa', 'recoveryhouse', 'views', 'u4', 'mentalillnessinnit', 'grwmstorytime', 'relationships', 'ucla', 'podcast', 'plantsoverpills', 'sunrise', 'herb', 'mentalhealthcaribbean', 'cloudnine', 'colombia', 'fashiontiktok', 'spring', 'university', 'asmrtiktok', 'genshinimpact34', 'beyou', 'alcoholusedisorder', 'thepotissafe', 'oreganooil', '🌹🌹🌹', 'noshame', 'xannies', '4k', 'memecut', 'plants', 'relatable', 'methadonejourney', 'opioidhysteria', 'labrador', 'stimulant', 'pingertok💊', 'notforprofit', 'sobergang', 'lmfao', 'christmas', 'рекомендации', 'pharmacist', 'addictionisrealyall', 'prisontiktokonly', 'proud', 'pansexuals🏳️\\u200d🌈💖💛💙', 'sideeffects', 'funn', 'harrypotter', 'info', 'traphousestories', 'teenager', 'cookwiththesatars', 'selfimprovement', 'jessiemurph', 'tweakin', 'mensmentalhealth', 'dependence', 'skincare', 'dhaulagiri', 'petsmartmademebuyit', 'inclusive', 'mentalhealthawareness', 'juicewrld', 'nomoredeadfriends', 'catlovers', 'kirby', 'fypシ゚viral', 'artwork', 'sublocadecommunity', 'iwannabefamous', 'goodsamaritanlaw', 'harmreductionspecialist', 'sydney', 'kr8tomsaves', 'postoppain', 'explore', 'peersupportspecialist', 'ox', 'drugskill', 'coquette', 'disease', 'old', 'lovelife', 'naloxonetraining', 'bigrig', 'lenovojustbeyou', 'mentralhealth', 'hcv', 'momlife', 'unhoused', '90', 'dejardefumar', 'vancouvercoastalhealth', 'overwatchme', 'جده', 'xzybca', 'fifa', 'baseball', 'lifesaving', 'om', 'nz', 'dontdodrugskkids', 'to', 'badhabits', 'hash', 'gettingsober', 'xyz', 'soberking', 'takeanairbreak', 'alcholic', 'film', 'traumahealing', 'chronicpaintiktok', 'wales', 'miniature', 'wahine', 'fly', 'manual', 'laughing', 'london', 'mentalhealthuk', 'tek', 'dxblife', 'buffalo', 'yeat', 'grandmawithapast', 'paranoia', 'suboxonecheck', 'wellbeing', 'svapofamily', 'musically', 'trick', 'cringe', 'vapepod', 'shoppingvlog', 'justfortoday', 'soberafvibes', 'ernurse', '2022', 'emergency', 'menacetosobriety', 'kindukulu', 'stressrelief', 'kawaiiaesthetic', 'stayhigh', 'liquidx', 'showurgrillskillz', 'methanphetamines', 'patagonia', 'thebest', 'unhousedcreator', 'greece', 'clusterheadache', '❄️', 'johnnydepp', 'mentalillnessrecovery', 'kratomforanxiety', 'closeyourrings', 'kraytom', 'canadatiktok', 'fuckfent', 'mountain', 'pic', 'harmreductionsavesliveslives', 'recoverystory', 'mentalhealthtiktoks', 'slots', '12and12', 'mystory', 'opiods', 'crackepidemic', 'comedyvideos', 'tinctures', 'lockdown', 'forthekids', 'vapefamily', 'yellow', 'godsmedicine', 'awesome', 'harmreductiongang', 'strength', 'subxone', 'policychange', 'popular', 'childhoodtraumarecovery', 'netflix', 'vapestagram', 'hazbinhotelalastor', 'rojo', 'mentalhealthgotthebetterofme', 'holistichealth', 'illustration', 'neville', 'acidart', 'rice', 'xh', 'proudofmyself', 'homemade', 'overdoseawarenessmonth2023💜', 'herbalism', 'tree', 'larocha', 'have', 'domesticviolenceawareness', 'fda', 'ontario', 'testimony', 'toy', 'uppers', 'alcoholaddictionrecovery', 'dopesick', 'freefire', 'memesquad', 'soberbabe', 'methamphytamine', 'atv', 'bcpoli', 'joke', 'marvel', 'systemicracismisreal', 'harleydavidson', 'popcornlung', 'barbs', 'slytherin', 'toxicology', 'strangerthings4', 'alcoholiclife', 'georgioumusic', 'safeaccess', 'frontlineheroes', 'skateboarding', 'evidencebased', 'recoverytiktok', 'havesomeempathy', 'schizoaffective', 'edits', 'misterblue', 'alternative', 'adhdawareness', 'extaxi', 'pinks', 'relapseinrecovery', 'cringetok', 'houseless', 'soberfun', 'quitalcohol', 'fetty', 'fish', 'brown', 'withdrawals', 'enteralfeeding', 'nycsheltersystem', 'mpharm', 'letsbefriends', 'miss', 'trash', 'theater', 'drydrunk', 'manchesterunited', 'sacklerfamily', 'fentanylawareness', 'thecolemaninstitute', 'europa', 'broken', 'biker', 'tiktokacademie', 'showyourjowo', 'loveyou', 'recoveringaddict', 'fentanylawarenesschallenge', 'harmreductiontip', 'barbie', 'angeldust', 'heartbreaking', 'quote', 'breakingnews', 'learnwithtiktok', '🔌', 'substanceabuseawareness', 'reds', 'mentalhealthtok', 'dadsontiktok', 'childhood', 'pipe', 'animatedstories', 'opioidsaresafe', 'trekking', 'biology', 'showyourglow', 'clean', 'nootropic', 'animation', 'warning', 'lock', 'goodfellas', 'alcoholanonymous', 'carrynarcan', 'jo', 'chronicpainlife', 'edrecovery', 'partytok', 'kat', 'chs', 'toddler', 'quitnic', 'screammovie', 'substanceabuser', 'haha', 'followers', 'walkmehome', 'clips', 'mentalhealthtiktok', 'wlw', 'liverdisease', 'empathy', 'enhance', 'learnontiktok', 'godfirst', 'lilpeep', 'church', 'kazakhstan', 'zodiac', 'wood', 'army', 'newyork', 'meaning', 'dolphin', 'unreal', 'fostercare', 'builder', 'imsober', 'bodybuilding', 'crystal', 'housingcrisis', 'syringeaccess', 'sniff', 'suboxon', 'vegas', 'davidebybc', '🤣🤣🤣', 'ioad', 'تكتوك', 'gacha', 'summervibes', 'news', 'gentleman', 'beauty', 'skiing', 'opiateusedisorder', 'crente', 'roborockrun', 'hungover', 'connectioniskey', 'dadmoves', 'silly', 'bpdtok', 'lexus', 'ضيفوني', 'norway', 'velo', 'mutualaid', 'theythem', 'blue', '3', 'likeamonarch', 'pretty', 'calm', 'youtuber', '4', 'zaza', 'smokingisnotgood', 'adaptogens', 'psy', 'fatigue', 'waves', 'ed', 'harmreductionmythbuster', 'drumandbass', 'effect', 'sobrietyisoverrated', 'gaslighting', 'depressionisreal', 'sublocadeinfo', 'mattok', 'drunktok', 'genshinimpact', 'kinda', 'deutschland', 'millennial', 'stepwork', 'journal', 'easydoesit', 'embarrassing', 'lgbt🌈', 'acutepain', '710', 'grass', 'uktiktokers', 'therapypets', 'dance', 'rt', 'jujutsukaisen', 'sobrietyquotes', 'copylink', 'remake', 'past', 'ketaminetiktok', 'mcyt', 'md', 'interiordesign', 'boy', 'atx', 'stopstigma', 'puppy', 'drugusersdeserveempathy', 'addictionstulsa', 'songs', 'fearmongering', 'healthy', 'fypage', 'crpsawareness', 'keta', 'narcansavedmylife', 'od', 'fentanyladdiction', 'advocacy', 'canna', 'mustwatch', '100k', 'opiod', 'dailymail', 'traumaanddrugrecovery', 'atrain', 'byebyesundayblues', 'sharjah', 'vapeporn', 'liverfailure', 'money', 'hangovercure', 'arcteryx', 'starwars', 'لبنان', 'yummy', 'werecoverstronger', 'carrynaloxone', 'adversechildhoodexeriences', 'iykyk', 'mmt', 'swag', 'reels', 'rehabtime', 'together', 'phoenix', 'magick', 'passion', 'spotify', 'perc10challenge', 'cigtok', 'up', 'pranks', 'leo', 'hiphopculture', 'soberlifestyle', 'adiction', 'eds', 'watchthis', 'narcannasalspray', 'mentallychill', 'moto', 'russia', 'xanies', 'drum', 'saskatchewan', 'nepal', 'stone', 'mandy', 'fibromyalgia', 'aiart', 'comediahumor', 'hangoverfree', 'peanutbutter', 'weird', 'decriminalizedrugs', 'electro', 'youcanrecover', 'inspirationalquotes', 'pc', 'muslimah', 'mocktails', 'dancing', 'sicklecellawareness', 'drvgadicction', 'psyche', 'reaction', 'reachout', 'alcoholicsanonymousisforthebrainwashed', 'machine', 'labs', 'painfulemotions', 'safeconsumption', 'lovely', 'harmeeductionworks', 'naloxyboxy', 'ineedhelp', 'copd', 'standwithkashmir', 'hand', 'warondrugs', 'horse', 'الاردن', 'fitnessidentity', 'uktiktok', 'recoverytribe', 'athlete', 'disabilitycommunity', 'fentanylkilledmyfriends', 'opiatewitdrawal', 'footballs', 'blowup', 'ukraine', 'newyearsresolution', 'ironia', 'funnymemes', 'retro', 'rock', 'في_قلبي', 'zans', 'lungdetox', 'nevergiveup', 'o', 'notonemore', 'addictiondoesntdiscriminate', 'wockst★rz', 'effects', 'shroooms', 'tuesday', 'nightout', 'myth', 'anger', 'pharma', 'prison', 'audio', 'jesussaves', 'theclimber', 'mod', 'ouidtiktok', 'movie', 'libra♎️', 'share', 'daydrinking', 'glass', 'abstractart', 'gracelandranch', 'footballtogether', 'ball', 'ñ', 'dad', 'icecream', 'saturdaynight', 'beans', 'fitnesstransformation', 'gamercheek', 'jackpot', 'limitless', 'chelsea', 'boost', 'egypt', 'poison', 'centretoradancedaddictionrecovery', 'nojudgement', 'stonetok', 'usa🇺🇸', 'dating', 'oroc', 'sobrietygifts', 'crack', 'dadsoftiktok', 'break', 'xbox', 'bangi', 'communitycare', 'fypviralシ', 'sa', 'tik_tok', 'medicationassitedrecovery', 'tumblr', 'followforfollowback', 'human', 'poly', 'workfit', 'nomoredrugwar', 'adventure', 'chronicallychill', 'livefree', 'lifehack', 'm30s', 'airport', 'medicaldetox', 'italia', 'getthebag', 'mickeyfriendsstaytrue', 'adhdmeds', 'amore', 'liquid', 'ramadan', 'engracado', 'pets', 'dragqueen', 'drugpolicies', 'junk', 'herbalmedicine', 'jay', 'truestory', 'pickupthephone', 'illicitfentanylkills', 'celebrate', 'drugsafety', 'fentanylfilmpbs', 'trackmarks', 'amor', 'recoveringaddictsoftiktok', 'sobermoms', 'blow', 'drinklesslivemore', 'sobrietyrocks', 'harmreductionsaves', 'pingeroftheweek', 'school', 'hydro', 'lit', 'شعر', 'languagematters', 'miami', 'addictionseattle', 'this', 'drift', '🙏🙏🙏', 'short', '70s', 'intervention', 'lapse', 'jobs', 'roots', 'dr✨️gs', 'wtf', 'mount', 'metalhead', 'themoreyouknow', 'eve', 'banned', 'substanceabusedisorder', 'childlossawareness', 'pharmacologyclass', 'workthesteps', 'piercings', 'fakeeverything', 'grieftok', 'l', 'cancerpain', 'couplegoals', 'safeusekits', 'transftm', 'opioidaddictionrecovery', 'hiphop', 'outfit', 'investing', 'psychonaut', '2', 'activeaddictionthings', 'nerveblock', 'voorjou', 'funnypictures', 'healthyliving', 'nychomeless', 'omega3', 'cartoon', '4you', 'แมว', 'spiritualawakening', 'recoverytalk', 'daxshepherd', 'exaddict', 'soberflexfam', 'knowyourstatus', 'narcansaveslives️', 'justiceforjohnny', 'pellets', 'ash', 'opiateepidemic', 'dmtt_tiktok', 'addictionstories', 'carmeet', 'treatmentcenter', 'boys', 'hop', 'perte', 'opiaterecovery', 'surgerytiktok', 'togetherwecan', 'sky', 'power', 'strawberry', 'kinen', 'tarot', 'sobercouple', 'fentanylabuse', 'sony', 'photography', 'goal', 'heavy', 'aejeanssoundon', 'puffpuffpass', 'suboxonerecovery', 'freekick', 'adhdtok', 'quetiapinegang', 'neon', 'yogaaddict', 'hangovergang', 'unhousedfriends', 'lysergicaciddiethylamide', 'drogoenciclopedia', 'strong', 'ravemom', 'methadoneisrecovery', 'freeparty', 'yxebusiness', 'diabetes', 'windowpane', 'top5', 'truecrime', 'sciencetok', 'catha', 'newlife', 'tampabay', 'hospin', 'nightlife', 'gta', 'ivuser', 'vida', 'humantraffickingawareness', 'broccoli', 'op', 'collegefootball', 'recoverytik', 'biohacking', 'mdm', 'eccies', '420', 'neurodiverse', 'triptokk', 'activeaddictionstories', 'behavioralhealth', 'thesesh', 'muslimtiktok', 'werecover', 'tumblrgirl', 'dontgiveup', 'mushrooms', 'expandyourmind', 'mollytokk', 'supportcommunity', 'memestagram', 'pink', 'socialnews', 'tiktokdubai', 'france', 'men', 'freedom', 'الكويت', 'tennessee', 'tattoo', 'greatful', 'worldpeace', 'that', 'carts', 'accountability', 'ghost', 'indo', 'diet', 'medellin', 'pr', 'iloveyou', 'publichealth', 'bestfriend', 'goals', 'cocktail', 'navy', 'addictionrecovery', '👽', 'gurt', 'charlie', 'opiateaddcition', 'honda', 'bluepunisher', 'dontdodrxgs', 'alastorhazbinhotel', 'psychology', 'inspirational', 'nevergiveup❤️💘❤️', 'blackmarket', 'psytranceworld', 'makenightsepic', 'us', 'bipolar2', 'narcankits', 'trippycontent', 'matrecovery', 'narctok', 'wedorecoverfam', 'funnyy', 'interesting', 'wdr', 'audi', 'strongerbc', 'inrecovery', 'psychosis', 'substanceabuseproblem', 'country', 'californiasober', 'cocoaandshelby', 'championsleague', 'yucatan', 'butforthegraceofgod', 'sherwoodpark', 'junky', 'bennies', 'olaflex', 'powerstroke', 'cbd', 'thoughts', 'agro', 'dancechallenge', 'medicalfacts', 'believe', 'nycshelterlife', 'educational', 'great', 'naloxonekit', 'cookie', 'reddit', 'activism', 'cvs', 'socialworkstudent', 'series', 'drugsaddition', 'gethelp', 'lentejas', 'uae', 'methadonetaper', 'slideshow', 'acting', 'jewelrytiktok', 'matsaveslives', 'prisontokstories', 'football', 'battle', 'mufc', 'policy', 'fast', 'recoveringad', 'medicina', 'sicklecellwarrior', 'flake', 'europe', 'goodsamaritan', 'featureme', 'carlifestyle', 'prayedforthis', 'kelly', 'lilpeep4ever', 'quoteskeren', 'ex', 'winter', 'dict', 'peaceandlove', 'easy', 'partywithvmas', 'sand', 'kratomwellness', 'aameeting', 'thor', 'painmedication', 'postitaffirmations', 'pregnancy', 'pnp', 'cosplay', 'lgbt', 'opioidwithdrawel', 'مضحك', 'j', 'originalsound', 'weightloss', 'plughumor', 'newbeginning', 'supportgroup', 'pansexual', 'keepfighting', 'staysafe', 'instagood', 'sobrietytok', 'amps', 'kratomresearch', 'greivingmother', 'lawenforcement', 'recoveryispossible💯', 'prayers', 'mixing', 'wolfies', 'ope', 'takeoff', 'multiplepathwaysofrecovery', 'methadonerecovery', 'opiateaddictionrecovey', 'mentalhealthcheckin', 'candy', 'housemanager', 'lightning', 'tutorial', 'bowl', 'spinaltumors', 'sublocadeinjection', 'producer', 'moneytok', 'medical', 'accident', 'lines', 'storiesasoberpersonwontbelieve', 'drugpolicyalliance', 'loss', 'aesthetics', 'anarchism', 'guitar', 'why', 'healingjourney', 'soberhouselife', 'aasharing', 'dope', 'girly', 'surprise', 'mukbang', 'party', 'methadonetherapy', 'eliquids', 'supercars', 'engine', 'soberaf', 'methadonedetox', 'draft', 'soberissexy', 'famous', 'gift', 'tired', 'neverusealonehotline', 'mud', 'virall', 'shamelesssobriety', 'ultra', 'lifeinrecovery', 'mentalhealthawarness', 'lives', 'opioidoverdoseprevention', 'canadian', 'ems', 'gunsnroses', 'traumabonding', 'progress', 'grievingoutloud', 'tranq', 'lift', 'cod', 'try', 'linkbudsneveroff', 'lowbackpain', 'snow', 'dependance', 'lgbtq', 'parties', 'psychedelic', 'halfwayhouse', 'sinclairmethod', 'idk', 'ra', 'probablygonnapissyouoff', '?', 'drugpolicyreform', 'ehlersdanlossyndrome', 'wordsofaffirmation', 'anxietycheck', 'vapehacks', 'yvr', 'stress', 'safety', 'gasstation', 'hereiamonceagain', 'india', 'alcoholicsanonymous', 'master', 'fouryou', 'huluchippendalesdance', 'jungle', 'freemanmusic', 'drunktiktoks', 'رمضانيات', 'tiktokgirls', 'recoverygang', 'اسطنبول', 'capcutvelocity', 'dr00ghumour', 'downer', 'chalk', 'drugtreatment', 'cars', 'goop', 'addictinrecovery', 'habitat', 'goa', 'mollyeyes', 'chooserecovery', 'нетор4ки', 'recoveryjournal', 'alcoholicsnotanonymous', 'emo', 'plug', 'cityofmesa', 'addictionjourney', 'instaxchallenge', 'mentalhealthnigeria', 'albania', 'sobercoach', 'centreforadvancedaddictionrecovery', 'benzowithdrawal', 'decriminalization', 'a', 'humor', 'quakerpregrain', 'memestiktok', 'neuropathy', 'plutotvisfree', 'therealpussinboots', 'wildlife', 'mydaughterinheaven👼', 'spongebobmeme', 'restinparadise', 'beats', 'videoviral', 'droogz', 'selfie', 'pubmed', 'boots', 'mentalhealthbaltimore', 'hipsobriety', 'bigpharmabigproblem', 'cvspharmacy', 'questions', 'headaches', 'saveme', 'el', '@octopusdarling ', 'latenightsnack', 'fupシ', 'study', 'drama', 'buprenophrhine', 'porsche', 'vinyl', 'recoverytime', 'ليبيا', 'shoulerpain', 'relapsedagain', 'yum', 'cut', 'kentucky', 'matclinic', 'yearontiktok', 'حبك_غير_حياتي', 'theplate', 'maryjane', '4bharmreductionsociety', 'recoveryfirst', 'sucht', 'breakthrough', 'hapagirl', 'singleton', 'karacter', 'recoveryworks', 'thateabishhh', 'indubai', '3mmclover', 'pingerzzz', 'morpho', 'dontflop', 'release', 'rccar', 'opiateaddictionawareness', 'abcxyz', 'illinois', 'sheincares', 'endod', 'g', 'icecube', 'أيام_على_رمضان', 'sundayfunday', 'xylazinetesting', 'soberactivities', 'heartbreak', 'starlight', 'rheumatoidarthritis', 'wordsmatter', 'studybuddies', 'mentalhealthchicago', 'moderation', 'vapingisbad', 'fit', 'ultaskintok', 'mindullness', 'opioiddetox', 'cognitivefunctions', 'realestate', 'lovinganaddict', 'didyouyawn', 'crpswarrior', 'fbi', 'mythbusters', 'baking', 'woundcare', 'griefandloss', 'comic', 'story', 'techno', 'dhs', 'k18results', 'sing_moviesong', '12steps', 'maine', 'politics', 'nearinfraredlight', 'manifestation', 'exams', 'tanker', 'lol', 'funy', 'monotony', 'sauce', 'blade', 'medicationassistedtreatment', 'soberflex', 'trucks', 'dayonedetox', 'icpfam', 'spiritual', 'biscuit', 'poetry', 'risas', 'ai', 'missed', 'vapelyfe', 'angry', 'painful', 'harmreductionhistory', 'anxietyrush', 'justinking', 'صناع_البهجة', 'familia', 'goldenretriever', '60s', 'طبيعة', 'witchywahine', 'pharmacyassistant', 'pallativecare', 'babamultani', 'oneyearsober', 'couplestiktok', 'obama', 'punk', 'kensington', 'mancity', 'housingnothandcuffs', 'corinnadoll', 'puebla', 'madewithkacontest', 'momofanangel', 'stockholm', 'wesobernow', 'naturalmedicine', 'testyoursubstances', 'rose', 'stonertokfyp', 'dankmemes', 'pothead', 'christmastrees', 'ravesafe', 'khaleejiswitch', 'trendingvideo', 'justgirlythings', 'perc', 'fnaf', 'velocity', 'oldmoney', 'bestfriends', 'tweaking', 'artistsoninstagram', 'like4like', 'ocd', 'vlog', 'se', 'ecigarettes', 'selfcaretiktok', 'psychoticepisode', 'coils', 'goofy', 'knowyourworth👑💜', 'boredom', 'club', 'iconic', 'asmrtiktoks', 'talktoyourkids', 'addictlivesmatter', '12steprecovery', 'addct', 'makeasplash', 'sponsored', 'amigos', 'odawareness', 'chill', 'readysetlift', 'satire', 'chronicillnessawareness', 'grape', 'learning', 'bekindtoeveryone', 'foruyou', 'recoverywin', 'shopyxe', 'lovinglife', 'coach', 'deep', 'carporn', 'fakebodyy⚠️', 'frog', 'ram', 'purple', 'nonprofit', 'shots', 'entrepreneur', 'tiktokers', 'ivsubstanceuse', 'p', 'shotsshotsshots', 'bbplaydate', 'shoplocalyxe', 'steak', 'time', 'tiger', 'minneapolis', 'medicineexplained', 'lovestory', 'fypp', 'fashion', 'sobercomedy', 'recoveroutloudforthosewhosufferinsilence', 'gurtsreactions', 'longervideos', 'madewithkeurigcontest', 'laughter', 'purplehaze', 'german', 'ssp', 'medicalgaslighting', 'grief', 'chat', '2000s', 'drugusersarepeopletoo', 'official', 'higherpower', 'studentnurse', 'kratomlovers', 'mom', 'animetiktok', 'juulgang', 'coldweather', 'wedding', 'cyclebreakers', 'mentalhealthindia', 'wizardgang', 'druaddiction', 'part1', 'hotwirehotelgoals', 'opiateawareness', 'copilots', 'felonsoftiktok', 'endstigma', 'truth', 'awakening', 'oddlysatisfying', 'tasty', 'fyy', 'rta', 'art', 'cork', 'drums', 'spiderman', 'friend', 'like', 'seshtok', 'rifle', 'gorillatag', 'vapelover', 'weld', 'act', 'snorting', 'toxy', 'xybca', 'quoteoftheday', 'safeconsumptionsites', 'flexeveryangle', 'harmreductionmerch', '0', 'plane', 'memez', 'gg', 'roids', 'sad', 'harmreductionislove', 'alt', 'almaty', 'prevention', 'gtube', 'tiktokshowtime', 'fouryoupage', 'pharm', 'boom', 'enderman', 'texas', 'relaxing', 'druhgz', 'spinabifida', 'cripple', 'artoftheday', 'traumaandsubstanceuse', 'picoftheday', 'therapy', 'giftsofsobriety', 'cheetosreaperreactions', 'clown', 'totinos425', 'primedaydreamdeals', 'kilimanjaro', 'ketfest', 'tooth', 'compassion', 'circles', 'alcoholfreelife', 'glowup', 'stigmakills', 'doctors', 'fiesta', 'ourrecoveryourchoice', 'colemanmethod', 'massachusetts', 'instalike', 'viraltiktok', 'manchestercity', 'soberjourney', 'recoverycoach', 'mymelody', 'hops', 'mine❤️', 'memories', 'bmwmotorsport', 'stayalert', 'stadium', 'comedy', 'gratefuladdictinrecovery', 'top3', 'b', 'limbicbrainretraining', 'doritostriangletryout', '🍄', 'performance', 'street', 'treatment', 'alcoholrehab', 'trollface', 'glasgow', 'mushrooms🍄', 'green', 'rehabcenter', 'spinalcordstimulator', 'ping', 'islamabad', 'ضحك_وناسة', 'rek', 'bc', 'universe', 'm0llytikt0k', 'axeratiochallenge', 'borderlinepersonalitydisorder', 'هه', 'addictioncrew', 'gorpcore', 'toxic', 'dip', 'dimitri', 'goodmorning', 'crazystory', 'alcoholismo', 'pod', 'chinatown', 'savinglives', 'genxcrew', 'fav', 'nors', 'truecrimecommunity', 'فوازير_ثقافية', 'houstontx', 'myristorantecreation', '4youpage', 'حلوة_حياتي_معاه', 'overdoseprevention', 'e', 'sinner', 'nicotinefree', 'werecovertogether', 'recoverylife', 'tiktokviral', 'stackers', 'korea', '2020', 'genshinimpact33', 'thehopefulalcoholic', 'ootd', 'peersupport', 'studentlife', 'vivziepop', 'housedcreator', 'soberhumor', 'passthebic', 'nutrition', 'neuroscience', 'naturesmedicine', 'vanillasky', 'brooklyn', 'nightcrawler', 'listen', 'healthpsychology', 'britishcolumbia', 'moud', 'autismawareness', 'explorepage', 'bobo', 'diy', '🍇survivor', 'recoveryjokes', 'eatingdisorderrecovery', 'narcissisticabuserecovery', 'cali', 'covid19', 'anxietyhelp', 'lronhubbard', 'holistic', 'endthewarondrugs', 'foryourpageofficiall', 'travel', 'tricks', 'rare', 'spreadingawareness', 'seehergreatness', 'youth', 'soberaustin', 'sobercommunity', 'اكسبلورexplore', 'cid', 'voice', 'canokiefoods', 'foryourepage', 'blessings', 'cake', 'dentalhygienist', 'mmc3', 'dailyvlog', 'pingtok🤭💊', 'drawing', 'fentanyawarness', 'sobergirls', 'crystaltok', 'communityhealth', 'anxietyrelief', 'sinsemilla', 'mentalwellness', 'sevrage', 'itsgreatoutdoors', 'wickedclownsharmreduction', 'recoveryaddict', 'son', 'kif', 'space', 'nakuru', 'happyhour', 'haddiction', 'safesupplyorwedie', 'advocacymatters', 'photographer', 'jin', 'eupdrecovery', 'needles', 'downtowntampa', 'mama', 'soberbirthday', 'trump', 'grievingmom', 'iamsober', 'hopedealer', 'f3energy', 'hepc', 'manutd', 'مش_على_بعضي', 'lifestyle', 'mat', 'batu', 'البحرين', 'drmarandaherring', 'soberinparadise', 'painreliever', 'teen', 'matrecoverysaves', 'missyou', 'catlove', 'tiktokculturalfestival', 'substancesbuse', 'poor', 'iphone', 'world', 'teamoftomorrow', 'triggerwarning', 'pinterestaesthetic', 'zasiegi', 'y', 'besafe', 'germany', 'depressed', 'perc30clan', 'addicts', 'poland', 'methadonemaintenace', 'lipsync', 'prohibition', 'mercedes', 'xanz', 'crank', 'momtok', 'uni', 'opioid', 'cinematography', 'ny', 'lowbrowcomedy', 'snack', 'sobrietyisworthit', 'america', 'needleexchange', 'darkcomedy', 'recovertogether', 'youmatter', 'horror', 'thatsmethedup', 'trendingsong', 'godbless', 'nycootd', 'just4today', 'serenityprayer', 'pingtok🤭', 'worst', 'wwe', 'sobrietytribe', 'thankyou', 'lifesavingfacts', 'tangoandcash', 'lifelessons', 'venting', 'backsurgery', 'postacutewithdrawalsyndrome', 'racecar', 'harmreductionist', 'fact', 'target', 'oxy', 'makeitgucci', 'philadelphia', 'under', 'smoothlikenitropepsi', 'alcoholrecovery', 'letsgo', 'lakecumberlandrecovery', 'tubie', 'veterans', 'postacute', 'worldprincessweek', 'yeah', 'migraines', '90meetings90days', 'lymedisease', 'arizona', 'funwithfood', 'narcoticsanonynous', 'rocks', 'parentingthroughtrauma', 'parentsoftiktok', 'rxking', 'cbs', 'suboxonedetox', 'girlswithtattoos', 'britain', 'trippythoughts', 'drip', '🖤', 'hazbinhotelsirpentious', 'sublocadequestions', 'psytrancefestival', 'druaddictionedit', 'beat', 'americanintheuk', 'endocarditis', 'competition', 'mentalhealthcuba', 'كومنت', 'macscaraface', 'twistinmysobriety', 'selfcare', 'fashionista', 'isaidwhatisaid', 'recoveryskit', 'hqd', 'mentalhealthsupport', 'chicken', 'chronicpainrelief', 'smplsck', 'kiss', 'gee', 'trendingtiktok', 'asmrvideo', 'narcan8', 'pump', 'freepartyisnotacrime', 'headacheseveryday', 'soberasf', 'adayinmylife', '12stepsinrecovery', 'awareness', 'الفجيرة', 'colorado', 'neverlookingback', 'memes', 'hardware', 'methadonesuccess', 'lyrics', 'harlem', 'handmade', 'georgiou', 'suzuki', 'dayinthelife', 'delicious', 'cdc', 'kratomeducation', 'vintagefashion', 'shipping', 'children', 'hurt', 'bodilyautonomy', 'arbysdiablodare', 'fame', 'comedian', 'bunkpolice', 'medicalcannapatient', 'bingedrinking', 'تابعوني', 'backpainrelief', 'pingin', 'psychosisawareness', 'snowboard', 'dream', 'benzos', 'onedayatatime🦋', 'helpothers', 'cooking', 'rig', 'dragrace', 'light', 'matisrecovery', 'trees', 'cptsdrecovery', 'room', 'vapeon', '6monthssober', 'mvp', 'deutschrap', '🍃', 'pingtok💊', 'recoveryfamily', 'twitch', 'emotionswitch', 'methadonemile', 'nursesoftiktok', 'asmr', 'fentnyltest', 'bereal', 'sobrietymemes', 'cinema', 'dobetter', 'findyouredge', 'sing', 'nausea', 'relatablememes', 'consumptionandtreatmentservices', 'yougotthis', 'bhfyp', 'soberatheist', 'brain', 'elfbars', 'it', 'addictionkills', 'bmw', 'makethisviral', 'medications', 'radio', 'snapout', 'fentfold', 'nursepractitioner', 'overdoseprevetion', 'unboxing', 'quittingnic', 'breakthecycle', 'cowgirl', 'vapors', 'breakfast', 'whoopwhoop', 'responsibleliving', 'snoopdogg', 'cartiktok', 'huff', 'vintage', 'labsoftiktok', 'hahaha', 'rush', 'thatsnothowitworks', 'spreadlove', 'stovetop', '6ix', 'tubielife', 'chapter4', 'knowledge', 'trippyvideos', 'soberlivinghouse', 'ramadancreation', 'led', 'loveislove', 'neurofibromatosis', 'emotional', 'easyrecipe', 'narcanawareness', 'habits', 'endlessjourney', 'soberstory', 'alchoholfree', 'body', 'grassroots', 'addictsmatter', 'دبي', 'roadtorecovery', 'using', 'borderlinepersonality', 'baby', 'rc', 'rap', 'addictshelpingaddicts', 'opioidcrisisawareness', 'dearmom', 'mentalhealthdublin', 'patient', 'shoppingaddiction', 'selfworth', 'shows', 'sapphire', 'naltrexonetreatment', 'guardiansofthegalaxy', 'abudhabi', 'recoveryisbeautiful', 'touch', 'law', 'preppy', 'peoriaaz', 'af', 'cocoa', 'endthedrugwar', 'recoverysupport', 'tina', 'dr00g', 'stayalive', '716buffalo', 'youareloved', 'motorcycle', 'binge', 's', 'amazon', 'oc', 'esoteric', 'needle', 'victorious', 'mrkrabsmemes', 'methadonewithdrawal', 'recoveryoutloud', 'lighter', 'savage', 'r2', 'dodge', 'newbeginnings', '8ball', 'funinsobriety', 'plugtok', 'реки', 'funyy', 'bowls', 'sobrietyhumor', 'werecoverwell', 'schizophrenic', 'bi', 'methadonetreatment', 'jullo', 'getreadywithme', 'neurofibromatosistype2', 'dismantlethesystem', 'sadsong', 'thunder', 'thesinclairmethod', 'howtoquitdrinking', 'nadplus', 'shop', 'quittingsmoking', 'sexton', 'tranqdope', 'comedancewithme', 'drugdetox', 'vapersontiktok', 'painmanagementphysician', 'drinks', 'manchester', 'detoxing', 'demon', 'directions', 'vaggiehazbinhotel', 'arachnoiditis', 'celebratingnineyears', 'svapoporn', 'happynewyear', 'onepiece', 'recoveryispossible', 'ivdruguse', 'la', 'psychedelicmusic', 'cravings', 'xylazinesurvivor', 'indonesia', 'soberdetox', 'vivitrol', '🍻', 'ice', 'illu', 'interior', 'notalone', 'bipolar', 'soberdogs', 'painmedicine', 'cocacola', 'skittles', 'triste', 'healthyhabits', 'backpain', 'jarretedefumer', 'subs', 'california', 'culture', 'pilot', 'mobileopsontheblock', 'carguy', 'science', 'homelessness', 'chocolatesoftiktok', 'addictcomedy', 'chocolates', 'atlanta', 'iamrecovery', 'psa', 'weloveyou', 'animals', 'highschool', 'dankmeme', 'gone', 'wednesday', 'anticapitalist', 'sexualabusesurvivor', '21', 'sobrietytest', 'interview', 'socialnavigation', 'alastor', 'petlover', 'vapingkillsyou', 'sh', 'foodtiktok', 'generic', 'in', 'puffpuff', 'spooniesoftiktok', 'caraudio', '1', 'recoverywarriors', 'mota', 'tbt', 'house', 'fasttwitchcontest', 'sobersideofsorry', 'переписка', 'gratefuladdictsinrecovery', 'trends', 'methadon', 'beforewefight', 'healthyrecipes', 'wchr', 'alateen', 'painwarrior', 'nfrealmusic', 'nursingschool', 'mountains', 'mentalhealthphilosophy', 'dea', 'dm', 'meff', 'healthylifestyle', 'guma', 'autonomy', 'joysmoke', 'alpha', 'catonaleash', 'moodoffstatus', 'انا', 'cannafam', 'هههه', 'gb', 'helluvaboss', 'sud', 'death', 'stopdrinking', 'vsco', 'trendy', 'subaru', 'song', 'brasil', 'drugabuseawarness', 'sexualityhealth', 'substanceuser', 'stardust', 'rizz', 'ivsubstanceuser', 'recoverymedia', 'genshinteleport', 'pinky', 'addme', 'eliquid', 'women', 'ms', 'overdoseawarness', 'sam', 'celebrities', 'injuryrecovery', 'werecoverasone', 'peoplewhouse', 'peoplewhousedrugs', 'crisis', 'fentanylsafety', 'raw', 'dryjan', 'veteran', 'sobercat', 'mc', 'dothesmartthings', 'funnymeme', 'follow', 'cia', 'amazonmusicproudheroes', 'harmreductionservices', 'matsavedme', 'xyzbcafypシ', 'lunghealth', 'hookah', 'depressionawareness', 'firstnationsmentalhealth1staid', 'smokers', 'hobby', 'red', 'turbo', 'нетор4и', 'nomore', 'fentanylkills', 'stepbystep', 'marvelcomics', 'pots', 'habit', 'carti', 'equity', 'socialwork', 'c', 'occult', 'تك_توك', 'collection', 'howto', 'زهرة_حالة_حلوة', 'recoveryfam', 'jungkook', 'work', 'addictjournal', 'onepillkillls', 'hpsustainablesounds', 'hermes', 'au', 'singlemom', '🐴', 'safesupplynow', 'mentalhealthhamiltonontario', 'genz', 'griefjourney', 'vela', 'painpills', 'dryjanuary', 'adhd', 'kratomkills', 'liveforthechallenge', 'bump', 'parasite', 'gofast', 'chile', 'adhdtiktok', 'nairobi', 'chronicfatigue', 'merrychristmas', 'premierleague', 'addictiontiktok', 'soberhousemanager', 'skippy', 'prisontiktok', 'k2', 'crackkills', 'selfhelp', 'disabledcommunity', 'catnip', 'pingtok⚫️👄⚫️', 'hospitallife', 'muslimtok', 'addictionstoronto', 'lpn', 'vaporizer', 'highlights', 'colemaninstitute', 'southbronx', 'rn', 'ranch', 'soberparent', 'deadpeoplecantrecover', '💖', 'top', 'malaysia', 'safesupplysaveslives', 'harmreductioncoalition', 'cleantime', 'kpop', 'paintiktok', 'تونس', 'onlyinmycalvins', 'godsbaby', 'china', 'harmreductionbaddies', 'drake', 'mentalhealthphilippines', 'substanceuserecovery', 'youcan', 'prescriptions', 'cotton', 'influencer', 'usa_tiktok', 'harmreductionists', 'mira', 'harmreductionbaddietok', 'cutecat', 'corollacrossstep', 'dfr', 'dxblove', 'abundance', 'addictionstigma', 'arthritis', 'dignity', 'losangeles', 'another24', 'peopleoverprofit', 'showusyourdrawers', 'relationship', 'الامارات', 'genshin', 'snort', '4up', 'oklahomateacher', 'hospital', 'cowboy', 'sobrietymotivation', 'ladders', 'overcomingaddiction', 'basketball', 'lays', 'duetdowet', 'rzdxwlvs', 'cure', 'narcissisticrelationship', 'longevity', 'usersrights', 'drugabuseawareness', 'indigenoussocialworker', 'girlsnightout', 'hilarious', 'naloxonesavedmylife', 'recoverymemes', 'cureconnect', 'dots', 'migrainerelieftok', 'saynotodrugs❌🚭🍺🍾❌', 'thursday', 'weekendvibes', 'tesla', 'womeninrecovery', 'foodlover', 'singersongwriter', 'quotes', '🧊', 'pharmacydispenser', 'svapiamo', 'worthy', 'ferrari', 'motivational', 'nye', 'likeforlikes', 'trashed', 'fup', 'drogowers', 'plant', 'alcoholawareness', 'malibu', 'housemusic', 'motivationalquotes', 'minnesotanonprofit', 'healthtok', 'recoveryisbeautiful🤍', 'jokes']\n"
     ]
    }
   ],
   "source": [
    "import random\n",
    "import ast\n",
    "\n",
    "# Read the CSV file\n",
    "df = pd.read_csv('../data/kcore_5_nodes.csv')\n",
    "\n",
    "# Extract the 'node' column and get the count\n",
    "node_list = df['hashtag'].dropna().tolist()\n",
    "node_count = len(node_list)\n",
    "print(f\"Total count of nodes: {node_count}\")\n",
    "\n",
    "# Remove occurrences of all_human_tags from node_list\n",
    "node_list = [node for node in node_list if node not in all_human_tags]\n",
    "\n",
    "# Get the count of remaining nodes\n",
    "node_count = len(node_list)\n",
    "print(f\"Total count of nodes after removal: {node_count}\")\n",
    "\n",
    "# Use all remaining nodes instead of random sampling\n",
    "print(f\"Remaining nodes: {node_list}\")"
   ]
  },
  {
   "cell_type": "code",
   "execution_count": 6,
   "metadata": {},
   "outputs": [],
   "source": [
    "# test new function\n",
    "# from get_themes import get_theme\n",
    "# import random\n",
    "# hashtag_sample = random.sample(node_list, 100)\n",
    "# hashtag_sample_str = \", \".join(hashtag_sample)"
   ]
  },
  {
   "cell_type": "code",
   "execution_count": 7,
   "metadata": {},
   "outputs": [],
   "source": [
    "# hashtag_sample_df = pd.DataFrame(hashtag_sample)\n",
    "# hashtag_sample_df.to_csv(\"../data/sample500_batch_4o.csv\")"
   ]
  },
  {
   "cell_type": "code",
   "execution_count": 8,
   "metadata": {},
   "outputs": [],
   "source": [
    "# Get themes for the sampled hashtags\n",
    "# gpt4o : gpt-4o-2024-05-13\n",
    "# gpt4o-mini: gpt-4o-mini-2024-07-18\n",
    "# themes = get_theme(hashtag_sample_str, model= \"gpt-4o-2024-05-13\", client= client)"
   ]
  },
  {
   "cell_type": "code",
   "execution_count": 9,
   "metadata": {},
   "outputs": [],
   "source": [
    "# print(themes)"
   ]
  },
  {
   "cell_type": "code",
   "execution_count": 10,
   "metadata": {},
   "outputs": [],
   "source": [
    "# def process_themes(themes_string):\n",
    "#     try:\n",
    "#         themes_dict = json.loads(themes_string)\n",
    "#     except json.JSONDecodeError as e:\n",
    "#         print(f\"Error decoding JSON: {e}\")\n",
    "#         return pd.DataFrame(columns=['Category', 'Hashtag'])\n",
    "\n",
    "#     # Step 3: Process the dictionary to create a pandas DataFrame\n",
    "#     data = []\n",
    "#     for category, hashtags in themes_dict.items():\n",
    "#         for hashtag in hashtags:\n",
    "#             data.append({'Category': category, 'Hashtag': hashtag})\n",
    "    \n",
    "#     df = pd.DataFrame(data)\n",
    "#     return df\n"
   ]
  },
  {
   "cell_type": "code",
   "execution_count": 11,
   "metadata": {},
   "outputs": [],
   "source": [
    "# themes_df = process_themes(themes)\n",
    "# themes_df.to_csv(\"../data/themes100_gpt4o.csv\")"
   ]
  },
  {
   "cell_type": "markdown",
   "metadata": {},
   "source": [
    "---\n",
    "## Experiment with parallelization"
   ]
  },
  {
   "cell_type": "code",
   "execution_count": 12,
   "metadata": {},
   "outputs": [],
   "source": [
    "from pararallelize import process_posts_in_parallel\n",
    "from get_themes import get_theme\n",
    "import random\n",
    "\n",
    "def chunk_list_to_df(input_list, chunk_size):\n",
    "  \"\"\"\n",
    "  Chunks a list into smaller lists of approximately equal size and returns a DataFrame.\n",
    "\n",
    "  Args:\n",
    "      input_list: The list to be chunked.\n",
    "      chunk_size: The desired size of each chunk.\n",
    "\n",
    "  Returns:\n",
    "      A DataFrame where each row contains a chunk of the original list.\n",
    "  \"\"\"\n",
    "  chunks = []\n",
    "  for i in range(0, len(input_list), chunk_size):\n",
    "    chunks.append(input_list[i:i + chunk_size])\n",
    "\n",
    "  df = pd.DataFrame({'hashtags': chunks})  \n",
    "  df[\"hashtags_str\"] = df[\"hashtags\"].apply(lambda x: ', '.join(x))\n",
    "\n",
    "  return df\n",
    "\n",
    "# hashtag_sample = random.sample(node_list, 100)\n",
    "hashtag_chunks_df = chunk_list_to_df(node_list, 50)\n"
   ]
  },
  {
   "cell_type": "code",
   "execution_count": 13,
   "metadata": {},
   "outputs": [],
   "source": [
    "hashtag_chunks_df[\"themes\"] = process_posts_in_parallel(hashtag_chunks_df[\"hashtags_str\"].to_list(), max_workers=10,model = \"gpt-4o-2024-08-06\", task = get_theme, client = client)"
   ]
  },
  {
   "cell_type": "code",
   "execution_count": 14,
   "metadata": {},
   "outputs": [],
   "source": [
    "hashtag_chunks_df.to_csv(\"../data/hashtag_themes_5kcore_5k_20241106a.csv\")"
   ]
  },
  {
   "cell_type": "code",
   "execution_count": 17,
   "metadata": {},
   "outputs": [],
   "source": [
    "def convert_string_to_dataframe(input_string):\n",
    "    # Parse the JSON string\n",
    "    data = json.loads(input_string)\n",
    "    \n",
    "    # Create lists to store the data\n",
    "    themes = []\n",
    "    hashtags = []\n",
    "    \n",
    "    # Iterate through the dictionary\n",
    "    for theme, tags in data.items():\n",
    "        for tag in tags:\n",
    "            themes.append(theme)\n",
    "            hashtags.append(tag)\n",
    "    \n",
    "    # Create the DataFrame\n",
    "    df = pd.DataFrame({\n",
    "        'theme': themes,\n",
    "        'hashtag': hashtags\n",
    "    })\n",
    "    \n",
    "    return df"
   ]
  },
  {
   "cell_type": "code",
   "execution_count": 18,
   "metadata": {},
   "outputs": [],
   "source": [
    "def process_hashtag_chunks(hashtag_chunks_df):\n",
    "    all_hashtags_themes = pd.DataFrame()\n",
    "    error_rows = []\n",
    "\n",
    "    for index, row in hashtag_chunks_df.iterrows():\n",
    "        try:\n",
    "            theme = row[\"themes\"]\n",
    "            blah = convert_string_to_dataframe(theme)\n",
    "            all_hashtags_themes = pd.concat([blah, all_hashtags_themes], ignore_index=True)\n",
    "        except Exception as e:\n",
    "            print(str(e))\n",
    "            error_rows.append({\n",
    "                \"index\": index,\n",
    "                \"theme\": theme,\n",
    "                \"error\": str(e)\n",
    "            })\n",
    "    \n",
    "    return all_hashtags_themes, error_rows"
   ]
  },
  {
   "cell_type": "code",
   "execution_count": 19,
   "metadata": {},
   "outputs": [],
   "source": [
    "result_df, errors = process_hashtag_chunks(hashtag_chunks_df)"
   ]
  },
  {
   "cell_type": "code",
   "execution_count": 20,
   "metadata": {},
   "outputs": [
    {
     "name": "stderr",
     "output_type": "stream",
     "text": [
      "/var/folders/jj/bt0ykz9n5_16z2gvbybl0tbc0000gn/T/ipykernel_44834/3694086731.py:3: UserWarning: Pandas requires version '3.0.5' or newer of 'xlsxwriter' (version '3.0.3' currently installed).\n",
      "  errors_df.to_excel(\"../data/hashtag_themes_kcore5k_errors.xlsx\")\n"
     ]
    }
   ],
   "source": [
    "result_df.to_csv(\"../data/hashtag_themes_kcore5k_long.csv\")\n",
    "errors_df = pd.DataFrame(errors)\n",
    "errors_df.to_excel(\"../data/hashtag_themes_kcore5k_errors.xlsx\")"
   ]
  },
  {
   "cell_type": "code",
   "execution_count": 21,
   "metadata": {},
   "outputs": [],
   "source": [
    "def find_unlabeled_hashtags(original_df: pd.DataFrame, labeled_df: pd.DataFrame) -> pd.DataFrame:\n",
    "    # Assuming the hashtag column is named the same in both dataframes\n",
    "    unlabeled = original_df[~original_df['hashtag'].isin(labeled_df['hashtag'])]\n",
    "    print(f\"Original hashtags: {len(original_df)}\")\n",
    "    print(f\"Labeled hashtags: {len(labeled_df)}\")\n",
    "    print(f\"Unlabeled hashtags: {len(unlabeled)}\")\n",
    "    \n",
    "    return unlabeled\n",
    "\n",
    "def prepare_unlabeled_for_gpt(unlabeled_df: pd.DataFrame) -> str:\n",
    "    return ', '.join(unlabeled_df['hashtag'].tolist())"
   ]
  },
  {
   "cell_type": "code",
   "execution_count": 22,
   "metadata": {},
   "outputs": [
    {
     "name": "stdout",
     "output_type": "stream",
     "text": [
      "Original hashtags: 5519\n",
      "Labeled hashtags: 5143\n",
      "Unlabeled hashtags: 416\n"
     ]
    }
   ],
   "source": [
    "unlabeled_df = find_unlabeled_hashtags(df, result_df)"
   ]
  },
  {
   "cell_type": "code",
   "execution_count": 30,
   "metadata": {},
   "outputs": [
    {
     "name": "stdout",
     "output_type": "stream",
     "text": [
      "Hashtags with multiple themes:\n",
      "                       theme                 hashtag\n",
      "0     awareness and advocacy     depressionawareness\n",
      "162        health conditions     depressionawareness\n",
      "174   awareness and advocacy     depressionawareness\n",
      "3720       health conditions  drugpoisoningawareness\n",
      "3731  awareness and advocacy  drugpoisoningawareness\n",
      "...                      ...                     ...\n",
      "2799                   humor              yerawizard\n",
      "2812                    misc              yerawizard\n",
      "24                      misc                     ضحك\n",
      "2813                    misc                     ضحك\n",
      "4946                    misc                     ضحك\n",
      "\n",
      "[79 rows x 2 columns]\n",
      "\n",
      "Summary of multiple labels:\n",
      "hashtag\n",
      "depressionawareness               [awareness and advocacy, health conditions, aw...\n",
      "drugpoisoningawareness            [awareness and advocacy, health conditions, aw...\n",
      "fentanylpoisoningawareness        [awareness and advocacy, health conditions, aw...\n",
      "firstnationsmentalhealth1staid    [identity and community, awareness and advocac...\n",
      "funnypictures                                                   [misc, humor, misc]\n",
      "griefjourney                      [emotions and feelings, emotions and feelings,...\n",
      "hangover                            [substance effects, alcohol, substance effects]\n",
      "harmreductionspecialist            [occupation, awareness and advocacy, occupation]\n",
      "hepcawareness                     [awareness and advocacy, health conditions, aw...\n",
      "hivawareness                      [awareness and advocacy, health conditions, aw...\n",
      "kratomkills                       [commonly-misused substances, commonly-misused...\n",
      "menacetosobriety                                  [humor, substance effects, humor]\n",
      "momsoftiktok                      [identity and community, identity and communit...\n",
      "nadplus                           [cognitive enhancement, cognitive enhancement,...\n",
      "ohno                                                            [misc, humor, misc]\n",
      "opioidepidemic                    [awareness and advocacy, awareness and advocac...\n",
      "overdoseawareness                 [awareness and advocacy, awareness and advocac...\n",
      "psychosisawareness                [awareness and advocacy, health conditions, aw...\n",
      "rasta                             [identity and community, cannabis, identity an...\n",
      "recoveryfamily                    [awareness and advocacy, awareness and advocac...\n",
      "rehabtech                                            [occupation, occupation, misc]\n",
      "shoulderpain                      [health conditions, health conditions, health ...\n",
      "stones                                 [substance effects, substance effects, misc]\n",
      "yerawizard                                                      [misc, humor, misc]\n",
      "ضحك                                                              [misc, misc, misc]\n",
      "Name: theme, dtype: object\n"
     ]
    }
   ],
   "source": [
    "duplicated_hashtags = result_df[result_df.duplicated(subset=['hashtag'], keep=False)]\n",
    "\n",
    "# Sort by hashtag to see the groupings easily\n",
    "print(\"Hashtags with multiple themes:\")\n",
    "print(duplicated_hashtags.sort_values('hashtag'))\n",
    "\n",
    "# To see a cleaner summary:\n",
    "summary = duplicated_hashtags.groupby('hashtag')['theme'].agg(list)\n",
    "print(\"\\nSummary of multiple labels:\")\n",
    "print(summary)\n"
   ]
  },
  {
   "cell_type": "code",
   "execution_count": 24,
   "metadata": {},
   "outputs": [
    {
     "name": "stderr",
     "output_type": "stream",
     "text": [
      "/var/folders/jj/bt0ykz9n5_16z2gvbybl0tbc0000gn/T/ipykernel_44834/2826623478.py:2: UserWarning: Pandas requires version '3.0.5' or newer of 'xlsxwriter' (version '3.0.3' currently installed).\n",
      "  summary.to_excel(\"../data/duplicated_25_hashtags.xlsx\")\n"
     ]
    }
   ],
   "source": [
    "# manually select the correct theme from the 25 hashtags that were duplicated\n",
    "summary.to_excel(\"../data/duplicated_25_hashtags.xlsx\")"
   ]
  },
  {
   "cell_type": "code",
   "execution_count": 43,
   "metadata": {},
   "outputs": [
    {
     "name": "stdout",
     "output_type": "stream",
     "text": [
      "Shape of results_df after removing duplicates: (5064, 2)\n"
     ]
    }
   ],
   "source": [
    "# Remove all instances of duplicated hashtags\n",
    "result_df = result_df[~result_df['hashtag'].isin(duplicated_hashtags['hashtag'])]\n",
    "print(f\"Shape of results_df after removing duplicates: {result_df.shape}\")"
   ]
  },
  {
   "cell_type": "code",
   "execution_count": 28,
   "metadata": {},
   "outputs": [],
   "source": [
    "fixes_df = pd.read_excel(\"../data/duplicated_25_hashtags.xlsx\")\n",
    "fixes_df['theme'] = fixes_df['theme'].str.strip('[]').str.strip(\"'\")  # Remove [] and quotes"
   ]
  },
  {
   "cell_type": "code",
   "execution_count": 44,
   "metadata": {},
   "outputs": [],
   "source": [
    "result_df = pd.concat([result_df, fixes_df], ignore_index=True)\n",
    "result_df = result_df.drop_duplicates(keep='first')"
   ]
  },
  {
   "cell_type": "code",
   "execution_count": 45,
   "metadata": {},
   "outputs": [
    {
     "name": "stdout",
     "output_type": "stream",
     "text": [
      "No duplicates found!\n"
     ]
    }
   ],
   "source": [
    "# Verify no more duplicates\n",
    "new_duplicates = result_df[result_df.duplicated(subset=['hashtag'], keep=False)]\n",
    "if not new_duplicates.empty:\n",
    "    print(\"\\nStill have duplicated hashtags:\")\n",
    "    print(new_duplicates.sort_values('hashtag'))\n",
    "else:\n",
    "    print(\"No duplicates found!\")"
   ]
  },
  {
   "cell_type": "code",
   "execution_count": 35,
   "metadata": {},
   "outputs": [],
   "source": [
    "# label just the missing 776\n",
    "missing_hashtag_chunks_df = chunk_list_to_df(unlabeled_df.hashtag, 50)\n",
    "missing_hashtag_chunks_df[\"themes\"] = process_posts_in_parallel(missing_hashtag_chunks_df[\"hashtags_str\"].to_list(), max_workers=10,model = \"gpt-4o-2024-08-06\", task = get_theme, client = client)"
   ]
  },
  {
   "cell_type": "code",
   "execution_count": 36,
   "metadata": {},
   "outputs": [],
   "source": [
    "missing_result_df, missing_errors = process_hashtag_chunks(missing_hashtag_chunks_df)"
   ]
  },
  {
   "cell_type": "code",
   "execution_count": 38,
   "metadata": {},
   "outputs": [
    {
     "name": "stdout",
     "output_type": "stream",
     "text": [
      "Hashtags with multiple themes:\n",
      "Empty DataFrame\n",
      "Columns: [theme, hashtag]\n",
      "Index: []\n",
      "\n",
      "Summary of multiple labels:\n",
      "Series([], Name: theme, dtype: object)\n"
     ]
    }
   ],
   "source": [
    "# see if there are dupes in the second round\n",
    "duplicated_hashtags2 = missing_result_df[missing_result_df.duplicated(subset=['hashtag'], keep=False)]\n",
    "\n",
    "# Sort by hashtag to see the groupings easily\n",
    "print(\"Hashtags with multiple themes:\")\n",
    "print(duplicated_hashtags2.sort_values('hashtag'))\n",
    "\n",
    "# To see a cleaner summary:\n",
    "summary2 = duplicated_hashtags2.groupby('hashtag')['theme'].agg(list)\n",
    "print(\"\\nSummary of multiple labels:\")\n",
    "print(summary2)"
   ]
  },
  {
   "cell_type": "code",
   "execution_count": 51,
   "metadata": {},
   "outputs": [
    {
     "name": "stdout",
     "output_type": "stream",
     "text": [
      "Original hashtags: 416\n",
      "Labeled hashtags: 391\n",
      "Unlabeled hashtags: 31\n"
     ]
    }
   ],
   "source": [
    "# GET THE STILL MISSING SET FROM THE SECOND BATCH\n",
    "unlabeled_df2 = find_unlabeled_hashtags(unlabeled_df, missing_result_df)"
   ]
  },
  {
   "cell_type": "code",
   "execution_count": 39,
   "metadata": {},
   "outputs": [],
   "source": [
    "# label just the missing 31\n",
    "missing_hashtag_chunks_df2 = chunk_list_to_df(unlabeled_df2.hashtag, 50)\n",
    "missing_hashtag_chunks_df2[\"themes\"] = process_posts_in_parallel(missing_hashtag_chunks_df2[\"hashtags_str\"].to_list(), max_workers=10,model = \"gpt-4o-2024-08-06\", task = get_theme, client = client)\n",
    "missing_result_df2, missing_errors2 = process_hashtag_chunks(missing_hashtag_chunks_df2)"
   ]
  },
  {
   "cell_type": "code",
   "execution_count": 47,
   "metadata": {},
   "outputs": [],
   "source": [
    "# append\n",
    "result_full = pd.concat([result_df, missing_result_df, missing_result_df2])\n",
    "result_full = result_full.drop_duplicates(keep='first')"
   ]
  },
  {
   "cell_type": "code",
   "execution_count": 48,
   "metadata": {},
   "outputs": [
    {
     "name": "stdout",
     "output_type": "stream",
     "text": [
      "\n",
      "Still have duplicated hashtags:\n",
      "        theme          hashtag\n",
      "978      misc  @octopusdarling\n",
      "29   platform  @octopusdarling\n"
     ]
    }
   ],
   "source": [
    "new_duplicates = result_full[result_full.duplicated(subset=['hashtag'], keep=False)]\n",
    "if not new_duplicates.empty:\n",
    "    print(\"\\nStill have duplicated hashtags:\")\n",
    "    print(new_duplicates.sort_values('hashtag'))\n",
    "else:\n",
    "    print(\"No duplicates found!\")"
   ]
  },
  {
   "cell_type": "code",
   "execution_count": 49,
   "metadata": {},
   "outputs": [
    {
     "name": "stdout",
     "output_type": "stream",
     "text": [
      "Current entries for @octopusdarling:\n",
      "        theme          hashtag\n",
      "978      misc  @octopusdarling\n",
      "29   platform  @octopusdarling\n",
      "\n",
      "After fix:\n",
      "     theme          hashtag\n",
      "5501  misc  @octopusdarling\n",
      "\n",
      "Checking for any remaining duplicates:\n",
      "No duplicates found!\n"
     ]
    }
   ],
   "source": [
    "print(\"Current entries for @octopusdarling:\")\n",
    "print(result_full[result_full['hashtag'] == '@octopusdarling'])\n",
    "\n",
    "# Assuming we want to keep 'platform' theme and remove 'misc'\n",
    "# Remove both instances\n",
    "result_full = result_full[result_full['hashtag'] != '@octopusdarling']\n",
    "\n",
    "# Add back the correct one\n",
    "new_row = pd.DataFrame({\n",
    "    'hashtag': ['@octopusdarling'],\n",
    "    'theme': ['misc'] \n",
    "})\n",
    "\n",
    "# Add the correct row back\n",
    "result_full = pd.concat([result_full, new_row], ignore_index=True)\n",
    "\n",
    "# Verify the fix\n",
    "print(\"\\nAfter fix:\")\n",
    "print(result_full[result_full['hashtag'] == '@octopusdarling'])\n",
    "\n",
    "# Double check no more duplicates\n",
    "duplicates = result_full[result_full.duplicated(subset=['hashtag'], keep=False)]\n",
    "print(\"\\nChecking for any remaining duplicates:\")\n",
    "print(duplicates if not duplicates.empty else \"No duplicates found!\")"
   ]
  },
  {
   "cell_type": "code",
   "execution_count": 52,
   "metadata": {},
   "outputs": [
    {
     "name": "stdout",
     "output_type": "stream",
     "text": [
      "Original hashtags: 5502\n",
      "Labeled hashtags: 5519\n",
      "Unlabeled hashtags: 11\n"
     ]
    }
   ],
   "source": [
    "unlabeled_df3 = find_unlabeled_hashtags(result_full, df)"
   ]
  },
  {
   "cell_type": "code",
   "execution_count": 53,
   "metadata": {},
   "outputs": [],
   "source": [
    "# label just the missing 11\n",
    "missing_hashtag_chunks_df3 = chunk_list_to_df(unlabeled_df3.hashtag, 50)\n",
    "missing_hashtag_chunks_df3[\"themes\"] = process_posts_in_parallel(missing_hashtag_chunks_df3[\"hashtags_str\"].to_list(), max_workers=10,model = \"gpt-4o-2024-08-06\", task = get_theme, client = client)\n",
    "missing_result_df3, missing_errors3 = process_hashtag_chunks(missing_hashtag_chunks_df3)"
   ]
  },
  {
   "cell_type": "code",
   "execution_count": 55,
   "metadata": {},
   "outputs": [],
   "source": [
    "result_full2 = pd.concat([result_full, missing_result_df3])\n",
    "# result_full2 = result_full2.drop_duplicates(keep='first')"
   ]
  },
  {
   "cell_type": "code",
   "execution_count": 56,
   "metadata": {},
   "outputs": [],
   "source": [
    "# export\n",
    "result_full2.to_csv(\"../data/hashtags_5core_with_themes.csv\")"
   ]
  },
  {
   "cell_type": "markdown",
   "metadata": {},
   "source": [
    "---\n",
    "### OLD"
   ]
  },
  {
   "cell_type": "code",
   "execution_count": 24,
   "metadata": {},
   "outputs": [],
   "source": [
    "# muqi got the errored chunks to parse. gonna make them long\n",
    "missing = pd.read_csv(\"../data/themes_missing_parallel.csv\")"
   ]
  },
  {
   "cell_type": "code",
   "execution_count": 29,
   "metadata": {},
   "outputs": [
    {
     "data": {
      "text/plain": [
       "str"
      ]
     },
     "execution_count": 29,
     "metadata": {},
     "output_type": "execute_result"
    }
   ],
   "source": [
    "type(hashtag_chunks_df.themes[0])"
   ]
  },
  {
   "cell_type": "code",
   "execution_count": 30,
   "metadata": {},
   "outputs": [
    {
     "data": {
      "text/plain": [
       "str"
      ]
     },
     "execution_count": 30,
     "metadata": {},
     "output_type": "execute_result"
    }
   ],
   "source": [
    "type(missing.themes[0])"
   ]
  },
  {
   "cell_type": "code",
   "execution_count": null,
   "metadata": {},
   "outputs": [],
   "source": [
    "missing_long, missing_long_e = process_hashtag_chunks(missing)"
   ]
  },
  {
   "cell_type": "code",
   "execution_count": 39,
   "metadata": {},
   "outputs": [
    {
     "name": "stdout",
     "output_type": "stream",
     "text": [
      "13758\n"
     ]
    }
   ],
   "source": [
    "# append to long\n",
    "results_full = pd.concat([result_df,missing_long])\n",
    "print(len(set(result_df.hashtag)))\n",
    "# drop dupes\n",
    "results_full_unique = results_full.drop_duplicates(subset=\"hashtag\")"
   ]
  },
  {
   "cell_type": "code",
   "execution_count": 40,
   "metadata": {},
   "outputs": [],
   "source": [
    "results_full_unique.to_csv(\"../data/themes_with_missing_long.csv\")"
   ]
  },
  {
   "cell_type": "code",
   "execution_count": 19,
   "metadata": {},
   "outputs": [],
   "source": [
    "# experient with 500 posts\n",
    "# hashtag_sample2 = random.sample(node_list, 500)\n",
    "# hashtag_chunks_df2 = chunk_list_to_df(hashtag_sample2, 50)\n",
    "# hashtag_chunks_df2[\"themes\"] = process_posts_in_parallel(hashtag_chunks_df2[\"hashtags_str\"].to_list(), max_workers=10,model = \"gpt-4o-2024-05-13\", task = get_theme, client = client)\n",
    "# hashtag_chunks_df2.to_csv(\"../data/themes_500_parallel.csv\")"
   ]
  },
  {
   "cell_type": "markdown",
   "metadata": {},
   "source": [
    "---\n",
    "## Experiment with chunking"
   ]
  },
  {
   "cell_type": "code",
   "execution_count": 12,
   "metadata": {},
   "outputs": [],
   "source": [
    "from get_themes import get_theme\n",
    "import random\n",
    "import csv\n",
    "import json\n",
    "\n",
    "def chunk_list(input_list, chunk_size):\n",
    "  \"\"\"\n",
    "  Chunks a list into smaller lists of approximately equal size.\n",
    "\n",
    "  Args:\n",
    "      input_list: The list to be chunked.\n",
    "      chunk_size: The desired size of each chunk.\n",
    "\n",
    "  Returns:\n",
    "      A list of lists, where each inner list is a chunk of the original list.\n",
    "  \"\"\"\n",
    "  chunks = []\n",
    "  for i in range(0, len(input_list), chunk_size):\n",
    "    chunks.append(input_list[i:i + chunk_size])\n",
    "  return chunks\n",
    "\n",
    "def chunk_and_analyze_hashtags(hashtag_list, chunks, model, client, chunk_size=50, output_file='../data/hashtags_themes.csv'):\n",
    "    # Shuffle the list to ensure random sampling\n",
    "    random.shuffle(hashtag_list)\n",
    "    \n",
    "    # Chunk the list into batches \n",
    "    # chunks = [hashtag_list[i:i + chunk_size] for i in range(0, len(hashtag_list), chunk_size)]\n",
    "    \n",
    "    total_hashtags = 0\n",
    "    \n",
    "    with open(output_file, 'w', newline='', encoding='utf-8') as csvfile:\n",
    "        csvwriter = csv.writer(csvfile)\n",
    "        csvwriter.writerow(['Theme', 'Hashtag'])  # Write header\n",
    "        \n",
    "        for i, chunk in enumerate(chunks):\n",
    "            # Convert chunk to comma-separated string\n",
    "            print(\"length of chunk: \",len(chunk))\n",
    "            chunk_str = \", \".join(chunk)\n",
    "            \n",
    "            # Get themes for this chunk\n",
    "            themes_str = get_theme(chunk_str, model=model, client=client)\n",
    "            print(themes_str)\n",
    "            themes = json.loads(themes_str.replace(\"'\", '\"'))\n",
    "            # Write results to CSV and count hashtags\n",
    "            chunk_hashtag_count = 0\n",
    "            for theme, hashtags in themes.items():\n",
    "                for hashtag in hashtags:\n",
    "                    csvwriter.writerow([theme, hashtag])\n",
    "                    chunk_hashtag_count += 1\n",
    "            \n",
    "            total_hashtags += chunk_hashtag_count\n",
    "            print(f\"Processed chunk {i+1}/{len(chunks)}. Hashtags in this chunk: {chunk_hashtag_count}\")\n",
    "    \n",
    "    print(f\"Total hashtags processed: {total_hashtags}\")\n",
    "    print(f\"Results have been written to {output_file}\")\n",
    "    return total_hashtags"
   ]
  },
  {
   "cell_type": "code",
   "execution_count": 11,
   "metadata": {},
   "outputs": [
    {
     "name": "stdout",
     "output_type": "stream",
     "text": [
      "50\n"
     ]
    }
   ],
   "source": [
    "hashtag_sample = random.sample(node_list, 100)\n",
    "chunks = chunk_list(hashtag_sample, 50)\n",
    "results = chunk_and_analyze_hashtags(hashtag_sample, model=\"gpt-4o-2024-05-13\", client=client)"
   ]
  },
  {
   "cell_type": "code",
   "execution_count": null,
   "metadata": {},
   "outputs": [],
   "source": [
    "# for i, themes in enumerate(results):\n",
    "#     print(f\"Themes for chunk {i+1}:\")\n",
    "#     print(themes)\n",
    "#     print(\"---\")"
   ]
  }
 ],
 "metadata": {
  "kernelspec": {
   "display_name": "base",
   "language": "python",
   "name": "python3"
  },
  "language_info": {
   "codemirror_mode": {
    "name": "ipython",
    "version": 3
   },
   "file_extension": ".py",
   "mimetype": "text/x-python",
   "name": "python",
   "nbconvert_exporter": "python",
   "pygments_lexer": "ipython3",
   "version": "3.9.13"
  }
 },
 "nbformat": 4,
 "nbformat_minor": 2
}
